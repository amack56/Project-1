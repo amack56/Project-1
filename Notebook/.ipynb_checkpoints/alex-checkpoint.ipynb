{
 "cells": [
  {
   "cell_type": "code",
   "execution_count": 79,
   "id": "fc352aba",
   "metadata": {},
   "outputs": [
    {
     "data": {
      "text/html": [
       "<div>\n",
       "<style scoped>\n",
       "    .dataframe tbody tr th:only-of-type {\n",
       "        vertical-align: middle;\n",
       "    }\n",
       "\n",
       "    .dataframe tbody tr th {\n",
       "        vertical-align: top;\n",
       "    }\n",
       "\n",
       "    .dataframe thead th {\n",
       "        text-align: right;\n",
       "    }\n",
       "</style>\n",
       "<table border=\"1\" class=\"dataframe\">\n",
       "  <thead>\n",
       "    <tr style=\"text-align: right;\">\n",
       "      <th></th>\n",
       "      <th>Player</th>\n",
       "      <th>Tm</th>\n",
       "      <th>Pos</th>\n",
       "      <th>FantasyPoints</th>\n",
       "    </tr>\n",
       "    <tr>\n",
       "      <th>Year</th>\n",
       "      <th></th>\n",
       "      <th></th>\n",
       "      <th></th>\n",
       "      <th></th>\n",
       "    </tr>\n",
       "  </thead>\n",
       "  <tbody>\n",
       "    <tr>\n",
       "      <th>2019</th>\n",
       "      <td>Corey Clement</td>\n",
       "      <td>PHI</td>\n",
       "      <td>0</td>\n",
       "      <td>-4.00</td>\n",
       "    </tr>\n",
       "    <tr>\n",
       "      <th>2011</th>\n",
       "      <td>Brandon Tate</td>\n",
       "      <td>CIN</td>\n",
       "      <td>0</td>\n",
       "      <td>-4.00</td>\n",
       "    </tr>\n",
       "    <tr>\n",
       "      <th>2018</th>\n",
       "      <td>Kaelin Clay</td>\n",
       "      <td>NYG</td>\n",
       "      <td>0</td>\n",
       "      <td>-2.00</td>\n",
       "    </tr>\n",
       "    <tr>\n",
       "      <th>2018</th>\n",
       "      <td>Riley McCarron</td>\n",
       "      <td>NWE</td>\n",
       "      <td>0</td>\n",
       "      <td>-2.00</td>\n",
       "    </tr>\n",
       "    <tr>\n",
       "      <th>2018</th>\n",
       "      <td>Jojo Natson</td>\n",
       "      <td>LAR</td>\n",
       "      <td>0</td>\n",
       "      <td>-2.00</td>\n",
       "    </tr>\n",
       "    <tr>\n",
       "      <th>2010</th>\n",
       "      <td>Courtney Roby</td>\n",
       "      <td>NOR</td>\n",
       "      <td>0</td>\n",
       "      <td>-2.00</td>\n",
       "    </tr>\n",
       "    <tr>\n",
       "      <th>2010</th>\n",
       "      <td>Kenny Moore</td>\n",
       "      <td>IND</td>\n",
       "      <td>0</td>\n",
       "      <td>-2.00</td>\n",
       "    </tr>\n",
       "    <tr>\n",
       "      <th>2010</th>\n",
       "      <td>Elbert Mack</td>\n",
       "      <td>TAM</td>\n",
       "      <td>0</td>\n",
       "      <td>-2.00</td>\n",
       "    </tr>\n",
       "    <tr>\n",
       "      <th>2012</th>\n",
       "      <td>Josh Johnson</td>\n",
       "      <td>CLE</td>\n",
       "      <td>0</td>\n",
       "      <td>-2.00</td>\n",
       "    </tr>\n",
       "    <tr>\n",
       "      <th>2013</th>\n",
       "      <td>Greg Jenkins</td>\n",
       "      <td>OAK</td>\n",
       "      <td>0</td>\n",
       "      <td>-2.00</td>\n",
       "    </tr>\n",
       "    <tr>\n",
       "      <th>2015</th>\n",
       "      <td>Raheem Mostert</td>\n",
       "      <td>3TM</td>\n",
       "      <td>0</td>\n",
       "      <td>-2.00</td>\n",
       "    </tr>\n",
       "    <tr>\n",
       "      <th>2015</th>\n",
       "      <td>Frankie Hammond</td>\n",
       "      <td>KAN</td>\n",
       "      <td>0</td>\n",
       "      <td>-2.00</td>\n",
       "    </tr>\n",
       "    <tr>\n",
       "      <th>2014</th>\n",
       "      <td>Isaiah Burse</td>\n",
       "      <td>DEN</td>\n",
       "      <td>0</td>\n",
       "      <td>-2.00</td>\n",
       "    </tr>\n",
       "    <tr>\n",
       "      <th>2014</th>\n",
       "      <td>Walt Powell</td>\n",
       "      <td>NYJ</td>\n",
       "      <td>0</td>\n",
       "      <td>-2.00</td>\n",
       "    </tr>\n",
       "    <tr>\n",
       "      <th>2016</th>\n",
       "      <td>Keshawn Martin</td>\n",
       "      <td>SFO</td>\n",
       "      <td>0</td>\n",
       "      <td>-2.00</td>\n",
       "    </tr>\n",
       "    <tr>\n",
       "      <th>2013</th>\n",
       "      <td>Devon Wylie</td>\n",
       "      <td>TEN</td>\n",
       "      <td>0</td>\n",
       "      <td>-2.00</td>\n",
       "    </tr>\n",
       "    <tr>\n",
       "      <th>2010</th>\n",
       "      <td>Chad Johnson</td>\n",
       "      <td>CIN</td>\n",
       "      <td>0</td>\n",
       "      <td>174.10</td>\n",
       "    </tr>\n",
       "    <tr>\n",
       "      <th>2019</th>\n",
       "      <td>Ray-Ray McCloud</td>\n",
       "      <td>CAR</td>\n",
       "      <td>0</td>\n",
       "      <td>-2.00</td>\n",
       "    </tr>\n",
       "    <tr>\n",
       "      <th>2019</th>\n",
       "      <td>Greg Dortch</td>\n",
       "      <td>CAR</td>\n",
       "      <td>0</td>\n",
       "      <td>-2.00</td>\n",
       "    </tr>\n",
       "    <tr>\n",
       "      <th>2011</th>\n",
       "      <td>Matt Cassel</td>\n",
       "      <td>KAN</td>\n",
       "      <td>QB</td>\n",
       "      <td>97.02</td>\n",
       "    </tr>\n",
       "    <tr>\n",
       "      <th>2017</th>\n",
       "      <td>Nick Foles</td>\n",
       "      <td>PHI</td>\n",
       "      <td>QB</td>\n",
       "      <td>33.78</td>\n",
       "    </tr>\n",
       "    <tr>\n",
       "      <th>2017</th>\n",
       "      <td>Ryan Mallett</td>\n",
       "      <td>BAL</td>\n",
       "      <td>QB</td>\n",
       "      <td>9.94</td>\n",
       "    </tr>\n",
       "    <tr>\n",
       "      <th>2014</th>\n",
       "      <td>Brock Osweiler</td>\n",
       "      <td>DEN</td>\n",
       "      <td>QB</td>\n",
       "      <td>6.08</td>\n",
       "    </tr>\n",
       "    <tr>\n",
       "      <th>2014</th>\n",
       "      <td>Matt McGloin</td>\n",
       "      <td>OAK</td>\n",
       "      <td>QB</td>\n",
       "      <td>5.46</td>\n",
       "    </tr>\n",
       "    <tr>\n",
       "      <th>2012</th>\n",
       "      <td>Greg McElroy</td>\n",
       "      <td>NYJ</td>\n",
       "      <td>QB</td>\n",
       "      <td>11.56</td>\n",
       "    </tr>\n",
       "    <tr>\n",
       "      <th>2014</th>\n",
       "      <td>Connor Shaw</td>\n",
       "      <td>CLE</td>\n",
       "      <td>QB</td>\n",
       "      <td>3.98</td>\n",
       "    </tr>\n",
       "    <tr>\n",
       "      <th>2012</th>\n",
       "      <td>Ryan Lindley</td>\n",
       "      <td>ARI</td>\n",
       "      <td>QB</td>\n",
       "      <td>12.78</td>\n",
       "    </tr>\n",
       "    <tr>\n",
       "      <th>2017</th>\n",
       "      <td>Nathan Peterman</td>\n",
       "      <td>BUF</td>\n",
       "      <td>QB</td>\n",
       "      <td>10.38</td>\n",
       "    </tr>\n",
       "    <tr>\n",
       "      <th>2017</th>\n",
       "      <td>Matt Moore</td>\n",
       "      <td>MIA</td>\n",
       "      <td>QB</td>\n",
       "      <td>41.34</td>\n",
       "    </tr>\n",
       "    <tr>\n",
       "      <th>2017</th>\n",
       "      <td>Mike Glennon</td>\n",
       "      <td>CHI</td>\n",
       "      <td>QB</td>\n",
       "      <td>33.72</td>\n",
       "    </tr>\n",
       "    <tr>\n",
       "      <th>...</th>\n",
       "      <td>...</td>\n",
       "      <td>...</td>\n",
       "      <td>...</td>\n",
       "      <td>...</td>\n",
       "    </tr>\n",
       "    <tr>\n",
       "      <th>2016</th>\n",
       "      <td>Will Fuller</td>\n",
       "      <td>HOU</td>\n",
       "      <td>WR</td>\n",
       "      <td>122.20</td>\n",
       "    </tr>\n",
       "    <tr>\n",
       "      <th>2011</th>\n",
       "      <td>Roscoe Parrish</td>\n",
       "      <td>BUF</td>\n",
       "      <td>WR</td>\n",
       "      <td>2.60</td>\n",
       "    </tr>\n",
       "    <tr>\n",
       "      <th>2016</th>\n",
       "      <td>Brian Quick</td>\n",
       "      <td>LAR</td>\n",
       "      <td>WR</td>\n",
       "      <td>115.40</td>\n",
       "    </tr>\n",
       "    <tr>\n",
       "      <th>2016</th>\n",
       "      <td>Seth Roberts</td>\n",
       "      <td>OAK</td>\n",
       "      <td>WR</td>\n",
       "      <td>107.70</td>\n",
       "    </tr>\n",
       "    <tr>\n",
       "      <th>2016</th>\n",
       "      <td>Robby Anderson</td>\n",
       "      <td>NYJ</td>\n",
       "      <td>WR</td>\n",
       "      <td>114.90</td>\n",
       "    </tr>\n",
       "    <tr>\n",
       "      <th>2016</th>\n",
       "      <td>Donte Moncrief</td>\n",
       "      <td>IND</td>\n",
       "      <td>WR</td>\n",
       "      <td>102.60</td>\n",
       "    </tr>\n",
       "    <tr>\n",
       "      <th>2011</th>\n",
       "      <td>Clyde Gates</td>\n",
       "      <td>MIA</td>\n",
       "      <td>WR</td>\n",
       "      <td>4.30</td>\n",
       "    </tr>\n",
       "    <tr>\n",
       "      <th>2016</th>\n",
       "      <td>Eli Rogers</td>\n",
       "      <td>PIT</td>\n",
       "      <td>WR</td>\n",
       "      <td>126.00</td>\n",
       "    </tr>\n",
       "    <tr>\n",
       "      <th>2016</th>\n",
       "      <td>Tavon Austin</td>\n",
       "      <td>LAR</td>\n",
       "      <td>WR</td>\n",
       "      <td>146.80</td>\n",
       "    </tr>\n",
       "    <tr>\n",
       "      <th>2016</th>\n",
       "      <td>Mohamed Sanu</td>\n",
       "      <td>ATL</td>\n",
       "      <td>WR</td>\n",
       "      <td>146.80</td>\n",
       "    </tr>\n",
       "    <tr>\n",
       "      <th>2011</th>\n",
       "      <td>Emmanuel Arceneaux</td>\n",
       "      <td>MIN</td>\n",
       "      <td>WR</td>\n",
       "      <td>2.00</td>\n",
       "    </tr>\n",
       "    <tr>\n",
       "      <th>2011</th>\n",
       "      <td>Jeron Mastrud</td>\n",
       "      <td>MIA</td>\n",
       "      <td>WR</td>\n",
       "      <td>1.80</td>\n",
       "    </tr>\n",
       "    <tr>\n",
       "      <th>2016</th>\n",
       "      <td>Cameron Meredith</td>\n",
       "      <td>CHI</td>\n",
       "      <td>WR</td>\n",
       "      <td>179.48</td>\n",
       "    </tr>\n",
       "    <tr>\n",
       "      <th>2016</th>\n",
       "      <td>Quincy Enunwa</td>\n",
       "      <td>NYJ</td>\n",
       "      <td>WR</td>\n",
       "      <td>168.90</td>\n",
       "    </tr>\n",
       "    <tr>\n",
       "      <th>2016</th>\n",
       "      <td>Stefon Diggs</td>\n",
       "      <td>MIN</td>\n",
       "      <td>WR</td>\n",
       "      <td>193.30</td>\n",
       "    </tr>\n",
       "    <tr>\n",
       "      <th>2016</th>\n",
       "      <td>Marqise Lee</td>\n",
       "      <td>JAX</td>\n",
       "      <td>WR</td>\n",
       "      <td>172.40</td>\n",
       "    </tr>\n",
       "    <tr>\n",
       "      <th>2011</th>\n",
       "      <td>Jeremy Horne</td>\n",
       "      <td>KAN</td>\n",
       "      <td>WR</td>\n",
       "      <td>0.50</td>\n",
       "    </tr>\n",
       "    <tr>\n",
       "      <th>2011</th>\n",
       "      <td>Armanti Edwards</td>\n",
       "      <td>CAR</td>\n",
       "      <td>WR</td>\n",
       "      <td>0.94</td>\n",
       "    </tr>\n",
       "    <tr>\n",
       "      <th>2016</th>\n",
       "      <td>JJ Nelson</td>\n",
       "      <td>ARI</td>\n",
       "      <td>WR</td>\n",
       "      <td>139.10</td>\n",
       "    </tr>\n",
       "    <tr>\n",
       "      <th>2016</th>\n",
       "      <td>Anquan Boldin</td>\n",
       "      <td>DET</td>\n",
       "      <td>WR</td>\n",
       "      <td>173.40</td>\n",
       "    </tr>\n",
       "    <tr>\n",
       "      <th>2016</th>\n",
       "      <td>Taylor Gabriel</td>\n",
       "      <td>ATL</td>\n",
       "      <td>WR</td>\n",
       "      <td>140.00</td>\n",
       "    </tr>\n",
       "    <tr>\n",
       "      <th>2016</th>\n",
       "      <td>Ted Ginn</td>\n",
       "      <td>CAR</td>\n",
       "      <td>WR</td>\n",
       "      <td>159.00</td>\n",
       "    </tr>\n",
       "    <tr>\n",
       "      <th>2016</th>\n",
       "      <td>Dontrelle Inman</td>\n",
       "      <td>SDG</td>\n",
       "      <td>WR</td>\n",
       "      <td>163.00</td>\n",
       "    </tr>\n",
       "    <tr>\n",
       "      <th>2016</th>\n",
       "      <td>Jordan Matthews</td>\n",
       "      <td>PHI</td>\n",
       "      <td>WR</td>\n",
       "      <td>171.40</td>\n",
       "    </tr>\n",
       "    <tr>\n",
       "      <th>2016</th>\n",
       "      <td>DeVante Parker</td>\n",
       "      <td>MIA</td>\n",
       "      <td>WR</td>\n",
       "      <td>154.40</td>\n",
       "    </tr>\n",
       "    <tr>\n",
       "      <th>2016</th>\n",
       "      <td>Brandon Marshall</td>\n",
       "      <td>NYJ</td>\n",
       "      <td>WR</td>\n",
       "      <td>155.80</td>\n",
       "    </tr>\n",
       "    <tr>\n",
       "      <th>2016</th>\n",
       "      <td>Alshon Jeffery</td>\n",
       "      <td>CHI</td>\n",
       "      <td>WR</td>\n",
       "      <td>146.10</td>\n",
       "    </tr>\n",
       "    <tr>\n",
       "      <th>2016</th>\n",
       "      <td>Chris Hogan</td>\n",
       "      <td>NWE</td>\n",
       "      <td>WR</td>\n",
       "      <td>128.90</td>\n",
       "    </tr>\n",
       "    <tr>\n",
       "      <th>2016</th>\n",
       "      <td>Michael Crabtree</td>\n",
       "      <td>OAK</td>\n",
       "      <td>WR</td>\n",
       "      <td>237.30</td>\n",
       "    </tr>\n",
       "    <tr>\n",
       "      <th>2015</th>\n",
       "      <td>Ted Ginn</td>\n",
       "      <td>CAR</td>\n",
       "      <td>WR</td>\n",
       "      <td>183.90</td>\n",
       "    </tr>\n",
       "  </tbody>\n",
       "</table>\n",
       "<p>5405 rows × 4 columns</p>\n",
       "</div>"
      ],
      "text/plain": [
       "                  Player   Tm Pos  FantasyPoints\n",
       "Year                                            \n",
       "2019       Corey Clement  PHI   0          -4.00\n",
       "2011        Brandon Tate  CIN   0          -4.00\n",
       "2018         Kaelin Clay  NYG   0          -2.00\n",
       "2018      Riley McCarron  NWE   0          -2.00\n",
       "2018         Jojo Natson  LAR   0          -2.00\n",
       "2010       Courtney Roby  NOR   0          -2.00\n",
       "2010         Kenny Moore  IND   0          -2.00\n",
       "2010         Elbert Mack  TAM   0          -2.00\n",
       "2012        Josh Johnson  CLE   0          -2.00\n",
       "2013        Greg Jenkins  OAK   0          -2.00\n",
       "2015      Raheem Mostert  3TM   0          -2.00\n",
       "2015     Frankie Hammond  KAN   0          -2.00\n",
       "2014        Isaiah Burse  DEN   0          -2.00\n",
       "2014         Walt Powell  NYJ   0          -2.00\n",
       "2016      Keshawn Martin  SFO   0          -2.00\n",
       "2013         Devon Wylie  TEN   0          -2.00\n",
       "2010        Chad Johnson  CIN   0         174.10\n",
       "2019     Ray-Ray McCloud  CAR   0          -2.00\n",
       "2019         Greg Dortch  CAR   0          -2.00\n",
       "2011         Matt Cassel  KAN  QB          97.02\n",
       "2017          Nick Foles  PHI  QB          33.78\n",
       "2017        Ryan Mallett  BAL  QB           9.94\n",
       "2014      Brock Osweiler  DEN  QB           6.08\n",
       "2014        Matt McGloin  OAK  QB           5.46\n",
       "2012        Greg McElroy  NYJ  QB          11.56\n",
       "2014         Connor Shaw  CLE  QB           3.98\n",
       "2012        Ryan Lindley  ARI  QB          12.78\n",
       "2017     Nathan Peterman  BUF  QB          10.38\n",
       "2017          Matt Moore  MIA  QB          41.34\n",
       "2017        Mike Glennon  CHI  QB          33.72\n",
       "...                  ...  ...  ..            ...\n",
       "2016         Will Fuller  HOU  WR         122.20\n",
       "2011      Roscoe Parrish  BUF  WR           2.60\n",
       "2016         Brian Quick  LAR  WR         115.40\n",
       "2016        Seth Roberts  OAK  WR         107.70\n",
       "2016      Robby Anderson  NYJ  WR         114.90\n",
       "2016      Donte Moncrief  IND  WR         102.60\n",
       "2011         Clyde Gates  MIA  WR           4.30\n",
       "2016          Eli Rogers  PIT  WR         126.00\n",
       "2016        Tavon Austin  LAR  WR         146.80\n",
       "2016        Mohamed Sanu  ATL  WR         146.80\n",
       "2011  Emmanuel Arceneaux  MIN  WR           2.00\n",
       "2011       Jeron Mastrud  MIA  WR           1.80\n",
       "2016    Cameron Meredith  CHI  WR         179.48\n",
       "2016       Quincy Enunwa  NYJ  WR         168.90\n",
       "2016        Stefon Diggs  MIN  WR         193.30\n",
       "2016         Marqise Lee  JAX  WR         172.40\n",
       "2011        Jeremy Horne  KAN  WR           0.50\n",
       "2011     Armanti Edwards  CAR  WR           0.94\n",
       "2016           JJ Nelson  ARI  WR         139.10\n",
       "2016       Anquan Boldin  DET  WR         173.40\n",
       "2016      Taylor Gabriel  ATL  WR         140.00\n",
       "2016            Ted Ginn  CAR  WR         159.00\n",
       "2016     Dontrelle Inman  SDG  WR         163.00\n",
       "2016     Jordan Matthews  PHI  WR         171.40\n",
       "2016      DeVante Parker  MIA  WR         154.40\n",
       "2016    Brandon Marshall  NYJ  WR         155.80\n",
       "2016      Alshon Jeffery  CHI  WR         146.10\n",
       "2016         Chris Hogan  NWE  WR         128.90\n",
       "2016    Michael Crabtree  OAK  WR         237.30\n",
       "2015            Ted Ginn  CAR  WR         183.90\n",
       "\n",
       "[5405 rows x 4 columns]"
      ]
     },
     "execution_count": 79,
     "metadata": {},
     "output_type": "execute_result"
    }
   ],
   "source": [
    "# imports\n",
    "import panel as pn\n",
    "#pn.extension('plotly')\n",
    "import plotly.express as px\n",
    "import pandas as pd\n",
    "import hvplot.pandas\n",
    "import matplotlib.pyplot as plt\n",
    "import numpy as np\n",
    "import os\n",
    "from pathlib import Path\n",
    "from dotenv import load_dotenv\n",
    "\n",
    "import warnings\n",
    "warnings.filterwarnings('ignore')\n",
    "\n",
    "file_path_2010 = Path(\"../Data/RawData/2010.csv\")\n",
    "file_path_2011 = Path(\"../Data/RawData/2011.csv\")\n",
    "file_path_2012 = Path(\"../Data/RawData/2012.csv\")\n",
    "file_path_2013 = Path(\"../Data/RawData/2013.csv\")\n",
    "file_path_2014 = Path(\"../Data/RawData/2014.csv\")\n",
    "file_path_2015 = Path(\"../Data/RawData/2015.csv\")\n",
    "file_path_2016 = Path(\"../Data/RawData/2016.csv\")\n",
    "file_path_2017 = Path(\"../Data/RawData/2017.csv\")\n",
    "file_path_2018 = Path(\"../Data/RawData/2018.csv\")\n",
    "file_path_2019 = Path(\"../Data/RawData/2019.csv\")\n",
    "coor_path = Path(\"../Data/RawData/coordinates.csv\")\n",
    "\n",
    "data_2010 = pd.read_csv(file_path_2010)\n",
    "data_2010['Year'] = '2010'\n",
    "data_2011 = pd.read_csv(file_path_2011)\n",
    "data_2011['Year'] = '2011'\n",
    "data_2012 = pd.read_csv(file_path_2012)\n",
    "data_2012['Year'] = '2012'\n",
    "data_2013 = pd.read_csv(file_path_2013)\n",
    "data_2013['Year'] = '2013'\n",
    "data_2014 = pd.read_csv(file_path_2014)\n",
    "data_2014['Year'] = '2014'\n",
    "\n",
    "data_2015 = pd.read_csv(file_path_2015)\n",
    "data_2015['Year'] = '2015'\n",
    "data_2016 = pd.read_csv(file_path_2016)\n",
    "data_2016['Year'] = '2016'\n",
    "data_2017 = pd.read_csv(file_path_2017)\n",
    "data_2017['Year'] = '2017'\n",
    "data_2018 = pd.read_csv(file_path_2018)\n",
    "data_2018['Year'] = '2018'\n",
    "data_2019 = pd.read_csv(file_path_2019)\n",
    "data_2019['Year'] = '2019'\n",
    "coordinates = pd.read_csv(coor_path)\n",
    "\n",
    "data_2010 = data_2010[[\"Year\",\"Player\",\"Tm\",\"Pos\",\"FantasyPoints\"]]\n",
    "data_2011 = data_2011[[\"Year\",\"Player\",\"Tm\",\"Pos\",\"FantasyPoints\"]]\n",
    "data_2012 = data_2012[[\"Year\",\"Player\",\"Tm\",\"Pos\",\"FantasyPoints\"]]\n",
    "data_2013 = data_2013[[\"Year\",\"Player\",\"Tm\",\"Pos\",\"FantasyPoints\"]]\n",
    "data_2014 = data_2014[[\"Year\",\"Player\",\"Tm\",\"Pos\",\"FantasyPoints\"]]\n",
    "data_2015 = data_2015[[\"Year\",\"Player\",\"Tm\",\"Pos\",\"FantasyPoints\"]]\n",
    "data_2016 = data_2016[[\"Year\",\"Player\",\"Tm\",\"Pos\",\"FantasyPoints\"]]\n",
    "data_2017 = data_2017[[\"Year\",\"Player\",\"Tm\",\"Pos\",\"FantasyPoints\"]]\n",
    "data_2018 = data_2018[[\"Year\",\"Player\",\"Tm\",\"Pos\",\"FantasyPoints\"]]\n",
    "data_2019 = data_2019[[\"Year\",\"Player\",\"Tm\",\"Pos\",\"FantasyPoints\"]]\n",
    "\n",
    "data_2010 = data_2010.set_index(\"Year\")\n",
    "data_2011 = data_2011.set_index(\"Year\")\n",
    "data_2012 = data_2012.set_index(\"Year\")\n",
    "data_2013 = data_2013.set_index(\"Year\")\n",
    "data_2014 = data_2014.set_index(\"Year\")\n",
    "data_2015 = data_2015.set_index(\"Year\")\n",
    "data_2016 = data_2016.set_index(\"Year\")\n",
    "data_2017 = data_2017.set_index(\"Year\")\n",
    "data_2018 = data_2018.set_index(\"Year\")\n",
    "data_2019 = data_2019.set_index(\"Year\")\n",
    "\n",
    "\n",
    "full_data = pd.concat([data_2010, data_2011, data_2012, data_2013, data_2014, data_2015, data_2016, data_2017, data_2018, data_2019])\n",
    "\n",
    "full_data = full_data[full_data['FantasyPoints'] != 0]\n",
    "\n",
    "full_data.to_csv('../Data/CleanData/full_data.csv', encoding='utf-8')\n",
    "\n",
    "full_data.sort_values('Pos')\n",
    "# full_data_player_sort.to_csv('../Data/CleanData/full_data_player_sort.csv', encoding='utf-8')\n",
    "\n",
    "# player_mean = full_data.groupby(['Player']).mean()\n",
    "\n",
    "# player_mean.plot(kind='bar')\n",
    "# player_mean.hvplot.bar(width=800, rot=90)\n",
    "# data_2010[[\"Player\", \"FantasyPoints\"]].plot(kind='bar')"
   ]
  },
  {
   "cell_type": "code",
   "execution_count": 80,
   "id": "161fdd49",
   "metadata": {},
   "outputs": [],
   "source": [
    "# Read the Mapbox API key\n",
    "load_dotenv()\n",
    "map_box_api = os.getenv(\"mapbox\")\n",
    "\n",
    "# Set the Mapbox API\n",
    "px.set_mapbox_access_token(\"pk.eyJ1IjoiYW1hY2s1NiIsImEiOiJja3RldzZmcnAwMmd5Mm5wZngyejR2cm5iIn0.JohlA6vRxmH-iugH7u_xXA\"\n",
    "                          )"
   ]
  },
  {
   "cell_type": "code",
   "execution_count": 81,
   "id": "932ffd1e",
   "metadata": {},
   "outputs": [
    {
     "data": {
      "text/html": [
       "<div>\n",
       "<style scoped>\n",
       "    .dataframe tbody tr th:only-of-type {\n",
       "        vertical-align: middle;\n",
       "    }\n",
       "\n",
       "    .dataframe tbody tr th {\n",
       "        vertical-align: top;\n",
       "    }\n",
       "\n",
       "    .dataframe thead th {\n",
       "        text-align: right;\n",
       "    }\n",
       "</style>\n",
       "<table border=\"1\" class=\"dataframe\">\n",
       "  <thead>\n",
       "    <tr style=\"text-align: right;\">\n",
       "      <th></th>\n",
       "      <th>latitude</th>\n",
       "      <th>longitude</th>\n",
       "    </tr>\n",
       "    <tr>\n",
       "      <th>Team</th>\n",
       "      <th></th>\n",
       "      <th></th>\n",
       "    </tr>\n",
       "  </thead>\n",
       "  <tbody>\n",
       "    <tr>\n",
       "      <th>TEN</th>\n",
       "      <td>36.166461</td>\n",
       "      <td>-86.771289</td>\n",
       "    </tr>\n",
       "    <tr>\n",
       "      <th>NYG</th>\n",
       "      <td>40.812194</td>\n",
       "      <td>-74.076983</td>\n",
       "    </tr>\n",
       "    <tr>\n",
       "      <th>PIT</th>\n",
       "      <td>40.446786</td>\n",
       "      <td>-80.015761</td>\n",
       "    </tr>\n",
       "    <tr>\n",
       "      <th>CAR</th>\n",
       "      <td>35.225808</td>\n",
       "      <td>-80.852861</td>\n",
       "    </tr>\n",
       "    <tr>\n",
       "      <th>BAL</th>\n",
       "      <td>39.277969</td>\n",
       "      <td>-76.622767</td>\n",
       "    </tr>\n",
       "    <tr>\n",
       "      <th>TB</th>\n",
       "      <td>27.975967</td>\n",
       "      <td>-82.503350</td>\n",
       "    </tr>\n",
       "    <tr>\n",
       "      <th>IND</th>\n",
       "      <td>39.760056</td>\n",
       "      <td>-86.163806</td>\n",
       "    </tr>\n",
       "    <tr>\n",
       "      <th>MIN</th>\n",
       "      <td>44.973881</td>\n",
       "      <td>-93.258094</td>\n",
       "    </tr>\n",
       "    <tr>\n",
       "      <th>ARI</th>\n",
       "      <td>33.527700</td>\n",
       "      <td>-112.262608</td>\n",
       "    </tr>\n",
       "    <tr>\n",
       "      <th>DAL</th>\n",
       "      <td>32.747778</td>\n",
       "      <td>-97.092778</td>\n",
       "    </tr>\n",
       "    <tr>\n",
       "      <th>ATL</th>\n",
       "      <td>33.757614</td>\n",
       "      <td>-84.400972</td>\n",
       "    </tr>\n",
       "    <tr>\n",
       "      <th>NYJ</th>\n",
       "      <td>40.812194</td>\n",
       "      <td>-74.076983</td>\n",
       "    </tr>\n",
       "    <tr>\n",
       "      <th>DEN</th>\n",
       "      <td>39.743936</td>\n",
       "      <td>-105.020097</td>\n",
       "    </tr>\n",
       "    <tr>\n",
       "      <th>MIA</th>\n",
       "      <td>25.957919</td>\n",
       "      <td>-80.238842</td>\n",
       "    </tr>\n",
       "    <tr>\n",
       "      <th>PHI</th>\n",
       "      <td>39.900775</td>\n",
       "      <td>-75.167453</td>\n",
       "    </tr>\n",
       "    <tr>\n",
       "      <th>CHI</th>\n",
       "      <td>41.862306</td>\n",
       "      <td>-87.616672</td>\n",
       "    </tr>\n",
       "    <tr>\n",
       "      <th>NE</th>\n",
       "      <td>42.090925</td>\n",
       "      <td>-71.264350</td>\n",
       "    </tr>\n",
       "    <tr>\n",
       "      <th>WAS</th>\n",
       "      <td>38.907697</td>\n",
       "      <td>-76.864517</td>\n",
       "    </tr>\n",
       "    <tr>\n",
       "      <th>GB</th>\n",
       "      <td>44.501306</td>\n",
       "      <td>-88.062167</td>\n",
       "    </tr>\n",
       "    <tr>\n",
       "      <th>LAC</th>\n",
       "      <td>32.783117</td>\n",
       "      <td>-117.119525</td>\n",
       "    </tr>\n",
       "    <tr>\n",
       "      <th>NOR</th>\n",
       "      <td>29.950931</td>\n",
       "      <td>-90.081364</td>\n",
       "    </tr>\n",
       "    <tr>\n",
       "      <th>HOU</th>\n",
       "      <td>29.684781</td>\n",
       "      <td>-95.410956</td>\n",
       "    </tr>\n",
       "    <tr>\n",
       "      <th>BUF</th>\n",
       "      <td>42.773739</td>\n",
       "      <td>-78.786978</td>\n",
       "    </tr>\n",
       "    <tr>\n",
       "      <th>SFO</th>\n",
       "      <td>37.713486</td>\n",
       "      <td>-122.386256</td>\n",
       "    </tr>\n",
       "    <tr>\n",
       "      <th>JAX</th>\n",
       "      <td>30.323925</td>\n",
       "      <td>-81.637356</td>\n",
       "    </tr>\n",
       "    <tr>\n",
       "      <th>CLE</th>\n",
       "      <td>41.506022</td>\n",
       "      <td>-81.699564</td>\n",
       "    </tr>\n",
       "    <tr>\n",
       "      <th>OAK</th>\n",
       "      <td>37.751411</td>\n",
       "      <td>-122.200889</td>\n",
       "    </tr>\n",
       "    <tr>\n",
       "      <th>KC</th>\n",
       "      <td>39.048914</td>\n",
       "      <td>-94.484039</td>\n",
       "    </tr>\n",
       "    <tr>\n",
       "      <th>LAR</th>\n",
       "      <td>38.632975</td>\n",
       "      <td>-90.188547</td>\n",
       "    </tr>\n",
       "    <tr>\n",
       "      <th>SEA</th>\n",
       "      <td>47.595153</td>\n",
       "      <td>-122.331625</td>\n",
       "    </tr>\n",
       "    <tr>\n",
       "      <th>CIN</th>\n",
       "      <td>39.095442</td>\n",
       "      <td>-84.516039</td>\n",
       "    </tr>\n",
       "    <tr>\n",
       "      <th>DET</th>\n",
       "      <td>42.340156</td>\n",
       "      <td>-83.045808</td>\n",
       "    </tr>\n",
       "  </tbody>\n",
       "</table>\n",
       "</div>"
      ],
      "text/plain": [
       "       latitude   longitude\n",
       "Team                       \n",
       "TEN   36.166461  -86.771289\n",
       "NYG   40.812194  -74.076983\n",
       "PIT   40.446786  -80.015761\n",
       "CAR   35.225808  -80.852861\n",
       "BAL   39.277969  -76.622767\n",
       "TB    27.975967  -82.503350\n",
       "IND   39.760056  -86.163806\n",
       "MIN   44.973881  -93.258094\n",
       "ARI   33.527700 -112.262608\n",
       "DAL   32.747778  -97.092778\n",
       "ATL   33.757614  -84.400972\n",
       "NYJ   40.812194  -74.076983\n",
       "DEN   39.743936 -105.020097\n",
       "MIA   25.957919  -80.238842\n",
       "PHI   39.900775  -75.167453\n",
       "CHI   41.862306  -87.616672\n",
       "NE    42.090925  -71.264350\n",
       "WAS   38.907697  -76.864517\n",
       "GB    44.501306  -88.062167\n",
       "LAC   32.783117 -117.119525\n",
       "NOR   29.950931  -90.081364\n",
       "HOU   29.684781  -95.410956\n",
       "BUF   42.773739  -78.786978\n",
       "SFO   37.713486 -122.386256\n",
       "JAX   30.323925  -81.637356\n",
       "CLE   41.506022  -81.699564\n",
       "OAK   37.751411 -122.200889\n",
       "KC    39.048914  -94.484039\n",
       "LAR   38.632975  -90.188547\n",
       "SEA   47.595153 -122.331625\n",
       "CIN   39.095442  -84.516039\n",
       "DET   42.340156  -83.045808"
      ]
     },
     "execution_count": 81,
     "metadata": {},
     "output_type": "execute_result"
    }
   ],
   "source": [
    "coordinates.drop(labels=['zip', 'pic', 'Unnamed: 6', 'Conference'], axis=1, inplace=True)\n",
    "coordinates.rename(columns={'Tm':'Team'})\n",
    "coordinates.set_index('Team')"
   ]
  },
  {
   "cell_type": "code",
   "execution_count": 84,
   "id": "8aeb5f81",
   "metadata": {},
   "outputs": [
    {
     "data": {
      "application/vnd.plotly.v1+json": {
       "config": {
        "plotlyServerURL": "https://plot.ly"
       },
       "data": [
        {
         "hovertemplate": "Team=TEN<br>latitude=%{lat}<br>longitude=%{lon}<extra></extra>",
         "lat": [
          36.166461
         ],
         "legendgroup": "TEN",
         "lon": [
          -86.771289
         ],
         "marker": {
          "color": "#636efa"
         },
         "mode": "markers",
         "name": "TEN",
         "showlegend": true,
         "subplot": "mapbox",
         "type": "scattermapbox"
        },
        {
         "hovertemplate": "Team=NYG<br>latitude=%{lat}<br>longitude=%{lon}<extra></extra>",
         "lat": [
          40.812194
         ],
         "legendgroup": "NYG",
         "lon": [
          -74.076983
         ],
         "marker": {
          "color": "#EF553B"
         },
         "mode": "markers",
         "name": "NYG",
         "showlegend": true,
         "subplot": "mapbox",
         "type": "scattermapbox"
        },
        {
         "hovertemplate": "Team=PIT<br>latitude=%{lat}<br>longitude=%{lon}<extra></extra>",
         "lat": [
          40.446785999999996
         ],
         "legendgroup": "PIT",
         "lon": [
          -80.015761
         ],
         "marker": {
          "color": "#00cc96"
         },
         "mode": "markers",
         "name": "PIT",
         "showlegend": true,
         "subplot": "mapbox",
         "type": "scattermapbox"
        },
        {
         "hovertemplate": "Team=CAR<br>latitude=%{lat}<br>longitude=%{lon}<extra></extra>",
         "lat": [
          35.225808
         ],
         "legendgroup": "CAR",
         "lon": [
          -80.852861
         ],
         "marker": {
          "color": "#ab63fa"
         },
         "mode": "markers",
         "name": "CAR",
         "showlegend": true,
         "subplot": "mapbox",
         "type": "scattermapbox"
        },
        {
         "hovertemplate": "Team=BAL<br>latitude=%{lat}<br>longitude=%{lon}<extra></extra>",
         "lat": [
          39.277969
         ],
         "legendgroup": "BAL",
         "lon": [
          -76.62276700000001
         ],
         "marker": {
          "color": "#FFA15A"
         },
         "mode": "markers",
         "name": "BAL",
         "showlegend": true,
         "subplot": "mapbox",
         "type": "scattermapbox"
        },
        {
         "hovertemplate": "Team=TB<br>latitude=%{lat}<br>longitude=%{lon}<extra></extra>",
         "lat": [
          27.975966999999997
         ],
         "legendgroup": "TB",
         "lon": [
          -82.50335
         ],
         "marker": {
          "color": "#19d3f3"
         },
         "mode": "markers",
         "name": "TB",
         "showlegend": true,
         "subplot": "mapbox",
         "type": "scattermapbox"
        },
        {
         "hovertemplate": "Team=IND<br>latitude=%{lat}<br>longitude=%{lon}<extra></extra>",
         "lat": [
          39.760056
         ],
         "legendgroup": "IND",
         "lon": [
          -86.16380600000001
         ],
         "marker": {
          "color": "#FF6692"
         },
         "mode": "markers",
         "name": "IND",
         "showlegend": true,
         "subplot": "mapbox",
         "type": "scattermapbox"
        },
        {
         "hovertemplate": "Team=MIN<br>latitude=%{lat}<br>longitude=%{lon}<extra></extra>",
         "lat": [
          44.973881
         ],
         "legendgroup": "MIN",
         "lon": [
          -93.258094
         ],
         "marker": {
          "color": "#B6E880"
         },
         "mode": "markers",
         "name": "MIN",
         "showlegend": true,
         "subplot": "mapbox",
         "type": "scattermapbox"
        },
        {
         "hovertemplate": "Team=ARI<br>latitude=%{lat}<br>longitude=%{lon}<extra></extra>",
         "lat": [
          33.5277
         ],
         "legendgroup": "ARI",
         "lon": [
          -112.26260800000001
         ],
         "marker": {
          "color": "#FF97FF"
         },
         "mode": "markers",
         "name": "ARI",
         "showlegend": true,
         "subplot": "mapbox",
         "type": "scattermapbox"
        },
        {
         "hovertemplate": "Team=DAL<br>latitude=%{lat}<br>longitude=%{lon}<extra></extra>",
         "lat": [
          32.747778000000004
         ],
         "legendgroup": "DAL",
         "lon": [
          -97.09277800000001
         ],
         "marker": {
          "color": "#FECB52"
         },
         "mode": "markers",
         "name": "DAL",
         "showlegend": true,
         "subplot": "mapbox",
         "type": "scattermapbox"
        },
        {
         "hovertemplate": "Team=ATL<br>latitude=%{lat}<br>longitude=%{lon}<extra></extra>",
         "lat": [
          33.757614000000004
         ],
         "legendgroup": "ATL",
         "lon": [
          -84.400972
         ],
         "marker": {
          "color": "#636efa"
         },
         "mode": "markers",
         "name": "ATL",
         "showlegend": true,
         "subplot": "mapbox",
         "type": "scattermapbox"
        },
        {
         "hovertemplate": "Team=NYJ<br>latitude=%{lat}<br>longitude=%{lon}<extra></extra>",
         "lat": [
          40.812194
         ],
         "legendgroup": "NYJ",
         "lon": [
          -74.076983
         ],
         "marker": {
          "color": "#EF553B"
         },
         "mode": "markers",
         "name": "NYJ",
         "showlegend": true,
         "subplot": "mapbox",
         "type": "scattermapbox"
        },
        {
         "hovertemplate": "Team=DEN<br>latitude=%{lat}<br>longitude=%{lon}<extra></extra>",
         "lat": [
          39.743936
         ],
         "legendgroup": "DEN",
         "lon": [
          -105.02009699999999
         ],
         "marker": {
          "color": "#00cc96"
         },
         "mode": "markers",
         "name": "DEN",
         "showlegend": true,
         "subplot": "mapbox",
         "type": "scattermapbox"
        },
        {
         "hovertemplate": "Team=MIA<br>latitude=%{lat}<br>longitude=%{lon}<extra></extra>",
         "lat": [
          25.957919
         ],
         "legendgroup": "MIA",
         "lon": [
          -80.238842
         ],
         "marker": {
          "color": "#ab63fa"
         },
         "mode": "markers",
         "name": "MIA",
         "showlegend": true,
         "subplot": "mapbox",
         "type": "scattermapbox"
        },
        {
         "hovertemplate": "Team=PHI<br>latitude=%{lat}<br>longitude=%{lon}<extra></extra>",
         "lat": [
          39.900775
         ],
         "legendgroup": "PHI",
         "lon": [
          -75.16745300000001
         ],
         "marker": {
          "color": "#FFA15A"
         },
         "mode": "markers",
         "name": "PHI",
         "showlegend": true,
         "subplot": "mapbox",
         "type": "scattermapbox"
        },
        {
         "hovertemplate": "Team=CHI<br>latitude=%{lat}<br>longitude=%{lon}<extra></extra>",
         "lat": [
          41.862306
         ],
         "legendgroup": "CHI",
         "lon": [
          -87.616672
         ],
         "marker": {
          "color": "#19d3f3"
         },
         "mode": "markers",
         "name": "CHI",
         "showlegend": true,
         "subplot": "mapbox",
         "type": "scattermapbox"
        },
        {
         "hovertemplate": "Team=NE<br>latitude=%{lat}<br>longitude=%{lon}<extra></extra>",
         "lat": [
          42.090925
         ],
         "legendgroup": "NE",
         "lon": [
          -71.26435
         ],
         "marker": {
          "color": "#FF6692"
         },
         "mode": "markers",
         "name": "NE",
         "showlegend": true,
         "subplot": "mapbox",
         "type": "scattermapbox"
        },
        {
         "hovertemplate": "Team=WAS<br>latitude=%{lat}<br>longitude=%{lon}<extra></extra>",
         "lat": [
          38.907697
         ],
         "legendgroup": "WAS",
         "lon": [
          -76.864517
         ],
         "marker": {
          "color": "#B6E880"
         },
         "mode": "markers",
         "name": "WAS",
         "showlegend": true,
         "subplot": "mapbox",
         "type": "scattermapbox"
        },
        {
         "hovertemplate": "Team=GB<br>latitude=%{lat}<br>longitude=%{lon}<extra></extra>",
         "lat": [
          44.501306
         ],
         "legendgroup": "GB",
         "lon": [
          -88.062167
         ],
         "marker": {
          "color": "#FF97FF"
         },
         "mode": "markers",
         "name": "GB",
         "showlegend": true,
         "subplot": "mapbox",
         "type": "scattermapbox"
        },
        {
         "hovertemplate": "Team=LAC<br>latitude=%{lat}<br>longitude=%{lon}<extra></extra>",
         "lat": [
          32.783117
         ],
         "legendgroup": "LAC",
         "lon": [
          -117.119525
         ],
         "marker": {
          "color": "#FECB52"
         },
         "mode": "markers",
         "name": "LAC",
         "showlegend": true,
         "subplot": "mapbox",
         "type": "scattermapbox"
        },
        {
         "hovertemplate": "Team=NOR<br>latitude=%{lat}<br>longitude=%{lon}<extra></extra>",
         "lat": [
          29.950931
         ],
         "legendgroup": "NOR",
         "lon": [
          -90.08136400000001
         ],
         "marker": {
          "color": "#636efa"
         },
         "mode": "markers",
         "name": "NOR",
         "showlegend": true,
         "subplot": "mapbox",
         "type": "scattermapbox"
        },
        {
         "hovertemplate": "Team=HOU<br>latitude=%{lat}<br>longitude=%{lon}<extra></extra>",
         "lat": [
          29.684781
         ],
         "legendgroup": "HOU",
         "lon": [
          -95.410956
         ],
         "marker": {
          "color": "#EF553B"
         },
         "mode": "markers",
         "name": "HOU",
         "showlegend": true,
         "subplot": "mapbox",
         "type": "scattermapbox"
        },
        {
         "hovertemplate": "Team=BUF<br>latitude=%{lat}<br>longitude=%{lon}<extra></extra>",
         "lat": [
          42.773739
         ],
         "legendgroup": "BUF",
         "lon": [
          -78.786978
         ],
         "marker": {
          "color": "#00cc96"
         },
         "mode": "markers",
         "name": "BUF",
         "showlegend": true,
         "subplot": "mapbox",
         "type": "scattermapbox"
        },
        {
         "hovertemplate": "Team=SFO<br>latitude=%{lat}<br>longitude=%{lon}<extra></extra>",
         "lat": [
          37.713485999999996
         ],
         "legendgroup": "SFO",
         "lon": [
          -122.386256
         ],
         "marker": {
          "color": "#ab63fa"
         },
         "mode": "markers",
         "name": "SFO",
         "showlegend": true,
         "subplot": "mapbox",
         "type": "scattermapbox"
        },
        {
         "hovertemplate": "Team=JAX<br>latitude=%{lat}<br>longitude=%{lon}<extra></extra>",
         "lat": [
          30.323925
         ],
         "legendgroup": "JAX",
         "lon": [
          -81.63735600000001
         ],
         "marker": {
          "color": "#FFA15A"
         },
         "mode": "markers",
         "name": "JAX",
         "showlegend": true,
         "subplot": "mapbox",
         "type": "scattermapbox"
        },
        {
         "hovertemplate": "Team=CLE<br>latitude=%{lat}<br>longitude=%{lon}<extra></extra>",
         "lat": [
          41.506021999999994
         ],
         "legendgroup": "CLE",
         "lon": [
          -81.699564
         ],
         "marker": {
          "color": "#19d3f3"
         },
         "mode": "markers",
         "name": "CLE",
         "showlegend": true,
         "subplot": "mapbox",
         "type": "scattermapbox"
        },
        {
         "hovertemplate": "Team=OAK<br>latitude=%{lat}<br>longitude=%{lon}<extra></extra>",
         "lat": [
          37.751411
         ],
         "legendgroup": "OAK",
         "lon": [
          -122.20088899999999
         ],
         "marker": {
          "color": "#FF6692"
         },
         "mode": "markers",
         "name": "OAK",
         "showlegend": true,
         "subplot": "mapbox",
         "type": "scattermapbox"
        },
        {
         "hovertemplate": "Team=KC<br>latitude=%{lat}<br>longitude=%{lon}<extra></extra>",
         "lat": [
          39.048914
         ],
         "legendgroup": "KC",
         "lon": [
          -94.484039
         ],
         "marker": {
          "color": "#B6E880"
         },
         "mode": "markers",
         "name": "KC",
         "showlegend": true,
         "subplot": "mapbox",
         "type": "scattermapbox"
        },
        {
         "hovertemplate": "Team=LAR<br>latitude=%{lat}<br>longitude=%{lon}<extra></extra>",
         "lat": [
          38.632975
         ],
         "legendgroup": "LAR",
         "lon": [
          -90.188547
         ],
         "marker": {
          "color": "#FF97FF"
         },
         "mode": "markers",
         "name": "LAR",
         "showlegend": true,
         "subplot": "mapbox",
         "type": "scattermapbox"
        },
        {
         "hovertemplate": "Team=SEA<br>latitude=%{lat}<br>longitude=%{lon}<extra></extra>",
         "lat": [
          47.595153
         ],
         "legendgroup": "SEA",
         "lon": [
          -122.331625
         ],
         "marker": {
          "color": "#FECB52"
         },
         "mode": "markers",
         "name": "SEA",
         "showlegend": true,
         "subplot": "mapbox",
         "type": "scattermapbox"
        },
        {
         "hovertemplate": "Team=CIN<br>latitude=%{lat}<br>longitude=%{lon}<extra></extra>",
         "lat": [
          39.095442
         ],
         "legendgroup": "CIN",
         "lon": [
          -84.516039
         ],
         "marker": {
          "color": "#636efa"
         },
         "mode": "markers",
         "name": "CIN",
         "showlegend": true,
         "subplot": "mapbox",
         "type": "scattermapbox"
        },
        {
         "hovertemplate": "Team=DET<br>latitude=%{lat}<br>longitude=%{lon}<extra></extra>",
         "lat": [
          42.340156
         ],
         "legendgroup": "DET",
         "lon": [
          -83.045808
         ],
         "marker": {
          "color": "#EF553B"
         },
         "mode": "markers",
         "name": "DET",
         "showlegend": true,
         "subplot": "mapbox",
         "type": "scattermapbox"
        }
       ],
       "layout": {
        "autosize": true,
        "legend": {
         "title": {
          "text": "Team"
         },
         "tracegroupgap": 0
        },
        "mapbox": {
         "accesstoken": "pk.eyJ1IjoiYW1hY2s1NiIsImEiOiJja3RldzZmcnAwMmd5Mm5wZngyejR2cm5iIn0.JohlA6vRxmH-iugH7u_xXA",
         "bearing": 0,
         "center": {
          "lat": 37.64635224023256,
          "lon": -89.66667171314276
         },
         "domain": {
          "x": [
           0,
           1
          ],
          "y": [
           0,
           1
          ]
         },
         "pitch": 0,
         "zoom": 7.732292015558656
        },
        "margin": {
         "t": 60
        },
        "template": {
         "data": {
          "bar": [
           {
            "error_x": {
             "color": "#2a3f5f"
            },
            "error_y": {
             "color": "#2a3f5f"
            },
            "marker": {
             "line": {
              "color": "#E5ECF6",
              "width": 0.5
             },
             "pattern": {
              "fillmode": "overlay",
              "size": 10,
              "solidity": 0.2
             }
            },
            "type": "bar"
           }
          ],
          "barpolar": [
           {
            "marker": {
             "line": {
              "color": "#E5ECF6",
              "width": 0.5
             },
             "pattern": {
              "fillmode": "overlay",
              "size": 10,
              "solidity": 0.2
             }
            },
            "type": "barpolar"
           }
          ],
          "carpet": [
           {
            "aaxis": {
             "endlinecolor": "#2a3f5f",
             "gridcolor": "white",
             "linecolor": "white",
             "minorgridcolor": "white",
             "startlinecolor": "#2a3f5f"
            },
            "baxis": {
             "endlinecolor": "#2a3f5f",
             "gridcolor": "white",
             "linecolor": "white",
             "minorgridcolor": "white",
             "startlinecolor": "#2a3f5f"
            },
            "type": "carpet"
           }
          ],
          "choropleth": [
           {
            "colorbar": {
             "outlinewidth": 0,
             "ticks": ""
            },
            "type": "choropleth"
           }
          ],
          "contour": [
           {
            "colorbar": {
             "outlinewidth": 0,
             "ticks": ""
            },
            "colorscale": [
             [
              0,
              "#0d0887"
             ],
             [
              0.1111111111111111,
              "#46039f"
             ],
             [
              0.2222222222222222,
              "#7201a8"
             ],
             [
              0.3333333333333333,
              "#9c179e"
             ],
             [
              0.4444444444444444,
              "#bd3786"
             ],
             [
              0.5555555555555556,
              "#d8576b"
             ],
             [
              0.6666666666666666,
              "#ed7953"
             ],
             [
              0.7777777777777778,
              "#fb9f3a"
             ],
             [
              0.8888888888888888,
              "#fdca26"
             ],
             [
              1,
              "#f0f921"
             ]
            ],
            "type": "contour"
           }
          ],
          "contourcarpet": [
           {
            "colorbar": {
             "outlinewidth": 0,
             "ticks": ""
            },
            "type": "contourcarpet"
           }
          ],
          "heatmap": [
           {
            "colorbar": {
             "outlinewidth": 0,
             "ticks": ""
            },
            "colorscale": [
             [
              0,
              "#0d0887"
             ],
             [
              0.1111111111111111,
              "#46039f"
             ],
             [
              0.2222222222222222,
              "#7201a8"
             ],
             [
              0.3333333333333333,
              "#9c179e"
             ],
             [
              0.4444444444444444,
              "#bd3786"
             ],
             [
              0.5555555555555556,
              "#d8576b"
             ],
             [
              0.6666666666666666,
              "#ed7953"
             ],
             [
              0.7777777777777778,
              "#fb9f3a"
             ],
             [
              0.8888888888888888,
              "#fdca26"
             ],
             [
              1,
              "#f0f921"
             ]
            ],
            "type": "heatmap"
           }
          ],
          "heatmapgl": [
           {
            "colorbar": {
             "outlinewidth": 0,
             "ticks": ""
            },
            "colorscale": [
             [
              0,
              "#0d0887"
             ],
             [
              0.1111111111111111,
              "#46039f"
             ],
             [
              0.2222222222222222,
              "#7201a8"
             ],
             [
              0.3333333333333333,
              "#9c179e"
             ],
             [
              0.4444444444444444,
              "#bd3786"
             ],
             [
              0.5555555555555556,
              "#d8576b"
             ],
             [
              0.6666666666666666,
              "#ed7953"
             ],
             [
              0.7777777777777778,
              "#fb9f3a"
             ],
             [
              0.8888888888888888,
              "#fdca26"
             ],
             [
              1,
              "#f0f921"
             ]
            ],
            "type": "heatmapgl"
           }
          ],
          "histogram": [
           {
            "marker": {
             "pattern": {
              "fillmode": "overlay",
              "size": 10,
              "solidity": 0.2
             }
            },
            "type": "histogram"
           }
          ],
          "histogram2d": [
           {
            "colorbar": {
             "outlinewidth": 0,
             "ticks": ""
            },
            "colorscale": [
             [
              0,
              "#0d0887"
             ],
             [
              0.1111111111111111,
              "#46039f"
             ],
             [
              0.2222222222222222,
              "#7201a8"
             ],
             [
              0.3333333333333333,
              "#9c179e"
             ],
             [
              0.4444444444444444,
              "#bd3786"
             ],
             [
              0.5555555555555556,
              "#d8576b"
             ],
             [
              0.6666666666666666,
              "#ed7953"
             ],
             [
              0.7777777777777778,
              "#fb9f3a"
             ],
             [
              0.8888888888888888,
              "#fdca26"
             ],
             [
              1,
              "#f0f921"
             ]
            ],
            "type": "histogram2d"
           }
          ],
          "histogram2dcontour": [
           {
            "colorbar": {
             "outlinewidth": 0,
             "ticks": ""
            },
            "colorscale": [
             [
              0,
              "#0d0887"
             ],
             [
              0.1111111111111111,
              "#46039f"
             ],
             [
              0.2222222222222222,
              "#7201a8"
             ],
             [
              0.3333333333333333,
              "#9c179e"
             ],
             [
              0.4444444444444444,
              "#bd3786"
             ],
             [
              0.5555555555555556,
              "#d8576b"
             ],
             [
              0.6666666666666666,
              "#ed7953"
             ],
             [
              0.7777777777777778,
              "#fb9f3a"
             ],
             [
              0.8888888888888888,
              "#fdca26"
             ],
             [
              1,
              "#f0f921"
             ]
            ],
            "type": "histogram2dcontour"
           }
          ],
          "mesh3d": [
           {
            "colorbar": {
             "outlinewidth": 0,
             "ticks": ""
            },
            "type": "mesh3d"
           }
          ],
          "parcoords": [
           {
            "line": {
             "colorbar": {
              "outlinewidth": 0,
              "ticks": ""
             }
            },
            "type": "parcoords"
           }
          ],
          "pie": [
           {
            "automargin": true,
            "type": "pie"
           }
          ],
          "scatter": [
           {
            "marker": {
             "colorbar": {
              "outlinewidth": 0,
              "ticks": ""
             }
            },
            "type": "scatter"
           }
          ],
          "scatter3d": [
           {
            "line": {
             "colorbar": {
              "outlinewidth": 0,
              "ticks": ""
             }
            },
            "marker": {
             "colorbar": {
              "outlinewidth": 0,
              "ticks": ""
             }
            },
            "type": "scatter3d"
           }
          ],
          "scattercarpet": [
           {
            "marker": {
             "colorbar": {
              "outlinewidth": 0,
              "ticks": ""
             }
            },
            "type": "scattercarpet"
           }
          ],
          "scattergeo": [
           {
            "marker": {
             "colorbar": {
              "outlinewidth": 0,
              "ticks": ""
             }
            },
            "type": "scattergeo"
           }
          ],
          "scattergl": [
           {
            "marker": {
             "colorbar": {
              "outlinewidth": 0,
              "ticks": ""
             }
            },
            "type": "scattergl"
           }
          ],
          "scattermapbox": [
           {
            "marker": {
             "colorbar": {
              "outlinewidth": 0,
              "ticks": ""
             }
            },
            "type": "scattermapbox"
           }
          ],
          "scatterpolar": [
           {
            "marker": {
             "colorbar": {
              "outlinewidth": 0,
              "ticks": ""
             }
            },
            "type": "scatterpolar"
           }
          ],
          "scatterpolargl": [
           {
            "marker": {
             "colorbar": {
              "outlinewidth": 0,
              "ticks": ""
             }
            },
            "type": "scatterpolargl"
           }
          ],
          "scatterternary": [
           {
            "marker": {
             "colorbar": {
              "outlinewidth": 0,
              "ticks": ""
             }
            },
            "type": "scatterternary"
           }
          ],
          "surface": [
           {
            "colorbar": {
             "outlinewidth": 0,
             "ticks": ""
            },
            "colorscale": [
             [
              0,
              "#0d0887"
             ],
             [
              0.1111111111111111,
              "#46039f"
             ],
             [
              0.2222222222222222,
              "#7201a8"
             ],
             [
              0.3333333333333333,
              "#9c179e"
             ],
             [
              0.4444444444444444,
              "#bd3786"
             ],
             [
              0.5555555555555556,
              "#d8576b"
             ],
             [
              0.6666666666666666,
              "#ed7953"
             ],
             [
              0.7777777777777778,
              "#fb9f3a"
             ],
             [
              0.8888888888888888,
              "#fdca26"
             ],
             [
              1,
              "#f0f921"
             ]
            ],
            "type": "surface"
           }
          ],
          "table": [
           {
            "cells": {
             "fill": {
              "color": "#EBF0F8"
             },
             "line": {
              "color": "white"
             }
            },
            "header": {
             "fill": {
              "color": "#C8D4E3"
             },
             "line": {
              "color": "white"
             }
            },
            "type": "table"
           }
          ]
         },
         "layout": {
          "annotationdefaults": {
           "arrowcolor": "#2a3f5f",
           "arrowhead": 0,
           "arrowwidth": 1
          },
          "autotypenumbers": "strict",
          "coloraxis": {
           "colorbar": {
            "outlinewidth": 0,
            "ticks": ""
           }
          },
          "colorscale": {
           "diverging": [
            [
             0,
             "#8e0152"
            ],
            [
             0.1,
             "#c51b7d"
            ],
            [
             0.2,
             "#de77ae"
            ],
            [
             0.3,
             "#f1b6da"
            ],
            [
             0.4,
             "#fde0ef"
            ],
            [
             0.5,
             "#f7f7f7"
            ],
            [
             0.6,
             "#e6f5d0"
            ],
            [
             0.7,
             "#b8e186"
            ],
            [
             0.8,
             "#7fbc41"
            ],
            [
             0.9,
             "#4d9221"
            ],
            [
             1,
             "#276419"
            ]
           ],
           "sequential": [
            [
             0,
             "#0d0887"
            ],
            [
             0.1111111111111111,
             "#46039f"
            ],
            [
             0.2222222222222222,
             "#7201a8"
            ],
            [
             0.3333333333333333,
             "#9c179e"
            ],
            [
             0.4444444444444444,
             "#bd3786"
            ],
            [
             0.5555555555555556,
             "#d8576b"
            ],
            [
             0.6666666666666666,
             "#ed7953"
            ],
            [
             0.7777777777777778,
             "#fb9f3a"
            ],
            [
             0.8888888888888888,
             "#fdca26"
            ],
            [
             1,
             "#f0f921"
            ]
           ],
           "sequentialminus": [
            [
             0,
             "#0d0887"
            ],
            [
             0.1111111111111111,
             "#46039f"
            ],
            [
             0.2222222222222222,
             "#7201a8"
            ],
            [
             0.3333333333333333,
             "#9c179e"
            ],
            [
             0.4444444444444444,
             "#bd3786"
            ],
            [
             0.5555555555555556,
             "#d8576b"
            ],
            [
             0.6666666666666666,
             "#ed7953"
            ],
            [
             0.7777777777777778,
             "#fb9f3a"
            ],
            [
             0.8888888888888888,
             "#fdca26"
            ],
            [
             1,
             "#f0f921"
            ]
           ]
          },
          "colorway": [
           "#636efa",
           "#EF553B",
           "#00cc96",
           "#ab63fa",
           "#FFA15A",
           "#19d3f3",
           "#FF6692",
           "#B6E880",
           "#FF97FF",
           "#FECB52"
          ],
          "font": {
           "color": "#2a3f5f"
          },
          "geo": {
           "bgcolor": "white",
           "lakecolor": "white",
           "landcolor": "#E5ECF6",
           "showlakes": true,
           "showland": true,
           "subunitcolor": "white"
          },
          "hoverlabel": {
           "align": "left"
          },
          "hovermode": "closest",
          "mapbox": {
           "style": "light"
          },
          "paper_bgcolor": "white",
          "plot_bgcolor": "#E5ECF6",
          "polar": {
           "angularaxis": {
            "gridcolor": "white",
            "linecolor": "white",
            "ticks": ""
           },
           "bgcolor": "#E5ECF6",
           "radialaxis": {
            "gridcolor": "white",
            "linecolor": "white",
            "ticks": ""
           }
          },
          "scene": {
           "xaxis": {
            "backgroundcolor": "#E5ECF6",
            "gridcolor": "white",
            "gridwidth": 2,
            "linecolor": "white",
            "showbackground": true,
            "ticks": "",
            "zerolinecolor": "white"
           },
           "yaxis": {
            "backgroundcolor": "#E5ECF6",
            "gridcolor": "white",
            "gridwidth": 2,
            "linecolor": "white",
            "showbackground": true,
            "ticks": "",
            "zerolinecolor": "white"
           },
           "zaxis": {
            "backgroundcolor": "#E5ECF6",
            "gridcolor": "white",
            "gridwidth": 2,
            "linecolor": "white",
            "showbackground": true,
            "ticks": "",
            "zerolinecolor": "white"
           }
          },
          "shapedefaults": {
           "line": {
            "color": "#2a3f5f"
           }
          },
          "ternary": {
           "aaxis": {
            "gridcolor": "white",
            "linecolor": "white",
            "ticks": ""
           },
           "baxis": {
            "gridcolor": "white",
            "linecolor": "white",
            "ticks": ""
           },
           "bgcolor": "#E5ECF6",
           "caxis": {
            "gridcolor": "white",
            "linecolor": "white",
            "ticks": ""
           }
          },
          "title": {
           "x": 0.05
          },
          "xaxis": {
           "automargin": true,
           "gridcolor": "white",
           "linecolor": "white",
           "ticks": "",
           "title": {
            "standoff": 15
           },
           "zerolinecolor": "white",
           "zerolinewidth": 2
          },
          "yaxis": {
           "automargin": true,
           "gridcolor": "white",
           "linecolor": "white",
           "ticks": "",
           "title": {
            "standoff": 15
           },
           "zerolinecolor": "white",
           "zerolinewidth": 2
          }
         }
        }
       }
      },
      "image/png": "[encoded data removed]",
      "text/html": [
       "<div>                            <div id=\"c5d90793-b916-44d5-957a-000152b84d5c\" class=\"plotly-graph-div\" style=\"height:525px; width:100%;\"></div>            <script type=\"text/javascript\">                require([\"plotly\"], function(Plotly) {                    window.PLOTLYENV=window.PLOTLYENV || {};                                    if (document.getElementById(\"c5d90793-b916-44d5-957a-000152b84d5c\")) {                    Plotly.newPlot(                        \"c5d90793-b916-44d5-957a-000152b84d5c\",                        [{\"hovertemplate\":\"Team=TEN<br>latitude=%{lat}<br>longitude=%{lon}<extra></extra>\",\"lat\":[36.166461],\"legendgroup\":\"TEN\",\"lon\":[-86.771289],\"marker\":{\"color\":\"#636efa\"},\"mode\":\"markers\",\"name\":\"TEN\",\"showlegend\":true,\"subplot\":\"mapbox\",\"type\":\"scattermapbox\"},{\"hovertemplate\":\"Team=NYG<br>latitude=%{lat}<br>longitude=%{lon}<extra></extra>\",\"lat\":[40.812194],\"legendgroup\":\"NYG\",\"lon\":[-74.076983],\"marker\":{\"color\":\"#EF553B\"},\"mode\":\"markers\",\"name\":\"NYG\",\"showlegend\":true,\"subplot\":\"mapbox\",\"type\":\"scattermapbox\"},{\"hovertemplate\":\"Team=PIT<br>latitude=%{lat}<br>longitude=%{lon}<extra></extra>\",\"lat\":[40.446785999999996],\"legendgroup\":\"PIT\",\"lon\":[-80.015761],\"marker\":{\"color\":\"#00cc96\"},\"mode\":\"markers\",\"name\":\"PIT\",\"showlegend\":true,\"subplot\":\"mapbox\",\"type\":\"scattermapbox\"},{\"hovertemplate\":\"Team=CAR<br>latitude=%{lat}<br>longitude=%{lon}<extra></extra>\",\"lat\":[35.225808],\"legendgroup\":\"CAR\",\"lon\":[-80.852861],\"marker\":{\"color\":\"#ab63fa\"},\"mode\":\"markers\",\"name\":\"CAR\",\"showlegend\":true,\"subplot\":\"mapbox\",\"type\":\"scattermapbox\"},{\"hovertemplate\":\"Team=BAL<br>latitude=%{lat}<br>longitude=%{lon}<extra></extra>\",\"lat\":[39.277969],\"legendgroup\":\"BAL\",\"lon\":[-76.62276700000001],\"marker\":{\"color\":\"#FFA15A\"},\"mode\":\"markers\",\"name\":\"BAL\",\"showlegend\":true,\"subplot\":\"mapbox\",\"type\":\"scattermapbox\"},{\"hovertemplate\":\"Team=TB<br>latitude=%{lat}<br>longitude=%{lon}<extra></extra>\",\"lat\":[27.975966999999997],\"legendgroup\":\"TB\",\"lon\":[-82.50335],\"marker\":{\"color\":\"#19d3f3\"},\"mode\":\"markers\",\"name\":\"TB\",\"showlegend\":true,\"subplot\":\"mapbox\",\"type\":\"scattermapbox\"},{\"hovertemplate\":\"Team=IND<br>latitude=%{lat}<br>longitude=%{lon}<extra></extra>\",\"lat\":[39.760056],\"legendgroup\":\"IND\",\"lon\":[-86.16380600000001],\"marker\":{\"color\":\"#FF6692\"},\"mode\":\"markers\",\"name\":\"IND\",\"showlegend\":true,\"subplot\":\"mapbox\",\"type\":\"scattermapbox\"},{\"hovertemplate\":\"Team=MIN<br>latitude=%{lat}<br>longitude=%{lon}<extra></extra>\",\"lat\":[44.973881],\"legendgroup\":\"MIN\",\"lon\":[-93.258094],\"marker\":{\"color\":\"#B6E880\"},\"mode\":\"markers\",\"name\":\"MIN\",\"showlegend\":true,\"subplot\":\"mapbox\",\"type\":\"scattermapbox\"},{\"hovertemplate\":\"Team=ARI<br>latitude=%{lat}<br>longitude=%{lon}<extra></extra>\",\"lat\":[33.5277],\"legendgroup\":\"ARI\",\"lon\":[-112.26260800000001],\"marker\":{\"color\":\"#FF97FF\"},\"mode\":\"markers\",\"name\":\"ARI\",\"showlegend\":true,\"subplot\":\"mapbox\",\"type\":\"scattermapbox\"},{\"hovertemplate\":\"Team=DAL<br>latitude=%{lat}<br>longitude=%{lon}<extra></extra>\",\"lat\":[32.747778000000004],\"legendgroup\":\"DAL\",\"lon\":[-97.09277800000001],\"marker\":{\"color\":\"#FECB52\"},\"mode\":\"markers\",\"name\":\"DAL\",\"showlegend\":true,\"subplot\":\"mapbox\",\"type\":\"scattermapbox\"},{\"hovertemplate\":\"Team=ATL<br>latitude=%{lat}<br>longitude=%{lon}<extra></extra>\",\"lat\":[33.757614000000004],\"legendgroup\":\"ATL\",\"lon\":[-84.400972],\"marker\":{\"color\":\"#636efa\"},\"mode\":\"markers\",\"name\":\"ATL\",\"showlegend\":true,\"subplot\":\"mapbox\",\"type\":\"scattermapbox\"},{\"hovertemplate\":\"Team=NYJ<br>latitude=%{lat}<br>longitude=%{lon}<extra></extra>\",\"lat\":[40.812194],\"legendgroup\":\"NYJ\",\"lon\":[-74.076983],\"marker\":{\"color\":\"#EF553B\"},\"mode\":\"markers\",\"name\":\"NYJ\",\"showlegend\":true,\"subplot\":\"mapbox\",\"type\":\"scattermapbox\"},{\"hovertemplate\":\"Team=DEN<br>latitude=%{lat}<br>longitude=%{lon}<extra></extra>\",\"lat\":[39.743936],\"legendgroup\":\"DEN\",\"lon\":[-105.02009699999999],\"marker\":{\"color\":\"#00cc96\"},\"mode\":\"markers\",\"name\":\"DEN\",\"showlegend\":true,\"subplot\":\"mapbox\",\"type\":\"scattermapbox\"},{\"hovertemplate\":\"Team=MIA<br>latitude=%{lat}<br>longitude=%{lon}<extra></extra>\",\"lat\":[25.957919],\"legendgroup\":\"MIA\",\"lon\":[-80.238842],\"marker\":{\"color\":\"#ab63fa\"},\"mode\":\"markers\",\"name\":\"MIA\",\"showlegend\":true,\"subplot\":\"mapbox\",\"type\":\"scattermapbox\"},{\"hovertemplate\":\"Team=PHI<br>latitude=%{lat}<br>longitude=%{lon}<extra></extra>\",\"lat\":[39.900775],\"legendgroup\":\"PHI\",\"lon\":[-75.16745300000001],\"marker\":{\"color\":\"#FFA15A\"},\"mode\":\"markers\",\"name\":\"PHI\",\"showlegend\":true,\"subplot\":\"mapbox\",\"type\":\"scattermapbox\"},{\"hovertemplate\":\"Team=CHI<br>latitude=%{lat}<br>longitude=%{lon}<extra></extra>\",\"lat\":[41.862306],\"legendgroup\":\"CHI\",\"lon\":[-87.616672],\"marker\":{\"color\":\"#19d3f3\"},\"mode\":\"markers\",\"name\":\"CHI\",\"showlegend\":true,\"subplot\":\"mapbox\",\"type\":\"scattermapbox\"},{\"hovertemplate\":\"Team=NE<br>latitude=%{lat}<br>longitude=%{lon}<extra></extra>\",\"lat\":[42.090925],\"legendgroup\":\"NE\",\"lon\":[-71.26435],\"marker\":{\"color\":\"#FF6692\"},\"mode\":\"markers\",\"name\":\"NE\",\"showlegend\":true,\"subplot\":\"mapbox\",\"type\":\"scattermapbox\"},{\"hovertemplate\":\"Team=WAS<br>latitude=%{lat}<br>longitude=%{lon}<extra></extra>\",\"lat\":[38.907697],\"legendgroup\":\"WAS\",\"lon\":[-76.864517],\"marker\":{\"color\":\"#B6E880\"},\"mode\":\"markers\",\"name\":\"WAS\",\"showlegend\":true,\"subplot\":\"mapbox\",\"type\":\"scattermapbox\"},{\"hovertemplate\":\"Team=GB<br>latitude=%{lat}<br>longitude=%{lon}<extra></extra>\",\"lat\":[44.501306],\"legendgroup\":\"GB\",\"lon\":[-88.062167],\"marker\":{\"color\":\"#FF97FF\"},\"mode\":\"markers\",\"name\":\"GB\",\"showlegend\":true,\"subplot\":\"mapbox\",\"type\":\"scattermapbox\"},{\"hovertemplate\":\"Team=LAC<br>latitude=%{lat}<br>longitude=%{lon}<extra></extra>\",\"lat\":[32.783117],\"legendgroup\":\"LAC\",\"lon\":[-117.119525],\"marker\":{\"color\":\"#FECB52\"},\"mode\":\"markers\",\"name\":\"LAC\",\"showlegend\":true,\"subplot\":\"mapbox\",\"type\":\"scattermapbox\"},{\"hovertemplate\":\"Team=NOR<br>latitude=%{lat}<br>longitude=%{lon}<extra></extra>\",\"lat\":[29.950931],\"legendgroup\":\"NOR\",\"lon\":[-90.08136400000001],\"marker\":{\"color\":\"#636efa\"},\"mode\":\"markers\",\"name\":\"NOR\",\"showlegend\":true,\"subplot\":\"mapbox\",\"type\":\"scattermapbox\"},{\"hovertemplate\":\"Team=HOU<br>latitude=%{lat}<br>longitude=%{lon}<extra></extra>\",\"lat\":[29.684781],\"legendgroup\":\"HOU\",\"lon\":[-95.410956],\"marker\":{\"color\":\"#EF553B\"},\"mode\":\"markers\",\"name\":\"HOU\",\"showlegend\":true,\"subplot\":\"mapbox\",\"type\":\"scattermapbox\"},{\"hovertemplate\":\"Team=BUF<br>latitude=%{lat}<br>longitude=%{lon}<extra></extra>\",\"lat\":[42.773739],\"legendgroup\":\"BUF\",\"lon\":[-78.786978],\"marker\":{\"color\":\"#00cc96\"},\"mode\":\"markers\",\"name\":\"BUF\",\"showlegend\":true,\"subplot\":\"mapbox\",\"type\":\"scattermapbox\"},{\"hovertemplate\":\"Team=SFO<br>latitude=%{lat}<br>longitude=%{lon}<extra></extra>\",\"lat\":[37.713485999999996],\"legendgroup\":\"SFO\",\"lon\":[-122.386256],\"marker\":{\"color\":\"#ab63fa\"},\"mode\":\"markers\",\"name\":\"SFO\",\"showlegend\":true,\"subplot\":\"mapbox\",\"type\":\"scattermapbox\"},{\"hovertemplate\":\"Team=JAX<br>latitude=%{lat}<br>longitude=%{lon}<extra></extra>\",\"lat\":[30.323925],\"legendgroup\":\"JAX\",\"lon\":[-81.63735600000001],\"marker\":{\"color\":\"#FFA15A\"},\"mode\":\"markers\",\"name\":\"JAX\",\"showlegend\":true,\"subplot\":\"mapbox\",\"type\":\"scattermapbox\"},{\"hovertemplate\":\"Team=CLE<br>latitude=%{lat}<br>longitude=%{lon}<extra></extra>\",\"lat\":[41.506021999999994],\"legendgroup\":\"CLE\",\"lon\":[-81.699564],\"marker\":{\"color\":\"#19d3f3\"},\"mode\":\"markers\",\"name\":\"CLE\",\"showlegend\":true,\"subplot\":\"mapbox\",\"type\":\"scattermapbox\"},{\"hovertemplate\":\"Team=OAK<br>latitude=%{lat}<br>longitude=%{lon}<extra></extra>\",\"lat\":[37.751411],\"legendgroup\":\"OAK\",\"lon\":[-122.20088899999999],\"marker\":{\"color\":\"#FF6692\"},\"mode\":\"markers\",\"name\":\"OAK\",\"showlegend\":true,\"subplot\":\"mapbox\",\"type\":\"scattermapbox\"},{\"hovertemplate\":\"Team=KC<br>latitude=%{lat}<br>longitude=%{lon}<extra></extra>\",\"lat\":[39.048914],\"legendgroup\":\"KC\",\"lon\":[-94.484039],\"marker\":{\"color\":\"#B6E880\"},\"mode\":\"markers\",\"name\":\"KC\",\"showlegend\":true,\"subplot\":\"mapbox\",\"type\":\"scattermapbox\"},{\"hovertemplate\":\"Team=LAR<br>latitude=%{lat}<br>longitude=%{lon}<extra></extra>\",\"lat\":[38.632975],\"legendgroup\":\"LAR\",\"lon\":[-90.188547],\"marker\":{\"color\":\"#FF97FF\"},\"mode\":\"markers\",\"name\":\"LAR\",\"showlegend\":true,\"subplot\":\"mapbox\",\"type\":\"scattermapbox\"},{\"hovertemplate\":\"Team=SEA<br>latitude=%{lat}<br>longitude=%{lon}<extra></extra>\",\"lat\":[47.595153],\"legendgroup\":\"SEA\",\"lon\":[-122.331625],\"marker\":{\"color\":\"#FECB52\"},\"mode\":\"markers\",\"name\":\"SEA\",\"showlegend\":true,\"subplot\":\"mapbox\",\"type\":\"scattermapbox\"},{\"hovertemplate\":\"Team=CIN<br>latitude=%{lat}<br>longitude=%{lon}<extra></extra>\",\"lat\":[39.095442],\"legendgroup\":\"CIN\",\"lon\":[-84.516039],\"marker\":{\"color\":\"#636efa\"},\"mode\":\"markers\",\"name\":\"CIN\",\"showlegend\":true,\"subplot\":\"mapbox\",\"type\":\"scattermapbox\"},{\"hovertemplate\":\"Team=DET<br>latitude=%{lat}<br>longitude=%{lon}<extra></extra>\",\"lat\":[42.340156],\"legendgroup\":\"DET\",\"lon\":[-83.045808],\"marker\":{\"color\":\"#EF553B\"},\"mode\":\"markers\",\"name\":\"DET\",\"showlegend\":true,\"subplot\":\"mapbox\",\"type\":\"scattermapbox\"}],                        {\"legend\":{\"title\":{\"text\":\"Team\"},\"tracegroupgap\":0},\"mapbox\":{\"accesstoken\":\"pk.eyJ1IjoiYW1hY2s1NiIsImEiOiJja3RldzZmcnAwMmd5Mm5wZngyejR2cm5iIn0.JohlA6vRxmH-iugH7u_xXA\",\"center\":{\"lat\":37.73904137499999,\"lon\":-89.88191550000002},\"domain\":{\"x\":[0.0,1.0],\"y\":[0.0,1.0]},\"zoom\":8},\"margin\":{\"t\":60},\"template\":{\"data\":{\"bar\":[{\"error_x\":{\"color\":\"#2a3f5f\"},\"error_y\":{\"color\":\"#2a3f5f\"},\"marker\":{\"line\":{\"color\":\"#E5ECF6\",\"width\":0.5},\"pattern\":{\"fillmode\":\"overlay\",\"size\":10,\"solidity\":0.2}},\"type\":\"bar\"}],\"barpolar\":[{\"marker\":{\"line\":{\"color\":\"#E5ECF6\",\"width\":0.5},\"pattern\":{\"fillmode\":\"overlay\",\"size\":10,\"solidity\":0.2}},\"type\":\"barpolar\"}],\"carpet\":[{\"aaxis\":{\"endlinecolor\":\"#2a3f5f\",\"gridcolor\":\"white\",\"linecolor\":\"white\",\"minorgridcolor\":\"white\",\"startlinecolor\":\"#2a3f5f\"},\"baxis\":{\"endlinecolor\":\"#2a3f5f\",\"gridcolor\":\"white\",\"linecolor\":\"white\",\"minorgridcolor\":\"white\",\"startlinecolor\":\"#2a3f5f\"},\"type\":\"carpet\"}],\"choropleth\":[{\"colorbar\":{\"outlinewidth\":0,\"ticks\":\"\"},\"type\":\"choropleth\"}],\"contour\":[{\"colorbar\":{\"outlinewidth\":0,\"ticks\":\"\"},\"colorscale\":[[0.0,\"#0d0887\"],[0.1111111111111111,\"#46039f\"],[0.2222222222222222,\"#7201a8\"],[0.3333333333333333,\"#9c179e\"],[0.4444444444444444,\"#bd3786\"],[0.5555555555555556,\"#d8576b\"],[0.6666666666666666,\"#ed7953\"],[0.7777777777777778,\"#fb9f3a\"],[0.8888888888888888,\"#fdca26\"],[1.0,\"#f0f921\"]],\"type\":\"contour\"}],\"contourcarpet\":[{\"colorbar\":{\"outlinewidth\":0,\"ticks\":\"\"},\"type\":\"contourcarpet\"}],\"heatmap\":[{\"colorbar\":{\"outlinewidth\":0,\"ticks\":\"\"},\"colorscale\":[[0.0,\"#0d0887\"],[0.1111111111111111,\"#46039f\"],[0.2222222222222222,\"#7201a8\"],[0.3333333333333333,\"#9c179e\"],[0.4444444444444444,\"#bd3786\"],[0.5555555555555556,\"#d8576b\"],[0.6666666666666666,\"#ed7953\"],[0.7777777777777778,\"#fb9f3a\"],[0.8888888888888888,\"#fdca26\"],[1.0,\"#f0f921\"]],\"type\":\"heatmap\"}],\"heatmapgl\":[{\"colorbar\":{\"outlinewidth\":0,\"ticks\":\"\"},\"colorscale\":[[0.0,\"#0d0887\"],[0.1111111111111111,\"#46039f\"],[0.2222222222222222,\"#7201a8\"],[0.3333333333333333,\"#9c179e\"],[0.4444444444444444,\"#bd3786\"],[0.5555555555555556,\"#d8576b\"],[0.6666666666666666,\"#ed7953\"],[0.7777777777777778,\"#fb9f3a\"],[0.8888888888888888,\"#fdca26\"],[1.0,\"#f0f921\"]],\"type\":\"heatmapgl\"}],\"histogram\":[{\"marker\":{\"pattern\":{\"fillmode\":\"overlay\",\"size\":10,\"solidity\":0.2}},\"type\":\"histogram\"}],\"histogram2d\":[{\"colorbar\":{\"outlinewidth\":0,\"ticks\":\"\"},\"colorscale\":[[0.0,\"#0d0887\"],[0.1111111111111111,\"#46039f\"],[0.2222222222222222,\"#7201a8\"],[0.3333333333333333,\"#9c179e\"],[0.4444444444444444,\"#bd3786\"],[0.5555555555555556,\"#d8576b\"],[0.6666666666666666,\"#ed7953\"],[0.7777777777777778,\"#fb9f3a\"],[0.8888888888888888,\"#fdca26\"],[1.0,\"#f0f921\"]],\"type\":\"histogram2d\"}],\"histogram2dcontour\":[{\"colorbar\":{\"outlinewidth\":0,\"ticks\":\"\"},\"colorscale\":[[0.0,\"#0d0887\"],[0.1111111111111111,\"#46039f\"],[0.2222222222222222,\"#7201a8\"],[0.3333333333333333,\"#9c179e\"],[0.4444444444444444,\"#bd3786\"],[0.5555555555555556,\"#d8576b\"],[0.6666666666666666,\"#ed7953\"],[0.7777777777777778,\"#fb9f3a\"],[0.8888888888888888,\"#fdca26\"],[1.0,\"#f0f921\"]],\"type\":\"histogram2dcontour\"}],\"mesh3d\":[{\"colorbar\":{\"outlinewidth\":0,\"ticks\":\"\"},\"type\":\"mesh3d\"}],\"parcoords\":[{\"line\":{\"colorbar\":{\"outlinewidth\":0,\"ticks\":\"\"}},\"type\":\"parcoords\"}],\"pie\":[{\"automargin\":true,\"type\":\"pie\"}],\"scatter\":[{\"marker\":{\"colorbar\":{\"outlinewidth\":0,\"ticks\":\"\"}},\"type\":\"scatter\"}],\"scatter3d\":[{\"line\":{\"colorbar\":{\"outlinewidth\":0,\"ticks\":\"\"}},\"marker\":{\"colorbar\":{\"outlinewidth\":0,\"ticks\":\"\"}},\"type\":\"scatter3d\"}],\"scattercarpet\":[{\"marker\":{\"colorbar\":{\"outlinewidth\":0,\"ticks\":\"\"}},\"type\":\"scattercarpet\"}],\"scattergeo\":[{\"marker\":{\"colorbar\":{\"outlinewidth\":0,\"ticks\":\"\"}},\"type\":\"scattergeo\"}],\"scattergl\":[{\"marker\":{\"colorbar\":{\"outlinewidth\":0,\"ticks\":\"\"}},\"type\":\"scattergl\"}],\"scattermapbox\":[{\"marker\":{\"colorbar\":{\"outlinewidth\":0,\"ticks\":\"\"}},\"type\":\"scattermapbox\"}],\"scatterpolar\":[{\"marker\":{\"colorbar\":{\"outlinewidth\":0,\"ticks\":\"\"}},\"type\":\"scatterpolar\"}],\"scatterpolargl\":[{\"marker\":{\"colorbar\":{\"outlinewidth\":0,\"ticks\":\"\"}},\"type\":\"scatterpolargl\"}],\"scatterternary\":[{\"marker\":{\"colorbar\":{\"outlinewidth\":0,\"ticks\":\"\"}},\"type\":\"scatterternary\"}],\"surface\":[{\"colorbar\":{\"outlinewidth\":0,\"ticks\":\"\"},\"colorscale\":[[0.0,\"#0d0887\"],[0.1111111111111111,\"#46039f\"],[0.2222222222222222,\"#7201a8\"],[0.3333333333333333,\"#9c179e\"],[0.4444444444444444,\"#bd3786\"],[0.5555555555555556,\"#d8576b\"],[0.6666666666666666,\"#ed7953\"],[0.7777777777777778,\"#fb9f3a\"],[0.8888888888888888,\"#fdca26\"],[1.0,\"#f0f921\"]],\"type\":\"surface\"}],\"table\":[{\"cells\":{\"fill\":{\"color\":\"#EBF0F8\"},\"line\":{\"color\":\"white\"}},\"header\":{\"fill\":{\"color\":\"#C8D4E3\"},\"line\":{\"color\":\"white\"}},\"type\":\"table\"}]},\"layout\":{\"annotationdefaults\":{\"arrowcolor\":\"#2a3f5f\",\"arrowhead\":0,\"arrowwidth\":1},\"autotypenumbers\":\"strict\",\"coloraxis\":{\"colorbar\":{\"outlinewidth\":0,\"ticks\":\"\"}},\"colorscale\":{\"diverging\":[[0,\"#8e0152\"],[0.1,\"#c51b7d\"],[0.2,\"#de77ae\"],[0.3,\"#f1b6da\"],[0.4,\"#fde0ef\"],[0.5,\"#f7f7f7\"],[0.6,\"#e6f5d0\"],[0.7,\"#b8e186\"],[0.8,\"#7fbc41\"],[0.9,\"#4d9221\"],[1,\"#276419\"]],\"sequential\":[[0.0,\"#0d0887\"],[0.1111111111111111,\"#46039f\"],[0.2222222222222222,\"#7201a8\"],[0.3333333333333333,\"#9c179e\"],[0.4444444444444444,\"#bd3786\"],[0.5555555555555556,\"#d8576b\"],[0.6666666666666666,\"#ed7953\"],[0.7777777777777778,\"#fb9f3a\"],[0.8888888888888888,\"#fdca26\"],[1.0,\"#f0f921\"]],\"sequentialminus\":[[0.0,\"#0d0887\"],[0.1111111111111111,\"#46039f\"],[0.2222222222222222,\"#7201a8\"],[0.3333333333333333,\"#9c179e\"],[0.4444444444444444,\"#bd3786\"],[0.5555555555555556,\"#d8576b\"],[0.6666666666666666,\"#ed7953\"],[0.7777777777777778,\"#fb9f3a\"],[0.8888888888888888,\"#fdca26\"],[1.0,\"#f0f921\"]]},\"colorway\":[\"#636efa\",\"#EF553B\",\"#00cc96\",\"#ab63fa\",\"#FFA15A\",\"#19d3f3\",\"#FF6692\",\"#B6E880\",\"#FF97FF\",\"#FECB52\"],\"font\":{\"color\":\"#2a3f5f\"},\"geo\":{\"bgcolor\":\"white\",\"lakecolor\":\"white\",\"landcolor\":\"#E5ECF6\",\"showlakes\":true,\"showland\":true,\"subunitcolor\":\"white\"},\"hoverlabel\":{\"align\":\"left\"},\"hovermode\":\"closest\",\"mapbox\":{\"style\":\"light\"},\"paper_bgcolor\":\"white\",\"plot_bgcolor\":\"#E5ECF6\",\"polar\":{\"angularaxis\":{\"gridcolor\":\"white\",\"linecolor\":\"white\",\"ticks\":\"\"},\"bgcolor\":\"#E5ECF6\",\"radialaxis\":{\"gridcolor\":\"white\",\"linecolor\":\"white\",\"ticks\":\"\"}},\"scene\":{\"xaxis\":{\"backgroundcolor\":\"#E5ECF6\",\"gridcolor\":\"white\",\"gridwidth\":2,\"linecolor\":\"white\",\"showbackground\":true,\"ticks\":\"\",\"zerolinecolor\":\"white\"},\"yaxis\":{\"backgroundcolor\":\"#E5ECF6\",\"gridcolor\":\"white\",\"gridwidth\":2,\"linecolor\":\"white\",\"showbackground\":true,\"ticks\":\"\",\"zerolinecolor\":\"white\"},\"zaxis\":{\"backgroundcolor\":\"#E5ECF6\",\"gridcolor\":\"white\",\"gridwidth\":2,\"linecolor\":\"white\",\"showbackground\":true,\"ticks\":\"\",\"zerolinecolor\":\"white\"}},\"shapedefaults\":{\"line\":{\"color\":\"#2a3f5f\"}},\"ternary\":{\"aaxis\":{\"gridcolor\":\"white\",\"linecolor\":\"white\",\"ticks\":\"\"},\"baxis\":{\"gridcolor\":\"white\",\"linecolor\":\"white\",\"ticks\":\"\"},\"bgcolor\":\"#E5ECF6\",\"caxis\":{\"gridcolor\":\"white\",\"linecolor\":\"white\",\"ticks\":\"\"}},\"title\":{\"x\":0.05},\"xaxis\":{\"automargin\":true,\"gridcolor\":\"white\",\"linecolor\":\"white\",\"ticks\":\"\",\"title\":{\"standoff\":15},\"zerolinecolor\":\"white\",\"zerolinewidth\":2},\"yaxis\":{\"automargin\":true,\"gridcolor\":\"white\",\"linecolor\":\"white\",\"ticks\":\"\",\"title\":{\"standoff\":15},\"zerolinecolor\":\"white\",\"zerolinewidth\":2}}}},                        {\"responsive\": true}                    ).then(function(){\n",
       "                            \n",
       "var gd = document.getElementById('c5d90793-b916-44d5-957a-000152b84d5c');\n",
       "var x = new MutationObserver(function (mutations, observer) {{\n",
       "        var display = window.getComputedStyle(gd).display;\n",
       "        if (!display || display === 'none') {{\n",
       "            console.log([gd, 'removed!']);\n",
       "            Plotly.purge(gd);\n",
       "            observer.disconnect();\n",
       "        }}\n",
       "}});\n",
       "\n",
       "// Listen for the removal of the full notebook cells\n",
       "var notebookContainer = gd.closest('#notebook-container');\n",
       "if (notebookContainer) {{\n",
       "    x.observe(notebookContainer, {childList: true});\n",
       "}}\n",
       "\n",
       "// Listen for the clearing of the current output cell\n",
       "var outputEl = gd.closest('.output');\n",
       "if (outputEl) {{\n",
       "    x.observe(outputEl, {childList: true});\n",
       "}}\n",
       "\n",
       "                        })                };                });            </script>        </div>"
      ]
     },
     "metadata": {},
     "output_type": "display_data"
    }
   ],
   "source": [
    "\n",
    "\n",
    "coor_mapbox = px.scatter_mapbox(coordinates, lat='latitude', lon='longitude', color='Team')\n",
    "coor_mapbox.show()"
   ]
  },
  {
   "cell_type": "code",
   "execution_count": 85,
   "id": "8d43d8ec",
   "metadata": {},
   "outputs": [
    {
     "data": {
      "text/html": [
       "<div>\n",
       "<style scoped>\n",
       "    .dataframe tbody tr th:only-of-type {\n",
       "        vertical-align: middle;\n",
       "    }\n",
       "\n",
       "    .dataframe tbody tr th {\n",
       "        vertical-align: top;\n",
       "    }\n",
       "\n",
       "    .dataframe thead th {\n",
       "        text-align: right;\n",
       "    }\n",
       "</style>\n",
       "<table border=\"1\" class=\"dataframe\">\n",
       "  <thead>\n",
       "    <tr style=\"text-align: right;\">\n",
       "      <th></th>\n",
       "      <th>FantasyPoints</th>\n",
       "    </tr>\n",
       "    <tr>\n",
       "      <th>Tm</th>\n",
       "      <th></th>\n",
       "    </tr>\n",
       "  </thead>\n",
       "  <tbody>\n",
       "    <tr>\n",
       "      <th>2TM</th>\n",
       "      <td>38.049485</td>\n",
       "    </tr>\n",
       "    <tr>\n",
       "      <th>3TM</th>\n",
       "      <td>33.536923</td>\n",
       "    </tr>\n",
       "    <tr>\n",
       "      <th>4TM</th>\n",
       "      <td>-0.300000</td>\n",
       "    </tr>\n",
       "    <tr>\n",
       "      <th>ARI</th>\n",
       "      <td>69.984678</td>\n",
       "    </tr>\n",
       "    <tr>\n",
       "      <th>ATL</th>\n",
       "      <td>95.828987</td>\n",
       "    </tr>\n",
       "    <tr>\n",
       "      <th>BAL</th>\n",
       "      <td>85.043205</td>\n",
       "    </tr>\n",
       "    <tr>\n",
       "      <th>BUF</th>\n",
       "      <td>69.668639</td>\n",
       "    </tr>\n",
       "    <tr>\n",
       "      <th>CAR</th>\n",
       "      <td>84.756579</td>\n",
       "    </tr>\n",
       "    <tr>\n",
       "      <th>CHI</th>\n",
       "      <td>79.797692</td>\n",
       "    </tr>\n",
       "    <tr>\n",
       "      <th>CIN</th>\n",
       "      <td>84.897419</td>\n",
       "    </tr>\n",
       "    <tr>\n",
       "      <th>CLE</th>\n",
       "      <td>69.086235</td>\n",
       "    </tr>\n",
       "    <tr>\n",
       "      <th>DAL</th>\n",
       "      <td>92.085490</td>\n",
       "    </tr>\n",
       "    <tr>\n",
       "      <th>DEN</th>\n",
       "      <td>88.430260</td>\n",
       "    </tr>\n",
       "    <tr>\n",
       "      <th>DET</th>\n",
       "      <td>90.250886</td>\n",
       "    </tr>\n",
       "    <tr>\n",
       "      <th>GNB</th>\n",
       "      <td>89.216190</td>\n",
       "    </tr>\n",
       "    <tr>\n",
       "      <th>HOU</th>\n",
       "      <td>83.260252</td>\n",
       "    </tr>\n",
       "    <tr>\n",
       "      <th>IND</th>\n",
       "      <td>82.492771</td>\n",
       "    </tr>\n",
       "    <tr>\n",
       "      <th>JAX</th>\n",
       "      <td>65.279451</td>\n",
       "    </tr>\n",
       "    <tr>\n",
       "      <th>KAN</th>\n",
       "      <td>80.685333</td>\n",
       "    </tr>\n",
       "    <tr>\n",
       "      <th>LAC</th>\n",
       "      <td>95.915217</td>\n",
       "    </tr>\n",
       "    <tr>\n",
       "      <th>LAR</th>\n",
       "      <td>91.185246</td>\n",
       "    </tr>\n",
       "    <tr>\n",
       "      <th>MIA</th>\n",
       "      <td>84.415918</td>\n",
       "    </tr>\n",
       "    <tr>\n",
       "      <th>MIN</th>\n",
       "      <td>81.022532</td>\n",
       "    </tr>\n",
       "    <tr>\n",
       "      <th>NOR</th>\n",
       "      <td>101.840723</td>\n",
       "    </tr>\n",
       "    <tr>\n",
       "      <th>NWE</th>\n",
       "      <td>96.972785</td>\n",
       "    </tr>\n",
       "    <tr>\n",
       "      <th>NYG</th>\n",
       "      <td>81.530760</td>\n",
       "    </tr>\n",
       "    <tr>\n",
       "      <th>NYJ</th>\n",
       "      <td>68.038235</td>\n",
       "    </tr>\n",
       "    <tr>\n",
       "      <th>OAK</th>\n",
       "      <td>77.532381</td>\n",
       "    </tr>\n",
       "    <tr>\n",
       "      <th>PHI</th>\n",
       "      <td>93.158052</td>\n",
       "    </tr>\n",
       "    <tr>\n",
       "      <th>PIT</th>\n",
       "      <td>84.760355</td>\n",
       "    </tr>\n",
       "    <tr>\n",
       "      <th>SDG</th>\n",
       "      <td>90.659107</td>\n",
       "    </tr>\n",
       "    <tr>\n",
       "      <th>SEA</th>\n",
       "      <td>78.347108</td>\n",
       "    </tr>\n",
       "    <tr>\n",
       "      <th>SFO</th>\n",
       "      <td>75.776522</td>\n",
       "    </tr>\n",
       "    <tr>\n",
       "      <th>STL</th>\n",
       "      <td>71.750538</td>\n",
       "    </tr>\n",
       "    <tr>\n",
       "      <th>TAM</th>\n",
       "      <td>78.498935</td>\n",
       "    </tr>\n",
       "    <tr>\n",
       "      <th>TEN</th>\n",
       "      <td>75.536848</td>\n",
       "    </tr>\n",
       "    <tr>\n",
       "      <th>WAS</th>\n",
       "      <td>77.002222</td>\n",
       "    </tr>\n",
       "  </tbody>\n",
       "</table>\n",
       "</div>"
      ],
      "text/plain": [
       "     FantasyPoints\n",
       "Tm                \n",
       "2TM      38.049485\n",
       "3TM      33.536923\n",
       "4TM      -0.300000\n",
       "ARI      69.984678\n",
       "ATL      95.828987\n",
       "BAL      85.043205\n",
       "BUF      69.668639\n",
       "CAR      84.756579\n",
       "CHI      79.797692\n",
       "CIN      84.897419\n",
       "CLE      69.086235\n",
       "DAL      92.085490\n",
       "DEN      88.430260\n",
       "DET      90.250886\n",
       "GNB      89.216190\n",
       "HOU      83.260252\n",
       "IND      82.492771\n",
       "JAX      65.279451\n",
       "KAN      80.685333\n",
       "LAC      95.915217\n",
       "LAR      91.185246\n",
       "MIA      84.415918\n",
       "MIN      81.022532\n",
       "NOR     101.840723\n",
       "NWE      96.972785\n",
       "NYG      81.530760\n",
       "NYJ      68.038235\n",
       "OAK      77.532381\n",
       "PHI      93.158052\n",
       "PIT      84.760355\n",
       "SDG      90.659107\n",
       "SEA      78.347108\n",
       "SFO      75.776522\n",
       "STL      71.750538\n",
       "TAM      78.498935\n",
       "TEN      75.536848\n",
       "WAS      77.002222"
      ]
     },
     "execution_count": 85,
     "metadata": {},
     "output_type": "execute_result"
    }
   ],
   "source": [
    "full_data.rename(columns={'Tm':'Team'})\n",
    "mean = full_data.reset_index().groupby(['Tm']).mean()\n",
    "\n",
    "#coordinates.merge(full_data, how='inner', left_index=True, right_index=True)\n",
    "#coordinates.head()\n",
    "\n",
    "mean"
   ]
  },
  {
   "cell_type": "code",
   "execution_count": null,
   "id": "1ecdff8d",
   "metadata": {},
   "outputs": [],
   "source": [
    "coordinates.merge(full_data, how='inner', left_index=True, right_index=True)\n",
    "coordinates.head()"
   ]
  },
  {
   "cell_type": "code",
   "execution_count": null,
   "id": "67bf13be",
   "metadata": {},
   "outputs": [],
   "source": []
  }
 ],
 "metadata": {
  "kernelspec": {
   "display_name": "Python [conda env:pyvizenv] *",
   "language": "python",
   "name": "conda-env-pyvizenv-py"
  },
  "language_info": {
   "codemirror_mode": {
    "name": "ipython",
    "version": 3
   },
   "file_extension": ".py",
   "mimetype": "text/x-python",
   "name": "python",
   "nbconvert_exporter": "python",
   "pygments_lexer": "ipython3",
   "version": "3.7.10"
  }
 },
 "nbformat": 4,
 "nbformat_minor": 5
}
