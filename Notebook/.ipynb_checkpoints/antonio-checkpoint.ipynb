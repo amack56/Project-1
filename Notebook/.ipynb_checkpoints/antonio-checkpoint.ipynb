{
 "cells": [
  {
   "cell_type": "code",
   "execution_count": 88,
   "id": "e96503a3",
   "metadata": {},
   "outputs": [
    {
     "data": {},
     "metadata": {},
     "output_type": "display_data"
    },
    {
     "data": {
      "application/vnd.holoviews_exec.v0+json": "",
      "text/html": [
       "<div id='8732'>\n",
       "\n",
       "\n",
       "\n",
       "\n",
       "\n",
       "  <div class=\"bk-root\" id=\"6cfcff74-2b3d-4279-b90c-47464539734e\" data-root-id=\"8732\"></div>\n",
       "</div>\n",
       "<script type=\"application/javascript\">(function(root) {\n",
       "  function embed_document(root) {\n",
       "    var docs_json = {\"f956d265-875f-4fac-bfbe-28bcce8c21e3\":{\"defs\":[{\"extends\":null,\"module\":null,\"name\":\"ReactiveHTML1\",\"overrides\":[],\"properties\":[]},{\"extends\":null,\"module\":null,\"name\":\"FlexBox1\",\"overrides\":[],\"properties\":[{\"default\":\"flex-start\",\"kind\":null,\"name\":\"align_content\"},{\"default\":\"flex-start\",\"kind\":null,\"name\":\"align_items\"},{\"default\":\"row\",\"kind\":null,\"name\":\"flex_direction\"},{\"default\":\"wrap\",\"kind\":null,\"name\":\"flex_wrap\"},{\"default\":\"flex-start\",\"kind\":null,\"name\":\"justify_content\"}]},{\"extends\":null,\"module\":null,\"name\":\"TemplateActions1\",\"overrides\":[],\"properties\":[{\"default\":0,\"kind\":null,\"name\":\"open_modal\"},{\"default\":0,\"kind\":null,\"name\":\"close_modal\"}]},{\"extends\":null,\"module\":null,\"name\":\"MaterialTemplateActions1\",\"overrides\":[],\"properties\":[{\"default\":0,\"kind\":null,\"name\":\"open_modal\"},{\"default\":0,\"kind\":null,\"name\":\"close_modal\"}]}],\"roots\":{\"references\":[{\"attributes\":{},\"id\":\"8744\",\"type\":\"LinearScale\"},{\"attributes\":{\"callback\":null,\"renderers\":[{\"id\":\"8773\"}],\"tags\":[\"hv_created\"],\"tooltips\":[[\"Player\",\"@{Player}\"],[\"Tm\",\"@{Tm}\"],[\"FantasyPoints\",\"@{FantasyPoints}\"]]},\"id\":\"8736\",\"type\":\"HoverTool\"},{\"attributes\":{},\"id\":\"8779\",\"type\":\"BasicTickFormatter\"},{\"attributes\":{\"children\":[{\"id\":\"8733\"},{\"id\":\"8737\"},{\"id\":\"8808\"},{\"id\":\"8809\"}],\"margin\":[0,0,0,0],\"name\":\"Row39233\"},\"id\":\"8732\",\"type\":\"Row\"},{\"attributes\":{},\"id\":\"8781\",\"type\":\"AllLabels\"},{\"attributes\":{},\"id\":\"8795\",\"type\":\"UnionRenderers\"},{\"attributes\":{\"below\":[{\"id\":\"8746\"}],\"center\":[{\"id\":\"8748\"},{\"id\":\"8752\"}],\"height\":300,\"left\":[{\"id\":\"8749\"}],\"margin\":[5,5,5,5],\"min_border_bottom\":10,\"min_border_left\":10,\"min_border_right\":10,\"min_border_top\":10,\"renderers\":[{\"id\":\"8773\"}],\"sizing_mode\":\"fixed\",\"title\":{\"id\":\"8738\"},\"toolbar\":{\"id\":\"8759\"},\"width\":800,\"x_range\":{\"id\":\"8734\"},\"x_scale\":{\"id\":\"8742\"},\"y_range\":{\"id\":\"8735\"},\"y_scale\":{\"id\":\"8744\"}},\"id\":\"8737\",\"subtype\":\"Figure\",\"type\":\"Plot\"},{\"attributes\":{\"axis_label\":\"Player, Tm\",\"formatter\":{\"id\":\"8777\"},\"major_label_orientation\":1.5707963267948966,\"major_label_policy\":{\"id\":\"8776\"},\"ticker\":{\"id\":\"8747\"}},\"id\":\"8746\",\"type\":\"CategoricalAxis\"},{\"attributes\":{},\"id\":\"8777\",\"type\":\"CategoricalTickFormatter\"},{\"attributes\":{\"margin\":[5,5,5,5],\"name\":\"VSpacer39239\",\"sizing_mode\":\"stretch_height\"},\"id\":\"8810\",\"type\":\"Spacer\"},{\"attributes\":{\"fill_alpha\":{\"value\":0.1},\"fill_color\":{\"field\":\"Tm\",\"transform\":{\"id\":\"8766\"}},\"line_alpha\":{\"value\":0.1},\"top\":{\"field\":\"FantasyPoints\"},\"width\":{\"value\":0.8},\"x\":{\"field\":\"xoffsets\"}},\"id\":\"8771\",\"type\":\"VBar\"},{\"attributes\":{},\"id\":\"8742\",\"type\":\"CategoricalScale\"},{\"attributes\":{\"client_comm_id\":\"ed76c27c042f4a17b1785f430b276380\",\"comm_id\":\"5bcd0c57e33e4a73a438d247be1f2d52\",\"plot_id\":\"8732\"},\"id\":\"8844\",\"type\":\"panel.models.comm_manager.CommManager\"},{\"attributes\":{\"end\":397.51,\"reset_end\":397.51,\"reset_start\":-39.41,\"start\":-39.41,\"tags\":[[[\"FantasyPoints\",\"FantasyPoints\",null]]]},\"id\":\"8735\",\"type\":\"Range1d\"},{\"attributes\":{\"source\":{\"id\":\"8767\"}},\"id\":\"8774\",\"type\":\"CDSView\"},{\"attributes\":{\"bottom\":{\"value\":0},\"fill_alpha\":{\"value\":1.0},\"fill_color\":{\"field\":\"Tm\",\"transform\":{\"id\":\"8766\"}},\"hatch_alpha\":{\"value\":1.0},\"hatch_color\":{\"value\":\"black\"},\"hatch_scale\":{\"value\":12.0},\"hatch_weight\":{\"value\":1.0},\"line_alpha\":{\"value\":1.0},\"line_cap\":{\"value\":\"butt\"},\"line_color\":{\"value\":\"black\"},\"line_dash\":{\"value\":[]},\"line_dash_offset\":{\"value\":0},\"line_join\":{\"value\":\"bevel\"},\"line_width\":{\"value\":1},\"top\":{\"field\":\"FantasyPoints\"},\"width\":{\"value\":0.8},\"x\":{\"field\":\"xoffsets\"}},\"id\":\"8775\",\"type\":\"VBar\"},{\"attributes\":{\"margin\":[5,5,5,5],\"name\":\"HSpacer39242\",\"sizing_mode\":\"stretch_width\"},\"id\":\"8733\",\"type\":\"Spacer\"},{\"attributes\":{},\"id\":\"8753\",\"type\":\"SaveTool\"},{\"attributes\":{\"data\":{\"FantasyPoints\":{\"__ndarray__\":\"mZmZmZmRdkApXI/C9SBxQGZmZmZmbmpAAAAAAAA4aEAzMzMzM29nQJmZmZmZeWNALdiCLdhyY0DMzMzMzMRfQP//////515AZ2ZmZmaeXkAzMzMzM3NcQK5H4XoUbltAMzMzMzNjW0AAAAAAAIBaQAAAAAAAIFpAcD0K16OAWUBSuB6F63FYQGdmZmZmZlNA16NwPQo3U0AAAAAAABBTQJmZmZmZOVBAMzMzMzMzUECamZmZmTlNQJqZmZmZGU1Aw/UoXI8CTUAAAAAAAABIQM3MzMzMjEZAZmZmZmY2RkDNzMzMzIxFQJqZmZmZSURApHA9CtdjQEDNzMzMzEw9QJqZmZmZGTpAzMzMzMxsOEDNzMzMzMwzQAAAAAAAYDNAmpmZmZmZMkAAAAAAAIAyQM3MzMzMzC9AZmZmZmZmLUDNzMzMzMwrQM3MzMzMzCtAZ2ZmZmZmKUAzMzMzM7MoQO/u7u7u7iZAMzMzMzMzJUAzMzMzMzMiQM3MzMzMzCBArkfhehSuG0BVVVVVVVUZQP1iyS+W/BhAAAAAAAAAGECamZmZmZkXQAAAAAAAABRAMzMzMzMzEkA0MzMzMzMLQJqZmZmZmQlAAAAAAAAAAEAUrkfhehT+P5qZmZmZmfk/ZmZmZmZm9j8chetRuB71P0RERERERPQ/zczMzMzM7D8AAAAAAADgP5qZmZmZmcm/AAAAAAAAAMAAAAAAAAAAwAAAAAAAAAjA\",\"dtype\":\"float64\",\"order\":\"little\",\"shape\":[69]},\"Player\":[\"Christian McCaffrey\",\"Cam Newton\",\"Kelvin Benjamin\",\"D.J. Moore\",\"Steve Smith\",\"Ted Ginn\",\"Greg Olsen\",\"Devin Funchess\",\"Brandon LaFell\",\"Jonathan Stewart\",\"Curtis Samuel\",\"DeAngelo Williams\",\"Jerricho Cotchery\",\"David Gettis\",\"Jeremy Shockey\",\"Kyle Allen\",\"Legedu Naanee\",\"Corey Brown\",\"Mike Tolbert\",\"Jarius Wright\",\"Louis Murphy\",\"Mike Goodson\",\"Ian Thomas\",\"Dante Rosario\",\"Jimmy Clausen\",\"Torrey Smith\",\"Russell Shepard\",\"Ed Dickson\",\"Jeff King\",\"Fozzy Whittaker\",\"Matt Moore\",\"Reggie Bonnafon\",\"Tyrell Sutton\",\"Cameron Artis-Payne\",\"Gary Barnidge\",\"Brenton Bersin\",\"Brandon Zylstra\",\"Domenik Hixon\",\"Darrin Reaves\",\"Chris Hogan\",\"Taylor Heinicke\",\"Kealoha Pilares\",\"Damiere Byrd\",\"Alex Armah\",\"Derek Anderson\",\"Tony Fiammetta\",\"DeAndrew White\",\"Brandon Williams\",\"Brian St. Pierre\",\"Chris Manhertz\",\"Armanti Edwards\",\"Dwayne Jarrett\",\"Richie Brockel\",\"Ben Hartsock\",\"Josh Vaughan\",\"Kenjon Barner\",\"Travaris Cadet\",\"Scott Simonson\",\"Tony Pike\",\"Garrett Gilbert\",\"Seyi Ajirotutu\",\"Will Grier\",\"Joe Webb\",\"Jordan Scarlett\",\"Armond Smith\",\"De'Andre Presley\",\"Greg Dortch\",\"Ray-Ray McCloud\",\"Joe Adams\"],\"Tm\":[\"CAR\",\"CAR\",\"CAR\",\"CAR\",\"CAR\",\"CAR\",\"CAR\",\"CAR\",\"CAR\",\"CAR\",\"CAR\",\"CAR\",\"CAR\",\"CAR\",\"CAR\",\"CAR\",\"CAR\",\"CAR\",\"CAR\",\"CAR\",\"CAR\",\"CAR\",\"CAR\",\"CAR\",\"CAR\",\"CAR\",\"CAR\",\"CAR\",\"CAR\",\"CAR\",\"CAR\",\"CAR\",\"CAR\",\"CAR\",\"CAR\",\"CAR\",\"CAR\",\"CAR\",\"CAR\",\"CAR\",\"CAR\",\"CAR\",\"CAR\",\"CAR\",\"CAR\",\"CAR\",\"CAR\",\"CAR\",\"CAR\",\"CAR\",\"CAR\",\"CAR\",\"CAR\",\"CAR\",\"CAR\",\"CAR\",\"CAR\",\"CAR\",\"CAR\",\"CAR\",\"CAR\",\"CAR\",\"CAR\",\"CAR\",\"CAR\",\"CAR\",\"CAR\",\"CAR\",\"CAR\"],\"xoffsets\":[[\"Christian McCaffrey\",\"CAR\"],[\"Cam Newton\",\"CAR\"],[\"Kelvin Benjamin\",\"CAR\"],[\"D.J. Moore\",\"CAR\"],[\"Steve Smith\",\"CAR\"],[\"Ted Ginn\",\"CAR\"],[\"Greg Olsen\",\"CAR\"],[\"Devin Funchess\",\"CAR\"],[\"Brandon LaFell\",\"CAR\"],[\"Jonathan Stewart\",\"CAR\"],[\"Curtis Samuel\",\"CAR\"],[\"DeAngelo Williams\",\"CAR\"],[\"Jerricho Cotchery\",\"CAR\"],[\"David Gettis\",\"CAR\"],[\"Jeremy Shockey\",\"CAR\"],[\"Kyle Allen\",\"CAR\"],[\"Legedu Naanee\",\"CAR\"],[\"Corey Brown\",\"CAR\"],[\"Mike Tolbert\",\"CAR\"],[\"Jarius Wright\",\"CAR\"],[\"Louis Murphy\",\"CAR\"],[\"Mike Goodson\",\"CAR\"],[\"Ian Thomas\",\"CAR\"],[\"Dante Rosario\",\"CAR\"],[\"Jimmy Clausen\",\"CAR\"],[\"Torrey Smith\",\"CAR\"],[\"Russell Shepard\",\"CAR\"],[\"Ed Dickson\",\"CAR\"],[\"Jeff King\",\"CAR\"],[\"Fozzy Whittaker\",\"CAR\"],[\"Matt Moore\",\"CAR\"],[\"Reggie Bonnafon\",\"CAR\"],[\"Tyrell Sutton\",\"CAR\"],[\"Cameron Artis-Payne\",\"CAR\"],[\"Gary Barnidge\",\"CAR\"],[\"Brenton Bersin\",\"CAR\"],[\"Brandon Zylstra\",\"CAR\"],[\"Domenik Hixon\",\"CAR\"],[\"Darrin Reaves\",\"CAR\"],[\"Chris Hogan\",\"CAR\"],[\"Taylor Heinicke\",\"CAR\"],[\"Kealoha Pilares\",\"CAR\"],[\"Damiere Byrd\",\"CAR\"],[\"Alex Armah\",\"CAR\"],[\"Derek Anderson\",\"CAR\"],[\"Tony Fiammetta\",\"CAR\"],[\"DeAndrew White\",\"CAR\"],[\"Brandon Williams\",\"CAR\"],[\"Brian St. Pierre\",\"CAR\"],[\"Chris Manhertz\",\"CAR\"],[\"Armanti Edwards\",\"CAR\"],[\"Dwayne Jarrett\",\"CAR\"],[\"Richie Brockel\",\"CAR\"],[\"Ben Hartsock\",\"CAR\"],[\"Josh Vaughan\",\"CAR\"],[\"Kenjon Barner\",\"CAR\"],[\"Travaris Cadet\",\"CAR\"],[\"Scott Simonson\",\"CAR\"],[\"Tony Pike\",\"CAR\"],[\"Garrett Gilbert\",\"CAR\"],[\"Seyi Ajirotutu\",\"CAR\"],[\"Will Grier\",\"CAR\"],[\"Joe Webb\",\"CAR\"],[\"Jordan Scarlett\",\"CAR\"],[\"Armond Smith\",\"CAR\"],[\"De'Andre Presley\",\"CAR\"],[\"Greg Dortch\",\"CAR\"],[\"Ray-Ray McCloud\",\"CAR\"],[\"Joe Adams\",\"CAR\"]]},\"selected\":{\"id\":\"8768\"},\"selection_policy\":{\"id\":\"8795\"}},\"id\":\"8767\",\"type\":\"ColumnDataSource\"},{\"attributes\":{},\"id\":\"8754\",\"type\":\"PanTool\"},{\"attributes\":{\"axis_label\":\"FantasyPoints\",\"formatter\":{\"id\":\"8779\"},\"major_label_policy\":{\"id\":\"8781\"},\"ticker\":{\"id\":\"8750\"}},\"id\":\"8749\",\"type\":\"LinearAxis\"},{\"attributes\":{\"fill_color\":{\"field\":\"Tm\",\"transform\":{\"id\":\"8766\"}},\"top\":{\"field\":\"FantasyPoints\"},\"width\":{\"value\":0.8},\"x\":{\"field\":\"xoffsets\"}},\"id\":\"8770\",\"type\":\"VBar\"},{\"attributes\":{},\"id\":\"8768\",\"type\":\"Selection\"},{\"attributes\":{\"axis\":{\"id\":\"8749\"},\"dimension\":1,\"grid_line_color\":null,\"ticker\":null},\"id\":\"8752\",\"type\":\"Grid\"},{\"attributes\":{},\"id\":\"8755\",\"type\":\"WheelZoomTool\"},{\"attributes\":{\"bottom_units\":\"screen\",\"fill_alpha\":0.5,\"fill_color\":\"lightgrey\",\"left_units\":\"screen\",\"level\":\"overlay\",\"line_alpha\":1.0,\"line_color\":\"black\",\"line_dash\":[4,4],\"line_width\":2,\"right_units\":\"screen\",\"syncable\":false,\"top_units\":\"screen\"},\"id\":\"8758\",\"type\":\"BoxAnnotation\"},{\"attributes\":{\"children\":[{\"id\":\"8810\"},{\"id\":\"8811\"},{\"id\":\"8813\"}],\"margin\":[0,0,0,0],\"name\":\"Column39241\"},\"id\":\"8809\",\"type\":\"Column\"},{\"attributes\":{\"active_multi\":null,\"tools\":[{\"id\":\"8736\"},{\"id\":\"8753\"},{\"id\":\"8754\"},{\"id\":\"8755\"},{\"id\":\"8756\"},{\"id\":\"8757\"}]},\"id\":\"8759\",\"type\":\"Toolbar\"},{\"attributes\":{\"margin\":[20,20,20,20],\"min_width\":250,\"options\":[\"CAR\",\"NYG\",\"NOR\",\"SEA\",\"NWE\",\"GNB\",\"DET\",\"DAL\",\"LAR\",\"BAL\",\"DEN\",\"IND\",\"ARI\",\"ATL\",\"HOU\",\"CHI\",\"PIT\",\"PHI\",\"LAC\",\"KAN\",\"SDG\",\"MIN\",\"CLE\",\"BUF\",\"NYJ\",\"TAM\",\"MIA\",\"TEN\",\"CIN\",\"JAX\",\"OAK\",\"STL\",\"SFO\",\"WAS\"],\"title\":\"Tm\",\"value\":\"CAR\",\"width\":250},\"id\":\"8812\",\"type\":\"Select\"},{\"attributes\":{\"margin\":[5,5,5,5],\"name\":\"VSpacer39240\",\"sizing_mode\":\"stretch_height\"},\"id\":\"8813\",\"type\":\"Spacer\"},{\"attributes\":{\"overlay\":{\"id\":\"8758\"}},\"id\":\"8756\",\"type\":\"BoxZoomTool\"},{\"attributes\":{},\"id\":\"8750\",\"type\":\"BasicTicker\"},{\"attributes\":{\"fill_alpha\":{\"value\":0.2},\"fill_color\":{\"field\":\"Tm\",\"transform\":{\"id\":\"8766\"}},\"line_alpha\":{\"value\":0.2},\"top\":{\"field\":\"FantasyPoints\"},\"width\":{\"value\":0.8},\"x\":{\"field\":\"xoffsets\"}},\"id\":\"8772\",\"type\":\"VBar\"},{\"attributes\":{},\"id\":\"8747\",\"type\":\"CategoricalTicker\"},{\"attributes\":{},\"id\":\"8757\",\"type\":\"ResetTool\"},{\"attributes\":{\"factors\":[\"CAR\"],\"palette\":[\"#30a2da\"]},\"id\":\"8766\",\"type\":\"CategoricalColorMapper\"},{\"attributes\":{\"data_source\":{\"id\":\"8767\"},\"glyph\":{\"id\":\"8770\"},\"hover_glyph\":null,\"muted_glyph\":{\"id\":\"8772\"},\"nonselection_glyph\":{\"id\":\"8771\"},\"selection_glyph\":{\"id\":\"8775\"},\"view\":{\"id\":\"8774\"}},\"id\":\"8773\",\"type\":\"GlyphRenderer\"},{\"attributes\":{\"factors\":[[\"Christian McCaffrey\",\"CAR\"],[\"Cam Newton\",\"CAR\"],[\"Kelvin Benjamin\",\"CAR\"],[\"D.J. Moore\",\"CAR\"],[\"Steve Smith\",\"CAR\"],[\"Ted Ginn\",\"CAR\"],[\"Greg Olsen\",\"CAR\"],[\"Devin Funchess\",\"CAR\"],[\"Brandon LaFell\",\"CAR\"],[\"Jonathan Stewart\",\"CAR\"],[\"Curtis Samuel\",\"CAR\"],[\"DeAngelo Williams\",\"CAR\"],[\"Jerricho Cotchery\",\"CAR\"],[\"David Gettis\",\"CAR\"],[\"Jeremy Shockey\",\"CAR\"],[\"Kyle Allen\",\"CAR\"],[\"Legedu Naanee\",\"CAR\"],[\"Corey Brown\",\"CAR\"],[\"Mike Tolbert\",\"CAR\"],[\"Jarius Wright\",\"CAR\"],[\"Louis Murphy\",\"CAR\"],[\"Mike Goodson\",\"CAR\"],[\"Ian Thomas\",\"CAR\"],[\"Dante Rosario\",\"CAR\"],[\"Jimmy Clausen\",\"CAR\"],[\"Torrey Smith\",\"CAR\"],[\"Russell Shepard\",\"CAR\"],[\"Ed Dickson\",\"CAR\"],[\"Jeff King\",\"CAR\"],[\"Fozzy Whittaker\",\"CAR\"],[\"Matt Moore\",\"CAR\"],[\"Reggie Bonnafon\",\"CAR\"],[\"Tyrell Sutton\",\"CAR\"],[\"Cameron Artis-Payne\",\"CAR\"],[\"Gary Barnidge\",\"CAR\"],[\"Brenton Bersin\",\"CAR\"],[\"Brandon Zylstra\",\"CAR\"],[\"Domenik Hixon\",\"CAR\"],[\"Darrin Reaves\",\"CAR\"],[\"Chris Hogan\",\"CAR\"],[\"Taylor Heinicke\",\"CAR\"],[\"Kealoha Pilares\",\"CAR\"],[\"Damiere Byrd\",\"CAR\"],[\"Alex Armah\",\"CAR\"],[\"Derek Anderson\",\"CAR\"],[\"Tony Fiammetta\",\"CAR\"],[\"DeAndrew White\",\"CAR\"],[\"Brandon Williams\",\"CAR\"],[\"Brian St. Pierre\",\"CAR\"],[\"Chris Manhertz\",\"CAR\"],[\"Armanti Edwards\",\"CAR\"],[\"Dwayne Jarrett\",\"CAR\"],[\"Richie Brockel\",\"CAR\"],[\"Ben Hartsock\",\"CAR\"],[\"Josh Vaughan\",\"CAR\"],[\"Kenjon Barner\",\"CAR\"],[\"Travaris Cadet\",\"CAR\"],[\"Scott Simonson\",\"CAR\"],[\"Tony Pike\",\"CAR\"],[\"Garrett Gilbert\",\"CAR\"],[\"Seyi Ajirotutu\",\"CAR\"],[\"Will Grier\",\"CAR\"],[\"Joe Webb\",\"CAR\"],[\"Jordan Scarlett\",\"CAR\"],[\"Armond Smith\",\"CAR\"],[\"De'Andre Presley\",\"CAR\"],[\"Greg Dortch\",\"CAR\"],[\"Ray-Ray McCloud\",\"CAR\"],[\"Joe Adams\",\"CAR\"]],\"tags\":[[[\"Player\",\"Player\",null],[\"Tm\",\"Tm\",null]]]},\"id\":\"8734\",\"type\":\"FactorRange\"},{\"attributes\":{\"axis\":{\"id\":\"8746\"},\"grid_line_color\":null,\"ticker\":null},\"id\":\"8748\",\"type\":\"Grid\"},{\"attributes\":{\"text\":\"Tm: CAR\",\"text_color\":\"black\",\"text_font_size\":\"12pt\"},\"id\":\"8738\",\"type\":\"Title\"},{\"attributes\":{},\"id\":\"8776\",\"type\":\"AllLabels\"},{\"attributes\":{\"margin\":[5,5,5,5],\"name\":\"HSpacer39243\",\"sizing_mode\":\"stretch_width\"},\"id\":\"8808\",\"type\":\"Spacer\"},{\"attributes\":{\"children\":[{\"id\":\"8812\"}],\"css_classes\":[\"panel-widget-box\"],\"margin\":[5,5,5,5],\"name\":\"WidgetBox39234\"},\"id\":\"8811\",\"type\":\"Column\"}],\"root_ids\":[\"8732\",\"8844\"]},\"title\":\"Bokeh Application\",\"version\":\"2.3.2\"}};\n",
       "    var render_items = [{\"docid\":\"f956d265-875f-4fac-bfbe-28bcce8c21e3\",\"root_ids\":[\"8732\"],\"roots\":{\"8732\":\"6cfcff74-2b3d-4279-b90c-47464539734e\"}}];\n",
       "    root.Bokeh.embed.embed_items_notebook(docs_json, render_items);\n",
       "  }\n",
       "  if (root.Bokeh !== undefined && root.Bokeh.Panel !== undefined && ( root['Plotly'] !== undefined)) {\n",
       "    embed_document(root);\n",
       "  } else {\n",
       "    var attempts = 0;\n",
       "    var timer = setInterval(function(root) {\n",
       "      if (root.Bokeh !== undefined && root.Bokeh.Panel !== undefined && (root['Plotly'] !== undefined)) {\n",
       "        clearInterval(timer);\n",
       "        embed_document(root);\n",
       "      } else if (document.readyState == \"complete\") {\n",
       "        attempts++;\n",
       "        if (attempts > 200) {\n",
       "          clearInterval(timer);\n",
       "          console.log(\"Bokeh: ERROR: Unable to run BokehJS code because BokehJS library is missing\");\n",
       "        }\n",
       "      }\n",
       "    }, 25, root)\n",
       "  }\n",
       "})(window);</script>"
      ],
      "text/plain": [
       ":DynamicMap   [Tm]\n",
       "   :Bars   [Player,Tm]   (FantasyPoints)"
      ]
     },
     "execution_count": 88,
     "metadata": {
      "application/vnd.holoviews_exec.v0+json": {
       "id": "8732"
      }
     },
     "output_type": "execute_result"
    }
   ],
   "source": [
    "# imports\n",
    "\n",
    "import panel as pn\n",
    "pn.extension('plotly')\n",
    "import plotly.express as px\n",
    "import pandas as pd\n",
    "import hvplot.pandas\n",
    "import matplotlib.pyplot as plt\n",
    "import numpy as np\n",
    "import os\n",
    "from pathlib import Path\n",
    "from dotenv import load_dotenv\n",
    "import warnings\n",
    "warnings.filterwarnings('ignore')\n",
    "\n",
    "# Read the Mapbox API key\n",
    "load_dotenv()\n",
    "map_box_api = os.getenv(\"mapbox\")\n",
    "\n",
    "# Set the Mapbox API\n",
    "px.set_mapbox_access_token(\"pk.eyJ1IjoiYW1hY2s1NiIsImEiOiJja3RldzZmcnAwMmd5Mm5wZngyejR2cm5iIn0.JohlA6vRxmH-iugH7u_xXA\")\n",
    "\n",
    "# Import all the CSVs from the Data of the last 10 years\n",
    "\n",
    "file_path_2010 = Path(\"../Data/RawData/2010.csv\")\n",
    "file_path_2011 = Path(\"../Data/RawData/2011.csv\")\n",
    "file_path_2012 = Path(\"../Data/RawData/2012.csv\")\n",
    "file_path_2013 = Path(\"../Data/RawData/2013.csv\")\n",
    "file_path_2014 = Path(\"../Data/RawData/2014.csv\")\n",
    "file_path_2015 = Path(\"../Data/RawData/2015.csv\")\n",
    "file_path_2016 = Path(\"../Data/RawData/2016.csv\")\n",
    "file_path_2017 = Path(\"../Data/RawData/2017.csv\")\n",
    "file_path_2018 = Path(\"../Data/RawData/2018.csv\")\n",
    "file_path_2019 = Path(\"../Data/RawData/2019.csv\")\n",
    "coor_path = Path(\"../Data/RawData/coordinates.csv\")\n",
    "\n",
    "# Convert the data to DataFrames and add a Year column\n",
    "\n",
    "data_2010 = pd.read_csv(file_path_2010)\n",
    "data_2010['Year'] = '2010'\n",
    "data_2011 = pd.read_csv(file_path_2011)\n",
    "data_2011['Year'] = '2011'\n",
    "data_2012 = pd.read_csv(file_path_2012)\n",
    "data_2012['Year'] = '2012'\n",
    "data_2013 = pd.read_csv(file_path_2013)\n",
    "data_2013['Year'] = '2013'\n",
    "data_2014 = pd.read_csv(file_path_2014)\n",
    "data_2014['Year'] = '2014'\n",
    "data_2015 = pd.read_csv(file_path_2015)\n",
    "data_2015['Year'] = '2015'\n",
    "data_2016 = pd.read_csv(file_path_2016)\n",
    "data_2016['Year'] = '2016'\n",
    "data_2017 = pd.read_csv(file_path_2017)\n",
    "data_2017['Year'] = '2017'\n",
    "data_2018 = pd.read_csv(file_path_2018)\n",
    "data_2018['Year'] = '2018'\n",
    "data_2019 = pd.read_csv(file_path_2019)\n",
    "data_2019['Year'] = '2019'\n",
    "coordinates = pd.read_csv(coor_path)\n",
    "\n",
    "# Select specific columns desired to play with the data\n",
    "\n",
    "data_2010 = data_2010[[\"Year\",\"Player\",\"Tm\",\"Pos\",\"FantasyPoints\"]]\n",
    "data_2011 = data_2011[[\"Year\",\"Player\",\"Tm\",\"Pos\",\"FantasyPoints\"]]\n",
    "data_2012 = data_2012[[\"Year\",\"Player\",\"Tm\",\"Pos\",\"FantasyPoints\"]]\n",
    "data_2013 = data_2013[[\"Year\",\"Player\",\"Tm\",\"Pos\",\"FantasyPoints\"]]\n",
    "data_2014 = data_2014[[\"Year\",\"Player\",\"Tm\",\"Pos\",\"FantasyPoints\"]]\n",
    "data_2015 = data_2015[[\"Year\",\"Player\",\"Tm\",\"Pos\",\"FantasyPoints\"]]\n",
    "data_2016 = data_2016[[\"Year\",\"Player\",\"Tm\",\"Pos\",\"FantasyPoints\"]]\n",
    "data_2017 = data_2017[[\"Year\",\"Player\",\"Tm\",\"Pos\",\"FantasyPoints\"]]\n",
    "data_2018 = data_2018[[\"Year\",\"Player\",\"Tm\",\"Pos\",\"FantasyPoints\"]]\n",
    "data_2019 = data_2019[[\"Year\",\"Player\",\"Tm\",\"Pos\",\"FantasyPoints\"]]\n",
    "coordinates.drop(labels=['zip', 'pic', 'Unnamed: 6', 'Conference'], axis=1, inplace=True)\n",
    "coordinates = coordinates.set_index('Team')\n",
    "\n",
    "# Set the index as the year\n",
    "\n",
    "data_2010 = data_2010.set_index(\"Year\")\n",
    "data_2011 = data_2011.set_index(\"Year\")\n",
    "data_2012 = data_2012.set_index(\"Year\")\n",
    "data_2013 = data_2013.set_index(\"Year\")\n",
    "data_2014 = data_2014.set_index(\"Year\")\n",
    "data_2015 = data_2015.set_index(\"Year\")\n",
    "data_2016 = data_2016.set_index(\"Year\")\n",
    "data_2017 = data_2017.set_index(\"Year\")\n",
    "data_2018 = data_2018.set_index(\"Year\")\n",
    "data_2019 = data_2019.set_index(\"Year\")\n",
    "\n",
    "# Merge all the data and clean it by eliminating players that don't have any points, or a single team\n",
    "\n",
    "full_data = pd.concat([data_2010, data_2011, data_2012, data_2013, data_2014, data_2015, data_2016, data_2017, data_2018, data_2019])\n",
    "full_data = full_data[full_data['FantasyPoints'] != 0]\n",
    "full_data = full_data[full_data['Tm'] != '2TM']\n",
    "full_data = full_data[full_data['Tm'] != '3TM']\n",
    "full_data = full_data[full_data['Tm'] != '4TM']\n",
    "full_data.to_csv('../Data/CleanData/full_data.csv', encoding='utf-8')\n",
    "\n",
    "player_mean = full_data.groupby(['Player', 'Tm']).mean().sort_values(by='FantasyPoints', ascending=False, na_position='first')\n",
    "player_mean.hvplot.bar(width=800, rot=90, groupby=\"Tm\")"
   ]
  },
  {
   "cell_type": "code",
   "execution_count": 108,
   "id": "1794a71f",
   "metadata": {},
   "outputs": [
    {
     "data": {},
     "metadata": {},
     "output_type": "display_data"
    },
    {
     "data": {
      "application/vnd.holoviews_exec.v0+json": "",
      "text/html": [
       "<div id='9649'>\n",
       "\n",
       "\n",
       "\n",
       "\n",
       "\n",
       "  <div class=\"bk-root\" id=\"6d3e1c43-07d1-458e-94ec-8f38deed4702\" data-root-id=\"9649\"></div>\n",
       "</div>\n",
       "<script type=\"application/javascript\">(function(root) {\n",
       "  function embed_document(root) {\n",
       "    var docs_json = {\"4af5c6fc-9ce3-4b1f-ab5a-c05f3a5a633a\":{\"defs\":[{\"extends\":null,\"module\":null,\"name\":\"ReactiveHTML1\",\"overrides\":[],\"properties\":[]},{\"extends\":null,\"module\":null,\"name\":\"FlexBox1\",\"overrides\":[],\"properties\":[{\"default\":\"flex-start\",\"kind\":null,\"name\":\"align_content\"},{\"default\":\"flex-start\",\"kind\":null,\"name\":\"align_items\"},{\"default\":\"row\",\"kind\":null,\"name\":\"flex_direction\"},{\"default\":\"wrap\",\"kind\":null,\"name\":\"flex_wrap\"},{\"default\":\"flex-start\",\"kind\":null,\"name\":\"justify_content\"}]},{\"extends\":null,\"module\":null,\"name\":\"TemplateActions1\",\"overrides\":[],\"properties\":[{\"default\":0,\"kind\":null,\"name\":\"open_modal\"},{\"default\":0,\"kind\":null,\"name\":\"close_modal\"}]},{\"extends\":null,\"module\":null,\"name\":\"MaterialTemplateActions1\",\"overrides\":[],\"properties\":[{\"default\":0,\"kind\":null,\"name\":\"open_modal\"},{\"default\":0,\"kind\":null,\"name\":\"close_modal\"}]}],\"roots\":{\"references\":[{\"attributes\":{},\"id\":\"9696\",\"type\":\"BasicTickFormatter\"},{\"attributes\":{},\"id\":\"9699\",\"type\":\"CategoricalTickFormatter\"},{\"attributes\":{\"data_source\":{\"id\":\"9684\"},\"glyph\":{\"id\":\"9687\"},\"hover_glyph\":{\"id\":\"9690\"},\"muted_glyph\":{\"id\":\"9691\"},\"nonselection_glyph\":{\"id\":\"9688\"},\"selection_glyph\":{\"id\":\"9689\"},\"view\":{\"id\":\"9693\"}},\"id\":\"9692\",\"type\":\"GlyphRenderer\"},{\"attributes\":{\"active_multi\":null,\"tools\":[{\"id\":\"9653\"},{\"id\":\"9670\"},{\"id\":\"9671\"},{\"id\":\"9672\"},{\"id\":\"9673\"},{\"id\":\"9674\"}]},\"id\":\"9676\",\"type\":\"Toolbar\"},{\"attributes\":{\"margin\":[5,5,5,5],\"name\":\"HSpacer41412\",\"sizing_mode\":\"stretch_width\"},\"id\":\"9732\",\"type\":\"Spacer\"},{\"attributes\":{\"overlay\":{\"id\":\"9675\"}},\"id\":\"9673\",\"type\":\"BoxZoomTool\"},{\"attributes\":{},\"id\":\"9700\",\"type\":\"AllLabels\"},{\"attributes\":{\"below\":[{\"id\":\"9663\"}],\"center\":[{\"id\":\"9665\"},{\"id\":\"9669\"},{\"id\":\"9704\"}],\"height\":300,\"left\":[{\"id\":\"9666\"}],\"margin\":[5,5,5,5],\"min_border_bottom\":10,\"min_border_left\":10,\"min_border_right\":10,\"min_border_top\":10,\"renderers\":[{\"id\":\"9692\"}],\"right\":[{\"id\":\"9704\"}],\"sizing_mode\":\"fixed\",\"title\":{\"id\":\"9655\"},\"toolbar\":{\"id\":\"9676\"},\"width\":800,\"x_range\":{\"id\":\"9651\"},\"x_scale\":{\"id\":\"9659\"},\"y_range\":{\"id\":\"9652\"},\"y_scale\":{\"id\":\"9661\"}},\"id\":\"9654\",\"subtype\":\"Figure\",\"type\":\"Plot\"},{\"attributes\":{\"axis\":{\"id\":\"9666\"},\"dimension\":1,\"grid_line_color\":null,\"ticker\":null},\"id\":\"9669\",\"type\":\"Grid\"},{\"attributes\":{\"items\":[{\"id\":\"9705\"}],\"location\":[0,0]},\"id\":\"9704\",\"type\":\"Legend\"},{\"attributes\":{\"fill_color\":{\"field\":\"color\",\"transform\":{\"id\":\"9683\"}},\"top\":{\"field\":\"FantasyPoints\"},\"width\":{\"value\":0.8},\"x\":{\"field\":\"Tm\"}},\"id\":\"9689\",\"type\":\"VBar\"},{\"attributes\":{\"factors\":[\"NOR\",\"NWE\",\"LAC\",\"ATL\",\"PHI\",\"DAL\",\"LAR\",\"SDG\",\"DET\",\"GNB\",\"DEN\",\"BAL\",\"CIN\",\"PIT\",\"CAR\",\"MIA\",\"HOU\",\"IND\",\"NYG\",\"MIN\",\"KAN\",\"CHI\",\"TAM\",\"SEA\",\"OAK\",\"WAS\",\"SFO\",\"TEN\",\"STL\",\"ARI\",\"BUF\",\"CLE\",\"NYJ\",\"JAX\"],\"palette\":[\"#440154\",\"#440255\",\"#440357\",\"#450558\",\"#45065a\",\"#45085b\",\"#46095c\",\"#460b5e\",\"#460c5f\",\"#460e61\",\"#470f62\",\"#471163\",\"#471265\",\"#471466\",\"#471567\",\"#471669\",\"#47186a\",\"#48196b\",\"#481a6c\",\"#481c6e\",\"#481d6f\",\"#481e70\",\"#482071\",\"#482172\",\"#482273\",\"#482374\",\"#472575\",\"#472676\",\"#472777\",\"#472878\",\"#472a79\",\"#472b7a\",\"#472c7b\",\"#462d7c\"]},\"id\":\"9683\",\"type\":\"CategoricalColorMapper\"},{\"attributes\":{},\"id\":\"9667\",\"type\":\"BasicTicker\"},{\"attributes\":{\"fill_color\":{\"field\":\"color\",\"transform\":{\"id\":\"9683\"}},\"top\":{\"field\":\"FantasyPoints\"},\"width\":{\"value\":0.8},\"x\":{\"field\":\"Tm\"}},\"id\":\"9687\",\"type\":\"VBar\"},{\"attributes\":{\"data\":{\"FantasyPoints\":{\"__ndarray__\":\"pRFjZ851WUCGYjgbQj5YQH8Y9+uS+ldAaW3sIA71V0Dx/OqFHUpXQEYS36t4BVdAklCgEdvLVkBryLnPLqpWQFrOeIQOkFZAeDyUENZNVkDcTCZgiRtWQEcqcd/DQlVAGvWWUW85VUDkWiSoqTBVQIvyGsprMFVA4mMSaJ4aVUAl+DX2p9BUQC3puo+Jn1RAhazF+fdhVEAuNpIocUFUQJ9hV4DcK1RAzXMJZA3zU0Cqp7GM7p9TQKfDSgY3llNAVd+OhxJiU0A08axoJEBTQLCMPIiy8VJANlW/uVviUkDwjADPCPBRQCUVZfgEf1FAmqN0+8pqUUDF/wnhhEVRQHRycnJyAlFAUq+OhOJRUEA=\",\"dtype\":\"float64\",\"order\":\"little\",\"shape\":[34]},\"Tm\":[\"NOR\",\"NWE\",\"LAC\",\"ATL\",\"PHI\",\"DAL\",\"LAR\",\"SDG\",\"DET\",\"GNB\",\"DEN\",\"BAL\",\"CIN\",\"PIT\",\"CAR\",\"MIA\",\"HOU\",\"IND\",\"NYG\",\"MIN\",\"KAN\",\"CHI\",\"TAM\",\"SEA\",\"OAK\",\"WAS\",\"SFO\",\"TEN\",\"STL\",\"ARI\",\"BUF\",\"CLE\",\"NYJ\",\"JAX\"],\"color\":[\"NOR\",\"NWE\",\"LAC\",\"ATL\",\"PHI\",\"DAL\",\"LAR\",\"SDG\",\"DET\",\"GNB\",\"DEN\",\"BAL\",\"CIN\",\"PIT\",\"CAR\",\"MIA\",\"HOU\",\"IND\",\"NYG\",\"MIN\",\"KAN\",\"CHI\",\"TAM\",\"SEA\",\"OAK\",\"WAS\",\"SFO\",\"TEN\",\"STL\",\"ARI\",\"BUF\",\"CLE\",\"NYJ\",\"JAX\"]},\"selected\":{\"id\":\"9685\"},\"selection_policy\":{\"id\":\"9701\"}},\"id\":\"9684\",\"type\":\"ColumnDataSource\"},{\"attributes\":{\"factors\":[\"NOR\",\"NWE\",\"LAC\",\"ATL\",\"PHI\",\"DAL\",\"LAR\",\"SDG\",\"DET\",\"GNB\",\"DEN\",\"BAL\",\"CIN\",\"PIT\",\"CAR\",\"MIA\",\"HOU\",\"IND\",\"NYG\",\"MIN\",\"KAN\",\"CHI\",\"TAM\",\"SEA\",\"OAK\",\"WAS\",\"SFO\",\"TEN\",\"STL\",\"ARI\",\"BUF\",\"CLE\",\"NYJ\",\"JAX\"],\"tags\":[[[\"Tm\",\"Tm\",null]]]},\"id\":\"9651\",\"type\":\"FactorRange\"},{\"attributes\":{\"source\":{\"id\":\"9684\"}},\"id\":\"9693\",\"type\":\"CDSView\"},{\"attributes\":{},\"id\":\"9674\",\"type\":\"ResetTool\"},{\"attributes\":{},\"id\":\"9701\",\"type\":\"UnionRenderers\"},{\"attributes\":{\"axis_label\":\"Tm\",\"formatter\":{\"id\":\"9699\"},\"major_label_orientation\":1.5707963267948966,\"major_label_policy\":{\"id\":\"9700\"},\"ticker\":{\"id\":\"9664\"}},\"id\":\"9663\",\"type\":\"CategoricalAxis\"},{\"attributes\":{\"children\":[{\"id\":\"9650\"},{\"id\":\"9654\"},{\"id\":\"9732\"}],\"margin\":[0,0,0,0],\"name\":\"Row41407\",\"tags\":[\"embedded\"]},\"id\":\"9649\",\"type\":\"Row\"},{\"attributes\":{\"fill_alpha\":{\"value\":0.1},\"fill_color\":{\"field\":\"color\",\"transform\":{\"id\":\"9683\"}},\"line_alpha\":{\"value\":0.1},\"top\":{\"field\":\"FantasyPoints\"},\"width\":{\"value\":0.8},\"x\":{\"field\":\"Tm\"}},\"id\":\"9688\",\"type\":\"VBar\"},{\"attributes\":{\"axis\":{\"id\":\"9663\"},\"grid_line_color\":null,\"ticker\":null},\"id\":\"9665\",\"type\":\"Grid\"},{\"attributes\":{},\"id\":\"9661\",\"type\":\"LinearScale\"},{\"attributes\":{\"fill_color\":{\"field\":\"color\",\"transform\":{\"id\":\"9683\"}},\"top\":{\"field\":\"FantasyPoints\"},\"width\":{\"value\":0.8},\"x\":{\"field\":\"Tm\"}},\"id\":\"9690\",\"type\":\"VBar\"},{\"attributes\":{\"callback\":null,\"renderers\":[{\"id\":\"9692\"}],\"tags\":[\"hv_created\"],\"tooltips\":[[\"Tm\",\"@{Tm}\"],[\"FantasyPoints\",\"@{FantasyPoints}\"]]},\"id\":\"9653\",\"type\":\"HoverTool\"},{\"attributes\":{},\"id\":\"9659\",\"type\":\"CategoricalScale\"},{\"attributes\":{},\"id\":\"9697\",\"type\":\"AllLabels\"},{\"attributes\":{\"axis_label\":\"FantasyPoints\",\"formatter\":{\"id\":\"9696\"},\"major_label_policy\":{\"id\":\"9697\"},\"ticker\":{\"id\":\"9667\"}},\"id\":\"9666\",\"type\":\"LinearAxis\"},{\"attributes\":{},\"id\":\"9664\",\"type\":\"CategoricalTicker\"},{\"attributes\":{},\"id\":\"9670\",\"type\":\"SaveTool\"},{\"attributes\":{\"end\":105.49685012577784,\"reset_end\":105.49685012577784,\"reset_start\":0.0,\"tags\":[[[\"FantasyPoints\",\"FantasyPoints\",null]]]},\"id\":\"9652\",\"type\":\"Range1d\"},{\"attributes\":{\"margin\":[5,5,5,5],\"name\":\"HSpacer41411\",\"sizing_mode\":\"stretch_width\"},\"id\":\"9650\",\"type\":\"Spacer\"},{\"attributes\":{\"label\":{\"field\":\"color\"},\"renderers\":[{\"id\":\"9692\"}]},\"id\":\"9705\",\"type\":\"LegendItem\"},{\"attributes\":{\"bottom_units\":\"screen\",\"fill_alpha\":0.5,\"fill_color\":\"lightgrey\",\"left_units\":\"screen\",\"level\":\"overlay\",\"line_alpha\":1.0,\"line_color\":\"black\",\"line_dash\":[4,4],\"line_width\":2,\"right_units\":\"screen\",\"syncable\":false,\"top_units\":\"screen\"},\"id\":\"9675\",\"type\":\"BoxAnnotation\"},{\"attributes\":{\"text_color\":\"black\",\"text_font_size\":\"12pt\"},\"id\":\"9655\",\"type\":\"Title\"},{\"attributes\":{},\"id\":\"9671\",\"type\":\"PanTool\"},{\"attributes\":{},\"id\":\"9672\",\"type\":\"WheelZoomTool\"},{\"attributes\":{},\"id\":\"9685\",\"type\":\"Selection\"},{\"attributes\":{\"fill_alpha\":{\"value\":0.2},\"fill_color\":{\"field\":\"color\",\"transform\":{\"id\":\"9683\"}},\"line_alpha\":{\"value\":0.2},\"top\":{\"field\":\"FantasyPoints\"},\"width\":{\"value\":0.8},\"x\":{\"field\":\"Tm\"}},\"id\":\"9691\",\"type\":\"VBar\"}],\"root_ids\":[\"9649\"]},\"title\":\"Bokeh Application\",\"version\":\"2.3.2\"}};\n",
       "    var render_items = [{\"docid\":\"4af5c6fc-9ce3-4b1f-ab5a-c05f3a5a633a\",\"root_ids\":[\"9649\"],\"roots\":{\"9649\":\"6d3e1c43-07d1-458e-94ec-8f38deed4702\"}}];\n",
       "    root.Bokeh.embed.embed_items_notebook(docs_json, render_items);\n",
       "  }\n",
       "  if (root.Bokeh !== undefined && root.Bokeh.Panel !== undefined && ( root['Plotly'] !== undefined)) {\n",
       "    embed_document(root);\n",
       "  } else {\n",
       "    var attempts = 0;\n",
       "    var timer = setInterval(function(root) {\n",
       "      if (root.Bokeh !== undefined && root.Bokeh.Panel !== undefined && (root['Plotly'] !== undefined)) {\n",
       "        clearInterval(timer);\n",
       "        embed_document(root);\n",
       "      } else if (document.readyState == \"complete\") {\n",
       "        attempts++;\n",
       "        if (attempts > 200) {\n",
       "          clearInterval(timer);\n",
       "          console.log(\"Bokeh: ERROR: Unable to run BokehJS code because BokehJS library is missing\");\n",
       "        }\n",
       "      }\n",
       "    }, 25, root)\n",
       "  }\n",
       "})(window);</script>"
      ],
      "text/plain": [
       ":Bars   [Tm]   (FantasyPoints)"
      ]
     },
     "execution_count": 108,
     "metadata": {
      "application/vnd.holoviews_exec.v0+json": {
       "id": "9649"
      }
     },
     "output_type": "execute_result"
    }
   ],
   "source": [
    "team_mean = full_data.groupby(['Tm']).mean().sort_values(by='FantasyPoints', ascending=False, na_position='first')\n",
    "team_mean.hvplot.bar(width=800, rot=90).opts(color=\"Tm\")"
   ]
  },
  {
   "cell_type": "code",
   "execution_count": 112,
   "id": "ff1efbe6",
   "metadata": {},
   "outputs": [
    {
     "data": {},
     "metadata": {},
     "output_type": "display_data"
    },
    {
     "data": {
      "application/vnd.holoviews_exec.v0+json": "",
      "text/html": [
       "<div id='10147'>\n",
       "\n",
       "\n",
       "\n",
       "\n",
       "\n",
       "  <div class=\"bk-root\" id=\"4f9e19db-20ba-4f1a-b7cb-d7b6ea7c30c5\" data-root-id=\"10147\"></div>\n",
       "</div>\n",
       "<script type=\"application/javascript\">(function(root) {\n",
       "  function embed_document(root) {\n",
       "    var docs_json = {\"f526f6e4-5cf7-4a96-8092-7ef59477c697\":{\"defs\":[{\"extends\":null,\"module\":null,\"name\":\"ReactiveHTML1\",\"overrides\":[],\"properties\":[]},{\"extends\":null,\"module\":null,\"name\":\"FlexBox1\",\"overrides\":[],\"properties\":[{\"default\":\"flex-start\",\"kind\":null,\"name\":\"align_content\"},{\"default\":\"flex-start\",\"kind\":null,\"name\":\"align_items\"},{\"default\":\"row\",\"kind\":null,\"name\":\"flex_direction\"},{\"default\":\"wrap\",\"kind\":null,\"name\":\"flex_wrap\"},{\"default\":\"flex-start\",\"kind\":null,\"name\":\"justify_content\"}]},{\"extends\":null,\"module\":null,\"name\":\"TemplateActions1\",\"overrides\":[],\"properties\":[{\"default\":0,\"kind\":null,\"name\":\"open_modal\"},{\"default\":0,\"kind\":null,\"name\":\"close_modal\"}]},{\"extends\":null,\"module\":null,\"name\":\"MaterialTemplateActions1\",\"overrides\":[],\"properties\":[{\"default\":0,\"kind\":null,\"name\":\"open_modal\"},{\"default\":0,\"kind\":null,\"name\":\"close_modal\"}]}],\"roots\":{\"references\":[{\"attributes\":{\"margin\":[5,5,5,5],\"name\":\"HSpacer42052\",\"sizing_mode\":\"stretch_width\"},\"id\":\"10148\",\"type\":\"Spacer\"},{\"attributes\":{},\"id\":\"10203\",\"type\":\"UnionRenderers\"},{\"attributes\":{},\"id\":\"10168\",\"type\":\"SaveTool\"},{\"attributes\":{\"active_multi\":null,\"tools\":[{\"id\":\"10151\"},{\"id\":\"10168\"},{\"id\":\"10169\"},{\"id\":\"10170\"},{\"id\":\"10171\"},{\"id\":\"10172\"}]},\"id\":\"10174\",\"type\":\"Toolbar\"},{\"attributes\":{\"children\":[{\"id\":\"10148\"},{\"id\":\"10152\"},{\"id\":\"10216\"}],\"margin\":[0,0,0,0],\"name\":\"Row42048\",\"tags\":[\"embedded\"]},\"id\":\"10147\",\"type\":\"Row\"},{\"attributes\":{},\"id\":\"10170\",\"type\":\"WheelZoomTool\"},{\"attributes\":{\"bottom\":{\"value\":0},\"fill_alpha\":{\"value\":1.0},\"fill_color\":{\"value\":\"#30a2da\"},\"hatch_alpha\":{\"value\":1.0},\"hatch_color\":{\"value\":\"black\"},\"hatch_scale\":{\"value\":12.0},\"hatch_weight\":{\"value\":1.0},\"line_alpha\":{\"value\":1.0},\"line_cap\":{\"value\":\"butt\"},\"line_color\":{\"value\":\"black\"},\"line_dash\":{\"value\":[]},\"line_dash_offset\":{\"value\":0},\"line_join\":{\"value\":\"bevel\"},\"line_width\":{\"value\":1},\"top\":{\"field\":\"FantasyPoints\"},\"width\":{\"value\":0.8},\"x\":{\"field\":\"Pos\"}},\"id\":\"10189\",\"type\":\"VBar\"},{\"attributes\":{\"fill_alpha\":{\"value\":0.1},\"fill_color\":{\"value\":\"#30a2da\"},\"line_alpha\":{\"value\":0.1},\"top\":{\"field\":\"FantasyPoints\"},\"width\":{\"value\":0.8},\"x\":{\"field\":\"Pos\"}},\"id\":\"10185\",\"type\":\"VBar\"},{\"attributes\":{\"fill_color\":{\"value\":\"#30a2da\"},\"top\":{\"field\":\"FantasyPoints\"},\"width\":{\"value\":0.8},\"x\":{\"field\":\"Pos\"}},\"id\":\"10184\",\"type\":\"VBar\"},{\"attributes\":{},\"id\":\"10157\",\"type\":\"CategoricalScale\"},{\"attributes\":{\"fill_alpha\":{\"value\":0.2},\"fill_color\":{\"value\":\"#30a2da\"},\"line_alpha\":{\"value\":0.2},\"top\":{\"field\":\"FantasyPoints\"},\"width\":{\"value\":0.8},\"x\":{\"field\":\"Pos\"}},\"id\":\"10186\",\"type\":\"VBar\"},{\"attributes\":{},\"id\":\"10182\",\"type\":\"Selection\"},{\"attributes\":{\"margin\":[5,5,5,5],\"name\":\"HSpacer42053\",\"sizing_mode\":\"stretch_width\"},\"id\":\"10216\",\"type\":\"Spacer\"},{\"attributes\":{\"data_source\":{\"id\":\"10181\"},\"glyph\":{\"id\":\"10184\"},\"hover_glyph\":null,\"muted_glyph\":{\"id\":\"10186\"},\"nonselection_glyph\":{\"id\":\"10185\"},\"selection_glyph\":{\"id\":\"10189\"},\"view\":{\"id\":\"10188\"}},\"id\":\"10187\",\"type\":\"GlyphRenderer\"},{\"attributes\":{},\"id\":\"10172\",\"type\":\"ResetTool\"},{\"attributes\":{\"data\":{\"FantasyPoints\":{\"__ndarray__\":\"OtKY6rGIXEAS9nmQFS9WQKw+cxU06lJAqFC6n9I/TUDpkz7pkz4eQA==\",\"dtype\":\"float64\",\"order\":\"little\",\"shape\":[5]},\"Pos\":[\"QB\",\"WR\",\"RB\",\"TE\",\"0\"]},\"selected\":{\"id\":\"10182\"},\"selection_policy\":{\"id\":\"10203\"}},\"id\":\"10181\",\"type\":\"ColumnDataSource\"},{\"attributes\":{},\"id\":\"10195\",\"type\":\"AllLabels\"},{\"attributes\":{\"bottom_units\":\"screen\",\"fill_alpha\":0.5,\"fill_color\":\"lightgrey\",\"left_units\":\"screen\",\"level\":\"overlay\",\"line_alpha\":1.0,\"line_color\":\"black\",\"line_dash\":[4,4],\"line_width\":2,\"right_units\":\"screen\",\"syncable\":false,\"top_units\":\"screen\"},\"id\":\"10173\",\"type\":\"BoxAnnotation\"},{\"attributes\":{\"callback\":null,\"renderers\":[{\"id\":\"10187\"}],\"tags\":[\"hv_created\"],\"tooltips\":[[\"Pos\",\"@{Pos}\"],[\"FantasyPoints\",\"@{FantasyPoints}\"]]},\"id\":\"10151\",\"type\":\"HoverTool\"},{\"attributes\":{\"factors\":[\"QB\",\"WR\",\"RB\",\"TE\",\"0\"],\"tags\":[[[\"Pos\",\"Pos\",null]]]},\"id\":\"10149\",\"type\":\"FactorRange\"},{\"attributes\":{},\"id\":\"10162\",\"type\":\"CategoricalTicker\"},{\"attributes\":{},\"id\":\"10165\",\"type\":\"BasicTicker\"},{\"attributes\":{},\"id\":\"10159\",\"type\":\"LinearScale\"},{\"attributes\":{\"axis_label\":\"Pos\",\"formatter\":{\"id\":\"10191\"},\"major_label_orientation\":1.5707963267948966,\"major_label_policy\":{\"id\":\"10190\"},\"ticker\":{\"id\":\"10162\"}},\"id\":\"10161\",\"type\":\"CategoricalAxis\"},{\"attributes\":{\"axis\":{\"id\":\"10164\"},\"dimension\":1,\"grid_line_color\":null,\"ticker\":null},\"id\":\"10167\",\"type\":\"Grid\"},{\"attributes\":{\"axis\":{\"id\":\"10161\"},\"grid_line_color\":null,\"ticker\":null},\"id\":\"10163\",\"type\":\"Grid\"},{\"attributes\":{\"below\":[{\"id\":\"10161\"}],\"center\":[{\"id\":\"10163\"},{\"id\":\"10167\"}],\"height\":300,\"left\":[{\"id\":\"10164\"}],\"margin\":[5,5,5,5],\"min_border_bottom\":10,\"min_border_left\":10,\"min_border_right\":10,\"min_border_top\":10,\"renderers\":[{\"id\":\"10187\"}],\"sizing_mode\":\"fixed\",\"title\":{\"id\":\"10153\"},\"toolbar\":{\"id\":\"10174\"},\"width\":800,\"x_range\":{\"id\":\"10149\"},\"x_scale\":{\"id\":\"10157\"},\"y_range\":{\"id\":\"10150\"},\"y_scale\":{\"id\":\"10159\"}},\"id\":\"10152\",\"subtype\":\"Figure\",\"type\":\"Plot\"},{\"attributes\":{},\"id\":\"10190\",\"type\":\"AllLabels\"},{\"attributes\":{},\"id\":\"10193\",\"type\":\"BasicTickFormatter\"},{\"attributes\":{\"axis_label\":\"FantasyPoints\",\"formatter\":{\"id\":\"10193\"},\"major_label_policy\":{\"id\":\"10195\"},\"ticker\":{\"id\":\"10165\"}},\"id\":\"10164\",\"type\":\"LinearAxis\"},{\"attributes\":{\"overlay\":{\"id\":\"10173\"}},\"id\":\"10171\",\"type\":\"BoxZoomTool\"},{\"attributes\":{\"text_color\":\"black\",\"text_font_size\":\"12pt\"},\"id\":\"10153\",\"type\":\"Title\"},{\"attributes\":{},\"id\":\"10191\",\"type\":\"CategoricalTickFormatter\"},{\"attributes\":{\"end\":124.79333395931144,\"reset_end\":124.79333395931144,\"reset_start\":0.0,\"tags\":[[[\"FantasyPoints\",\"FantasyPoints\",null]]]},\"id\":\"10150\",\"type\":\"Range1d\"},{\"attributes\":{\"source\":{\"id\":\"10181\"}},\"id\":\"10188\",\"type\":\"CDSView\"},{\"attributes\":{},\"id\":\"10169\",\"type\":\"PanTool\"}],\"root_ids\":[\"10147\"]},\"title\":\"Bokeh Application\",\"version\":\"2.3.2\"}};\n",
       "    var render_items = [{\"docid\":\"f526f6e4-5cf7-4a96-8092-7ef59477c697\",\"root_ids\":[\"10147\"],\"roots\":{\"10147\":\"4f9e19db-20ba-4f1a-b7cb-d7b6ea7c30c5\"}}];\n",
       "    root.Bokeh.embed.embed_items_notebook(docs_json, render_items);\n",
       "  }\n",
       "  if (root.Bokeh !== undefined && root.Bokeh.Panel !== undefined && ( root['Plotly'] !== undefined)) {\n",
       "    embed_document(root);\n",
       "  } else {\n",
       "    var attempts = 0;\n",
       "    var timer = setInterval(function(root) {\n",
       "      if (root.Bokeh !== undefined && root.Bokeh.Panel !== undefined && (root['Plotly'] !== undefined)) {\n",
       "        clearInterval(timer);\n",
       "        embed_document(root);\n",
       "      } else if (document.readyState == \"complete\") {\n",
       "        attempts++;\n",
       "        if (attempts > 200) {\n",
       "          clearInterval(timer);\n",
       "          console.log(\"Bokeh: ERROR: Unable to run BokehJS code because BokehJS library is missing\");\n",
       "        }\n",
       "      }\n",
       "    }, 25, root)\n",
       "  }\n",
       "})(window);</script>"
      ],
      "text/plain": [
       ":Bars   [Pos]   (FantasyPoints)"
      ]
     },
     "execution_count": 112,
     "metadata": {
      "application/vnd.holoviews_exec.v0+json": {
       "id": "10147"
      }
     },
     "output_type": "execute_result"
    }
   ],
   "source": [
    "position_mean = full_data.groupby(['Pos']).mean().sort_values(by='FantasyPoints', ascending=False, na_position='first')\n",
    "position_mean.hvplot.bar(width=800, rot=90)"
   ]
  },
  {
   "cell_type": "code",
   "execution_count": 91,
   "id": "5441ae45",
   "metadata": {},
   "outputs": [
    {
     "data": {},
     "metadata": {},
     "output_type": "display_data"
    },
    {
     "data": {
      "application/vnd.holoviews_exec.v0+json": "",
      "text/html": [
       "<div id='9137'>\n",
       "\n",
       "\n",
       "\n",
       "\n",
       "\n",
       "  <div class=\"bk-root\" id=\"b17b525e-bc48-4064-830d-46e046166280\" data-root-id=\"9137\"></div>\n",
       "</div>\n",
       "<script type=\"application/javascript\">(function(root) {\n",
       "  function embed_document(root) {\n",
       "    var docs_json = {\"07a2b631-803d-41b0-8e72-510e86f5721d\":{\"defs\":[{\"extends\":null,\"module\":null,\"name\":\"ReactiveHTML1\",\"overrides\":[],\"properties\":[]},{\"extends\":null,\"module\":null,\"name\":\"FlexBox1\",\"overrides\":[],\"properties\":[{\"default\":\"flex-start\",\"kind\":null,\"name\":\"align_content\"},{\"default\":\"flex-start\",\"kind\":null,\"name\":\"align_items\"},{\"default\":\"row\",\"kind\":null,\"name\":\"flex_direction\"},{\"default\":\"wrap\",\"kind\":null,\"name\":\"flex_wrap\"},{\"default\":\"flex-start\",\"kind\":null,\"name\":\"justify_content\"}]},{\"extends\":null,\"module\":null,\"name\":\"TemplateActions1\",\"overrides\":[],\"properties\":[{\"default\":0,\"kind\":null,\"name\":\"open_modal\"},{\"default\":0,\"kind\":null,\"name\":\"close_modal\"}]},{\"extends\":null,\"module\":null,\"name\":\"MaterialTemplateActions1\",\"overrides\":[],\"properties\":[{\"default\":0,\"kind\":null,\"name\":\"open_modal\"},{\"default\":0,\"kind\":null,\"name\":\"close_modal\"}]}],\"roots\":{\"references\":[{\"attributes\":{\"axis\":{\"id\":\"9151\"},\"grid_line_color\":null,\"ticker\":null},\"id\":\"9153\",\"type\":\"Grid\"},{\"attributes\":{},\"id\":\"9147\",\"type\":\"CategoricalScale\"},{\"attributes\":{\"overlay\":{\"id\":\"9163\"}},\"id\":\"9161\",\"type\":\"BoxZoomTool\"},{\"attributes\":{},\"id\":\"9185\",\"type\":\"AllLabels\"},{\"attributes\":{\"end\":369.3893333333333,\"reset_end\":369.3893333333333,\"reset_start\":0.0,\"tags\":[[[\"FantasyPoints\",\"FantasyPoints\",null]]]},\"id\":\"9140\",\"type\":\"Range1d\"},{\"attributes\":{},\"id\":\"9158\",\"type\":\"SaveTool\"},{\"attributes\":{},\"id\":\"9183\",\"type\":\"BasicTickFormatter\"},{\"attributes\":{},\"id\":\"9152\",\"type\":\"CategoricalTicker\"},{\"attributes\":{},\"id\":\"9180\",\"type\":\"AllLabels\"},{\"attributes\":{},\"id\":\"9181\",\"type\":\"CategoricalTickFormatter\"},{\"attributes\":{\"fill_alpha\":{\"value\":0.2},\"fill_color\":{\"value\":\"#30a2da\"},\"line_alpha\":{\"value\":0.2},\"top\":{\"field\":\"FantasyPoints\"},\"width\":{\"value\":0.8},\"x\":{\"field\":\"Player\"}},\"id\":\"9176\",\"type\":\"VBar\"},{\"attributes\":{\"factors\":[\"Christian McCaffrey\",\"Saquon Barkley\",\"Drew Brees\",\"Russell Wilson\",\"Alvin Kamara\",\"Michael Thomas\",\"Tom Brady\",\"Aaron Rodgers\",\"Calvin Johnson\",\"Ezekiel Elliott\",\"Dak Prescott\",\"Lamar Jackson\",\"Peyton Manning\",\"Kyler Murray\",\"Andrew Luck\"],\"tags\":[[[\"Player\",\"Player\",null]]]},\"id\":\"9139\",\"type\":\"FactorRange\"},{\"attributes\":{\"data_source\":{\"id\":\"9171\"},\"glyph\":{\"id\":\"9174\"},\"hover_glyph\":null,\"muted_glyph\":{\"id\":\"9176\"},\"nonselection_glyph\":{\"id\":\"9175\"},\"selection_glyph\":{\"id\":\"9179\"},\"view\":{\"id\":\"9178\"}},\"id\":\"9177\",\"type\":\"GlyphRenderer\"},{\"attributes\":{\"margin\":[5,5,5,5],\"name\":\"HSpacer40533\",\"sizing_mode\":\"stretch_width\"},\"id\":\"9138\",\"type\":\"Spacer\"},{\"attributes\":{},\"id\":\"9149\",\"type\":\"LinearScale\"},{\"attributes\":{\"axis\":{\"id\":\"9154\"},\"dimension\":1,\"grid_line_color\":null,\"ticker\":null},\"id\":\"9157\",\"type\":\"Grid\"},{\"attributes\":{\"axis_label\":\"FantasyPoints\",\"formatter\":{\"id\":\"9183\"},\"major_label_policy\":{\"id\":\"9185\"},\"ticker\":{\"id\":\"9155\"}},\"id\":\"9154\",\"type\":\"LinearAxis\"},{\"attributes\":{\"axis_label\":\"Player\",\"formatter\":{\"id\":\"9181\"},\"major_label_orientation\":1.5707963267948966,\"major_label_policy\":{\"id\":\"9180\"},\"ticker\":{\"id\":\"9152\"}},\"id\":\"9151\",\"type\":\"CategoricalAxis\"},{\"attributes\":{\"bottom_units\":\"screen\",\"fill_alpha\":0.5,\"fill_color\":\"lightgrey\",\"left_units\":\"screen\",\"level\":\"overlay\",\"line_alpha\":1.0,\"line_color\":\"black\",\"line_dash\":[4,4],\"line_width\":2,\"right_units\":\"screen\",\"syncable\":false,\"top_units\":\"screen\"},\"id\":\"9163\",\"type\":\"BoxAnnotation\"},{\"attributes\":{},\"id\":\"9162\",\"type\":\"ResetTool\"},{\"attributes\":{\"below\":[{\"id\":\"9151\"}],\"center\":[{\"id\":\"9153\"},{\"id\":\"9157\"}],\"height\":300,\"left\":[{\"id\":\"9154\"}],\"margin\":[5,5,5,5],\"min_border_bottom\":10,\"min_border_left\":10,\"min_border_right\":10,\"min_border_top\":10,\"renderers\":[{\"id\":\"9177\"}],\"sizing_mode\":\"fixed\",\"title\":{\"id\":\"9143\"},\"toolbar\":{\"id\":\"9164\"},\"width\":800,\"x_range\":{\"id\":\"9139\"},\"x_scale\":{\"id\":\"9147\"},\"y_range\":{\"id\":\"9140\"},\"y_scale\":{\"id\":\"9149\"}},\"id\":\"9142\",\"subtype\":\"Figure\",\"type\":\"Plot\"},{\"attributes\":{\"text_color\":\"black\",\"text_font_size\":\"12pt\"},\"id\":\"9143\",\"type\":\"Title\"},{\"attributes\":{},\"id\":\"9160\",\"type\":\"WheelZoomTool\"},{\"attributes\":{},\"id\":\"9193\",\"type\":\"UnionRenderers\"},{\"attributes\":{\"data\":{\"FantasyPoints\":{\"__ndarray__\":\"mZmZmZmRdkAzMzMzM59zQNijcD0KU3NAuB6F61Edc0BwPQrXo/ByQDQzMzMz0XJAz/dT46WLckAK16NwPWZyQJmZmZmZTXJAmZmZmZlFckB7FK5H4TRyQPYoXI/C6XFAnu+nxkuPcUAUrkfhenRxQBvotIFOY3FA\",\"dtype\":\"float64\",\"order\":\"little\",\"shape\":[15]},\"Player\":[\"Christian McCaffrey\",\"Saquon Barkley\",\"Drew Brees\",\"Russell Wilson\",\"Alvin Kamara\",\"Michael Thomas\",\"Tom Brady\",\"Aaron Rodgers\",\"Calvin Johnson\",\"Ezekiel Elliott\",\"Dak Prescott\",\"Lamar Jackson\",\"Peyton Manning\",\"Kyler Murray\",\"Andrew Luck\"]},\"selected\":{\"id\":\"9172\"},\"selection_policy\":{\"id\":\"9193\"}},\"id\":\"9171\",\"type\":\"ColumnDataSource\"},{\"attributes\":{\"fill_color\":{\"value\":\"#30a2da\"},\"top\":{\"field\":\"FantasyPoints\"},\"width\":{\"value\":0.8},\"x\":{\"field\":\"Player\"}},\"id\":\"9174\",\"type\":\"VBar\"},{\"attributes\":{\"active_multi\":null,\"tools\":[{\"id\":\"9141\"},{\"id\":\"9158\"},{\"id\":\"9159\"},{\"id\":\"9160\"},{\"id\":\"9161\"},{\"id\":\"9162\"}]},\"id\":\"9164\",\"type\":\"Toolbar\"},{\"attributes\":{},\"id\":\"9155\",\"type\":\"BasicTicker\"},{\"attributes\":{\"margin\":[5,5,5,5],\"name\":\"HSpacer40534\",\"sizing_mode\":\"stretch_width\"},\"id\":\"9206\",\"type\":\"Spacer\"},{\"attributes\":{\"source\":{\"id\":\"9171\"}},\"id\":\"9178\",\"type\":\"CDSView\"},{\"attributes\":{},\"id\":\"9159\",\"type\":\"PanTool\"},{\"attributes\":{\"bottom\":{\"value\":0},\"fill_alpha\":{\"value\":1.0},\"fill_color\":{\"value\":\"#30a2da\"},\"hatch_alpha\":{\"value\":1.0},\"hatch_color\":{\"value\":\"black\"},\"hatch_scale\":{\"value\":12.0},\"hatch_weight\":{\"value\":1.0},\"line_alpha\":{\"value\":1.0},\"line_cap\":{\"value\":\"butt\"},\"line_color\":{\"value\":\"black\"},\"line_dash\":{\"value\":[]},\"line_dash_offset\":{\"value\":0},\"line_join\":{\"value\":\"bevel\"},\"line_width\":{\"value\":1},\"top\":{\"field\":\"FantasyPoints\"},\"width\":{\"value\":0.8},\"x\":{\"field\":\"Player\"}},\"id\":\"9179\",\"type\":\"VBar\"},{\"attributes\":{\"children\":[{\"id\":\"9138\"},{\"id\":\"9142\"},{\"id\":\"9206\"}],\"margin\":[0,0,0,0],\"name\":\"Row40529\",\"tags\":[\"embedded\"]},\"id\":\"9137\",\"type\":\"Row\"},{\"attributes\":{},\"id\":\"9172\",\"type\":\"Selection\"},{\"attributes\":{\"callback\":null,\"renderers\":[{\"id\":\"9177\"}],\"tags\":[\"hv_created\"],\"tooltips\":[[\"Player\",\"@{Player}\"],[\"FantasyPoints\",\"@{FantasyPoints}\"]]},\"id\":\"9141\",\"type\":\"HoverTool\"},{\"attributes\":{\"fill_alpha\":{\"value\":0.1},\"fill_color\":{\"value\":\"#30a2da\"},\"line_alpha\":{\"value\":0.1},\"top\":{\"field\":\"FantasyPoints\"},\"width\":{\"value\":0.8},\"x\":{\"field\":\"Player\"}},\"id\":\"9175\",\"type\":\"VBar\"}],\"root_ids\":[\"9137\"]},\"title\":\"Bokeh Application\",\"version\":\"2.3.2\"}};\n",
       "    var render_items = [{\"docid\":\"07a2b631-803d-41b0-8e72-510e86f5721d\",\"root_ids\":[\"9137\"],\"roots\":{\"9137\":\"b17b525e-bc48-4064-830d-46e046166280\"}}];\n",
       "    root.Bokeh.embed.embed_items_notebook(docs_json, render_items);\n",
       "  }\n",
       "  if (root.Bokeh !== undefined && root.Bokeh.Panel !== undefined && ( root['Plotly'] !== undefined)) {\n",
       "    embed_document(root);\n",
       "  } else {\n",
       "    var attempts = 0;\n",
       "    var timer = setInterval(function(root) {\n",
       "      if (root.Bokeh !== undefined && root.Bokeh.Panel !== undefined && (root['Plotly'] !== undefined)) {\n",
       "        clearInterval(timer);\n",
       "        embed_document(root);\n",
       "      } else if (document.readyState == \"complete\") {\n",
       "        attempts++;\n",
       "        if (attempts > 200) {\n",
       "          clearInterval(timer);\n",
       "          console.log(\"Bokeh: ERROR: Unable to run BokehJS code because BokehJS library is missing\");\n",
       "        }\n",
       "      }\n",
       "    }, 25, root)\n",
       "  }\n",
       "})(window);</script>"
      ],
      "text/plain": [
       ":Bars   [Player]   (FantasyPoints)"
      ]
     },
     "execution_count": 91,
     "metadata": {
      "application/vnd.holoviews_exec.v0+json": {
       "id": "9137"
      }
     },
     "output_type": "execute_result"
    }
   ],
   "source": [
    "best_team = full_data.groupby(['Player']).mean().sort_values(by='FantasyPoints', ascending=False, na_position='first').nlargest(15, 'FantasyPoints')\n",
    "best_team.hvplot.bar(width=800, rot=90)"
   ]
  },
  {
   "cell_type": "code",
   "execution_count": 100,
   "id": "ab14fafc",
   "metadata": {},
   "outputs": [
    {
     "data": {
      "application/vnd.plotly.v1+json": {
       "config": {
        "plotlyServerURL": "https://plot.ly"
       },
       "data": [
        {
         "hovertemplate": "Team=ARI<br>FantasyPoints=%{marker.size}<br>latitude=%{lat}<br>longitude=%{lon}<extra></extra>",
         "lat": [
          33.5277
         ],
         "legendgroup": "ARI",
         "lon": [
          -112.26260800000001
         ],
         "marker": {
          "color": "#636efa",
          "size": [
           69.98467836257312
          ],
          "sizemode": "area",
          "sizeref": 0.2546018072289157
         },
         "mode": "markers",
         "name": "ARI",
         "showlegend": true,
         "subplot": "mapbox",
         "type": "scattermapbox"
        },
        {
         "hovertemplate": "Team=ATL<br>FantasyPoints=%{marker.size}<br>latitude=%{lat}<br>longitude=%{lon}<extra></extra>",
         "lat": [
          33.757614000000004
         ],
         "legendgroup": "ATL",
         "lon": [
          -84.400972
         ],
         "marker": {
          "color": "#EF553B",
          "size": [
           95.82898734177219
          ],
          "sizemode": "area",
          "sizeref": 0.2546018072289157
         },
         "mode": "markers",
         "name": "ATL",
         "showlegend": true,
         "subplot": "mapbox",
         "type": "scattermapbox"
        },
        {
         "hovertemplate": "Team=BAL<br>FantasyPoints=%{marker.size}<br>latitude=%{lat}<br>longitude=%{lon}<extra></extra>",
         "lat": [
          39.277969
         ],
         "legendgroup": "BAL",
         "lon": [
          -76.62276700000001
         ],
         "marker": {
          "color": "#00cc96",
          "size": [
           85.04320512820514
          ],
          "sizemode": "area",
          "sizeref": 0.2546018072289157
         },
         "mode": "markers",
         "name": "BAL",
         "showlegend": true,
         "subplot": "mapbox",
         "type": "scattermapbox"
        },
        {
         "hovertemplate": "Team=BUF<br>FantasyPoints=%{marker.size}<br>latitude=%{lat}<br>longitude=%{lon}<extra></extra>",
         "lat": [
          42.773739
         ],
         "legendgroup": "BUF",
         "lon": [
          -78.786978
         ],
         "marker": {
          "color": "#ab63fa",
          "size": [
           69.66863905325445
          ],
          "sizemode": "area",
          "sizeref": 0.2546018072289157
         },
         "mode": "markers",
         "name": "BUF",
         "showlegend": true,
         "subplot": "mapbox",
         "type": "scattermapbox"
        },
        {
         "hovertemplate": "Team=CAR<br>FantasyPoints=%{marker.size}<br>latitude=%{lat}<br>longitude=%{lon}<extra></extra>",
         "lat": [
          35.225808
         ],
         "legendgroup": "CAR",
         "lon": [
          -80.852861
         ],
         "marker": {
          "color": "#FFA15A",
          "size": [
           84.75657894736848
          ],
          "sizemode": "area",
          "sizeref": 0.2546018072289157
         },
         "mode": "markers",
         "name": "CAR",
         "showlegend": true,
         "subplot": "mapbox",
         "type": "scattermapbox"
        },
        {
         "hovertemplate": "Team=CHI<br>FantasyPoints=%{marker.size}<br>latitude=%{lat}<br>longitude=%{lon}<extra></extra>",
         "lat": [
          41.862306
         ],
         "legendgroup": "CHI",
         "lon": [
          -87.616672
         ],
         "marker": {
          "color": "#19d3f3",
          "size": [
           79.79769230769234
          ],
          "sizemode": "area",
          "sizeref": 0.2546018072289157
         },
         "mode": "markers",
         "name": "CHI",
         "showlegend": true,
         "subplot": "mapbox",
         "type": "scattermapbox"
        },
        {
         "hovertemplate": "Team=CIN<br>FantasyPoints=%{marker.size}<br>latitude=%{lat}<br>longitude=%{lon}<extra></extra>",
         "lat": [
          39.095442
         ],
         "legendgroup": "CIN",
         "lon": [
          -84.516039
         ],
         "marker": {
          "color": "#FF6692",
          "size": [
           84.89741935483872
          ],
          "sizemode": "area",
          "sizeref": 0.2546018072289157
         },
         "mode": "markers",
         "name": "CIN",
         "showlegend": true,
         "subplot": "mapbox",
         "type": "scattermapbox"
        },
        {
         "hovertemplate": "Team=CLE<br>FantasyPoints=%{marker.size}<br>latitude=%{lat}<br>longitude=%{lon}<extra></extra>",
         "lat": [
          41.506021999999994
         ],
         "legendgroup": "CLE",
         "lon": [
          -81.699564
         ],
         "marker": {
          "color": "#B6E880",
          "size": [
           69.08623529411769
          ],
          "sizemode": "area",
          "sizeref": 0.2546018072289157
         },
         "mode": "markers",
         "name": "CLE",
         "showlegend": true,
         "subplot": "mapbox",
         "type": "scattermapbox"
        },
        {
         "hovertemplate": "Team=DAL<br>FantasyPoints=%{marker.size}<br>latitude=%{lat}<br>longitude=%{lon}<extra></extra>",
         "lat": [
          32.747778000000004
         ],
         "legendgroup": "DAL",
         "lon": [
          -97.09277800000001
         ],
         "marker": {
          "color": "#FF97FF",
          "size": [
           92.08549019607844
          ],
          "sizemode": "area",
          "sizeref": 0.2546018072289157
         },
         "mode": "markers",
         "name": "DAL",
         "showlegend": true,
         "subplot": "mapbox",
         "type": "scattermapbox"
        },
        {
         "hovertemplate": "Team=DEN<br>FantasyPoints=%{marker.size}<br>latitude=%{lat}<br>longitude=%{lon}<extra></extra>",
         "lat": [
          39.743936
         ],
         "legendgroup": "DEN",
         "lon": [
          -105.02009699999999
         ],
         "marker": {
          "color": "#FECB52",
          "size": [
           88.43025974025971
          ],
          "sizemode": "area",
          "sizeref": 0.2546018072289157
         },
         "mode": "markers",
         "name": "DEN",
         "showlegend": true,
         "subplot": "mapbox",
         "type": "scattermapbox"
        },
        {
         "hovertemplate": "Team=DET<br>FantasyPoints=%{marker.size}<br>latitude=%{lat}<br>longitude=%{lon}<extra></extra>",
         "lat": [
          42.340156
         ],
         "legendgroup": "DET",
         "lon": [
          -83.045808
         ],
         "marker": {
          "color": "#636efa",
          "size": [
           90.25088607594935
          ],
          "sizemode": "area",
          "sizeref": 0.2546018072289157
         },
         "mode": "markers",
         "name": "DET",
         "showlegend": true,
         "subplot": "mapbox",
         "type": "scattermapbox"
        },
        {
         "hovertemplate": "Team=GNB<br>FantasyPoints=%{marker.size}<br>latitude=%{lat}<br>longitude=%{lon}<extra></extra>",
         "lat": [
          44.501306
         ],
         "legendgroup": "GNB",
         "lon": [
          -88.062167
         ],
         "marker": {
          "color": "#EF553B",
          "size": [
           89.21619047619049
          ],
          "sizemode": "area",
          "sizeref": 0.2546018072289157
         },
         "mode": "markers",
         "name": "GNB",
         "showlegend": true,
         "subplot": "mapbox",
         "type": "scattermapbox"
        },
        {
         "hovertemplate": "Team=HOU<br>FantasyPoints=%{marker.size}<br>latitude=%{lat}<br>longitude=%{lon}<extra></extra>",
         "lat": [
          29.684781
         ],
         "legendgroup": "HOU",
         "lon": [
          -95.410956
         ],
         "marker": {
          "color": "#00cc96",
          "size": [
           83.26025157232705
          ],
          "sizemode": "area",
          "sizeref": 0.2546018072289157
         },
         "mode": "markers",
         "name": "HOU",
         "showlegend": true,
         "subplot": "mapbox",
         "type": "scattermapbox"
        },
        {
         "hovertemplate": "Team=IND<br>FantasyPoints=%{marker.size}<br>latitude=%{lat}<br>longitude=%{lon}<extra></extra>",
         "lat": [
          39.760056
         ],
         "legendgroup": "IND",
         "lon": [
          -86.16380600000001
         ],
         "marker": {
          "color": "#ab63fa",
          "size": [
           82.49277108433735
          ],
          "sizemode": "area",
          "sizeref": 0.2546018072289157
         },
         "mode": "markers",
         "name": "IND",
         "showlegend": true,
         "subplot": "mapbox",
         "type": "scattermapbox"
        },
        {
         "hovertemplate": "Team=JAX<br>FantasyPoints=%{marker.size}<br>latitude=%{lat}<br>longitude=%{lon}<extra></extra>",
         "lat": [
          30.323925
         ],
         "legendgroup": "JAX",
         "lon": [
          -81.63735600000001
         ],
         "marker": {
          "color": "#FFA15A",
          "size": [
           65.27945054945056
          ],
          "sizemode": "area",
          "sizeref": 0.2546018072289157
         },
         "mode": "markers",
         "name": "JAX",
         "showlegend": true,
         "subplot": "mapbox",
         "type": "scattermapbox"
        },
        {
         "hovertemplate": "Team=KAN<br>FantasyPoints=%{marker.size}<br>latitude=%{lat}<br>longitude=%{lon}<extra></extra>",
         "lat": [
          39.048914
         ],
         "legendgroup": "KAN",
         "lon": [
          -94.484039
         ],
         "marker": {
          "color": "#19d3f3",
          "size": [
           80.68533333333333
          ],
          "sizemode": "area",
          "sizeref": 0.2546018072289157
         },
         "mode": "markers",
         "name": "KAN",
         "showlegend": true,
         "subplot": "mapbox",
         "type": "scattermapbox"
        },
        {
         "hovertemplate": "Team=LAC<br>FantasyPoints=%{marker.size}<br>latitude=%{lat}<br>longitude=%{lon}<extra></extra>",
         "lat": [
          32.783117
         ],
         "legendgroup": "LAC",
         "lon": [
          -117.119525
         ],
         "marker": {
          "color": "#FF6692",
          "size": [
           95.91521739130438
          ],
          "sizemode": "area",
          "sizeref": 0.2546018072289157
         },
         "mode": "markers",
         "name": "LAC",
         "showlegend": true,
         "subplot": "mapbox",
         "type": "scattermapbox"
        },
        {
         "hovertemplate": "Team=LAR<br>FantasyPoints=%{marker.size}<br>latitude=%{lat}<br>longitude=%{lon}<extra></extra>",
         "lat": [
          38.632975
         ],
         "legendgroup": "LAR",
         "lon": [
          -90.188547
         ],
         "marker": {
          "color": "#B6E880",
          "size": [
           91.18524590163932
          ],
          "sizemode": "area",
          "sizeref": 0.2546018072289157
         },
         "mode": "markers",
         "name": "LAR",
         "showlegend": true,
         "subplot": "mapbox",
         "type": "scattermapbox"
        },
        {
         "hovertemplate": "Team=MIA<br>FantasyPoints=%{marker.size}<br>latitude=%{lat}<br>longitude=%{lon}<extra></extra>",
         "lat": [
          25.957919
         ],
         "legendgroup": "MIA",
         "lon": [
          -80.238842
         ],
         "marker": {
          "color": "#FF97FF",
          "size": [
           84.4159183673469
          ],
          "sizemode": "area",
          "sizeref": 0.2546018072289157
         },
         "mode": "markers",
         "name": "MIA",
         "showlegend": true,
         "subplot": "mapbox",
         "type": "scattermapbox"
        },
        {
         "hovertemplate": "Team=MIN<br>FantasyPoints=%{marker.size}<br>latitude=%{lat}<br>longitude=%{lon}<extra></extra>",
         "lat": [
          44.973881
         ],
         "legendgroup": "MIN",
         "lon": [
          -93.258094
         ],
         "marker": {
          "color": "#FECB52",
          "size": [
           81.02253164556961
          ],
          "sizemode": "area",
          "sizeref": 0.2546018072289157
         },
         "mode": "markers",
         "name": "MIN",
         "showlegend": true,
         "subplot": "mapbox",
         "type": "scattermapbox"
        },
        {
         "hovertemplate": "Team=NOR<br>FantasyPoints=%{marker.size}<br>latitude=%{lat}<br>longitude=%{lon}<extra></extra>",
         "lat": [
          29.950931
         ],
         "legendgroup": "NOR",
         "lon": [
          -90.08136400000001
         ],
         "marker": {
          "color": "#636efa",
          "size": [
           101.84072289156627
          ],
          "sizemode": "area",
          "sizeref": 0.2546018072289157
         },
         "mode": "markers",
         "name": "NOR",
         "showlegend": true,
         "subplot": "mapbox",
         "type": "scattermapbox"
        },
        {
         "hovertemplate": "Team=NWE<br>FantasyPoints=%{marker.size}<br>latitude=%{lat}<br>longitude=%{lon}<extra></extra>",
         "lat": [
          42.090925
         ],
         "legendgroup": "NWE",
         "lon": [
          -71.26435
         ],
         "marker": {
          "color": "#EF553B",
          "size": [
           96.97278481012663
          ],
          "sizemode": "area",
          "sizeref": 0.2546018072289157
         },
         "mode": "markers",
         "name": "NWE",
         "showlegend": true,
         "subplot": "mapbox",
         "type": "scattermapbox"
        },
        {
         "hovertemplate": "Team=NYG<br>FantasyPoints=%{marker.size}<br>latitude=%{lat}<br>longitude=%{lon}<extra></extra>",
         "lat": [
          40.812194
         ],
         "legendgroup": "NYG",
         "lon": [
          -74.076983
         ],
         "marker": {
          "color": "#00cc96",
          "size": [
           81.53076023391812
          ],
          "sizemode": "area",
          "sizeref": 0.2546018072289157
         },
         "mode": "markers",
         "name": "NYG",
         "showlegend": true,
         "subplot": "mapbox",
         "type": "scattermapbox"
        },
        {
         "hovertemplate": "Team=NYJ<br>FantasyPoints=%{marker.size}<br>latitude=%{lat}<br>longitude=%{lon}<extra></extra>",
         "lat": [
          40.812194
         ],
         "legendgroup": "NYJ",
         "lon": [
          -74.076983
         ],
         "marker": {
          "color": "#ab63fa",
          "size": [
           68.03823529411767
          ],
          "sizemode": "area",
          "sizeref": 0.2546018072289157
         },
         "mode": "markers",
         "name": "NYJ",
         "showlegend": true,
         "subplot": "mapbox",
         "type": "scattermapbox"
        },
        {
         "hovertemplate": "Team=OAK<br>FantasyPoints=%{marker.size}<br>latitude=%{lat}<br>longitude=%{lon}<extra></extra>",
         "lat": [
          37.751411
         ],
         "legendgroup": "OAK",
         "lon": [
          -122.20088899999999
         ],
         "marker": {
          "color": "#FFA15A",
          "size": [
           77.53238095238096
          ],
          "sizemode": "area",
          "sizeref": 0.2546018072289157
         },
         "mode": "markers",
         "name": "OAK",
         "showlegend": true,
         "subplot": "mapbox",
         "type": "scattermapbox"
        },
        {
         "hovertemplate": "Team=PHI<br>FantasyPoints=%{marker.size}<br>latitude=%{lat}<br>longitude=%{lon}<extra></extra>",
         "lat": [
          39.900775
         ],
         "legendgroup": "PHI",
         "lon": [
          -75.16745300000001
         ],
         "marker": {
          "color": "#19d3f3",
          "size": [
           93.15805194805195
          ],
          "sizemode": "area",
          "sizeref": 0.2546018072289157
         },
         "mode": "markers",
         "name": "PHI",
         "showlegend": true,
         "subplot": "mapbox",
         "type": "scattermapbox"
        },
        {
         "hovertemplate": "Team=PIT<br>FantasyPoints=%{marker.size}<br>latitude=%{lat}<br>longitude=%{lon}<extra></extra>",
         "lat": [
          40.446785999999996
         ],
         "legendgroup": "PIT",
         "lon": [
          -80.015761
         ],
         "marker": {
          "color": "#FF6692",
          "size": [
           84.76035502958581
          ],
          "sizemode": "area",
          "sizeref": 0.2546018072289157
         },
         "mode": "markers",
         "name": "PIT",
         "showlegend": true,
         "subplot": "mapbox",
         "type": "scattermapbox"
        },
        {
         "hovertemplate": "Team=SDG<br>FantasyPoints=%{marker.size}<br>latitude=%{lat}<br>longitude=%{lon}<extra></extra>",
         "lat": [
          32.715736
         ],
         "legendgroup": "SDG",
         "lon": [
          -117.16108700000001
         ],
         "marker": {
          "color": "#B6E880",
          "size": [
           90.65910714285717
          ],
          "sizemode": "area",
          "sizeref": 0.2546018072289157
         },
         "mode": "markers",
         "name": "SDG",
         "showlegend": true,
         "subplot": "mapbox",
         "type": "scattermapbox"
        },
        {
         "hovertemplate": "Team=SEA<br>FantasyPoints=%{marker.size}<br>latitude=%{lat}<br>longitude=%{lon}<extra></extra>",
         "lat": [
          47.595153
         ],
         "legendgroup": "SEA",
         "lon": [
          -122.331625
         ],
         "marker": {
          "color": "#FF97FF",
          "size": [
           78.34710843373487
          ],
          "sizemode": "area",
          "sizeref": 0.2546018072289157
         },
         "mode": "markers",
         "name": "SEA",
         "showlegend": true,
         "subplot": "mapbox",
         "type": "scattermapbox"
        },
        {
         "hovertemplate": "Team=SFO<br>FantasyPoints=%{marker.size}<br>latitude=%{lat}<br>longitude=%{lon}<extra></extra>",
         "lat": [
          37.713485999999996
         ],
         "legendgroup": "SFO",
         "lon": [
          -122.386256
         ],
         "marker": {
          "color": "#FECB52",
          "size": [
           75.77652173913043
          ],
          "sizemode": "area",
          "sizeref": 0.2546018072289157
         },
         "mode": "markers",
         "name": "SFO",
         "showlegend": true,
         "subplot": "mapbox",
         "type": "scattermapbox"
        },
        {
         "hovertemplate": "Team=STL<br>FantasyPoints=%{marker.size}<br>latitude=%{lat}<br>longitude=%{lon}<extra></extra>",
         "lat": [
          38.627003
         ],
         "legendgroup": "STL",
         "lon": [
          -90.199402
         ],
         "marker": {
          "color": "#636efa",
          "size": [
           71.7505376344086
          ],
          "sizemode": "area",
          "sizeref": 0.2546018072289157
         },
         "mode": "markers",
         "name": "STL",
         "showlegend": true,
         "subplot": "mapbox",
         "type": "scattermapbox"
        },
        {
         "hovertemplate": "Team=TAM<br>FantasyPoints=%{marker.size}<br>latitude=%{lat}<br>longitude=%{lon}<extra></extra>",
         "lat": [
          27.975966999999997
         ],
         "legendgroup": "TAM",
         "lon": [
          -82.50335
         ],
         "marker": {
          "color": "#EF553B",
          "size": [
           78.49893491124263
          ],
          "sizemode": "area",
          "sizeref": 0.2546018072289157
         },
         "mode": "markers",
         "name": "TAM",
         "showlegend": true,
         "subplot": "mapbox",
         "type": "scattermapbox"
        },
        {
         "hovertemplate": "Team=TEN<br>FantasyPoints=%{marker.size}<br>latitude=%{lat}<br>longitude=%{lon}<extra></extra>",
         "lat": [
          36.166461
         ],
         "legendgroup": "TEN",
         "lon": [
          -86.771289
         ],
         "marker": {
          "color": "#00cc96",
          "size": [
           75.53684848484849
          ],
          "sizemode": "area",
          "sizeref": 0.2546018072289157
         },
         "mode": "markers",
         "name": "TEN",
         "showlegend": true,
         "subplot": "mapbox",
         "type": "scattermapbox"
        },
        {
         "hovertemplate": "Team=WAS<br>FantasyPoints=%{marker.size}<br>latitude=%{lat}<br>longitude=%{lon}<extra></extra>",
         "lat": [
          38.907697
         ],
         "legendgroup": "WAS",
         "lon": [
          -76.864517
         ],
         "marker": {
          "color": "#ab63fa",
          "size": [
           77.0022222222222
          ],
          "sizemode": "area",
          "sizeref": 0.2546018072289157
         },
         "mode": "markers",
         "name": "WAS",
         "showlegend": true,
         "subplot": "mapbox",
         "type": "scattermapbox"
        }
       ],
       "layout": {
        "autosize": true,
        "legend": {
         "itemsizing": "constant",
         "title": {
          "text": "Team"
         },
         "tracegroupgap": 0
        },
        "mapbox": {
         "accesstoken": "pk.eyJ1IjoiYW1hY2s1NiIsImEiOiJja3RldzZmcnAwMmd5Mm5wZngyejR2cm5iIn0.JohlA6vRxmH-iugH7u_xXA",
         "bearing": 0,
         "center": {
          "lat": 37.85890775410466,
          "lon": -92.4600135696868
         },
         "domain": {
          "x": [
           0,
           1
          ],
          "y": [
           0,
           1
          ]
         },
         "pitch": 0,
         "zoom": 2.0308931029173887
        },
        "margin": {
         "t": 60
        },
        "template": {
         "data": {
          "bar": [
           {
            "error_x": {
             "color": "#2a3f5f"
            },
            "error_y": {
             "color": "#2a3f5f"
            },
            "marker": {
             "line": {
              "color": "#E5ECF6",
              "width": 0.5
             },
             "pattern": {
              "fillmode": "overlay",
              "size": 10,
              "solidity": 0.2
             }
            },
            "type": "bar"
           }
          ],
          "barpolar": [
           {
            "marker": {
             "line": {
              "color": "#E5ECF6",
              "width": 0.5
             },
             "pattern": {
              "fillmode": "overlay",
              "size": 10,
              "solidity": 0.2
             }
            },
            "type": "barpolar"
           }
          ],
          "carpet": [
           {
            "aaxis": {
             "endlinecolor": "#2a3f5f",
             "gridcolor": "white",
             "linecolor": "white",
             "minorgridcolor": "white",
             "startlinecolor": "#2a3f5f"
            },
            "baxis": {
             "endlinecolor": "#2a3f5f",
             "gridcolor": "white",
             "linecolor": "white",
             "minorgridcolor": "white",
             "startlinecolor": "#2a3f5f"
            },
            "type": "carpet"
           }
          ],
          "choropleth": [
           {
            "colorbar": {
             "outlinewidth": 0,
             "ticks": ""
            },
            "type": "choropleth"
           }
          ],
          "contour": [
           {
            "colorbar": {
             "outlinewidth": 0,
             "ticks": ""
            },
            "colorscale": [
             [
              0,
              "#0d0887"
             ],
             [
              0.1111111111111111,
              "#46039f"
             ],
             [
              0.2222222222222222,
              "#7201a8"
             ],
             [
              0.3333333333333333,
              "#9c179e"
             ],
             [
              0.4444444444444444,
              "#bd3786"
             ],
             [
              0.5555555555555556,
              "#d8576b"
             ],
             [
              0.6666666666666666,
              "#ed7953"
             ],
             [
              0.7777777777777778,
              "#fb9f3a"
             ],
             [
              0.8888888888888888,
              "#fdca26"
             ],
             [
              1,
              "#f0f921"
             ]
            ],
            "type": "contour"
           }
          ],
          "contourcarpet": [
           {
            "colorbar": {
             "outlinewidth": 0,
             "ticks": ""
            },
            "type": "contourcarpet"
           }
          ],
          "heatmap": [
           {
            "colorbar": {
             "outlinewidth": 0,
             "ticks": ""
            },
            "colorscale": [
             [
              0,
              "#0d0887"
             ],
             [
              0.1111111111111111,
              "#46039f"
             ],
             [
              0.2222222222222222,
              "#7201a8"
             ],
             [
              0.3333333333333333,
              "#9c179e"
             ],
             [
              0.4444444444444444,
              "#bd3786"
             ],
             [
              0.5555555555555556,
              "#d8576b"
             ],
             [
              0.6666666666666666,
              "#ed7953"
             ],
             [
              0.7777777777777778,
              "#fb9f3a"
             ],
             [
              0.8888888888888888,
              "#fdca26"
             ],
             [
              1,
              "#f0f921"
             ]
            ],
            "type": "heatmap"
           }
          ],
          "heatmapgl": [
           {
            "colorbar": {
             "outlinewidth": 0,
             "ticks": ""
            },
            "colorscale": [
             [
              0,
              "#0d0887"
             ],
             [
              0.1111111111111111,
              "#46039f"
             ],
             [
              0.2222222222222222,
              "#7201a8"
             ],
             [
              0.3333333333333333,
              "#9c179e"
             ],
             [
              0.4444444444444444,
              "#bd3786"
             ],
             [
              0.5555555555555556,
              "#d8576b"
             ],
             [
              0.6666666666666666,
              "#ed7953"
             ],
             [
              0.7777777777777778,
              "#fb9f3a"
             ],
             [
              0.8888888888888888,
              "#fdca26"
             ],
             [
              1,
              "#f0f921"
             ]
            ],
            "type": "heatmapgl"
           }
          ],
          "histogram": [
           {
            "marker": {
             "pattern": {
              "fillmode": "overlay",
              "size": 10,
              "solidity": 0.2
             }
            },
            "type": "histogram"
           }
          ],
          "histogram2d": [
           {
            "colorbar": {
             "outlinewidth": 0,
             "ticks": ""
            },
            "colorscale": [
             [
              0,
              "#0d0887"
             ],
             [
              0.1111111111111111,
              "#46039f"
             ],
             [
              0.2222222222222222,
              "#7201a8"
             ],
             [
              0.3333333333333333,
              "#9c179e"
             ],
             [
              0.4444444444444444,
              "#bd3786"
             ],
             [
              0.5555555555555556,
              "#d8576b"
             ],
             [
              0.6666666666666666,
              "#ed7953"
             ],
             [
              0.7777777777777778,
              "#fb9f3a"
             ],
             [
              0.8888888888888888,
              "#fdca26"
             ],
             [
              1,
              "#f0f921"
             ]
            ],
            "type": "histogram2d"
           }
          ],
          "histogram2dcontour": [
           {
            "colorbar": {
             "outlinewidth": 0,
             "ticks": ""
            },
            "colorscale": [
             [
              0,
              "#0d0887"
             ],
             [
              0.1111111111111111,
              "#46039f"
             ],
             [
              0.2222222222222222,
              "#7201a8"
             ],
             [
              0.3333333333333333,
              "#9c179e"
             ],
             [
              0.4444444444444444,
              "#bd3786"
             ],
             [
              0.5555555555555556,
              "#d8576b"
             ],
             [
              0.6666666666666666,
              "#ed7953"
             ],
             [
              0.7777777777777778,
              "#fb9f3a"
             ],
             [
              0.8888888888888888,
              "#fdca26"
             ],
             [
              1,
              "#f0f921"
             ]
            ],
            "type": "histogram2dcontour"
           }
          ],
          "mesh3d": [
           {
            "colorbar": {
             "outlinewidth": 0,
             "ticks": ""
            },
            "type": "mesh3d"
           }
          ],
          "parcoords": [
           {
            "line": {
             "colorbar": {
              "outlinewidth": 0,
              "ticks": ""
             }
            },
            "type": "parcoords"
           }
          ],
          "pie": [
           {
            "automargin": true,
            "type": "pie"
           }
          ],
          "scatter": [
           {
            "marker": {
             "colorbar": {
              "outlinewidth": 0,
              "ticks": ""
             }
            },
            "type": "scatter"
           }
          ],
          "scatter3d": [
           {
            "line": {
             "colorbar": {
              "outlinewidth": 0,
              "ticks": ""
             }
            },
            "marker": {
             "colorbar": {
              "outlinewidth": 0,
              "ticks": ""
             }
            },
            "type": "scatter3d"
           }
          ],
          "scattercarpet": [
           {
            "marker": {
             "colorbar": {
              "outlinewidth": 0,
              "ticks": ""
             }
            },
            "type": "scattercarpet"
           }
          ],
          "scattergeo": [
           {
            "marker": {
             "colorbar": {
              "outlinewidth": 0,
              "ticks": ""
             }
            },
            "type": "scattergeo"
           }
          ],
          "scattergl": [
           {
            "marker": {
             "colorbar": {
              "outlinewidth": 0,
              "ticks": ""
             }
            },
            "type": "scattergl"
           }
          ],
          "scattermapbox": [
           {
            "marker": {
             "colorbar": {
              "outlinewidth": 0,
              "ticks": ""
             }
            },
            "type": "scattermapbox"
           }
          ],
          "scatterpolar": [
           {
            "marker": {
             "colorbar": {
              "outlinewidth": 0,
              "ticks": ""
             }
            },
            "type": "scatterpolar"
           }
          ],
          "scatterpolargl": [
           {
            "marker": {
             "colorbar": {
              "outlinewidth": 0,
              "ticks": ""
             }
            },
            "type": "scatterpolargl"
           }
          ],
          "scatterternary": [
           {
            "marker": {
             "colorbar": {
              "outlinewidth": 0,
              "ticks": ""
             }
            },
            "type": "scatterternary"
           }
          ],
          "surface": [
           {
            "colorbar": {
             "outlinewidth": 0,
             "ticks": ""
            },
            "colorscale": [
             [
              0,
              "#0d0887"
             ],
             [
              0.1111111111111111,
              "#46039f"
             ],
             [
              0.2222222222222222,
              "#7201a8"
             ],
             [
              0.3333333333333333,
              "#9c179e"
             ],
             [
              0.4444444444444444,
              "#bd3786"
             ],
             [
              0.5555555555555556,
              "#d8576b"
             ],
             [
              0.6666666666666666,
              "#ed7953"
             ],
             [
              0.7777777777777778,
              "#fb9f3a"
             ],
             [
              0.8888888888888888,
              "#fdca26"
             ],
             [
              1,
              "#f0f921"
             ]
            ],
            "type": "surface"
           }
          ],
          "table": [
           {
            "cells": {
             "fill": {
              "color": "#EBF0F8"
             },
             "line": {
              "color": "white"
             }
            },
            "header": {
             "fill": {
              "color": "#C8D4E3"
             },
             "line": {
              "color": "white"
             }
            },
            "type": "table"
           }
          ]
         },
         "layout": {
          "annotationdefaults": {
           "arrowcolor": "#2a3f5f",
           "arrowhead": 0,
           "arrowwidth": 1
          },
          "autotypenumbers": "strict",
          "coloraxis": {
           "colorbar": {
            "outlinewidth": 0,
            "ticks": ""
           }
          },
          "colorscale": {
           "diverging": [
            [
             0,
             "#8e0152"
            ],
            [
             0.1,
             "#c51b7d"
            ],
            [
             0.2,
             "#de77ae"
            ],
            [
             0.3,
             "#f1b6da"
            ],
            [
             0.4,
             "#fde0ef"
            ],
            [
             0.5,
             "#f7f7f7"
            ],
            [
             0.6,
             "#e6f5d0"
            ],
            [
             0.7,
             "#b8e186"
            ],
            [
             0.8,
             "#7fbc41"
            ],
            [
             0.9,
             "#4d9221"
            ],
            [
             1,
             "#276419"
            ]
           ],
           "sequential": [
            [
             0,
             "#0d0887"
            ],
            [
             0.1111111111111111,
             "#46039f"
            ],
            [
             0.2222222222222222,
             "#7201a8"
            ],
            [
             0.3333333333333333,
             "#9c179e"
            ],
            [
             0.4444444444444444,
             "#bd3786"
            ],
            [
             0.5555555555555556,
             "#d8576b"
            ],
            [
             0.6666666666666666,
             "#ed7953"
            ],
            [
             0.7777777777777778,
             "#fb9f3a"
            ],
            [
             0.8888888888888888,
             "#fdca26"
            ],
            [
             1,
             "#f0f921"
            ]
           ],
           "sequentialminus": [
            [
             0,
             "#0d0887"
            ],
            [
             0.1111111111111111,
             "#46039f"
            ],
            [
             0.2222222222222222,
             "#7201a8"
            ],
            [
             0.3333333333333333,
             "#9c179e"
            ],
            [
             0.4444444444444444,
             "#bd3786"
            ],
            [
             0.5555555555555556,
             "#d8576b"
            ],
            [
             0.6666666666666666,
             "#ed7953"
            ],
            [
             0.7777777777777778,
             "#fb9f3a"
            ],
            [
             0.8888888888888888,
             "#fdca26"
            ],
            [
             1,
             "#f0f921"
            ]
           ]
          },
          "colorway": [
           "#636efa",
           "#EF553B",
           "#00cc96",
           "#ab63fa",
           "#FFA15A",
           "#19d3f3",
           "#FF6692",
           "#B6E880",
           "#FF97FF",
           "#FECB52"
          ],
          "font": {
           "color": "#2a3f5f"
          },
          "geo": {
           "bgcolor": "white",
           "lakecolor": "white",
           "landcolor": "#E5ECF6",
           "showlakes": true,
           "showland": true,
           "subunitcolor": "white"
          },
          "hoverlabel": {
           "align": "left"
          },
          "hovermode": "closest",
          "mapbox": {
           "style": "light"
          },
          "paper_bgcolor": "white",
          "plot_bgcolor": "#E5ECF6",
          "polar": {
           "angularaxis": {
            "gridcolor": "white",
            "linecolor": "white",
            "ticks": ""
           },
           "bgcolor": "#E5ECF6",
           "radialaxis": {
            "gridcolor": "white",
            "linecolor": "white",
            "ticks": ""
           }
          },
          "scene": {
           "xaxis": {
            "backgroundcolor": "#E5ECF6",
            "gridcolor": "white",
            "gridwidth": 2,
            "linecolor": "white",
            "showbackground": true,
            "ticks": "",
            "zerolinecolor": "white"
           },
           "yaxis": {
            "backgroundcolor": "#E5ECF6",
            "gridcolor": "white",
            "gridwidth": 2,
            "linecolor": "white",
            "showbackground": true,
            "ticks": "",
            "zerolinecolor": "white"
           },
           "zaxis": {
            "backgroundcolor": "#E5ECF6",
            "gridcolor": "white",
            "gridwidth": 2,
            "linecolor": "white",
            "showbackground": true,
            "ticks": "",
            "zerolinecolor": "white"
           }
          },
          "shapedefaults": {
           "line": {
            "color": "#2a3f5f"
           }
          },
          "ternary": {
           "aaxis": {
            "gridcolor": "white",
            "linecolor": "white",
            "ticks": ""
           },
           "baxis": {
            "gridcolor": "white",
            "linecolor": "white",
            "ticks": ""
           },
           "bgcolor": "#E5ECF6",
           "caxis": {
            "gridcolor": "white",
            "linecolor": "white",
            "ticks": ""
           }
          },
          "title": {
           "x": 0.05
          },
          "xaxis": {
           "automargin": true,
           "gridcolor": "white",
           "linecolor": "white",
           "ticks": "",
           "title": {
            "standoff": 15
           },
           "zerolinecolor": "white",
           "zerolinewidth": 2
          },
          "yaxis": {
           "automargin": true,
           "gridcolor": "white",
           "linecolor": "white",
           "ticks": "",
           "title": {
            "standoff": 15
           },
           "zerolinecolor": "white",
           "zerolinewidth": 2
          }
         }
        }
       }
      },
      "image/png": "[encoded data removed]",
      "text/html": [
       "<div>                            <div id=\"0bb40a29-317d-4160-ac82-f30c73b468df\" class=\"plotly-graph-div\" style=\"height:525px; width:100%;\"></div>            <script type=\"text/javascript\">                require([\"plotly\"], function(Plotly) {                    window.PLOTLYENV=window.PLOTLYENV || {};                                    if (document.getElementById(\"0bb40a29-317d-4160-ac82-f30c73b468df\")) {                    Plotly.newPlot(                        \"0bb40a29-317d-4160-ac82-f30c73b468df\",                        [{\"hovertemplate\":\"Team=ARI<br>FantasyPoints=%{marker.size}<br>latitude=%{lat}<br>longitude=%{lon}<extra></extra>\",\"lat\":[33.5277],\"legendgroup\":\"ARI\",\"lon\":[-112.26260800000001],\"marker\":{\"color\":\"#636efa\",\"size\":[69.98467836257312],\"sizemode\":\"area\",\"sizeref\":0.2546018072289157},\"mode\":\"markers\",\"name\":\"ARI\",\"showlegend\":true,\"subplot\":\"mapbox\",\"type\":\"scattermapbox\"},{\"hovertemplate\":\"Team=ATL<br>FantasyPoints=%{marker.size}<br>latitude=%{lat}<br>longitude=%{lon}<extra></extra>\",\"lat\":[33.757614000000004],\"legendgroup\":\"ATL\",\"lon\":[-84.400972],\"marker\":{\"color\":\"#EF553B\",\"size\":[95.82898734177219],\"sizemode\":\"area\",\"sizeref\":0.2546018072289157},\"mode\":\"markers\",\"name\":\"ATL\",\"showlegend\":true,\"subplot\":\"mapbox\",\"type\":\"scattermapbox\"},{\"hovertemplate\":\"Team=BAL<br>FantasyPoints=%{marker.size}<br>latitude=%{lat}<br>longitude=%{lon}<extra></extra>\",\"lat\":[39.277969],\"legendgroup\":\"BAL\",\"lon\":[-76.62276700000001],\"marker\":{\"color\":\"#00cc96\",\"size\":[85.04320512820514],\"sizemode\":\"area\",\"sizeref\":0.2546018072289157},\"mode\":\"markers\",\"name\":\"BAL\",\"showlegend\":true,\"subplot\":\"mapbox\",\"type\":\"scattermapbox\"},{\"hovertemplate\":\"Team=BUF<br>FantasyPoints=%{marker.size}<br>latitude=%{lat}<br>longitude=%{lon}<extra></extra>\",\"lat\":[42.773739],\"legendgroup\":\"BUF\",\"lon\":[-78.786978],\"marker\":{\"color\":\"#ab63fa\",\"size\":[69.66863905325445],\"sizemode\":\"area\",\"sizeref\":0.2546018072289157},\"mode\":\"markers\",\"name\":\"BUF\",\"showlegend\":true,\"subplot\":\"mapbox\",\"type\":\"scattermapbox\"},{\"hovertemplate\":\"Team=CAR<br>FantasyPoints=%{marker.size}<br>latitude=%{lat}<br>longitude=%{lon}<extra></extra>\",\"lat\":[35.225808],\"legendgroup\":\"CAR\",\"lon\":[-80.852861],\"marker\":{\"color\":\"#FFA15A\",\"size\":[84.75657894736848],\"sizemode\":\"area\",\"sizeref\":0.2546018072289157},\"mode\":\"markers\",\"name\":\"CAR\",\"showlegend\":true,\"subplot\":\"mapbox\",\"type\":\"scattermapbox\"},{\"hovertemplate\":\"Team=CHI<br>FantasyPoints=%{marker.size}<br>latitude=%{lat}<br>longitude=%{lon}<extra></extra>\",\"lat\":[41.862306],\"legendgroup\":\"CHI\",\"lon\":[-87.616672],\"marker\":{\"color\":\"#19d3f3\",\"size\":[79.79769230769234],\"sizemode\":\"area\",\"sizeref\":0.2546018072289157},\"mode\":\"markers\",\"name\":\"CHI\",\"showlegend\":true,\"subplot\":\"mapbox\",\"type\":\"scattermapbox\"},{\"hovertemplate\":\"Team=CIN<br>FantasyPoints=%{marker.size}<br>latitude=%{lat}<br>longitude=%{lon}<extra></extra>\",\"lat\":[39.095442],\"legendgroup\":\"CIN\",\"lon\":[-84.516039],\"marker\":{\"color\":\"#FF6692\",\"size\":[84.89741935483872],\"sizemode\":\"area\",\"sizeref\":0.2546018072289157},\"mode\":\"markers\",\"name\":\"CIN\",\"showlegend\":true,\"subplot\":\"mapbox\",\"type\":\"scattermapbox\"},{\"hovertemplate\":\"Team=CLE<br>FantasyPoints=%{marker.size}<br>latitude=%{lat}<br>longitude=%{lon}<extra></extra>\",\"lat\":[41.506021999999994],\"legendgroup\":\"CLE\",\"lon\":[-81.699564],\"marker\":{\"color\":\"#B6E880\",\"size\":[69.08623529411769],\"sizemode\":\"area\",\"sizeref\":0.2546018072289157},\"mode\":\"markers\",\"name\":\"CLE\",\"showlegend\":true,\"subplot\":\"mapbox\",\"type\":\"scattermapbox\"},{\"hovertemplate\":\"Team=DAL<br>FantasyPoints=%{marker.size}<br>latitude=%{lat}<br>longitude=%{lon}<extra></extra>\",\"lat\":[32.747778000000004],\"legendgroup\":\"DAL\",\"lon\":[-97.09277800000001],\"marker\":{\"color\":\"#FF97FF\",\"size\":[92.08549019607844],\"sizemode\":\"area\",\"sizeref\":0.2546018072289157},\"mode\":\"markers\",\"name\":\"DAL\",\"showlegend\":true,\"subplot\":\"mapbox\",\"type\":\"scattermapbox\"},{\"hovertemplate\":\"Team=DEN<br>FantasyPoints=%{marker.size}<br>latitude=%{lat}<br>longitude=%{lon}<extra></extra>\",\"lat\":[39.743936],\"legendgroup\":\"DEN\",\"lon\":[-105.02009699999999],\"marker\":{\"color\":\"#FECB52\",\"size\":[88.43025974025971],\"sizemode\":\"area\",\"sizeref\":0.2546018072289157},\"mode\":\"markers\",\"name\":\"DEN\",\"showlegend\":true,\"subplot\":\"mapbox\",\"type\":\"scattermapbox\"},{\"hovertemplate\":\"Team=DET<br>FantasyPoints=%{marker.size}<br>latitude=%{lat}<br>longitude=%{lon}<extra></extra>\",\"lat\":[42.340156],\"legendgroup\":\"DET\",\"lon\":[-83.045808],\"marker\":{\"color\":\"#636efa\",\"size\":[90.25088607594935],\"sizemode\":\"area\",\"sizeref\":0.2546018072289157},\"mode\":\"markers\",\"name\":\"DET\",\"showlegend\":true,\"subplot\":\"mapbox\",\"type\":\"scattermapbox\"},{\"hovertemplate\":\"Team=GNB<br>FantasyPoints=%{marker.size}<br>latitude=%{lat}<br>longitude=%{lon}<extra></extra>\",\"lat\":[44.501306],\"legendgroup\":\"GNB\",\"lon\":[-88.062167],\"marker\":{\"color\":\"#EF553B\",\"size\":[89.21619047619049],\"sizemode\":\"area\",\"sizeref\":0.2546018072289157},\"mode\":\"markers\",\"name\":\"GNB\",\"showlegend\":true,\"subplot\":\"mapbox\",\"type\":\"scattermapbox\"},{\"hovertemplate\":\"Team=HOU<br>FantasyPoints=%{marker.size}<br>latitude=%{lat}<br>longitude=%{lon}<extra></extra>\",\"lat\":[29.684781],\"legendgroup\":\"HOU\",\"lon\":[-95.410956],\"marker\":{\"color\":\"#00cc96\",\"size\":[83.26025157232705],\"sizemode\":\"area\",\"sizeref\":0.2546018072289157},\"mode\":\"markers\",\"name\":\"HOU\",\"showlegend\":true,\"subplot\":\"mapbox\",\"type\":\"scattermapbox\"},{\"hovertemplate\":\"Team=IND<br>FantasyPoints=%{marker.size}<br>latitude=%{lat}<br>longitude=%{lon}<extra></extra>\",\"lat\":[39.760056],\"legendgroup\":\"IND\",\"lon\":[-86.16380600000001],\"marker\":{\"color\":\"#ab63fa\",\"size\":[82.49277108433735],\"sizemode\":\"area\",\"sizeref\":0.2546018072289157},\"mode\":\"markers\",\"name\":\"IND\",\"showlegend\":true,\"subplot\":\"mapbox\",\"type\":\"scattermapbox\"},{\"hovertemplate\":\"Team=JAX<br>FantasyPoints=%{marker.size}<br>latitude=%{lat}<br>longitude=%{lon}<extra></extra>\",\"lat\":[30.323925],\"legendgroup\":\"JAX\",\"lon\":[-81.63735600000001],\"marker\":{\"color\":\"#FFA15A\",\"size\":[65.27945054945056],\"sizemode\":\"area\",\"sizeref\":0.2546018072289157},\"mode\":\"markers\",\"name\":\"JAX\",\"showlegend\":true,\"subplot\":\"mapbox\",\"type\":\"scattermapbox\"},{\"hovertemplate\":\"Team=KAN<br>FantasyPoints=%{marker.size}<br>latitude=%{lat}<br>longitude=%{lon}<extra></extra>\",\"lat\":[39.048914],\"legendgroup\":\"KAN\",\"lon\":[-94.484039],\"marker\":{\"color\":\"#19d3f3\",\"size\":[80.68533333333333],\"sizemode\":\"area\",\"sizeref\":0.2546018072289157},\"mode\":\"markers\",\"name\":\"KAN\",\"showlegend\":true,\"subplot\":\"mapbox\",\"type\":\"scattermapbox\"},{\"hovertemplate\":\"Team=LAC<br>FantasyPoints=%{marker.size}<br>latitude=%{lat}<br>longitude=%{lon}<extra></extra>\",\"lat\":[32.783117],\"legendgroup\":\"LAC\",\"lon\":[-117.119525],\"marker\":{\"color\":\"#FF6692\",\"size\":[95.91521739130438],\"sizemode\":\"area\",\"sizeref\":0.2546018072289157},\"mode\":\"markers\",\"name\":\"LAC\",\"showlegend\":true,\"subplot\":\"mapbox\",\"type\":\"scattermapbox\"},{\"hovertemplate\":\"Team=LAR<br>FantasyPoints=%{marker.size}<br>latitude=%{lat}<br>longitude=%{lon}<extra></extra>\",\"lat\":[38.632975],\"legendgroup\":\"LAR\",\"lon\":[-90.188547],\"marker\":{\"color\":\"#B6E880\",\"size\":[91.18524590163932],\"sizemode\":\"area\",\"sizeref\":0.2546018072289157},\"mode\":\"markers\",\"name\":\"LAR\",\"showlegend\":true,\"subplot\":\"mapbox\",\"type\":\"scattermapbox\"},{\"hovertemplate\":\"Team=MIA<br>FantasyPoints=%{marker.size}<br>latitude=%{lat}<br>longitude=%{lon}<extra></extra>\",\"lat\":[25.957919],\"legendgroup\":\"MIA\",\"lon\":[-80.238842],\"marker\":{\"color\":\"#FF97FF\",\"size\":[84.4159183673469],\"sizemode\":\"area\",\"sizeref\":0.2546018072289157},\"mode\":\"markers\",\"name\":\"MIA\",\"showlegend\":true,\"subplot\":\"mapbox\",\"type\":\"scattermapbox\"},{\"hovertemplate\":\"Team=MIN<br>FantasyPoints=%{marker.size}<br>latitude=%{lat}<br>longitude=%{lon}<extra></extra>\",\"lat\":[44.973881],\"legendgroup\":\"MIN\",\"lon\":[-93.258094],\"marker\":{\"color\":\"#FECB52\",\"size\":[81.02253164556961],\"sizemode\":\"area\",\"sizeref\":0.2546018072289157},\"mode\":\"markers\",\"name\":\"MIN\",\"showlegend\":true,\"subplot\":\"mapbox\",\"type\":\"scattermapbox\"},{\"hovertemplate\":\"Team=NOR<br>FantasyPoints=%{marker.size}<br>latitude=%{lat}<br>longitude=%{lon}<extra></extra>\",\"lat\":[29.950931],\"legendgroup\":\"NOR\",\"lon\":[-90.08136400000001],\"marker\":{\"color\":\"#636efa\",\"size\":[101.84072289156627],\"sizemode\":\"area\",\"sizeref\":0.2546018072289157},\"mode\":\"markers\",\"name\":\"NOR\",\"showlegend\":true,\"subplot\":\"mapbox\",\"type\":\"scattermapbox\"},{\"hovertemplate\":\"Team=NWE<br>FantasyPoints=%{marker.size}<br>latitude=%{lat}<br>longitude=%{lon}<extra></extra>\",\"lat\":[42.090925],\"legendgroup\":\"NWE\",\"lon\":[-71.26435],\"marker\":{\"color\":\"#EF553B\",\"size\":[96.97278481012663],\"sizemode\":\"area\",\"sizeref\":0.2546018072289157},\"mode\":\"markers\",\"name\":\"NWE\",\"showlegend\":true,\"subplot\":\"mapbox\",\"type\":\"scattermapbox\"},{\"hovertemplate\":\"Team=NYG<br>FantasyPoints=%{marker.size}<br>latitude=%{lat}<br>longitude=%{lon}<extra></extra>\",\"lat\":[40.812194],\"legendgroup\":\"NYG\",\"lon\":[-74.076983],\"marker\":{\"color\":\"#00cc96\",\"size\":[81.53076023391812],\"sizemode\":\"area\",\"sizeref\":0.2546018072289157},\"mode\":\"markers\",\"name\":\"NYG\",\"showlegend\":true,\"subplot\":\"mapbox\",\"type\":\"scattermapbox\"},{\"hovertemplate\":\"Team=NYJ<br>FantasyPoints=%{marker.size}<br>latitude=%{lat}<br>longitude=%{lon}<extra></extra>\",\"lat\":[40.812194],\"legendgroup\":\"NYJ\",\"lon\":[-74.076983],\"marker\":{\"color\":\"#ab63fa\",\"size\":[68.03823529411767],\"sizemode\":\"area\",\"sizeref\":0.2546018072289157},\"mode\":\"markers\",\"name\":\"NYJ\",\"showlegend\":true,\"subplot\":\"mapbox\",\"type\":\"scattermapbox\"},{\"hovertemplate\":\"Team=OAK<br>FantasyPoints=%{marker.size}<br>latitude=%{lat}<br>longitude=%{lon}<extra></extra>\",\"lat\":[37.751411],\"legendgroup\":\"OAK\",\"lon\":[-122.20088899999999],\"marker\":{\"color\":\"#FFA15A\",\"size\":[77.53238095238096],\"sizemode\":\"area\",\"sizeref\":0.2546018072289157},\"mode\":\"markers\",\"name\":\"OAK\",\"showlegend\":true,\"subplot\":\"mapbox\",\"type\":\"scattermapbox\"},{\"hovertemplate\":\"Team=PHI<br>FantasyPoints=%{marker.size}<br>latitude=%{lat}<br>longitude=%{lon}<extra></extra>\",\"lat\":[39.900775],\"legendgroup\":\"PHI\",\"lon\":[-75.16745300000001],\"marker\":{\"color\":\"#19d3f3\",\"size\":[93.15805194805195],\"sizemode\":\"area\",\"sizeref\":0.2546018072289157},\"mode\":\"markers\",\"name\":\"PHI\",\"showlegend\":true,\"subplot\":\"mapbox\",\"type\":\"scattermapbox\"},{\"hovertemplate\":\"Team=PIT<br>FantasyPoints=%{marker.size}<br>latitude=%{lat}<br>longitude=%{lon}<extra></extra>\",\"lat\":[40.446785999999996],\"legendgroup\":\"PIT\",\"lon\":[-80.015761],\"marker\":{\"color\":\"#FF6692\",\"size\":[84.76035502958581],\"sizemode\":\"area\",\"sizeref\":0.2546018072289157},\"mode\":\"markers\",\"name\":\"PIT\",\"showlegend\":true,\"subplot\":\"mapbox\",\"type\":\"scattermapbox\"},{\"hovertemplate\":\"Team=SDG<br>FantasyPoints=%{marker.size}<br>latitude=%{lat}<br>longitude=%{lon}<extra></extra>\",\"lat\":[32.715736],\"legendgroup\":\"SDG\",\"lon\":[-117.16108700000001],\"marker\":{\"color\":\"#B6E880\",\"size\":[90.65910714285717],\"sizemode\":\"area\",\"sizeref\":0.2546018072289157},\"mode\":\"markers\",\"name\":\"SDG\",\"showlegend\":true,\"subplot\":\"mapbox\",\"type\":\"scattermapbox\"},{\"hovertemplate\":\"Team=SEA<br>FantasyPoints=%{marker.size}<br>latitude=%{lat}<br>longitude=%{lon}<extra></extra>\",\"lat\":[47.595153],\"legendgroup\":\"SEA\",\"lon\":[-122.331625],\"marker\":{\"color\":\"#FF97FF\",\"size\":[78.34710843373487],\"sizemode\":\"area\",\"sizeref\":0.2546018072289157},\"mode\":\"markers\",\"name\":\"SEA\",\"showlegend\":true,\"subplot\":\"mapbox\",\"type\":\"scattermapbox\"},{\"hovertemplate\":\"Team=SFO<br>FantasyPoints=%{marker.size}<br>latitude=%{lat}<br>longitude=%{lon}<extra></extra>\",\"lat\":[37.713485999999996],\"legendgroup\":\"SFO\",\"lon\":[-122.386256],\"marker\":{\"color\":\"#FECB52\",\"size\":[75.77652173913043],\"sizemode\":\"area\",\"sizeref\":0.2546018072289157},\"mode\":\"markers\",\"name\":\"SFO\",\"showlegend\":true,\"subplot\":\"mapbox\",\"type\":\"scattermapbox\"},{\"hovertemplate\":\"Team=STL<br>FantasyPoints=%{marker.size}<br>latitude=%{lat}<br>longitude=%{lon}<extra></extra>\",\"lat\":[38.627003],\"legendgroup\":\"STL\",\"lon\":[-90.199402],\"marker\":{\"color\":\"#636efa\",\"size\":[71.7505376344086],\"sizemode\":\"area\",\"sizeref\":0.2546018072289157},\"mode\":\"markers\",\"name\":\"STL\",\"showlegend\":true,\"subplot\":\"mapbox\",\"type\":\"scattermapbox\"},{\"hovertemplate\":\"Team=TAM<br>FantasyPoints=%{marker.size}<br>latitude=%{lat}<br>longitude=%{lon}<extra></extra>\",\"lat\":[27.975966999999997],\"legendgroup\":\"TAM\",\"lon\":[-82.50335],\"marker\":{\"color\":\"#EF553B\",\"size\":[78.49893491124263],\"sizemode\":\"area\",\"sizeref\":0.2546018072289157},\"mode\":\"markers\",\"name\":\"TAM\",\"showlegend\":true,\"subplot\":\"mapbox\",\"type\":\"scattermapbox\"},{\"hovertemplate\":\"Team=TEN<br>FantasyPoints=%{marker.size}<br>latitude=%{lat}<br>longitude=%{lon}<extra></extra>\",\"lat\":[36.166461],\"legendgroup\":\"TEN\",\"lon\":[-86.771289],\"marker\":{\"color\":\"#00cc96\",\"size\":[75.53684848484849],\"sizemode\":\"area\",\"sizeref\":0.2546018072289157},\"mode\":\"markers\",\"name\":\"TEN\",\"showlegend\":true,\"subplot\":\"mapbox\",\"type\":\"scattermapbox\"},{\"hovertemplate\":\"Team=WAS<br>FantasyPoints=%{marker.size}<br>latitude=%{lat}<br>longitude=%{lon}<extra></extra>\",\"lat\":[38.907697],\"legendgroup\":\"WAS\",\"lon\":[-76.864517],\"marker\":{\"color\":\"#ab63fa\",\"size\":[77.0022222222222],\"sizemode\":\"area\",\"sizeref\":0.2546018072289157},\"mode\":\"markers\",\"name\":\"WAS\",\"showlegend\":true,\"subplot\":\"mapbox\",\"type\":\"scattermapbox\"}],                        {\"legend\":{\"itemsizing\":\"constant\",\"title\":{\"text\":\"Team\"},\"tracegroupgap\":0},\"mapbox\":{\"accesstoken\":\"pk.eyJ1IjoiYW1hY2s1NiIsImEiOiJja3RldzZmcnAwMmd5Mm5wZngyejR2cm5iIn0.JohlA6vRxmH-iugH7u_xXA\",\"center\":{\"lat\":37.61741361764706,\"lon\":-90.6935819117647},\"domain\":{\"x\":[0.0,1.0],\"y\":[0.0,1.0]},\"zoom\":2},\"margin\":{\"t\":60},\"template\":{\"data\":{\"bar\":[{\"error_x\":{\"color\":\"#2a3f5f\"},\"error_y\":{\"color\":\"#2a3f5f\"},\"marker\":{\"line\":{\"color\":\"#E5ECF6\",\"width\":0.5},\"pattern\":{\"fillmode\":\"overlay\",\"size\":10,\"solidity\":0.2}},\"type\":\"bar\"}],\"barpolar\":[{\"marker\":{\"line\":{\"color\":\"#E5ECF6\",\"width\":0.5},\"pattern\":{\"fillmode\":\"overlay\",\"size\":10,\"solidity\":0.2}},\"type\":\"barpolar\"}],\"carpet\":[{\"aaxis\":{\"endlinecolor\":\"#2a3f5f\",\"gridcolor\":\"white\",\"linecolor\":\"white\",\"minorgridcolor\":\"white\",\"startlinecolor\":\"#2a3f5f\"},\"baxis\":{\"endlinecolor\":\"#2a3f5f\",\"gridcolor\":\"white\",\"linecolor\":\"white\",\"minorgridcolor\":\"white\",\"startlinecolor\":\"#2a3f5f\"},\"type\":\"carpet\"}],\"choropleth\":[{\"colorbar\":{\"outlinewidth\":0,\"ticks\":\"\"},\"type\":\"choropleth\"}],\"contour\":[{\"colorbar\":{\"outlinewidth\":0,\"ticks\":\"\"},\"colorscale\":[[0.0,\"#0d0887\"],[0.1111111111111111,\"#46039f\"],[0.2222222222222222,\"#7201a8\"],[0.3333333333333333,\"#9c179e\"],[0.4444444444444444,\"#bd3786\"],[0.5555555555555556,\"#d8576b\"],[0.6666666666666666,\"#ed7953\"],[0.7777777777777778,\"#fb9f3a\"],[0.8888888888888888,\"#fdca26\"],[1.0,\"#f0f921\"]],\"type\":\"contour\"}],\"contourcarpet\":[{\"colorbar\":{\"outlinewidth\":0,\"ticks\":\"\"},\"type\":\"contourcarpet\"}],\"heatmap\":[{\"colorbar\":{\"outlinewidth\":0,\"ticks\":\"\"},\"colorscale\":[[0.0,\"#0d0887\"],[0.1111111111111111,\"#46039f\"],[0.2222222222222222,\"#7201a8\"],[0.3333333333333333,\"#9c179e\"],[0.4444444444444444,\"#bd3786\"],[0.5555555555555556,\"#d8576b\"],[0.6666666666666666,\"#ed7953\"],[0.7777777777777778,\"#fb9f3a\"],[0.8888888888888888,\"#fdca26\"],[1.0,\"#f0f921\"]],\"type\":\"heatmap\"}],\"heatmapgl\":[{\"colorbar\":{\"outlinewidth\":0,\"ticks\":\"\"},\"colorscale\":[[0.0,\"#0d0887\"],[0.1111111111111111,\"#46039f\"],[0.2222222222222222,\"#7201a8\"],[0.3333333333333333,\"#9c179e\"],[0.4444444444444444,\"#bd3786\"],[0.5555555555555556,\"#d8576b\"],[0.6666666666666666,\"#ed7953\"],[0.7777777777777778,\"#fb9f3a\"],[0.8888888888888888,\"#fdca26\"],[1.0,\"#f0f921\"]],\"type\":\"heatmapgl\"}],\"histogram\":[{\"marker\":{\"pattern\":{\"fillmode\":\"overlay\",\"size\":10,\"solidity\":0.2}},\"type\":\"histogram\"}],\"histogram2d\":[{\"colorbar\":{\"outlinewidth\":0,\"ticks\":\"\"},\"colorscale\":[[0.0,\"#0d0887\"],[0.1111111111111111,\"#46039f\"],[0.2222222222222222,\"#7201a8\"],[0.3333333333333333,\"#9c179e\"],[0.4444444444444444,\"#bd3786\"],[0.5555555555555556,\"#d8576b\"],[0.6666666666666666,\"#ed7953\"],[0.7777777777777778,\"#fb9f3a\"],[0.8888888888888888,\"#fdca26\"],[1.0,\"#f0f921\"]],\"type\":\"histogram2d\"}],\"histogram2dcontour\":[{\"colorbar\":{\"outlinewidth\":0,\"ticks\":\"\"},\"colorscale\":[[0.0,\"#0d0887\"],[0.1111111111111111,\"#46039f\"],[0.2222222222222222,\"#7201a8\"],[0.3333333333333333,\"#9c179e\"],[0.4444444444444444,\"#bd3786\"],[0.5555555555555556,\"#d8576b\"],[0.6666666666666666,\"#ed7953\"],[0.7777777777777778,\"#fb9f3a\"],[0.8888888888888888,\"#fdca26\"],[1.0,\"#f0f921\"]],\"type\":\"histogram2dcontour\"}],\"mesh3d\":[{\"colorbar\":{\"outlinewidth\":0,\"ticks\":\"\"},\"type\":\"mesh3d\"}],\"parcoords\":[{\"line\":{\"colorbar\":{\"outlinewidth\":0,\"ticks\":\"\"}},\"type\":\"parcoords\"}],\"pie\":[{\"automargin\":true,\"type\":\"pie\"}],\"scatter\":[{\"marker\":{\"colorbar\":{\"outlinewidth\":0,\"ticks\":\"\"}},\"type\":\"scatter\"}],\"scatter3d\":[{\"line\":{\"colorbar\":{\"outlinewidth\":0,\"ticks\":\"\"}},\"marker\":{\"colorbar\":{\"outlinewidth\":0,\"ticks\":\"\"}},\"type\":\"scatter3d\"}],\"scattercarpet\":[{\"marker\":{\"colorbar\":{\"outlinewidth\":0,\"ticks\":\"\"}},\"type\":\"scattercarpet\"}],\"scattergeo\":[{\"marker\":{\"colorbar\":{\"outlinewidth\":0,\"ticks\":\"\"}},\"type\":\"scattergeo\"}],\"scattergl\":[{\"marker\":{\"colorbar\":{\"outlinewidth\":0,\"ticks\":\"\"}},\"type\":\"scattergl\"}],\"scattermapbox\":[{\"marker\":{\"colorbar\":{\"outlinewidth\":0,\"ticks\":\"\"}},\"type\":\"scattermapbox\"}],\"scatterpolar\":[{\"marker\":{\"colorbar\":{\"outlinewidth\":0,\"ticks\":\"\"}},\"type\":\"scatterpolar\"}],\"scatterpolargl\":[{\"marker\":{\"colorbar\":{\"outlinewidth\":0,\"ticks\":\"\"}},\"type\":\"scatterpolargl\"}],\"scatterternary\":[{\"marker\":{\"colorbar\":{\"outlinewidth\":0,\"ticks\":\"\"}},\"type\":\"scatterternary\"}],\"surface\":[{\"colorbar\":{\"outlinewidth\":0,\"ticks\":\"\"},\"colorscale\":[[0.0,\"#0d0887\"],[0.1111111111111111,\"#46039f\"],[0.2222222222222222,\"#7201a8\"],[0.3333333333333333,\"#9c179e\"],[0.4444444444444444,\"#bd3786\"],[0.5555555555555556,\"#d8576b\"],[0.6666666666666666,\"#ed7953\"],[0.7777777777777778,\"#fb9f3a\"],[0.8888888888888888,\"#fdca26\"],[1.0,\"#f0f921\"]],\"type\":\"surface\"}],\"table\":[{\"cells\":{\"fill\":{\"color\":\"#EBF0F8\"},\"line\":{\"color\":\"white\"}},\"header\":{\"fill\":{\"color\":\"#C8D4E3\"},\"line\":{\"color\":\"white\"}},\"type\":\"table\"}]},\"layout\":{\"annotationdefaults\":{\"arrowcolor\":\"#2a3f5f\",\"arrowhead\":0,\"arrowwidth\":1},\"autotypenumbers\":\"strict\",\"coloraxis\":{\"colorbar\":{\"outlinewidth\":0,\"ticks\":\"\"}},\"colorscale\":{\"diverging\":[[0,\"#8e0152\"],[0.1,\"#c51b7d\"],[0.2,\"#de77ae\"],[0.3,\"#f1b6da\"],[0.4,\"#fde0ef\"],[0.5,\"#f7f7f7\"],[0.6,\"#e6f5d0\"],[0.7,\"#b8e186\"],[0.8,\"#7fbc41\"],[0.9,\"#4d9221\"],[1,\"#276419\"]],\"sequential\":[[0.0,\"#0d0887\"],[0.1111111111111111,\"#46039f\"],[0.2222222222222222,\"#7201a8\"],[0.3333333333333333,\"#9c179e\"],[0.4444444444444444,\"#bd3786\"],[0.5555555555555556,\"#d8576b\"],[0.6666666666666666,\"#ed7953\"],[0.7777777777777778,\"#fb9f3a\"],[0.8888888888888888,\"#fdca26\"],[1.0,\"#f0f921\"]],\"sequentialminus\":[[0.0,\"#0d0887\"],[0.1111111111111111,\"#46039f\"],[0.2222222222222222,\"#7201a8\"],[0.3333333333333333,\"#9c179e\"],[0.4444444444444444,\"#bd3786\"],[0.5555555555555556,\"#d8576b\"],[0.6666666666666666,\"#ed7953\"],[0.7777777777777778,\"#fb9f3a\"],[0.8888888888888888,\"#fdca26\"],[1.0,\"#f0f921\"]]},\"colorway\":[\"#636efa\",\"#EF553B\",\"#00cc96\",\"#ab63fa\",\"#FFA15A\",\"#19d3f3\",\"#FF6692\",\"#B6E880\",\"#FF97FF\",\"#FECB52\"],\"font\":{\"color\":\"#2a3f5f\"},\"geo\":{\"bgcolor\":\"white\",\"lakecolor\":\"white\",\"landcolor\":\"#E5ECF6\",\"showlakes\":true,\"showland\":true,\"subunitcolor\":\"white\"},\"hoverlabel\":{\"align\":\"left\"},\"hovermode\":\"closest\",\"mapbox\":{\"style\":\"light\"},\"paper_bgcolor\":\"white\",\"plot_bgcolor\":\"#E5ECF6\",\"polar\":{\"angularaxis\":{\"gridcolor\":\"white\",\"linecolor\":\"white\",\"ticks\":\"\"},\"bgcolor\":\"#E5ECF6\",\"radialaxis\":{\"gridcolor\":\"white\",\"linecolor\":\"white\",\"ticks\":\"\"}},\"scene\":{\"xaxis\":{\"backgroundcolor\":\"#E5ECF6\",\"gridcolor\":\"white\",\"gridwidth\":2,\"linecolor\":\"white\",\"showbackground\":true,\"ticks\":\"\",\"zerolinecolor\":\"white\"},\"yaxis\":{\"backgroundcolor\":\"#E5ECF6\",\"gridcolor\":\"white\",\"gridwidth\":2,\"linecolor\":\"white\",\"showbackground\":true,\"ticks\":\"\",\"zerolinecolor\":\"white\"},\"zaxis\":{\"backgroundcolor\":\"#E5ECF6\",\"gridcolor\":\"white\",\"gridwidth\":2,\"linecolor\":\"white\",\"showbackground\":true,\"ticks\":\"\",\"zerolinecolor\":\"white\"}},\"shapedefaults\":{\"line\":{\"color\":\"#2a3f5f\"}},\"ternary\":{\"aaxis\":{\"gridcolor\":\"white\",\"linecolor\":\"white\",\"ticks\":\"\"},\"baxis\":{\"gridcolor\":\"white\",\"linecolor\":\"white\",\"ticks\":\"\"},\"bgcolor\":\"#E5ECF6\",\"caxis\":{\"gridcolor\":\"white\",\"linecolor\":\"white\",\"ticks\":\"\"}},\"title\":{\"x\":0.05},\"xaxis\":{\"automargin\":true,\"gridcolor\":\"white\",\"linecolor\":\"white\",\"ticks\":\"\",\"title\":{\"standoff\":15},\"zerolinecolor\":\"white\",\"zerolinewidth\":2},\"yaxis\":{\"automargin\":true,\"gridcolor\":\"white\",\"linecolor\":\"white\",\"ticks\":\"\",\"title\":{\"standoff\":15},\"zerolinecolor\":\"white\",\"zerolinewidth\":2}}}},                        {\"responsive\": true}                    ).then(function(){\n",
       "                            \n",
       "var gd = document.getElementById('0bb40a29-317d-4160-ac82-f30c73b468df');\n",
       "var x = new MutationObserver(function (mutations, observer) {{\n",
       "        var display = window.getComputedStyle(gd).display;\n",
       "        if (!display || display === 'none') {{\n",
       "            console.log([gd, 'removed!']);\n",
       "            Plotly.purge(gd);\n",
       "            observer.disconnect();\n",
       "        }}\n",
       "}});\n",
       "\n",
       "// Listen for the removal of the full notebook cells\n",
       "var notebookContainer = gd.closest('#notebook-container');\n",
       "if (notebookContainer) {{\n",
       "    x.observe(notebookContainer, {childList: true});\n",
       "}}\n",
       "\n",
       "// Listen for the clearing of the current output cell\n",
       "var outputEl = gd.closest('.output');\n",
       "if (outputEl) {{\n",
       "    x.observe(outputEl, {childList: true});\n",
       "}}\n",
       "\n",
       "                        })                };                });            </script>        </div>"
      ]
     },
     "metadata": {},
     "output_type": "display_data"
    }
   ],
   "source": [
    "coords_and_mean = pd.concat([team_mean, coordinates], axis=1)\n",
    "coords_and_mean = coords_and_mean.reset_index()\n",
    "coords_and_mean = coords_and_mean.rename({'index': 'Team'}, axis=1)\n",
    "\n",
    "coor_mapbox = px.scatter_mapbox(coords_and_mean, lat='latitude', lon='longitude', color=\"Team\", size=\"FantasyPoints\", zoom=2)\n",
    "coor_mapbox.show()"
   ]
  },
  {
   "cell_type": "code",
   "execution_count": null,
   "id": "8928228f",
   "metadata": {},
   "outputs": [],
   "source": []
  }
 ],
 "metadata": {
  "kernelspec": {
   "display_name": "Python [conda env:pyvizenv2] *",
   "language": "python",
   "name": "conda-env-pyvizenv2-py"
  },
  "language_info": {
   "codemirror_mode": {
    "name": "ipython",
    "version": 3
   },
   "file_extension": ".py",
   "mimetype": "text/x-python",
   "name": "python",
   "nbconvert_exporter": "python",
   "pygments_lexer": "ipython3",
   "version": "3.7.10"
  }
 },
 "nbformat": 4,
 "nbformat_minor": 5
}
