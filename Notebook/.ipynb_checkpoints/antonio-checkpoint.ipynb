{
 "cells": [
  {
   "cell_type": "code",
   "execution_count": 20,
   "id": "0f11f4c9",
   "metadata": {},
   "outputs": [
    {
     "data": {},
     "metadata": {},
     "output_type": "display_data"
    },
    {
     "data": {
      "application/vnd.holoviews_exec.v0+json": "",
      "text/html": [
       "<div id='2924'>\n",
       "\n",
       "\n",
       "\n",
       "\n",
       "\n",
       "  <div class=\"bk-root\" id=\"9ca877c7-a982-4456-ba8f-537d9e95a407\" data-root-id=\"2924\"></div>\n",
       "</div>\n",
       "<script type=\"application/javascript\">(function(root) {\n",
       "  function embed_document(root) {\n",
       "    var docs_json = {\"e36dde3a-d060-4e04-9aa0-98e3e8ae6cc1\":{\"defs\":[{\"extends\":null,\"module\":null,\"name\":\"ReactiveHTML1\",\"overrides\":[],\"properties\":[]},{\"extends\":null,\"module\":null,\"name\":\"FlexBox1\",\"overrides\":[],\"properties\":[{\"default\":\"flex-start\",\"kind\":null,\"name\":\"align_content\"},{\"default\":\"flex-start\",\"kind\":null,\"name\":\"align_items\"},{\"default\":\"row\",\"kind\":null,\"name\":\"flex_direction\"},{\"default\":\"wrap\",\"kind\":null,\"name\":\"flex_wrap\"},{\"default\":\"flex-start\",\"kind\":null,\"name\":\"justify_content\"}]},{\"extends\":null,\"module\":null,\"name\":\"TemplateActions1\",\"overrides\":[],\"properties\":[{\"default\":0,\"kind\":null,\"name\":\"open_modal\"},{\"default\":0,\"kind\":null,\"name\":\"close_modal\"}]},{\"extends\":null,\"module\":null,\"name\":\"MaterialTemplateActions1\",\"overrides\":[],\"properties\":[{\"default\":0,\"kind\":null,\"name\":\"open_modal\"},{\"default\":0,\"kind\":null,\"name\":\"close_modal\"}]}],\"roots\":{\"references\":[{\"attributes\":{},\"id\":\"2934\",\"type\":\"CategoricalScale\"},{\"attributes\":{\"margin\":[5,5,5,5],\"name\":\"HSpacer17413\",\"sizing_mode\":\"stretch_width\"},\"id\":\"3000\",\"type\":\"Spacer\"},{\"attributes\":{\"client_comm_id\":\"4097ac3411ba4ea68b32dcb8749e49cb\",\"comm_id\":\"fe894eb7fd694107bfb88b2fb7c68be1\",\"plot_id\":\"2924\"},\"id\":\"3036\",\"type\":\"panel.models.comm_manager.CommManager\"},{\"attributes\":{\"active_multi\":null,\"tools\":[{\"id\":\"2928\"},{\"id\":\"2945\"},{\"id\":\"2946\"},{\"id\":\"2947\"},{\"id\":\"2948\"},{\"id\":\"2949\"}]},\"id\":\"2951\",\"type\":\"Toolbar\"},{\"attributes\":{},\"id\":\"2945\",\"type\":\"SaveTool\"},{\"attributes\":{},\"id\":\"2936\",\"type\":\"LinearScale\"},{\"attributes\":{\"axis\":{\"id\":\"2938\"},\"grid_line_color\":null,\"ticker\":null},\"id\":\"2940\",\"type\":\"Grid\"},{\"attributes\":{\"source\":{\"id\":\"2959\"}},\"id\":\"2966\",\"type\":\"CDSView\"},{\"attributes\":{},\"id\":\"2972\",\"type\":\"AllLabels\"},{\"attributes\":{\"margin\":[5,5,5,5],\"name\":\"VSpacer17409\",\"sizing_mode\":\"stretch_height\"},\"id\":\"3002\",\"type\":\"Spacer\"},{\"attributes\":{},\"id\":\"2942\",\"type\":\"BasicTicker\"},{\"attributes\":{\"fill_alpha\":{\"value\":0.2},\"fill_color\":{\"field\":\"Tm\",\"transform\":{\"id\":\"2958\"}},\"line_alpha\":{\"value\":0.2},\"top\":{\"field\":\"FantasyPoints\"},\"width\":{\"value\":0.8},\"x\":{\"field\":\"xoffsets\"}},\"id\":\"2964\",\"type\":\"VBar\"},{\"attributes\":{\"factors\":[[\"Christian McCaffrey\",\"CAR\"],[\"Cam Newton\",\"CAR\"],[\"Kelvin Benjamin\",\"CAR\"],[\"D.J. Moore\",\"CAR\"],[\"Steve Smith\",\"CAR\"],[\"Ted Ginn\",\"CAR\"],[\"Greg Olsen\",\"CAR\"],[\"Devin Funchess\",\"CAR\"],[\"Brandon LaFell\",\"CAR\"],[\"Jonathan Stewart\",\"CAR\"],[\"Curtis Samuel\",\"CAR\"],[\"DeAngelo Williams\",\"CAR\"],[\"Jerricho Cotchery\",\"CAR\"],[\"David Gettis\",\"CAR\"],[\"Jeremy Shockey\",\"CAR\"],[\"Kyle Allen\",\"CAR\"],[\"Legedu Naanee\",\"CAR\"],[\"Corey Brown\",\"CAR\"],[\"Mike Tolbert\",\"CAR\"],[\"Jarius Wright\",\"CAR\"],[\"Louis Murphy\",\"CAR\"],[\"Mike Goodson\",\"CAR\"],[\"Ian Thomas\",\"CAR\"],[\"Dante Rosario\",\"CAR\"],[\"Jimmy Clausen\",\"CAR\"],[\"Torrey Smith\",\"CAR\"],[\"Russell Shepard\",\"CAR\"],[\"Ed Dickson\",\"CAR\"],[\"Jeff King\",\"CAR\"],[\"Fozzy Whittaker\",\"CAR\"],[\"Matt Moore\",\"CAR\"],[\"Reggie Bonnafon\",\"CAR\"],[\"Tyrell Sutton\",\"CAR\"],[\"Cameron Artis-Payne\",\"CAR\"],[\"Gary Barnidge\",\"CAR\"],[\"Brenton Bersin\",\"CAR\"],[\"Brandon Zylstra\",\"CAR\"],[\"Domenik Hixon\",\"CAR\"],[\"Darrin Reaves\",\"CAR\"],[\"Chris Hogan\",\"CAR\"],[\"Taylor Heinicke\",\"CAR\"],[\"Kealoha Pilares\",\"CAR\"],[\"Damiere Byrd\",\"CAR\"],[\"Alex Armah\",\"CAR\"],[\"Derek Anderson\",\"CAR\"],[\"Tony Fiammetta\",\"CAR\"],[\"DeAndrew White\",\"CAR\"],[\"Brandon Williams\",\"CAR\"],[\"Brian St. Pierre\",\"CAR\"],[\"Chris Manhertz\",\"CAR\"],[\"Armanti Edwards\",\"CAR\"],[\"Dwayne Jarrett\",\"CAR\"],[\"Richie Brockel\",\"CAR\"],[\"Ben Hartsock\",\"CAR\"],[\"Josh Vaughan\",\"CAR\"],[\"Kenjon Barner\",\"CAR\"],[\"Travaris Cadet\",\"CAR\"],[\"Scott Simonson\",\"CAR\"],[\"Tony Pike\",\"CAR\"],[\"Garrett Gilbert\",\"CAR\"],[\"Seyi Ajirotutu\",\"CAR\"],[\"Will Grier\",\"CAR\"],[\"Joe Webb\",\"CAR\"],[\"Jordan Scarlett\",\"CAR\"],[\"Armond Smith\",\"CAR\"],[\"De'Andre Presley\",\"CAR\"],[\"Greg Dortch\",\"CAR\"],[\"Ray-Ray McCloud\",\"CAR\"],[\"Joe Adams\",\"CAR\"]],\"tags\":[[[\"Player\",\"Player\",null],[\"Tm\",\"Tm\",null]]]},\"id\":\"2926\",\"type\":\"FactorRange\"},{\"attributes\":{},\"id\":\"2947\",\"type\":\"WheelZoomTool\"},{\"attributes\":{\"below\":[{\"id\":\"2938\"}],\"center\":[{\"id\":\"2940\"},{\"id\":\"2944\"}],\"height\":300,\"left\":[{\"id\":\"2941\"}],\"margin\":[5,5,5,5],\"min_border_bottom\":10,\"min_border_left\":10,\"min_border_right\":10,\"min_border_top\":10,\"renderers\":[{\"id\":\"2965\"}],\"sizing_mode\":\"fixed\",\"title\":{\"id\":\"2930\"},\"toolbar\":{\"id\":\"2951\"},\"width\":800,\"x_range\":{\"id\":\"2926\"},\"x_scale\":{\"id\":\"2934\"},\"y_range\":{\"id\":\"2927\"},\"y_scale\":{\"id\":\"2936\"}},\"id\":\"2929\",\"subtype\":\"Figure\",\"type\":\"Plot\"},{\"attributes\":{\"axis_label\":\"FantasyPoints\",\"formatter\":{\"id\":\"2971\"},\"major_label_policy\":{\"id\":\"2972\"},\"ticker\":{\"id\":\"2942\"}},\"id\":\"2941\",\"type\":\"LinearAxis\"},{\"attributes\":{\"overlay\":{\"id\":\"2950\"}},\"id\":\"2948\",\"type\":\"BoxZoomTool\"},{\"attributes\":{},\"id\":\"2949\",\"type\":\"ResetTool\"},{\"attributes\":{\"bottom\":{\"value\":0},\"fill_alpha\":{\"value\":1.0},\"fill_color\":{\"field\":\"Tm\",\"transform\":{\"id\":\"2958\"}},\"hatch_alpha\":{\"value\":1.0},\"hatch_color\":{\"value\":\"black\"},\"hatch_scale\":{\"value\":12.0},\"hatch_weight\":{\"value\":1.0},\"line_alpha\":{\"value\":1.0},\"line_cap\":{\"value\":\"butt\"},\"line_color\":{\"value\":\"black\"},\"line_dash\":{\"value\":[]},\"line_dash_offset\":{\"value\":0},\"line_join\":{\"value\":\"bevel\"},\"line_width\":{\"value\":1},\"top\":{\"field\":\"FantasyPoints\"},\"width\":{\"value\":0.8},\"x\":{\"field\":\"xoffsets\"}},\"id\":\"2967\",\"type\":\"VBar\"},{\"attributes\":{\"text\":\"Tm: CAR\",\"text_color\":\"black\",\"text_font_size\":\"12pt\"},\"id\":\"2930\",\"type\":\"Title\"},{\"attributes\":{\"axis\":{\"id\":\"2941\"},\"dimension\":1,\"grid_line_color\":null,\"ticker\":null},\"id\":\"2944\",\"type\":\"Grid\"},{\"attributes\":{},\"id\":\"2946\",\"type\":\"PanTool\"},{\"attributes\":{\"fill_color\":{\"field\":\"Tm\",\"transform\":{\"id\":\"2958\"}},\"top\":{\"field\":\"FantasyPoints\"},\"width\":{\"value\":0.8},\"x\":{\"field\":\"xoffsets\"}},\"id\":\"2962\",\"type\":\"VBar\"},{\"attributes\":{},\"id\":\"2960\",\"type\":\"Selection\"},{\"attributes\":{\"end\":397.51,\"reset_end\":397.51,\"reset_start\":-39.41,\"start\":-39.41,\"tags\":[[[\"FantasyPoints\",\"FantasyPoints\",null]]]},\"id\":\"2927\",\"type\":\"Range1d\"},{\"attributes\":{},\"id\":\"2969\",\"type\":\"AllLabels\"},{\"attributes\":{\"margin\":[5,5,5,5],\"name\":\"HSpacer17412\",\"sizing_mode\":\"stretch_width\"},\"id\":\"2925\",\"type\":\"Spacer\"},{\"attributes\":{\"margin\":[5,5,5,5],\"name\":\"VSpacer17410\",\"sizing_mode\":\"stretch_height\"},\"id\":\"3005\",\"type\":\"Spacer\"},{\"attributes\":{\"children\":[{\"id\":\"3002\"},{\"id\":\"3003\"},{\"id\":\"3005\"}],\"margin\":[0,0,0,0],\"name\":\"Column17411\"},\"id\":\"3001\",\"type\":\"Column\"},{\"attributes\":{\"children\":[{\"id\":\"2925\"},{\"id\":\"2929\"},{\"id\":\"3000\"},{\"id\":\"3001\"}],\"margin\":[0,0,0,0],\"name\":\"Row17403\"},\"id\":\"2924\",\"type\":\"Row\"},{\"attributes\":{\"bottom_units\":\"screen\",\"fill_alpha\":0.5,\"fill_color\":\"lightgrey\",\"left_units\":\"screen\",\"level\":\"overlay\",\"line_alpha\":1.0,\"line_color\":\"black\",\"line_dash\":[4,4],\"line_width\":2,\"right_units\":\"screen\",\"syncable\":false,\"top_units\":\"screen\"},\"id\":\"2950\",\"type\":\"BoxAnnotation\"},{\"attributes\":{\"margin\":[20,20,20,20],\"min_width\":250,\"options\":[\"CAR\",\"NYG\",\"NOR\",\"SEA\",\"NWE\",\"GNB\",\"DET\",\"DAL\",\"LAR\",\"BAL\",\"DEN\",\"IND\",\"ARI\",\"ATL\",\"HOU\",\"CHI\",\"PIT\",\"PHI\",\"LAC\",\"KAN\",\"SDG\",\"MIN\",\"CLE\",\"BUF\",\"NYJ\",\"TAM\",\"MIA\",\"TEN\",\"CIN\",\"JAX\",\"OAK\",\"STL\",\"2TM\",\"SFO\",\"WAS\",\"3TM\",\"4TM\"],\"title\":\"Tm\",\"value\":\"CAR\",\"width\":250},\"id\":\"3004\",\"type\":\"Select\"},{\"attributes\":{\"factors\":[\"CAR\"],\"palette\":[\"#30a2da\"]},\"id\":\"2958\",\"type\":\"CategoricalColorMapper\"},{\"attributes\":{\"data_source\":{\"id\":\"2959\"},\"glyph\":{\"id\":\"2962\"},\"hover_glyph\":null,\"muted_glyph\":{\"id\":\"2964\"},\"nonselection_glyph\":{\"id\":\"2963\"},\"selection_glyph\":{\"id\":\"2967\"},\"view\":{\"id\":\"2966\"}},\"id\":\"2965\",\"type\":\"GlyphRenderer\"},{\"attributes\":{},\"id\":\"2968\",\"type\":\"CategoricalTickFormatter\"},{\"attributes\":{\"callback\":null,\"renderers\":[{\"id\":\"2965\"}],\"tags\":[\"hv_created\"],\"tooltips\":[[\"Player\",\"@{Player}\"],[\"Tm\",\"@{Tm}\"],[\"FantasyPoints\",\"@{FantasyPoints}\"]]},\"id\":\"2928\",\"type\":\"HoverTool\"},{\"attributes\":{},\"id\":\"2971\",\"type\":\"BasicTickFormatter\"},{\"attributes\":{},\"id\":\"2987\",\"type\":\"UnionRenderers\"},{\"attributes\":{\"axis_label\":\"Player, Tm\",\"formatter\":{\"id\":\"2968\"},\"major_label_orientation\":1.5707963267948966,\"major_label_policy\":{\"id\":\"2969\"},\"ticker\":{\"id\":\"2939\"}},\"id\":\"2938\",\"type\":\"CategoricalAxis\"},{\"attributes\":{\"fill_alpha\":{\"value\":0.1},\"fill_color\":{\"field\":\"Tm\",\"transform\":{\"id\":\"2958\"}},\"line_alpha\":{\"value\":0.1},\"top\":{\"field\":\"FantasyPoints\"},\"width\":{\"value\":0.8},\"x\":{\"field\":\"xoffsets\"}},\"id\":\"2963\",\"type\":\"VBar\"},{\"attributes\":{\"data\":{\"FantasyPoints\":{\"__ndarray__\":\"mZmZmZmRdkApXI/C9SBxQGZmZmZmbmpAAAAAAAA4aEAzMzMzM29nQJmZmZmZeWNALdiCLdhyY0DMzMzMzMRfQP//////515AZ2ZmZmaeXkAzMzMzM3NcQK5H4XoUbltAMzMzMzNjW0AAAAAAAIBaQAAAAAAAIFpAcD0K16OAWUBSuB6F63FYQGdmZmZmZlNA16NwPQo3U0AAAAAAABBTQJmZmZmZOVBAMzMzMzMzUECamZmZmTlNQJqZmZmZGU1Aw/UoXI8CTUAAAAAAAABIQM3MzMzMjEZAZmZmZmY2RkDNzMzMzIxFQJqZmZmZSURApHA9CtdjQEDNzMzMzEw9QJqZmZmZGTpAzMzMzMxsOEDNzMzMzMwzQAAAAAAAYDNAmpmZmZmZMkAAAAAAAIAyQM3MzMzMzC9AZmZmZmZmLUDNzMzMzMwrQM3MzMzMzCtAZ2ZmZmZmKUAzMzMzM7MoQO/u7u7u7iZAMzMzMzMzJUAzMzMzMzMiQM3MzMzMzCBArkfhehSuG0BVVVVVVVUZQP1iyS+W/BhAAAAAAAAAGECamZmZmZkXQAAAAAAAABRAMzMzMzMzEkA0MzMzMzMLQJqZmZmZmQlAAAAAAAAAAEAUrkfhehT+P5qZmZmZmfk/ZmZmZmZm9j8chetRuB71P0RERERERPQ/zczMzMzM7D8AAAAAAADgP5qZmZmZmcm/AAAAAAAAAMAAAAAAAAAAwAAAAAAAAAjA\",\"dtype\":\"float64\",\"order\":\"little\",\"shape\":[69]},\"Player\":[\"Christian McCaffrey\",\"Cam Newton\",\"Kelvin Benjamin\",\"D.J. Moore\",\"Steve Smith\",\"Ted Ginn\",\"Greg Olsen\",\"Devin Funchess\",\"Brandon LaFell\",\"Jonathan Stewart\",\"Curtis Samuel\",\"DeAngelo Williams\",\"Jerricho Cotchery\",\"David Gettis\",\"Jeremy Shockey\",\"Kyle Allen\",\"Legedu Naanee\",\"Corey Brown\",\"Mike Tolbert\",\"Jarius Wright\",\"Louis Murphy\",\"Mike Goodson\",\"Ian Thomas\",\"Dante Rosario\",\"Jimmy Clausen\",\"Torrey Smith\",\"Russell Shepard\",\"Ed Dickson\",\"Jeff King\",\"Fozzy Whittaker\",\"Matt Moore\",\"Reggie Bonnafon\",\"Tyrell Sutton\",\"Cameron Artis-Payne\",\"Gary Barnidge\",\"Brenton Bersin\",\"Brandon Zylstra\",\"Domenik Hixon\",\"Darrin Reaves\",\"Chris Hogan\",\"Taylor Heinicke\",\"Kealoha Pilares\",\"Damiere Byrd\",\"Alex Armah\",\"Derek Anderson\",\"Tony Fiammetta\",\"DeAndrew White\",\"Brandon Williams\",\"Brian St. Pierre\",\"Chris Manhertz\",\"Armanti Edwards\",\"Dwayne Jarrett\",\"Richie Brockel\",\"Ben Hartsock\",\"Josh Vaughan\",\"Kenjon Barner\",\"Travaris Cadet\",\"Scott Simonson\",\"Tony Pike\",\"Garrett Gilbert\",\"Seyi Ajirotutu\",\"Will Grier\",\"Joe Webb\",\"Jordan Scarlett\",\"Armond Smith\",\"De'Andre Presley\",\"Greg Dortch\",\"Ray-Ray McCloud\",\"Joe Adams\"],\"Tm\":[\"CAR\",\"CAR\",\"CAR\",\"CAR\",\"CAR\",\"CAR\",\"CAR\",\"CAR\",\"CAR\",\"CAR\",\"CAR\",\"CAR\",\"CAR\",\"CAR\",\"CAR\",\"CAR\",\"CAR\",\"CAR\",\"CAR\",\"CAR\",\"CAR\",\"CAR\",\"CAR\",\"CAR\",\"CAR\",\"CAR\",\"CAR\",\"CAR\",\"CAR\",\"CAR\",\"CAR\",\"CAR\",\"CAR\",\"CAR\",\"CAR\",\"CAR\",\"CAR\",\"CAR\",\"CAR\",\"CAR\",\"CAR\",\"CAR\",\"CAR\",\"CAR\",\"CAR\",\"CAR\",\"CAR\",\"CAR\",\"CAR\",\"CAR\",\"CAR\",\"CAR\",\"CAR\",\"CAR\",\"CAR\",\"CAR\",\"CAR\",\"CAR\",\"CAR\",\"CAR\",\"CAR\",\"CAR\",\"CAR\",\"CAR\",\"CAR\",\"CAR\",\"CAR\",\"CAR\",\"CAR\"],\"xoffsets\":[[\"Christian McCaffrey\",\"CAR\"],[\"Cam Newton\",\"CAR\"],[\"Kelvin Benjamin\",\"CAR\"],[\"D.J. Moore\",\"CAR\"],[\"Steve Smith\",\"CAR\"],[\"Ted Ginn\",\"CAR\"],[\"Greg Olsen\",\"CAR\"],[\"Devin Funchess\",\"CAR\"],[\"Brandon LaFell\",\"CAR\"],[\"Jonathan Stewart\",\"CAR\"],[\"Curtis Samuel\",\"CAR\"],[\"DeAngelo Williams\",\"CAR\"],[\"Jerricho Cotchery\",\"CAR\"],[\"David Gettis\",\"CAR\"],[\"Jeremy Shockey\",\"CAR\"],[\"Kyle Allen\",\"CAR\"],[\"Legedu Naanee\",\"CAR\"],[\"Corey Brown\",\"CAR\"],[\"Mike Tolbert\",\"CAR\"],[\"Jarius Wright\",\"CAR\"],[\"Louis Murphy\",\"CAR\"],[\"Mike Goodson\",\"CAR\"],[\"Ian Thomas\",\"CAR\"],[\"Dante Rosario\",\"CAR\"],[\"Jimmy Clausen\",\"CAR\"],[\"Torrey Smith\",\"CAR\"],[\"Russell Shepard\",\"CAR\"],[\"Ed Dickson\",\"CAR\"],[\"Jeff King\",\"CAR\"],[\"Fozzy Whittaker\",\"CAR\"],[\"Matt Moore\",\"CAR\"],[\"Reggie Bonnafon\",\"CAR\"],[\"Tyrell Sutton\",\"CAR\"],[\"Cameron Artis-Payne\",\"CAR\"],[\"Gary Barnidge\",\"CAR\"],[\"Brenton Bersin\",\"CAR\"],[\"Brandon Zylstra\",\"CAR\"],[\"Domenik Hixon\",\"CAR\"],[\"Darrin Reaves\",\"CAR\"],[\"Chris Hogan\",\"CAR\"],[\"Taylor Heinicke\",\"CAR\"],[\"Kealoha Pilares\",\"CAR\"],[\"Damiere Byrd\",\"CAR\"],[\"Alex Armah\",\"CAR\"],[\"Derek Anderson\",\"CAR\"],[\"Tony Fiammetta\",\"CAR\"],[\"DeAndrew White\",\"CAR\"],[\"Brandon Williams\",\"CAR\"],[\"Brian St. Pierre\",\"CAR\"],[\"Chris Manhertz\",\"CAR\"],[\"Armanti Edwards\",\"CAR\"],[\"Dwayne Jarrett\",\"CAR\"],[\"Richie Brockel\",\"CAR\"],[\"Ben Hartsock\",\"CAR\"],[\"Josh Vaughan\",\"CAR\"],[\"Kenjon Barner\",\"CAR\"],[\"Travaris Cadet\",\"CAR\"],[\"Scott Simonson\",\"CAR\"],[\"Tony Pike\",\"CAR\"],[\"Garrett Gilbert\",\"CAR\"],[\"Seyi Ajirotutu\",\"CAR\"],[\"Will Grier\",\"CAR\"],[\"Joe Webb\",\"CAR\"],[\"Jordan Scarlett\",\"CAR\"],[\"Armond Smith\",\"CAR\"],[\"De'Andre Presley\",\"CAR\"],[\"Greg Dortch\",\"CAR\"],[\"Ray-Ray McCloud\",\"CAR\"],[\"Joe Adams\",\"CAR\"]]},\"selected\":{\"id\":\"2960\"},\"selection_policy\":{\"id\":\"2987\"}},\"id\":\"2959\",\"type\":\"ColumnDataSource\"},{\"attributes\":{},\"id\":\"2939\",\"type\":\"CategoricalTicker\"},{\"attributes\":{\"children\":[{\"id\":\"3004\"}],\"css_classes\":[\"panel-widget-box\"],\"margin\":[5,5,5,5],\"name\":\"WidgetBox17404\"},\"id\":\"3003\",\"type\":\"Column\"}],\"root_ids\":[\"2924\",\"3036\"]},\"title\":\"Bokeh Application\",\"version\":\"2.3.2\"}};\n",
       "    var render_items = [{\"docid\":\"e36dde3a-d060-4e04-9aa0-98e3e8ae6cc1\",\"root_ids\":[\"2924\"],\"roots\":{\"2924\":\"9ca877c7-a982-4456-ba8f-537d9e95a407\"}}];\n",
       "    root.Bokeh.embed.embed_items_notebook(docs_json, render_items);\n",
       "  }\n",
       "  if (root.Bokeh !== undefined && root.Bokeh.Panel !== undefined && ( root['Plotly'] !== undefined)) {\n",
       "    embed_document(root);\n",
       "  } else {\n",
       "    var attempts = 0;\n",
       "    var timer = setInterval(function(root) {\n",
       "      if (root.Bokeh !== undefined && root.Bokeh.Panel !== undefined && (root['Plotly'] !== undefined)) {\n",
       "        clearInterval(timer);\n",
       "        embed_document(root);\n",
       "      } else if (document.readyState == \"complete\") {\n",
       "        attempts++;\n",
       "        if (attempts > 200) {\n",
       "          clearInterval(timer);\n",
       "          console.log(\"Bokeh: ERROR: Unable to run BokehJS code because BokehJS library is missing\");\n",
       "        }\n",
       "      }\n",
       "    }, 25, root)\n",
       "  }\n",
       "})(window);</script>"
      ],
      "text/plain": [
       ":DynamicMap   [Tm]\n",
       "   :Bars   [Player,Tm]   (FantasyPoints)"
      ]
     },
     "execution_count": 20,
     "metadata": {
      "application/vnd.holoviews_exec.v0+json": {
       "id": "2924"
      }
     },
     "output_type": "execute_result"
    }
   ],
   "source": [
    "# imports\n",
    "\n",
    "import panel as pn\n",
    "pn.extension('plotly')\n",
    "import plotly.express as px\n",
    "import pandas as pd\n",
    "import hvplot.pandas\n",
    "import matplotlib.pyplot as plt\n",
    "import numpy as np\n",
    "import os\n",
    "from pathlib import Path\n",
    "from dotenv import load_dotenv\n",
    "\n",
    "import warnings\n",
    "warnings.filterwarnings('ignore')\n",
    "\n",
    "# Import all the CSVs from the Data of the last 10 years\n",
    "\n",
    "file_path_2010 = Path(\"../Data/RawData/2010.csv\")\n",
    "file_path_2011 = Path(\"../Data/RawData/2011.csv\")\n",
    "file_path_2012 = Path(\"../Data/RawData/2012.csv\")\n",
    "file_path_2013 = Path(\"../Data/RawData/2013.csv\")\n",
    "file_path_2014 = Path(\"../Data/RawData/2014.csv\")\n",
    "file_path_2015 = Path(\"../Data/RawData/2015.csv\")\n",
    "file_path_2016 = Path(\"../Data/RawData/2016.csv\")\n",
    "file_path_2017 = Path(\"../Data/RawData/2017.csv\")\n",
    "file_path_2018 = Path(\"../Data/RawData/2018.csv\")\n",
    "file_path_2019 = Path(\"../Data/RawData/2019.csv\")\n",
    "\n",
    "# Convert the data to DataFrames and add a Year column\n",
    "\n",
    "data_2010 = pd.read_csv(file_path_2010)\n",
    "data_2010['Year'] = '2010'\n",
    "data_2011 = pd.read_csv(file_path_2011)\n",
    "data_2011['Year'] = '2011'\n",
    "data_2012 = pd.read_csv(file_path_2012)\n",
    "data_2012['Year'] = '2012'\n",
    "data_2013 = pd.read_csv(file_path_2013)\n",
    "data_2013['Year'] = '2013'\n",
    "data_2014 = pd.read_csv(file_path_2014)\n",
    "data_2014['Year'] = '2014'\n",
    "data_2015 = pd.read_csv(file_path_2015)\n",
    "data_2015['Year'] = '2015'\n",
    "data_2016 = pd.read_csv(file_path_2016)\n",
    "data_2016['Year'] = '2016'\n",
    "data_2017 = pd.read_csv(file_path_2017)\n",
    "data_2017['Year'] = '2017'\n",
    "data_2018 = pd.read_csv(file_path_2018)\n",
    "data_2018['Year'] = '2018'\n",
    "data_2019 = pd.read_csv(file_path_2019)\n",
    "data_2019['Year'] = '2019'\n",
    "\n",
    "# Select specific columns desired to play with the data\n",
    "\n",
    "data_2010 = data_2010[[\"Year\",\"Player\",\"Tm\",\"Pos\",\"FantasyPoints\"]]\n",
    "data_2011 = data_2011[[\"Year\",\"Player\",\"Tm\",\"Pos\",\"FantasyPoints\"]]\n",
    "data_2012 = data_2012[[\"Year\",\"Player\",\"Tm\",\"Pos\",\"FantasyPoints\"]]\n",
    "data_2013 = data_2013[[\"Year\",\"Player\",\"Tm\",\"Pos\",\"FantasyPoints\"]]\n",
    "data_2014 = data_2014[[\"Year\",\"Player\",\"Tm\",\"Pos\",\"FantasyPoints\"]]\n",
    "data_2015 = data_2015[[\"Year\",\"Player\",\"Tm\",\"Pos\",\"FantasyPoints\"]]\n",
    "data_2016 = data_2016[[\"Year\",\"Player\",\"Tm\",\"Pos\",\"FantasyPoints\"]]\n",
    "data_2017 = data_2017[[\"Year\",\"Player\",\"Tm\",\"Pos\",\"FantasyPoints\"]]\n",
    "data_2018 = data_2018[[\"Year\",\"Player\",\"Tm\",\"Pos\",\"FantasyPoints\"]]\n",
    "data_2019 = data_2019[[\"Year\",\"Player\",\"Tm\",\"Pos\",\"FantasyPoints\"]]\n",
    "\n",
    "# Set the index as the year\n",
    "\n",
    "data_2010 = data_2010.set_index(\"Year\")\n",
    "data_2011 = data_2011.set_index(\"Year\")\n",
    "data_2012 = data_2012.set_index(\"Year\")\n",
    "data_2013 = data_2013.set_index(\"Year\")\n",
    "data_2014 = data_2014.set_index(\"Year\")\n",
    "data_2015 = data_2015.set_index(\"Year\")\n",
    "data_2016 = data_2016.set_index(\"Year\")\n",
    "data_2017 = data_2017.set_index(\"Year\")\n",
    "data_2018 = data_2018.set_index(\"Year\")\n",
    "data_2019 = data_2019.set_index(\"Year\")\n",
    "\n",
    "# Merge all the data and clean it by eliminating players that don't have any points\n",
    "\n",
    "full_data = pd.concat([data_2010, data_2011, data_2012, data_2013, data_2014, data_2015, data_2016, data_2017, data_2018, data_2019])\n",
    "full_data = full_data[full_data['FantasyPoints'] != 0]\n",
    "full_data.to_csv('../Data/CleanData/full_data.csv', encoding='utf-8')\n",
    "\n",
    "player_mean = full_data.groupby(['Player', 'Tm']).mean().sort_values(by='FantasyPoints', ascending=False, na_position='first')\n",
    "player_mean.hvplot.bar(width=800, rot=90, groupby=\"Tm\")"
   ]
  },
  {
   "cell_type": "code",
   "execution_count": 21,
   "id": "2323b6d3",
   "metadata": {},
   "outputs": [
    {
     "data": {},
     "metadata": {},
     "output_type": "display_data"
    },
    {
     "data": {
      "application/vnd.holoviews_exec.v0+json": "",
      "text/html": [
       "<div id='3087'>\n",
       "\n",
       "\n",
       "\n",
       "\n",
       "\n",
       "  <div class=\"bk-root\" id=\"0ef5b89a-b8d8-43c3-aee1-2261af746d43\" data-root-id=\"3087\"></div>\n",
       "</div>\n",
       "<script type=\"application/javascript\">(function(root) {\n",
       "  function embed_document(root) {\n",
       "    var docs_json = {\"e44c9e4e-9a65-4039-8cb4-e3e7e608333c\":{\"defs\":[{\"extends\":null,\"module\":null,\"name\":\"ReactiveHTML1\",\"overrides\":[],\"properties\":[]},{\"extends\":null,\"module\":null,\"name\":\"FlexBox1\",\"overrides\":[],\"properties\":[{\"default\":\"flex-start\",\"kind\":null,\"name\":\"align_content\"},{\"default\":\"flex-start\",\"kind\":null,\"name\":\"align_items\"},{\"default\":\"row\",\"kind\":null,\"name\":\"flex_direction\"},{\"default\":\"wrap\",\"kind\":null,\"name\":\"flex_wrap\"},{\"default\":\"flex-start\",\"kind\":null,\"name\":\"justify_content\"}]},{\"extends\":null,\"module\":null,\"name\":\"TemplateActions1\",\"overrides\":[],\"properties\":[{\"default\":0,\"kind\":null,\"name\":\"open_modal\"},{\"default\":0,\"kind\":null,\"name\":\"close_modal\"}]},{\"extends\":null,\"module\":null,\"name\":\"MaterialTemplateActions1\",\"overrides\":[],\"properties\":[{\"default\":0,\"kind\":null,\"name\":\"open_modal\"},{\"default\":0,\"kind\":null,\"name\":\"close_modal\"}]}],\"roots\":{\"references\":[{\"attributes\":{\"below\":[{\"id\":\"3101\"}],\"center\":[{\"id\":\"3103\"},{\"id\":\"3107\"}],\"height\":300,\"left\":[{\"id\":\"3104\"}],\"margin\":[5,5,5,5],\"min_border_bottom\":10,\"min_border_left\":10,\"min_border_right\":10,\"min_border_top\":10,\"renderers\":[{\"id\":\"3127\"}],\"sizing_mode\":\"fixed\",\"title\":{\"id\":\"3093\"},\"toolbar\":{\"id\":\"3114\"},\"width\":800,\"x_range\":{\"id\":\"3089\"},\"x_scale\":{\"id\":\"3097\"},\"y_range\":{\"id\":\"3090\"},\"y_scale\":{\"id\":\"3099\"}},\"id\":\"3092\",\"subtype\":\"Figure\",\"type\":\"Plot\"},{\"attributes\":{},\"id\":\"3130\",\"type\":\"CategoricalTickFormatter\"},{\"attributes\":{\"data\":{\"FantasyPoints\":{\"__ndarray__\":\"pRFjZ851WUCGYjgbQj5YQH8Y9+uS+ldAaW3sIA71V0Dx/OqFHUpXQEYS36t4BVdAklCgEdvLVkBryLnPLqpWQFrOeIQOkFZAeDyUENZNVkDcTCZgiRtWQEcqcd/DQlVAGvWWUW85VUDkWiSoqTBVQIvyGsprMFVA4mMSaJ4aVUAl+DX2p9BUQC3puo+Jn1RAhazF+fdhVEAuNpIocUFUQJ9hV4DcK1RAzXMJZA3zU0Cqp7GM7p9TQKfDSgY3llNAVd+OhxJiU0A08axoJEBTQLCMPIiy8VJANlW/uVviUkDwjADPCPBRQCUVZfgEf1FAmqN0+8pqUUDF/wnhhEVRQHRycnJyAlFAUq+OhOJRUEDmEGCCVQZDQBntN+W5xEBANDMzMzMz078=\",\"dtype\":\"float64\",\"order\":\"little\",\"shape\":[37]},\"Tm\":[\"NOR\",\"NWE\",\"LAC\",\"ATL\",\"PHI\",\"DAL\",\"LAR\",\"SDG\",\"DET\",\"GNB\",\"DEN\",\"BAL\",\"CIN\",\"PIT\",\"CAR\",\"MIA\",\"HOU\",\"IND\",\"NYG\",\"MIN\",\"KAN\",\"CHI\",\"TAM\",\"SEA\",\"OAK\",\"WAS\",\"SFO\",\"TEN\",\"STL\",\"ARI\",\"BUF\",\"CLE\",\"NYJ\",\"JAX\",\"2TM\",\"3TM\",\"4TM\"]},\"selected\":{\"id\":\"3122\"},\"selection_policy\":{\"id\":\"3143\"}},\"id\":\"3121\",\"type\":\"ColumnDataSource\"},{\"attributes\":{\"axis_label\":\"Tm\",\"formatter\":{\"id\":\"3130\"},\"major_label_orientation\":1.5707963267948966,\"major_label_policy\":{\"id\":\"3131\"},\"ticker\":{\"id\":\"3102\"}},\"id\":\"3101\",\"type\":\"CategoricalAxis\"},{\"attributes\":{\"factors\":[\"NOR\",\"NWE\",\"LAC\",\"ATL\",\"PHI\",\"DAL\",\"LAR\",\"SDG\",\"DET\",\"GNB\",\"DEN\",\"BAL\",\"CIN\",\"PIT\",\"CAR\",\"MIA\",\"HOU\",\"IND\",\"NYG\",\"MIN\",\"KAN\",\"CHI\",\"TAM\",\"SEA\",\"OAK\",\"WAS\",\"SFO\",\"TEN\",\"STL\",\"ARI\",\"BUF\",\"CLE\",\"NYJ\",\"JAX\",\"2TM\",\"3TM\",\"4TM\"],\"tags\":[[[\"Tm\",\"Tm\",null]]]},\"id\":\"3089\",\"type\":\"FactorRange\"},{\"attributes\":{},\"id\":\"3110\",\"type\":\"WheelZoomTool\"},{\"attributes\":{},\"id\":\"3122\",\"type\":\"Selection\"},{\"attributes\":{\"children\":[{\"id\":\"3088\"},{\"id\":\"3092\"},{\"id\":\"3156\"}],\"margin\":[0,0,0,0],\"name\":\"Row18401\",\"tags\":[\"embedded\"]},\"id\":\"3087\",\"type\":\"Row\"},{\"attributes\":{\"data_source\":{\"id\":\"3121\"},\"glyph\":{\"id\":\"3124\"},\"hover_glyph\":null,\"muted_glyph\":{\"id\":\"3126\"},\"nonselection_glyph\":{\"id\":\"3125\"},\"selection_glyph\":{\"id\":\"3129\"},\"view\":{\"id\":\"3128\"}},\"id\":\"3127\",\"type\":\"GlyphRenderer\"},{\"attributes\":{},\"id\":\"3134\",\"type\":\"AllLabels\"},{\"attributes\":{\"fill_alpha\":{\"value\":0.2},\"fill_color\":{\"value\":\"#30a2da\"},\"line_alpha\":{\"value\":0.2},\"top\":{\"field\":\"FantasyPoints\"},\"width\":{\"value\":0.8},\"x\":{\"field\":\"Tm\"}},\"id\":\"3126\",\"type\":\"VBar\"},{\"attributes\":{\"bottom\":{\"value\":0},\"fill_alpha\":{\"value\":1.0},\"fill_color\":{\"value\":\"#30a2da\"},\"hatch_alpha\":{\"value\":1.0},\"hatch_color\":{\"value\":\"black\"},\"hatch_scale\":{\"value\":12.0},\"hatch_weight\":{\"value\":1.0},\"line_alpha\":{\"value\":1.0},\"line_cap\":{\"value\":\"butt\"},\"line_color\":{\"value\":\"black\"},\"line_dash\":{\"value\":[]},\"line_dash_offset\":{\"value\":0},\"line_join\":{\"value\":\"bevel\"},\"line_width\":{\"value\":1},\"top\":{\"field\":\"FantasyPoints\"},\"width\":{\"value\":0.8},\"x\":{\"field\":\"Tm\"}},\"id\":\"3129\",\"type\":\"VBar\"},{\"attributes\":{\"margin\":[5,5,5,5],\"name\":\"HSpacer18406\",\"sizing_mode\":\"stretch_width\"},\"id\":\"3156\",\"type\":\"Spacer\"},{\"attributes\":{},\"id\":\"3109\",\"type\":\"PanTool\"},{\"attributes\":{\"axis_label\":\"FantasyPoints\",\"formatter\":{\"id\":\"3133\"},\"major_label_policy\":{\"id\":\"3134\"},\"ticker\":{\"id\":\"3105\"}},\"id\":\"3104\",\"type\":\"LinearAxis\"},{\"attributes\":{},\"id\":\"3112\",\"type\":\"ResetTool\"},{\"attributes\":{\"bottom_units\":\"screen\",\"fill_alpha\":0.5,\"fill_color\":\"lightgrey\",\"left_units\":\"screen\",\"level\":\"overlay\",\"line_alpha\":1.0,\"line_color\":\"black\",\"line_dash\":[4,4],\"line_width\":2,\"right_units\":\"screen\",\"syncable\":false,\"top_units\":\"screen\"},\"id\":\"3113\",\"type\":\"BoxAnnotation\"},{\"attributes\":{},\"id\":\"3102\",\"type\":\"CategoricalTicker\"},{\"attributes\":{},\"id\":\"3133\",\"type\":\"BasicTickFormatter\"},{\"attributes\":{},\"id\":\"3143\",\"type\":\"UnionRenderers\"},{\"attributes\":{\"end\":112.0547951807229,\"reset_end\":112.0547951807229,\"reset_start\":-10.514072289156628,\"start\":-10.514072289156628,\"tags\":[[[\"FantasyPoints\",\"FantasyPoints\",null]]]},\"id\":\"3090\",\"type\":\"Range1d\"},{\"attributes\":{},\"id\":\"3099\",\"type\":\"LinearScale\"},{\"attributes\":{\"fill_color\":{\"value\":\"#30a2da\"},\"top\":{\"field\":\"FantasyPoints\"},\"width\":{\"value\":0.8},\"x\":{\"field\":\"Tm\"}},\"id\":\"3124\",\"type\":\"VBar\"},{\"attributes\":{\"active_multi\":null,\"tools\":[{\"id\":\"3091\"},{\"id\":\"3108\"},{\"id\":\"3109\"},{\"id\":\"3110\"},{\"id\":\"3111\"},{\"id\":\"3112\"}]},\"id\":\"3114\",\"type\":\"Toolbar\"},{\"attributes\":{\"source\":{\"id\":\"3121\"}},\"id\":\"3128\",\"type\":\"CDSView\"},{\"attributes\":{},\"id\":\"3097\",\"type\":\"CategoricalScale\"},{\"attributes\":{\"fill_alpha\":{\"value\":0.1},\"fill_color\":{\"value\":\"#30a2da\"},\"line_alpha\":{\"value\":0.1},\"top\":{\"field\":\"FantasyPoints\"},\"width\":{\"value\":0.8},\"x\":{\"field\":\"Tm\"}},\"id\":\"3125\",\"type\":\"VBar\"},{\"attributes\":{\"axis\":{\"id\":\"3104\"},\"dimension\":1,\"grid_line_color\":null,\"ticker\":null},\"id\":\"3107\",\"type\":\"Grid\"},{\"attributes\":{\"overlay\":{\"id\":\"3113\"}},\"id\":\"3111\",\"type\":\"BoxZoomTool\"},{\"attributes\":{\"text_color\":\"black\",\"text_font_size\":\"12pt\"},\"id\":\"3093\",\"type\":\"Title\"},{\"attributes\":{\"margin\":[5,5,5,5],\"name\":\"HSpacer18405\",\"sizing_mode\":\"stretch_width\"},\"id\":\"3088\",\"type\":\"Spacer\"},{\"attributes\":{\"axis\":{\"id\":\"3101\"},\"grid_line_color\":null,\"ticker\":null},\"id\":\"3103\",\"type\":\"Grid\"},{\"attributes\":{},\"id\":\"3131\",\"type\":\"AllLabels\"},{\"attributes\":{},\"id\":\"3108\",\"type\":\"SaveTool\"},{\"attributes\":{},\"id\":\"3105\",\"type\":\"BasicTicker\"},{\"attributes\":{\"callback\":null,\"renderers\":[{\"id\":\"3127\"}],\"tags\":[\"hv_created\"],\"tooltips\":[[\"Tm\",\"@{Tm}\"],[\"FantasyPoints\",\"@{FantasyPoints}\"]]},\"id\":\"3091\",\"type\":\"HoverTool\"}],\"root_ids\":[\"3087\"]},\"title\":\"Bokeh Application\",\"version\":\"2.3.2\"}};\n",
       "    var render_items = [{\"docid\":\"e44c9e4e-9a65-4039-8cb4-e3e7e608333c\",\"root_ids\":[\"3087\"],\"roots\":{\"3087\":\"0ef5b89a-b8d8-43c3-aee1-2261af746d43\"}}];\n",
       "    root.Bokeh.embed.embed_items_notebook(docs_json, render_items);\n",
       "  }\n",
       "  if (root.Bokeh !== undefined && root.Bokeh.Panel !== undefined && ( root['Plotly'] !== undefined)) {\n",
       "    embed_document(root);\n",
       "  } else {\n",
       "    var attempts = 0;\n",
       "    var timer = setInterval(function(root) {\n",
       "      if (root.Bokeh !== undefined && root.Bokeh.Panel !== undefined && (root['Plotly'] !== undefined)) {\n",
       "        clearInterval(timer);\n",
       "        embed_document(root);\n",
       "      } else if (document.readyState == \"complete\") {\n",
       "        attempts++;\n",
       "        if (attempts > 200) {\n",
       "          clearInterval(timer);\n",
       "          console.log(\"Bokeh: ERROR: Unable to run BokehJS code because BokehJS library is missing\");\n",
       "        }\n",
       "      }\n",
       "    }, 25, root)\n",
       "  }\n",
       "})(window);</script>"
      ],
      "text/plain": [
       ":Bars   [Tm]   (FantasyPoints)"
      ]
     },
     "execution_count": 21,
     "metadata": {
      "application/vnd.holoviews_exec.v0+json": {
       "id": "3087"
      }
     },
     "output_type": "execute_result"
    }
   ],
   "source": [
    "team_mean = full_data.groupby(['Tm']).mean().sort_values(by='FantasyPoints', ascending=False, na_position='first')\n",
    "team_mean.hvplot.bar(width=800, rot=90)"
   ]
  },
  {
   "cell_type": "code",
   "execution_count": 22,
   "id": "42ef578c",
   "metadata": {},
   "outputs": [
    {
     "data": {},
     "metadata": {},
     "output_type": "display_data"
    },
    {
     "data": {
      "application/vnd.holoviews_exec.v0+json": "",
      "text/html": [
       "<div id='3208'>\n",
       "\n",
       "\n",
       "\n",
       "\n",
       "\n",
       "  <div class=\"bk-root\" id=\"b2368fe9-aa4b-4f30-9cf0-180918bc5060\" data-root-id=\"3208\"></div>\n",
       "</div>\n",
       "<script type=\"application/javascript\">(function(root) {\n",
       "  function embed_document(root) {\n",
       "    var docs_json = {\"d9814aeb-d9a9-45cb-bf98-53381031f0f8\":{\"defs\":[{\"extends\":null,\"module\":null,\"name\":\"ReactiveHTML1\",\"overrides\":[],\"properties\":[]},{\"extends\":null,\"module\":null,\"name\":\"FlexBox1\",\"overrides\":[],\"properties\":[{\"default\":\"flex-start\",\"kind\":null,\"name\":\"align_content\"},{\"default\":\"flex-start\",\"kind\":null,\"name\":\"align_items\"},{\"default\":\"row\",\"kind\":null,\"name\":\"flex_direction\"},{\"default\":\"wrap\",\"kind\":null,\"name\":\"flex_wrap\"},{\"default\":\"flex-start\",\"kind\":null,\"name\":\"justify_content\"}]},{\"extends\":null,\"module\":null,\"name\":\"TemplateActions1\",\"overrides\":[],\"properties\":[{\"default\":0,\"kind\":null,\"name\":\"open_modal\"},{\"default\":0,\"kind\":null,\"name\":\"close_modal\"}]},{\"extends\":null,\"module\":null,\"name\":\"MaterialTemplateActions1\",\"overrides\":[],\"properties\":[{\"default\":0,\"kind\":null,\"name\":\"open_modal\"},{\"default\":0,\"kind\":null,\"name\":\"close_modal\"}]}],\"roots\":{\"references\":[{\"attributes\":{\"below\":[{\"id\":\"3222\"}],\"center\":[{\"id\":\"3224\"},{\"id\":\"3228\"}],\"height\":300,\"left\":[{\"id\":\"3225\"}],\"margin\":[5,5,5,5],\"min_border_bottom\":10,\"min_border_left\":10,\"min_border_right\":10,\"min_border_top\":10,\"renderers\":[{\"id\":\"3248\"}],\"sizing_mode\":\"fixed\",\"title\":{\"id\":\"3214\"},\"toolbar\":{\"id\":\"3235\"},\"width\":800,\"x_range\":{\"id\":\"3210\"},\"x_scale\":{\"id\":\"3218\"},\"y_range\":{\"id\":\"3211\"},\"y_scale\":{\"id\":\"3220\"}},\"id\":\"3213\",\"subtype\":\"Figure\",\"type\":\"Plot\"},{\"attributes\":{},\"id\":\"3254\",\"type\":\"BasicTickFormatter\"},{\"attributes\":{\"children\":[{\"id\":\"3209\"},{\"id\":\"3213\"},{\"id\":\"3277\"}],\"margin\":[0,0,0,0],\"name\":\"Row18550\",\"tags\":[\"embedded\"]},\"id\":\"3208\",\"type\":\"Row\"},{\"attributes\":{\"data_source\":{\"id\":\"3242\"},\"glyph\":{\"id\":\"3245\"},\"hover_glyph\":null,\"muted_glyph\":{\"id\":\"3247\"},\"nonselection_glyph\":{\"id\":\"3246\"},\"selection_glyph\":{\"id\":\"3250\"},\"view\":{\"id\":\"3249\"}},\"id\":\"3248\",\"type\":\"GlyphRenderer\"},{\"attributes\":{\"overlay\":{\"id\":\"3234\"}},\"id\":\"3232\",\"type\":\"BoxZoomTool\"},{\"attributes\":{\"fill_color\":{\"value\":\"#30a2da\"},\"top\":{\"field\":\"FantasyPoints\"},\"width\":{\"value\":0.8},\"x\":{\"field\":\"Pos\"}},\"id\":\"3245\",\"type\":\"VBar\"},{\"attributes\":{},\"id\":\"3231\",\"type\":\"WheelZoomTool\"},{\"attributes\":{},\"id\":\"3230\",\"type\":\"PanTool\"},{\"attributes\":{},\"id\":\"3243\",\"type\":\"Selection\"},{\"attributes\":{},\"id\":\"3220\",\"type\":\"LinearScale\"},{\"attributes\":{\"axis_label\":\"Pos\",\"formatter\":{\"id\":\"3251\"},\"major_label_orientation\":1.5707963267948966,\"major_label_policy\":{\"id\":\"3252\"},\"ticker\":{\"id\":\"3223\"}},\"id\":\"3222\",\"type\":\"CategoricalAxis\"},{\"attributes\":{\"data\":{\"FantasyPoints\":{\"__ndarray__\":\"IBokUU03XEDGJYcqXbZVQDkm2vCXb1JAiL0t5tiuTEC0YwXCSDscQA==\",\"dtype\":\"float64\",\"order\":\"little\",\"shape\":[5]},\"Pos\":[\"QB\",\"WR\",\"RB\",\"TE\",\"0\"]},\"selected\":{\"id\":\"3243\"},\"selection_policy\":{\"id\":\"3264\"}},\"id\":\"3242\",\"type\":\"ColumnDataSource\"},{\"attributes\":{\"source\":{\"id\":\"3242\"}},\"id\":\"3249\",\"type\":\"CDSView\"},{\"attributes\":{\"text_color\":\"black\",\"text_font_size\":\"12pt\"},\"id\":\"3214\",\"type\":\"Title\"},{\"attributes\":{\"callback\":null,\"renderers\":[{\"id\":\"3248\"}],\"tags\":[\"hv_created\"],\"tooltips\":[[\"Pos\",\"@{Pos}\"],[\"FantasyPoints\",\"@{FantasyPoints}\"]]},\"id\":\"3212\",\"type\":\"HoverTool\"},{\"attributes\":{\"bottom\":{\"value\":0},\"fill_alpha\":{\"value\":1.0},\"fill_color\":{\"value\":\"#30a2da\"},\"hatch_alpha\":{\"value\":1.0},\"hatch_color\":{\"value\":\"black\"},\"hatch_scale\":{\"value\":12.0},\"hatch_weight\":{\"value\":1.0},\"line_alpha\":{\"value\":1.0},\"line_cap\":{\"value\":\"butt\"},\"line_color\":{\"value\":\"black\"},\"line_dash\":{\"value\":[]},\"line_dash_offset\":{\"value\":0},\"line_join\":{\"value\":\"bevel\"},\"line_width\":{\"value\":1},\"top\":{\"field\":\"FantasyPoints\"},\"width\":{\"value\":0.8},\"x\":{\"field\":\"Pos\"}},\"id\":\"3250\",\"type\":\"VBar\"},{\"attributes\":{},\"id\":\"3264\",\"type\":\"UnionRenderers\"},{\"attributes\":{\"margin\":[5,5,5,5],\"name\":\"HSpacer18555\",\"sizing_mode\":\"stretch_width\"},\"id\":\"3277\",\"type\":\"Spacer\"},{\"attributes\":{},\"id\":\"3229\",\"type\":\"SaveTool\"},{\"attributes\":{\"bottom_units\":\"screen\",\"fill_alpha\":0.5,\"fill_color\":\"lightgrey\",\"left_units\":\"screen\",\"level\":\"overlay\",\"line_alpha\":1.0,\"line_color\":\"black\",\"line_dash\":[4,4],\"line_width\":2,\"right_units\":\"screen\",\"syncable\":false,\"top_units\":\"screen\"},\"id\":\"3234\",\"type\":\"BoxAnnotation\"},{\"attributes\":{\"margin\":[5,5,5,5],\"name\":\"HSpacer18554\",\"sizing_mode\":\"stretch_width\"},\"id\":\"3209\",\"type\":\"Spacer\"},{\"attributes\":{},\"id\":\"3252\",\"type\":\"AllLabels\"},{\"attributes\":{},\"id\":\"3223\",\"type\":\"CategoricalTicker\"},{\"attributes\":{\"axis\":{\"id\":\"3222\"},\"grid_line_color\":null,\"ticker\":null},\"id\":\"3224\",\"type\":\"Grid\"},{\"attributes\":{},\"id\":\"3218\",\"type\":\"CategoricalScale\"},{\"attributes\":{\"active_multi\":null,\"tools\":[{\"id\":\"3212\"},{\"id\":\"3229\"},{\"id\":\"3230\"},{\"id\":\"3231\"},{\"id\":\"3232\"},{\"id\":\"3233\"}]},\"id\":\"3235\",\"type\":\"Toolbar\"},{\"attributes\":{},\"id\":\"3251\",\"type\":\"CategoricalTickFormatter\"},{\"attributes\":{\"axis_label\":\"FantasyPoints\",\"formatter\":{\"id\":\"3254\"},\"major_label_policy\":{\"id\":\"3255\"},\"ticker\":{\"id\":\"3226\"}},\"id\":\"3225\",\"type\":\"LinearAxis\"},{\"attributes\":{\"factors\":[\"QB\",\"WR\",\"RB\",\"TE\",\"0\"],\"tags\":[[[\"Pos\",\"Pos\",null]]]},\"id\":\"3210\",\"type\":\"FactorRange\"},{\"attributes\":{},\"id\":\"3255\",\"type\":\"AllLabels\"},{\"attributes\":{},\"id\":\"3226\",\"type\":\"BasicTicker\"},{\"attributes\":{},\"id\":\"3233\",\"type\":\"ResetTool\"},{\"attributes\":{\"axis\":{\"id\":\"3225\"},\"dimension\":1,\"grid_line_color\":null,\"ticker\":null},\"id\":\"3228\",\"type\":\"Grid\"},{\"attributes\":{\"fill_alpha\":{\"value\":0.1},\"fill_color\":{\"value\":\"#30a2da\"},\"line_alpha\":{\"value\":0.1},\"top\":{\"field\":\"FantasyPoints\"},\"width\":{\"value\":0.8},\"x\":{\"field\":\"Pos\"}},\"id\":\"3246\",\"type\":\"VBar\"},{\"attributes\":{\"end\":123.44471398413049,\"reset_end\":123.44471398413049,\"reset_start\":0.0,\"tags\":[[[\"FantasyPoints\",\"FantasyPoints\",null]]]},\"id\":\"3211\",\"type\":\"Range1d\"},{\"attributes\":{\"fill_alpha\":{\"value\":0.2},\"fill_color\":{\"value\":\"#30a2da\"},\"line_alpha\":{\"value\":0.2},\"top\":{\"field\":\"FantasyPoints\"},\"width\":{\"value\":0.8},\"x\":{\"field\":\"Pos\"}},\"id\":\"3247\",\"type\":\"VBar\"}],\"root_ids\":[\"3208\"]},\"title\":\"Bokeh Application\",\"version\":\"2.3.2\"}};\n",
       "    var render_items = [{\"docid\":\"d9814aeb-d9a9-45cb-bf98-53381031f0f8\",\"root_ids\":[\"3208\"],\"roots\":{\"3208\":\"b2368fe9-aa4b-4f30-9cf0-180918bc5060\"}}];\n",
       "    root.Bokeh.embed.embed_items_notebook(docs_json, render_items);\n",
       "  }\n",
       "  if (root.Bokeh !== undefined && root.Bokeh.Panel !== undefined && ( root['Plotly'] !== undefined)) {\n",
       "    embed_document(root);\n",
       "  } else {\n",
       "    var attempts = 0;\n",
       "    var timer = setInterval(function(root) {\n",
       "      if (root.Bokeh !== undefined && root.Bokeh.Panel !== undefined && (root['Plotly'] !== undefined)) {\n",
       "        clearInterval(timer);\n",
       "        embed_document(root);\n",
       "      } else if (document.readyState == \"complete\") {\n",
       "        attempts++;\n",
       "        if (attempts > 200) {\n",
       "          clearInterval(timer);\n",
       "          console.log(\"Bokeh: ERROR: Unable to run BokehJS code because BokehJS library is missing\");\n",
       "        }\n",
       "      }\n",
       "    }, 25, root)\n",
       "  }\n",
       "})(window);</script>"
      ],
      "text/plain": [
       ":Bars   [Pos]   (FantasyPoints)"
      ]
     },
     "execution_count": 22,
     "metadata": {
      "application/vnd.holoviews_exec.v0+json": {
       "id": "3208"
      }
     },
     "output_type": "execute_result"
    }
   ],
   "source": [
    "position_mean = full_data.groupby(['Pos']).mean().sort_values(by='FantasyPoints', ascending=False, na_position='first')\n",
    "position_mean.hvplot.bar(width=800, rot=90)"
   ]
  },
  {
   "cell_type": "code",
   "execution_count": null,
   "id": "e64bea9c",
   "metadata": {},
   "outputs": [],
   "source": []
  }
 ],
 "metadata": {
  "kernelspec": {
   "display_name": "Python [conda env:pyvizenv2] *",
   "language": "python",
   "name": "conda-env-pyvizenv2-py"
  },
  "language_info": {
   "codemirror_mode": {
    "name": "ipython",
    "version": 3
   },
   "file_extension": ".py",
   "mimetype": "text/x-python",
   "name": "python",
   "nbconvert_exporter": "python",
   "pygments_lexer": "ipython3",
   "version": "3.7.10"
  }
 },
 "nbformat": 4,
 "nbformat_minor": 5
}
