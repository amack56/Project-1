{
 "cells": [
  {
   "cell_type": "code",
   "execution_count": 18,
   "id": "aba8f24a",
   "metadata": {},
   "outputs": [
    {
     "data": {},
     "metadata": {},
     "output_type": "display_data"
    },
    {
     "data": {
      "application/vnd.holoviews_exec.v0+json": "",
      "text/html": [
       "<div id='2576'>\n",
       "\n",
       "\n",
       "\n",
       "\n",
       "\n",
       "  <div class=\"bk-root\" id=\"db011936-59ff-4ce6-be57-ad7905e03b2d\" data-root-id=\"2576\"></div>\n",
       "</div>\n",
       "<script type=\"application/javascript\">(function(root) {\n",
       "  function embed_document(root) {\n",
       "    var docs_json = {\"1b58e2fc-942b-4c43-a744-d4d70f26f9c3\":{\"defs\":[{\"extends\":null,\"module\":null,\"name\":\"ReactiveHTML1\",\"overrides\":[],\"properties\":[]},{\"extends\":null,\"module\":null,\"name\":\"FlexBox1\",\"overrides\":[],\"properties\":[{\"default\":\"flex-start\",\"kind\":null,\"name\":\"align_content\"},{\"default\":\"flex-start\",\"kind\":null,\"name\":\"align_items\"},{\"default\":\"row\",\"kind\":null,\"name\":\"flex_direction\"},{\"default\":\"wrap\",\"kind\":null,\"name\":\"flex_wrap\"},{\"default\":\"flex-start\",\"kind\":null,\"name\":\"justify_content\"}]},{\"extends\":null,\"module\":null,\"name\":\"TemplateActions1\",\"overrides\":[],\"properties\":[{\"default\":0,\"kind\":null,\"name\":\"open_modal\"},{\"default\":0,\"kind\":null,\"name\":\"close_modal\"}]},{\"extends\":null,\"module\":null,\"name\":\"MaterialTemplateActions1\",\"overrides\":[],\"properties\":[{\"default\":0,\"kind\":null,\"name\":\"open_modal\"},{\"default\":0,\"kind\":null,\"name\":\"close_modal\"}]}],\"roots\":{\"references\":[{\"attributes\":{\"margin\":[20,20,20,20],\"min_width\":250,\"options\":[\"CAR\",\"NYG\",\"NOR\",\"SEA\",\"NWE\",\"GNB\",\"DET\",\"DAL\",\"LAR\",\"BAL\",\"DEN\",\"IND\",\"ARI\",\"ATL\",\"HOU\",\"CHI\",\"PIT\",\"PHI\",\"LAC\",\"KAN\",\"SDG\",\"MIN\",\"CLE\",\"BUF\",\"NYJ\",\"TAM\",\"MIA\",\"TEN\",\"CIN\",\"JAX\",\"OAK\",\"STL\",\"2TM\",\"SFO\",\"WAS\",\"3TM\",\"4TM\"],\"title\":\"Tm\",\"value\":\"CAR\",\"width\":250},\"id\":\"2656\",\"type\":\"Select\"},{\"attributes\":{\"margin\":[5,5,5,5],\"name\":\"VSpacer12422\",\"sizing_mode\":\"stretch_height\"},\"id\":\"2654\",\"type\":\"Spacer\"},{\"attributes\":{\"text\":\"Tm: CAR\",\"text_color\":\"black\",\"text_font_size\":\"12pt\"},\"id\":\"2582\",\"type\":\"Title\"},{\"attributes\":{\"active_multi\":null,\"tools\":[{\"id\":\"2580\"},{\"id\":\"2597\"},{\"id\":\"2598\"},{\"id\":\"2599\"},{\"id\":\"2600\"},{\"id\":\"2601\"}]},\"id\":\"2603\",\"type\":\"Toolbar\"},{\"attributes\":{\"fill_alpha\":{\"value\":0.2},\"fill_color\":{\"field\":\"Tm\",\"transform\":{\"id\":\"2610\"}},\"line_alpha\":{\"value\":0.2},\"top\":{\"field\":\"FantasyPoints\"},\"width\":{\"value\":0.8},\"x\":{\"field\":\"xoffsets\"}},\"id\":\"2616\",\"type\":\"VBar\"},{\"attributes\":{},\"id\":\"2639\",\"type\":\"UnionRenderers\"},{\"attributes\":{\"end\":397.51,\"reset_end\":397.51,\"reset_start\":-39.41,\"start\":-39.41,\"tags\":[[[\"FantasyPoints\",\"FantasyPoints\",null]]]},\"id\":\"2579\",\"type\":\"Range1d\"},{\"attributes\":{},\"id\":\"2620\",\"type\":\"CategoricalTickFormatter\"},{\"attributes\":{\"margin\":[5,5,5,5],\"name\":\"HSpacer12425\",\"sizing_mode\":\"stretch_width\"},\"id\":\"2577\",\"type\":\"Spacer\"},{\"attributes\":{},\"id\":\"2597\",\"type\":\"SaveTool\"},{\"attributes\":{\"below\":[{\"id\":\"2590\"}],\"center\":[{\"id\":\"2592\"},{\"id\":\"2596\"}],\"height\":300,\"left\":[{\"id\":\"2593\"}],\"margin\":[5,5,5,5],\"min_border_bottom\":10,\"min_border_left\":10,\"min_border_right\":10,\"min_border_top\":10,\"renderers\":[{\"id\":\"2617\"}],\"sizing_mode\":\"fixed\",\"title\":{\"id\":\"2582\"},\"toolbar\":{\"id\":\"2603\"},\"width\":800,\"x_range\":{\"id\":\"2578\"},\"x_scale\":{\"id\":\"2586\"},\"y_range\":{\"id\":\"2579\"},\"y_scale\":{\"id\":\"2588\"}},\"id\":\"2581\",\"subtype\":\"Figure\",\"type\":\"Plot\"},{\"attributes\":{\"factors\":[[\"Christian McCaffrey\",\"CAR\"],[\"Cam Newton\",\"CAR\"],[\"Kelvin Benjamin\",\"CAR\"],[\"D.J. Moore\",\"CAR\"],[\"Steve Smith\",\"CAR\"],[\"Ted Ginn\",\"CAR\"],[\"Greg Olsen\",\"CAR\"],[\"Devin Funchess\",\"CAR\"],[\"Brandon LaFell\",\"CAR\"],[\"Jonathan Stewart\",\"CAR\"],[\"Curtis Samuel\",\"CAR\"],[\"DeAngelo Williams\",\"CAR\"],[\"Jerricho Cotchery\",\"CAR\"],[\"David Gettis\",\"CAR\"],[\"Jeremy Shockey\",\"CAR\"],[\"Kyle Allen\",\"CAR\"],[\"Legedu Naanee\",\"CAR\"],[\"Corey Brown\",\"CAR\"],[\"Mike Tolbert\",\"CAR\"],[\"Jarius Wright\",\"CAR\"],[\"Louis Murphy\",\"CAR\"],[\"Mike Goodson\",\"CAR\"],[\"Ian Thomas\",\"CAR\"],[\"Dante Rosario\",\"CAR\"],[\"Jimmy Clausen\",\"CAR\"],[\"Torrey Smith\",\"CAR\"],[\"Russell Shepard\",\"CAR\"],[\"Ed Dickson\",\"CAR\"],[\"Jeff King\",\"CAR\"],[\"Fozzy Whittaker\",\"CAR\"],[\"Matt Moore\",\"CAR\"],[\"Reggie Bonnafon\",\"CAR\"],[\"Tyrell Sutton\",\"CAR\"],[\"Cameron Artis-Payne\",\"CAR\"],[\"Gary Barnidge\",\"CAR\"],[\"Brenton Bersin\",\"CAR\"],[\"Brandon Zylstra\",\"CAR\"],[\"Domenik Hixon\",\"CAR\"],[\"Darrin Reaves\",\"CAR\"],[\"Chris Hogan\",\"CAR\"],[\"Taylor Heinicke\",\"CAR\"],[\"Kealoha Pilares\",\"CAR\"],[\"Damiere Byrd\",\"CAR\"],[\"Alex Armah\",\"CAR\"],[\"Derek Anderson\",\"CAR\"],[\"Tony Fiammetta\",\"CAR\"],[\"DeAndrew White\",\"CAR\"],[\"Brandon Williams\",\"CAR\"],[\"Brian St. Pierre\",\"CAR\"],[\"Chris Manhertz\",\"CAR\"],[\"Armanti Edwards\",\"CAR\"],[\"Dwayne Jarrett\",\"CAR\"],[\"Richie Brockel\",\"CAR\"],[\"Ben Hartsock\",\"CAR\"],[\"Josh Vaughan\",\"CAR\"],[\"Kenjon Barner\",\"CAR\"],[\"Travaris Cadet\",\"CAR\"],[\"Scott Simonson\",\"CAR\"],[\"Tony Pike\",\"CAR\"],[\"Garrett Gilbert\",\"CAR\"],[\"Seyi Ajirotutu\",\"CAR\"],[\"Will Grier\",\"CAR\"],[\"Joe Webb\",\"CAR\"],[\"Jordan Scarlett\",\"CAR\"],[\"Armond Smith\",\"CAR\"],[\"De'Andre Presley\",\"CAR\"],[\"Greg Dortch\",\"CAR\"],[\"Ray-Ray McCloud\",\"CAR\"],[\"Joe Adams\",\"CAR\"]],\"tags\":[[[\"Player\",\"Player\",null],[\"Tm\",\"Tm\",null]]]},\"id\":\"2578\",\"type\":\"FactorRange\"},{\"attributes\":{\"factors\":[\"CAR\"],\"palette\":[\"#30a2da\"]},\"id\":\"2610\",\"type\":\"CategoricalColorMapper\"},{\"attributes\":{\"children\":[{\"id\":\"2577\"},{\"id\":\"2581\"},{\"id\":\"2652\"},{\"id\":\"2653\"}],\"margin\":[0,0,0,0],\"name\":\"Row12416\"},\"id\":\"2576\",\"type\":\"Row\"},{\"attributes\":{\"axis_label\":\"FantasyPoints\",\"formatter\":{\"id\":\"2623\"},\"major_label_policy\":{\"id\":\"2624\"},\"ticker\":{\"id\":\"2594\"}},\"id\":\"2593\",\"type\":\"LinearAxis\"},{\"attributes\":{},\"id\":\"2621\",\"type\":\"AllLabels\"},{\"attributes\":{\"fill_alpha\":{\"value\":0.1},\"fill_color\":{\"field\":\"Tm\",\"transform\":{\"id\":\"2610\"}},\"line_alpha\":{\"value\":0.1},\"top\":{\"field\":\"FantasyPoints\"},\"width\":{\"value\":0.8},\"x\":{\"field\":\"xoffsets\"}},\"id\":\"2615\",\"type\":\"VBar\"},{\"attributes\":{},\"id\":\"2612\",\"type\":\"Selection\"},{\"attributes\":{\"fill_color\":{\"field\":\"Tm\",\"transform\":{\"id\":\"2610\"}},\"top\":{\"field\":\"FantasyPoints\"},\"width\":{\"value\":0.8},\"x\":{\"field\":\"xoffsets\"}},\"id\":\"2614\",\"type\":\"VBar\"},{\"attributes\":{},\"id\":\"2594\",\"type\":\"BasicTicker\"},{\"attributes\":{\"margin\":[5,5,5,5],\"name\":\"VSpacer12423\",\"sizing_mode\":\"stretch_height\"},\"id\":\"2657\",\"type\":\"Spacer\"},{\"attributes\":{},\"id\":\"2591\",\"type\":\"CategoricalTicker\"},{\"attributes\":{\"overlay\":{\"id\":\"2602\"}},\"id\":\"2600\",\"type\":\"BoxZoomTool\"},{\"attributes\":{\"axis\":{\"id\":\"2590\"},\"grid_line_color\":null,\"ticker\":null},\"id\":\"2592\",\"type\":\"Grid\"},{\"attributes\":{\"source\":{\"id\":\"2611\"}},\"id\":\"2618\",\"type\":\"CDSView\"},{\"attributes\":{\"bottom_units\":\"screen\",\"fill_alpha\":0.5,\"fill_color\":\"lightgrey\",\"left_units\":\"screen\",\"level\":\"overlay\",\"line_alpha\":1.0,\"line_color\":\"black\",\"line_dash\":[4,4],\"line_width\":2,\"right_units\":\"screen\",\"syncable\":false,\"top_units\":\"screen\"},\"id\":\"2602\",\"type\":\"BoxAnnotation\"},{\"attributes\":{\"bottom\":{\"value\":0},\"fill_alpha\":{\"value\":1.0},\"fill_color\":{\"field\":\"Tm\",\"transform\":{\"id\":\"2610\"}},\"hatch_alpha\":{\"value\":1.0},\"hatch_color\":{\"value\":\"black\"},\"hatch_scale\":{\"value\":12.0},\"hatch_weight\":{\"value\":1.0},\"line_alpha\":{\"value\":1.0},\"line_cap\":{\"value\":\"butt\"},\"line_color\":{\"value\":\"black\"},\"line_dash\":{\"value\":[]},\"line_dash_offset\":{\"value\":0},\"line_join\":{\"value\":\"bevel\"},\"line_width\":{\"value\":1},\"top\":{\"field\":\"FantasyPoints\"},\"width\":{\"value\":0.8},\"x\":{\"field\":\"xoffsets\"}},\"id\":\"2619\",\"type\":\"VBar\"},{\"attributes\":{\"client_comm_id\":\"b466de46705d402688ee2006ce14642f\",\"comm_id\":\"5b1bdc33f5864bf28bb467b067ad3e38\",\"plot_id\":\"2576\"},\"id\":\"2688\",\"type\":\"panel.models.comm_manager.CommManager\"},{\"attributes\":{},\"id\":\"2588\",\"type\":\"LinearScale\"},{\"attributes\":{\"axis_label\":\"Player, Tm\",\"formatter\":{\"id\":\"2620\"},\"major_label_orientation\":1.5707963267948966,\"major_label_policy\":{\"id\":\"2621\"},\"ticker\":{\"id\":\"2591\"}},\"id\":\"2590\",\"type\":\"CategoricalAxis\"},{\"attributes\":{},\"id\":\"2623\",\"type\":\"BasicTickFormatter\"},{\"attributes\":{\"children\":[{\"id\":\"2654\"},{\"id\":\"2655\"},{\"id\":\"2657\"}],\"margin\":[0,0,0,0],\"name\":\"Column12424\"},\"id\":\"2653\",\"type\":\"Column\"},{\"attributes\":{\"children\":[{\"id\":\"2656\"}],\"css_classes\":[\"panel-widget-box\"],\"margin\":[5,5,5,5],\"name\":\"WidgetBox12417\"},\"id\":\"2655\",\"type\":\"Column\"},{\"attributes\":{\"margin\":[5,5,5,5],\"name\":\"HSpacer12426\",\"sizing_mode\":\"stretch_width\"},\"id\":\"2652\",\"type\":\"Spacer\"},{\"attributes\":{},\"id\":\"2586\",\"type\":\"CategoricalScale\"},{\"attributes\":{\"callback\":null,\"renderers\":[{\"id\":\"2617\"}],\"tags\":[\"hv_created\"],\"tooltips\":[[\"Player\",\"@{Player}\"],[\"Tm\",\"@{Tm}\"],[\"FantasyPoints\",\"@{FantasyPoints}\"]]},\"id\":\"2580\",\"type\":\"HoverTool\"},{\"attributes\":{},\"id\":\"2599\",\"type\":\"WheelZoomTool\"},{\"attributes\":{},\"id\":\"2598\",\"type\":\"PanTool\"},{\"attributes\":{},\"id\":\"2601\",\"type\":\"ResetTool\"},{\"attributes\":{\"axis\":{\"id\":\"2593\"},\"dimension\":1,\"grid_line_color\":null,\"ticker\":null},\"id\":\"2596\",\"type\":\"Grid\"},{\"attributes\":{},\"id\":\"2624\",\"type\":\"AllLabels\"},{\"attributes\":{\"data\":{\"FantasyPoints\":{\"__ndarray__\":\"mZmZmZmRdkApXI/C9SBxQGZmZmZmbmpAAAAAAAA4aEAzMzMzM29nQJmZmZmZeWNALdiCLdhyY0DMzMzMzMRfQP//////515AZ2ZmZmaeXkAzMzMzM3NcQK5H4XoUbltAMzMzMzNjW0AAAAAAAIBaQAAAAAAAIFpAcD0K16OAWUBSuB6F63FYQGdmZmZmZlNA16NwPQo3U0AAAAAAABBTQJmZmZmZOVBAMzMzMzMzUECamZmZmTlNQJqZmZmZGU1Aw/UoXI8CTUAAAAAAAABIQM3MzMzMjEZAZmZmZmY2RkDNzMzMzIxFQJqZmZmZSURApHA9CtdjQEDNzMzMzEw9QJqZmZmZGTpAzMzMzMxsOEDNzMzMzMwzQAAAAAAAYDNAmpmZmZmZMkAAAAAAAIAyQM3MzMzMzC9AZmZmZmZmLUDNzMzMzMwrQM3MzMzMzCtAZ2ZmZmZmKUAzMzMzM7MoQO/u7u7u7iZAMzMzMzMzJUAzMzMzMzMiQM3MzMzMzCBArkfhehSuG0BVVVVVVVUZQP1iyS+W/BhAAAAAAAAAGECamZmZmZkXQAAAAAAAABRAMzMzMzMzEkA0MzMzMzMLQJqZmZmZmQlAAAAAAAAAAEAUrkfhehT+P5qZmZmZmfk/ZmZmZmZm9j8chetRuB71P0RERERERPQ/zczMzMzM7D8AAAAAAADgP5qZmZmZmcm/AAAAAAAAAMAAAAAAAAAAwAAAAAAAAAjA\",\"dtype\":\"float64\",\"order\":\"little\",\"shape\":[69]},\"Player\":[\"Christian McCaffrey\",\"Cam Newton\",\"Kelvin Benjamin\",\"D.J. Moore\",\"Steve Smith\",\"Ted Ginn\",\"Greg Olsen\",\"Devin Funchess\",\"Brandon LaFell\",\"Jonathan Stewart\",\"Curtis Samuel\",\"DeAngelo Williams\",\"Jerricho Cotchery\",\"David Gettis\",\"Jeremy Shockey\",\"Kyle Allen\",\"Legedu Naanee\",\"Corey Brown\",\"Mike Tolbert\",\"Jarius Wright\",\"Louis Murphy\",\"Mike Goodson\",\"Ian Thomas\",\"Dante Rosario\",\"Jimmy Clausen\",\"Torrey Smith\",\"Russell Shepard\",\"Ed Dickson\",\"Jeff King\",\"Fozzy Whittaker\",\"Matt Moore\",\"Reggie Bonnafon\",\"Tyrell Sutton\",\"Cameron Artis-Payne\",\"Gary Barnidge\",\"Brenton Bersin\",\"Brandon Zylstra\",\"Domenik Hixon\",\"Darrin Reaves\",\"Chris Hogan\",\"Taylor Heinicke\",\"Kealoha Pilares\",\"Damiere Byrd\",\"Alex Armah\",\"Derek Anderson\",\"Tony Fiammetta\",\"DeAndrew White\",\"Brandon Williams\",\"Brian St. Pierre\",\"Chris Manhertz\",\"Armanti Edwards\",\"Dwayne Jarrett\",\"Richie Brockel\",\"Ben Hartsock\",\"Josh Vaughan\",\"Kenjon Barner\",\"Travaris Cadet\",\"Scott Simonson\",\"Tony Pike\",\"Garrett Gilbert\",\"Seyi Ajirotutu\",\"Will Grier\",\"Joe Webb\",\"Jordan Scarlett\",\"Armond Smith\",\"De'Andre Presley\",\"Greg Dortch\",\"Ray-Ray McCloud\",\"Joe Adams\"],\"Tm\":[\"CAR\",\"CAR\",\"CAR\",\"CAR\",\"CAR\",\"CAR\",\"CAR\",\"CAR\",\"CAR\",\"CAR\",\"CAR\",\"CAR\",\"CAR\",\"CAR\",\"CAR\",\"CAR\",\"CAR\",\"CAR\",\"CAR\",\"CAR\",\"CAR\",\"CAR\",\"CAR\",\"CAR\",\"CAR\",\"CAR\",\"CAR\",\"CAR\",\"CAR\",\"CAR\",\"CAR\",\"CAR\",\"CAR\",\"CAR\",\"CAR\",\"CAR\",\"CAR\",\"CAR\",\"CAR\",\"CAR\",\"CAR\",\"CAR\",\"CAR\",\"CAR\",\"CAR\",\"CAR\",\"CAR\",\"CAR\",\"CAR\",\"CAR\",\"CAR\",\"CAR\",\"CAR\",\"CAR\",\"CAR\",\"CAR\",\"CAR\",\"CAR\",\"CAR\",\"CAR\",\"CAR\",\"CAR\",\"CAR\",\"CAR\",\"CAR\",\"CAR\",\"CAR\",\"CAR\",\"CAR\"],\"xoffsets\":[[\"Christian McCaffrey\",\"CAR\"],[\"Cam Newton\",\"CAR\"],[\"Kelvin Benjamin\",\"CAR\"],[\"D.J. Moore\",\"CAR\"],[\"Steve Smith\",\"CAR\"],[\"Ted Ginn\",\"CAR\"],[\"Greg Olsen\",\"CAR\"],[\"Devin Funchess\",\"CAR\"],[\"Brandon LaFell\",\"CAR\"],[\"Jonathan Stewart\",\"CAR\"],[\"Curtis Samuel\",\"CAR\"],[\"DeAngelo Williams\",\"CAR\"],[\"Jerricho Cotchery\",\"CAR\"],[\"David Gettis\",\"CAR\"],[\"Jeremy Shockey\",\"CAR\"],[\"Kyle Allen\",\"CAR\"],[\"Legedu Naanee\",\"CAR\"],[\"Corey Brown\",\"CAR\"],[\"Mike Tolbert\",\"CAR\"],[\"Jarius Wright\",\"CAR\"],[\"Louis Murphy\",\"CAR\"],[\"Mike Goodson\",\"CAR\"],[\"Ian Thomas\",\"CAR\"],[\"Dante Rosario\",\"CAR\"],[\"Jimmy Clausen\",\"CAR\"],[\"Torrey Smith\",\"CAR\"],[\"Russell Shepard\",\"CAR\"],[\"Ed Dickson\",\"CAR\"],[\"Jeff King\",\"CAR\"],[\"Fozzy Whittaker\",\"CAR\"],[\"Matt Moore\",\"CAR\"],[\"Reggie Bonnafon\",\"CAR\"],[\"Tyrell Sutton\",\"CAR\"],[\"Cameron Artis-Payne\",\"CAR\"],[\"Gary Barnidge\",\"CAR\"],[\"Brenton Bersin\",\"CAR\"],[\"Brandon Zylstra\",\"CAR\"],[\"Domenik Hixon\",\"CAR\"],[\"Darrin Reaves\",\"CAR\"],[\"Chris Hogan\",\"CAR\"],[\"Taylor Heinicke\",\"CAR\"],[\"Kealoha Pilares\",\"CAR\"],[\"Damiere Byrd\",\"CAR\"],[\"Alex Armah\",\"CAR\"],[\"Derek Anderson\",\"CAR\"],[\"Tony Fiammetta\",\"CAR\"],[\"DeAndrew White\",\"CAR\"],[\"Brandon Williams\",\"CAR\"],[\"Brian St. Pierre\",\"CAR\"],[\"Chris Manhertz\",\"CAR\"],[\"Armanti Edwards\",\"CAR\"],[\"Dwayne Jarrett\",\"CAR\"],[\"Richie Brockel\",\"CAR\"],[\"Ben Hartsock\",\"CAR\"],[\"Josh Vaughan\",\"CAR\"],[\"Kenjon Barner\",\"CAR\"],[\"Travaris Cadet\",\"CAR\"],[\"Scott Simonson\",\"CAR\"],[\"Tony Pike\",\"CAR\"],[\"Garrett Gilbert\",\"CAR\"],[\"Seyi Ajirotutu\",\"CAR\"],[\"Will Grier\",\"CAR\"],[\"Joe Webb\",\"CAR\"],[\"Jordan Scarlett\",\"CAR\"],[\"Armond Smith\",\"CAR\"],[\"De'Andre Presley\",\"CAR\"],[\"Greg Dortch\",\"CAR\"],[\"Ray-Ray McCloud\",\"CAR\"],[\"Joe Adams\",\"CAR\"]]},\"selected\":{\"id\":\"2612\"},\"selection_policy\":{\"id\":\"2639\"}},\"id\":\"2611\",\"type\":\"ColumnDataSource\"},{\"attributes\":{\"data_source\":{\"id\":\"2611\"},\"glyph\":{\"id\":\"2614\"},\"hover_glyph\":null,\"muted_glyph\":{\"id\":\"2616\"},\"nonselection_glyph\":{\"id\":\"2615\"},\"selection_glyph\":{\"id\":\"2619\"},\"view\":{\"id\":\"2618\"}},\"id\":\"2617\",\"type\":\"GlyphRenderer\"}],\"root_ids\":[\"2576\",\"2688\"]},\"title\":\"Bokeh Application\",\"version\":\"2.3.2\"}};\n",
       "    var render_items = [{\"docid\":\"1b58e2fc-942b-4c43-a744-d4d70f26f9c3\",\"root_ids\":[\"2576\"],\"roots\":{\"2576\":\"db011936-59ff-4ce6-be57-ad7905e03b2d\"}}];\n",
       "    root.Bokeh.embed.embed_items_notebook(docs_json, render_items);\n",
       "  }\n",
       "  if (root.Bokeh !== undefined && root.Bokeh.Panel !== undefined && ( root['Plotly'] !== undefined)) {\n",
       "    embed_document(root);\n",
       "  } else {\n",
       "    var attempts = 0;\n",
       "    var timer = setInterval(function(root) {\n",
       "      if (root.Bokeh !== undefined && root.Bokeh.Panel !== undefined && (root['Plotly'] !== undefined)) {\n",
       "        clearInterval(timer);\n",
       "        embed_document(root);\n",
       "      } else if (document.readyState == \"complete\") {\n",
       "        attempts++;\n",
       "        if (attempts > 200) {\n",
       "          clearInterval(timer);\n",
       "          console.log(\"Bokeh: ERROR: Unable to run BokehJS code because BokehJS library is missing\");\n",
       "        }\n",
       "      }\n",
       "    }, 25, root)\n",
       "  }\n",
       "})(window);</script>"
      ],
      "text/plain": [
       ":DynamicMap   [Tm]\n",
       "   :Bars   [Player,Tm]   (FantasyPoints)"
      ]
     },
     "execution_count": 18,
     "metadata": {
      "application/vnd.holoviews_exec.v0+json": {
       "id": "2576"
      }
     },
     "output_type": "execute_result"
    }
   ],
   "source": [
    "# imports\n",
    "\n",
    "import panel as pn\n",
    "pn.extension('plotly')\n",
    "import plotly.express as px\n",
    "import pandas as pd\n",
    "import hvplot.pandas\n",
    "import matplotlib.pyplot as plt\n",
    "import numpy as np\n",
    "import os\n",
    "from pathlib import Path\n",
    "from dotenv import load_dotenv\n",
    "\n",
    "import warnings\n",
    "warnings.filterwarnings('ignore')\n",
    "\n",
    "# Import all the CSVs from the Data of the last 10 years\n",
    "file_path_2010 = Path(\"../Data/RawData/2010.csv\")\n",
    "file_path_2011 = Path(\"../Data/RawData/2011.csv\")\n",
    "file_path_2012 = Path(\"../Data/RawData/2012.csv\")\n",
    "file_path_2013 = Path(\"../Data/RawData/2013.csv\")\n",
    "file_path_2014 = Path(\"../Data/RawData/2014.csv\")\n",
    "file_path_2015 = Path(\"../Data/RawData/2015.csv\")\n",
    "file_path_2016 = Path(\"../Data/RawData/2016.csv\")\n",
    "file_path_2017 = Path(\"../Data/RawData/2017.csv\")\n",
    "file_path_2018 = Path(\"../Data/RawData/2018.csv\")\n",
    "file_path_2019 = Path(\"../Data/RawData/2019.csv\")\n",
    "\n",
    "# Convert the data to DataFrames and add a Year column\n",
    "\n",
    "data_2010 = pd.read_csv(file_path_2010)\n",
    "data_2010['Year'] = '2010'\n",
    "data_2011 = pd.read_csv(file_path_2011)\n",
    "data_2011['Year'] = '2011'\n",
    "data_2012 = pd.read_csv(file_path_2012)\n",
    "data_2012['Year'] = '2012'\n",
    "data_2013 = pd.read_csv(file_path_2013)\n",
    "data_2013['Year'] = '2013'\n",
    "data_2014 = pd.read_csv(file_path_2014)\n",
    "data_2014['Year'] = '2014'\n",
    "data_2015 = pd.read_csv(file_path_2015)\n",
    "data_2015['Year'] = '2015'\n",
    "data_2016 = pd.read_csv(file_path_2016)\n",
    "data_2016['Year'] = '2016'\n",
    "data_2017 = pd.read_csv(file_path_2017)\n",
    "data_2017['Year'] = '2017'\n",
    "data_2018 = pd.read_csv(file_path_2018)\n",
    "data_2018['Year'] = '2018'\n",
    "data_2019 = pd.read_csv(file_path_2019)\n",
    "data_2019['Year'] = '2019'\n",
    "\n",
    "# Select specific columns desired to play with the data\n",
    "\n",
    "data_2010 = data_2010[[\"Year\",\"Player\",\"Tm\",\"Pos\",\"FantasyPoints\"]]\n",
    "data_2011 = data_2011[[\"Year\",\"Player\",\"Tm\",\"Pos\",\"FantasyPoints\"]]\n",
    "data_2012 = data_2012[[\"Year\",\"Player\",\"Tm\",\"Pos\",\"FantasyPoints\"]]\n",
    "data_2013 = data_2013[[\"Year\",\"Player\",\"Tm\",\"Pos\",\"FantasyPoints\"]]\n",
    "data_2014 = data_2014[[\"Year\",\"Player\",\"Tm\",\"Pos\",\"FantasyPoints\"]]\n",
    "data_2015 = data_2015[[\"Year\",\"Player\",\"Tm\",\"Pos\",\"FantasyPoints\"]]\n",
    "data_2016 = data_2016[[\"Year\",\"Player\",\"Tm\",\"Pos\",\"FantasyPoints\"]]\n",
    "data_2017 = data_2017[[\"Year\",\"Player\",\"Tm\",\"Pos\",\"FantasyPoints\"]]\n",
    "data_2018 = data_2018[[\"Year\",\"Player\",\"Tm\",\"Pos\",\"FantasyPoints\"]]\n",
    "data_2019 = data_2019[[\"Year\",\"Player\",\"Tm\",\"Pos\",\"FantasyPoints\"]]\n",
    "\n",
    "# Set the index as the year\n",
    "\n",
    "data_2010 = data_2010.set_index(\"Year\")\n",
    "data_2011 = data_2011.set_index(\"Year\")\n",
    "data_2012 = data_2012.set_index(\"Year\")\n",
    "data_2013 = data_2013.set_index(\"Year\")\n",
    "data_2014 = data_2014.set_index(\"Year\")\n",
    "data_2015 = data_2015.set_index(\"Year\")\n",
    "data_2016 = data_2016.set_index(\"Year\")\n",
    "data_2017 = data_2017.set_index(\"Year\")\n",
    "data_2018 = data_2018.set_index(\"Year\")\n",
    "data_2019 = data_2019.set_index(\"Year\")\n",
    "\n",
    "# Merge all the data and clean it by eliminating players that don't have any points\n",
    "\n",
    "full_data = pd.concat([data_2010, data_2011, data_2012, data_2013, data_2014, data_2015, data_2016, data_2017, data_2018, data_2019])\n",
    "full_data = full_data[full_data['FantasyPoints'] != 0]\n",
    "full_data.to_csv('../Data/CleanData/full_data.csv', encoding='utf-8')\n",
    "\n",
    "player_mean = full_data.groupby(['Player', 'Tm']).mean().sort_values(by='FantasyPoints', ascending=False, na_position='first')\n",
    "player_mean.hvplot.bar(width=800, rot=90, groupby=\"Tm\")"
   ]
  },
  {
   "cell_type": "code",
   "execution_count": 11,
   "id": "4d0ea5cf",
   "metadata": {},
   "outputs": [
    {
     "data": {},
     "metadata": {},
     "output_type": "display_data"
    },
    {
     "data": {
      "application/vnd.holoviews_exec.v0+json": "",
      "text/html": [
       "<div id='2091'>\n",
       "\n",
       "\n",
       "\n",
       "\n",
       "\n",
       "  <div class=\"bk-root\" id=\"ac117ca7-b1a9-4347-8d1e-8553aa2a77d3\" data-root-id=\"2091\"></div>\n",
       "</div>\n",
       "<script type=\"application/javascript\">(function(root) {\n",
       "  function embed_document(root) {\n",
       "    var docs_json = {\"6ad79b1d-04ce-4994-993a-1df083e3d0ef\":{\"defs\":[{\"extends\":null,\"module\":null,\"name\":\"ReactiveHTML1\",\"overrides\":[],\"properties\":[]},{\"extends\":null,\"module\":null,\"name\":\"FlexBox1\",\"overrides\":[],\"properties\":[{\"default\":\"flex-start\",\"kind\":null,\"name\":\"align_content\"},{\"default\":\"flex-start\",\"kind\":null,\"name\":\"align_items\"},{\"default\":\"row\",\"kind\":null,\"name\":\"flex_direction\"},{\"default\":\"wrap\",\"kind\":null,\"name\":\"flex_wrap\"},{\"default\":\"flex-start\",\"kind\":null,\"name\":\"justify_content\"}]},{\"extends\":null,\"module\":null,\"name\":\"TemplateActions1\",\"overrides\":[],\"properties\":[{\"default\":0,\"kind\":null,\"name\":\"open_modal\"},{\"default\":0,\"kind\":null,\"name\":\"close_modal\"}]},{\"extends\":null,\"module\":null,\"name\":\"MaterialTemplateActions1\",\"overrides\":[],\"properties\":[{\"default\":0,\"kind\":null,\"name\":\"open_modal\"},{\"default\":0,\"kind\":null,\"name\":\"close_modal\"}]}],\"roots\":{\"references\":[{\"attributes\":{},\"id\":\"2109\",\"type\":\"BasicTicker\"},{\"attributes\":{},\"id\":\"2106\",\"type\":\"CategoricalTicker\"},{\"attributes\":{\"data_source\":{\"id\":\"2125\"},\"glyph\":{\"id\":\"2128\"},\"hover_glyph\":null,\"muted_glyph\":{\"id\":\"2130\"},\"nonselection_glyph\":{\"id\":\"2129\"},\"selection_glyph\":{\"id\":\"2133\"},\"view\":{\"id\":\"2132\"}},\"id\":\"2131\",\"type\":\"GlyphRenderer\"},{\"attributes\":{\"active_multi\":null,\"tools\":[{\"id\":\"2095\"},{\"id\":\"2112\"},{\"id\":\"2113\"},{\"id\":\"2114\"},{\"id\":\"2115\"},{\"id\":\"2116\"}]},\"id\":\"2118\",\"type\":\"Toolbar\"},{\"attributes\":{\"axis\":{\"id\":\"2108\"},\"dimension\":1,\"grid_line_color\":null,\"ticker\":null},\"id\":\"2111\",\"type\":\"Grid\"},{\"attributes\":{\"axis_label\":\"FantasyPoints\",\"formatter\":{\"id\":\"2137\"},\"major_label_policy\":{\"id\":\"2138\"},\"ticker\":{\"id\":\"2109\"}},\"id\":\"2108\",\"type\":\"LinearAxis\"},{\"attributes\":{\"text_color\":\"black\",\"text_font_size\":\"12pt\"},\"id\":\"2097\",\"type\":\"Title\"},{\"attributes\":{},\"id\":\"2101\",\"type\":\"CategoricalScale\"},{\"attributes\":{},\"id\":\"2103\",\"type\":\"LinearScale\"},{\"attributes\":{},\"id\":\"2138\",\"type\":\"AllLabels\"},{\"attributes\":{\"margin\":[5,5,5,5],\"name\":\"HSpacer02979\",\"sizing_mode\":\"stretch_width\"},\"id\":\"2160\",\"type\":\"Spacer\"},{\"attributes\":{\"fill_color\":{\"value\":\"#30a2da\"},\"top\":{\"field\":\"FantasyPoints\"},\"width\":{\"value\":0.8},\"x\":{\"field\":\"Tm\"}},\"id\":\"2128\",\"type\":\"VBar\"},{\"attributes\":{},\"id\":\"2126\",\"type\":\"Selection\"},{\"attributes\":{\"fill_alpha\":{\"value\":0.1},\"fill_color\":{\"value\":\"#30a2da\"},\"line_alpha\":{\"value\":0.1},\"top\":{\"field\":\"FantasyPoints\"},\"width\":{\"value\":0.8},\"x\":{\"field\":\"Tm\"}},\"id\":\"2129\",\"type\":\"VBar\"},{\"attributes\":{\"end\":112.0547951807229,\"reset_end\":112.0547951807229,\"reset_start\":-10.514072289156628,\"start\":-10.514072289156628,\"tags\":[[[\"FantasyPoints\",\"FantasyPoints\",null]]]},\"id\":\"2094\",\"type\":\"Range1d\"},{\"attributes\":{},\"id\":\"2147\",\"type\":\"UnionRenderers\"},{\"attributes\":{\"factors\":[\"2TM\",\"3TM\",\"4TM\",\"ARI\",\"ATL\",\"BAL\",\"BUF\",\"CAR\",\"CHI\",\"CIN\",\"CLE\",\"DAL\",\"DEN\",\"DET\",\"GNB\",\"HOU\",\"IND\",\"JAX\",\"KAN\",\"LAC\",\"LAR\",\"MIA\",\"MIN\",\"NOR\",\"NWE\",\"NYG\",\"NYJ\",\"OAK\",\"PHI\",\"PIT\",\"SDG\",\"SEA\",\"SFO\",\"STL\",\"TAM\",\"TEN\",\"WAS\"],\"tags\":[[[\"Tm\",\"Tm\",null]]]},\"id\":\"2093\",\"type\":\"FactorRange\"},{\"attributes\":{\"callback\":null,\"renderers\":[{\"id\":\"2131\"}],\"tags\":[\"hv_created\"],\"tooltips\":[[\"Tm\",\"@{Tm}\"],[\"FantasyPoints\",\"@{FantasyPoints}\"]]},\"id\":\"2095\",\"type\":\"HoverTool\"},{\"attributes\":{\"fill_alpha\":{\"value\":0.2},\"fill_color\":{\"value\":\"#30a2da\"},\"line_alpha\":{\"value\":0.2},\"top\":{\"field\":\"FantasyPoints\"},\"width\":{\"value\":0.8},\"x\":{\"field\":\"Tm\"}},\"id\":\"2130\",\"type\":\"VBar\"},{\"attributes\":{\"overlay\":{\"id\":\"2117\"}},\"id\":\"2115\",\"type\":\"BoxZoomTool\"},{\"attributes\":{},\"id\":\"2134\",\"type\":\"CategoricalTickFormatter\"},{\"attributes\":{\"source\":{\"id\":\"2125\"}},\"id\":\"2132\",\"type\":\"CDSView\"},{\"attributes\":{},\"id\":\"2112\",\"type\":\"SaveTool\"},{\"attributes\":{},\"id\":\"2116\",\"type\":\"ResetTool\"},{\"attributes\":{\"below\":[{\"id\":\"2105\"}],\"center\":[{\"id\":\"2107\"},{\"id\":\"2111\"}],\"height\":300,\"left\":[{\"id\":\"2108\"}],\"margin\":[5,5,5,5],\"min_border_bottom\":10,\"min_border_left\":10,\"min_border_right\":10,\"min_border_top\":10,\"renderers\":[{\"id\":\"2131\"}],\"sizing_mode\":\"fixed\",\"title\":{\"id\":\"2097\"},\"toolbar\":{\"id\":\"2118\"},\"width\":800,\"x_range\":{\"id\":\"2093\"},\"x_scale\":{\"id\":\"2101\"},\"y_range\":{\"id\":\"2094\"},\"y_scale\":{\"id\":\"2103\"}},\"id\":\"2096\",\"subtype\":\"Figure\",\"type\":\"Plot\"},{\"attributes\":{},\"id\":\"2113\",\"type\":\"PanTool\"},{\"attributes\":{\"children\":[{\"id\":\"2092\"},{\"id\":\"2096\"},{\"id\":\"2160\"}],\"margin\":[0,0,0,0],\"name\":\"Row02974\",\"tags\":[\"embedded\"]},\"id\":\"2091\",\"type\":\"Row\"},{\"attributes\":{\"bottom_units\":\"screen\",\"fill_alpha\":0.5,\"fill_color\":\"lightgrey\",\"left_units\":\"screen\",\"level\":\"overlay\",\"line_alpha\":1.0,\"line_color\":\"black\",\"line_dash\":[4,4],\"line_width\":2,\"right_units\":\"screen\",\"syncable\":false,\"top_units\":\"screen\"},\"id\":\"2117\",\"type\":\"BoxAnnotation\"},{\"attributes\":{\"axis_label\":\"Tm\",\"formatter\":{\"id\":\"2134\"},\"major_label_orientation\":1.5707963267948966,\"major_label_policy\":{\"id\":\"2135\"},\"ticker\":{\"id\":\"2106\"}},\"id\":\"2105\",\"type\":\"CategoricalAxis\"},{\"attributes\":{},\"id\":\"2137\",\"type\":\"BasicTickFormatter\"},{\"attributes\":{},\"id\":\"2135\",\"type\":\"AllLabels\"},{\"attributes\":{},\"id\":\"2114\",\"type\":\"WheelZoomTool\"},{\"attributes\":{\"axis\":{\"id\":\"2105\"},\"grid_line_color\":null,\"ticker\":null},\"id\":\"2107\",\"type\":\"Grid\"},{\"attributes\":{\"margin\":[5,5,5,5],\"name\":\"HSpacer02978\",\"sizing_mode\":\"stretch_width\"},\"id\":\"2092\",\"type\":\"Spacer\"},{\"attributes\":{\"bottom\":{\"value\":0},\"fill_alpha\":{\"value\":1.0},\"fill_color\":{\"value\":\"#30a2da\"},\"hatch_alpha\":{\"value\":1.0},\"hatch_color\":{\"value\":\"black\"},\"hatch_scale\":{\"value\":12.0},\"hatch_weight\":{\"value\":1.0},\"line_alpha\":{\"value\":1.0},\"line_cap\":{\"value\":\"butt\"},\"line_color\":{\"value\":\"black\"},\"line_dash\":{\"value\":[]},\"line_dash_offset\":{\"value\":0},\"line_join\":{\"value\":\"bevel\"},\"line_width\":{\"value\":1},\"top\":{\"field\":\"FantasyPoints\"},\"width\":{\"value\":0.8},\"x\":{\"field\":\"Tm\"}},\"id\":\"2133\",\"type\":\"VBar\"},{\"attributes\":{\"data\":{\"FantasyPoints\":{\"__ndarray__\":\"5hBgglUGQ0AZ7TflucRAQDQzMzMzM9O/JRVl+AR/UUBpbewgDvVXQEcqcd/DQlVAmqN0+8pqUUCL8hrKazBVQM1zCWQN81NAGvWWUW85VUDF/wnhhEVRQEYS36t4BVdA3EwmYIkbVkBazniEDpBWQHg8lBDWTVZAJfg19qfQVEAt6bqPiZ9UQFKvjoTiUVBAn2FXgNwrVEB/GPfrkvpXQJJQoBHby1ZA4mMSaJ4aVUAuNpIocUFUQKURY2fOdVlAhmI4G0I+WECFrMX592FUQHRycnJyAlFAVd+OhxJiU0Dx/OqFHUpXQORaJKipMFVAa8i5zy6qVkCnw0oGN5ZTQLCMPIiy8VJA8IwAzwjwUUCqp7GM7p9TQDZVv7lb4lJANPGsaCRAU0A=\",\"dtype\":\"float64\",\"order\":\"little\",\"shape\":[37]},\"Tm\":[\"2TM\",\"3TM\",\"4TM\",\"ARI\",\"ATL\",\"BAL\",\"BUF\",\"CAR\",\"CHI\",\"CIN\",\"CLE\",\"DAL\",\"DEN\",\"DET\",\"GNB\",\"HOU\",\"IND\",\"JAX\",\"KAN\",\"LAC\",\"LAR\",\"MIA\",\"MIN\",\"NOR\",\"NWE\",\"NYG\",\"NYJ\",\"OAK\",\"PHI\",\"PIT\",\"SDG\",\"SEA\",\"SFO\",\"STL\",\"TAM\",\"TEN\",\"WAS\"]},\"selected\":{\"id\":\"2126\"},\"selection_policy\":{\"id\":\"2147\"}},\"id\":\"2125\",\"type\":\"ColumnDataSource\"}],\"root_ids\":[\"2091\"]},\"title\":\"Bokeh Application\",\"version\":\"2.3.2\"}};\n",
       "    var render_items = [{\"docid\":\"6ad79b1d-04ce-4994-993a-1df083e3d0ef\",\"root_ids\":[\"2091\"],\"roots\":{\"2091\":\"ac117ca7-b1a9-4347-8d1e-8553aa2a77d3\"}}];\n",
       "    root.Bokeh.embed.embed_items_notebook(docs_json, render_items);\n",
       "  }\n",
       "  if (root.Bokeh !== undefined && root.Bokeh.Panel !== undefined && ( root['Plotly'] !== undefined)) {\n",
       "    embed_document(root);\n",
       "  } else {\n",
       "    var attempts = 0;\n",
       "    var timer = setInterval(function(root) {\n",
       "      if (root.Bokeh !== undefined && root.Bokeh.Panel !== undefined && (root['Plotly'] !== undefined)) {\n",
       "        clearInterval(timer);\n",
       "        embed_document(root);\n",
       "      } else if (document.readyState == \"complete\") {\n",
       "        attempts++;\n",
       "        if (attempts > 200) {\n",
       "          clearInterval(timer);\n",
       "          console.log(\"Bokeh: ERROR: Unable to run BokehJS code because BokehJS library is missing\");\n",
       "        }\n",
       "      }\n",
       "    }, 25, root)\n",
       "  }\n",
       "})(window);</script>"
      ],
      "text/plain": [
       ":Bars   [Tm]   (FantasyPoints)"
      ]
     },
     "execution_count": 11,
     "metadata": {
      "application/vnd.holoviews_exec.v0+json": {
       "id": "2091"
      }
     },
     "output_type": "execute_result"
    }
   ],
   "source": [
    "team_mean = full_data.groupby(['Tm']).mean().sort_values(by='FantasyPoints', ascending=False, na_position='first')\n",
    "team_mean.hvplot.bar(width=800, rot=90)"
   ]
  },
  {
   "cell_type": "code",
   "execution_count": 19,
   "id": "9b0c94b7",
   "metadata": {},
   "outputs": [
    {
     "data": {},
     "metadata": {},
     "output_type": "display_data"
    },
    {
     "data": {
      "application/vnd.holoviews_exec.v0+json": "",
      "text/html": [
       "<div id='2803'>\n",
       "\n",
       "\n",
       "\n",
       "\n",
       "\n",
       "  <div class=\"bk-root\" id=\"bf233b31-6689-449c-a0f5-54e2833b390f\" data-root-id=\"2803\"></div>\n",
       "</div>\n",
       "<script type=\"application/javascript\">(function(root) {\n",
       "  function embed_document(root) {\n",
       "    var docs_json = {\"3dee7115-65b6-4dcd-820a-665870089259\":{\"defs\":[{\"extends\":null,\"module\":null,\"name\":\"ReactiveHTML1\",\"overrides\":[],\"properties\":[]},{\"extends\":null,\"module\":null,\"name\":\"FlexBox1\",\"overrides\":[],\"properties\":[{\"default\":\"flex-start\",\"kind\":null,\"name\":\"align_content\"},{\"default\":\"flex-start\",\"kind\":null,\"name\":\"align_items\"},{\"default\":\"row\",\"kind\":null,\"name\":\"flex_direction\"},{\"default\":\"wrap\",\"kind\":null,\"name\":\"flex_wrap\"},{\"default\":\"flex-start\",\"kind\":null,\"name\":\"justify_content\"}]},{\"extends\":null,\"module\":null,\"name\":\"TemplateActions1\",\"overrides\":[],\"properties\":[{\"default\":0,\"kind\":null,\"name\":\"open_modal\"},{\"default\":0,\"kind\":null,\"name\":\"close_modal\"}]},{\"extends\":null,\"module\":null,\"name\":\"MaterialTemplateActions1\",\"overrides\":[],\"properties\":[{\"default\":0,\"kind\":null,\"name\":\"open_modal\"},{\"default\":0,\"kind\":null,\"name\":\"close_modal\"}]}],\"roots\":{\"references\":[{\"attributes\":{\"axis_label\":\"Pos\",\"formatter\":{\"id\":\"2846\"},\"major_label_orientation\":1.5707963267948966,\"major_label_policy\":{\"id\":\"2847\"},\"ticker\":{\"id\":\"2818\"}},\"id\":\"2817\",\"type\":\"CategoricalAxis\"},{\"attributes\":{\"active_multi\":null,\"tools\":[{\"id\":\"2807\"},{\"id\":\"2824\"},{\"id\":\"2825\"},{\"id\":\"2826\"},{\"id\":\"2827\"},{\"id\":\"2828\"}]},\"id\":\"2830\",\"type\":\"Toolbar\"},{\"attributes\":{},\"id\":\"2846\",\"type\":\"CategoricalTickFormatter\"},{\"attributes\":{},\"id\":\"2824\",\"type\":\"SaveTool\"},{\"attributes\":{},\"id\":\"2815\",\"type\":\"LinearScale\"},{\"attributes\":{\"fill_alpha\":{\"value\":0.1},\"fill_color\":{\"value\":\"#30a2da\"},\"line_alpha\":{\"value\":0.1},\"top\":{\"field\":\"FantasyPoints\"},\"width\":{\"value\":0.8},\"x\":{\"field\":\"Pos\"}},\"id\":\"2841\",\"type\":\"VBar\"},{\"attributes\":{\"axis_label\":\"FantasyPoints\",\"formatter\":{\"id\":\"2849\"},\"major_label_policy\":{\"id\":\"2850\"},\"ticker\":{\"id\":\"2821\"}},\"id\":\"2820\",\"type\":\"LinearAxis\"},{\"attributes\":{\"axis\":{\"id\":\"2820\"},\"dimension\":1,\"grid_line_color\":null,\"ticker\":null},\"id\":\"2823\",\"type\":\"Grid\"},{\"attributes\":{\"bottom\":{\"value\":0},\"fill_alpha\":{\"value\":1.0},\"fill_color\":{\"value\":\"#30a2da\"},\"hatch_alpha\":{\"value\":1.0},\"hatch_color\":{\"value\":\"black\"},\"hatch_scale\":{\"value\":12.0},\"hatch_weight\":{\"value\":1.0},\"line_alpha\":{\"value\":1.0},\"line_cap\":{\"value\":\"butt\"},\"line_color\":{\"value\":\"black\"},\"line_dash\":{\"value\":[]},\"line_dash_offset\":{\"value\":0},\"line_join\":{\"value\":\"bevel\"},\"line_width\":{\"value\":1},\"top\":{\"field\":\"FantasyPoints\"},\"width\":{\"value\":0.8},\"x\":{\"field\":\"Pos\"}},\"id\":\"2845\",\"type\":\"VBar\"},{\"attributes\":{\"source\":{\"id\":\"2837\"}},\"id\":\"2844\",\"type\":\"CDSView\"},{\"attributes\":{\"children\":[{\"id\":\"2804\"},{\"id\":\"2808\"},{\"id\":\"2872\"}],\"margin\":[0,0,0,0],\"name\":\"Row17304\",\"tags\":[\"embedded\"]},\"id\":\"2803\",\"type\":\"Row\"},{\"attributes\":{\"axis\":{\"id\":\"2817\"},\"grid_line_color\":null,\"ticker\":null},\"id\":\"2819\",\"type\":\"Grid\"},{\"attributes\":{\"data\":{\"FantasyPoints\":{\"__ndarray__\":\"IBokUU03XEDGJYcqXbZVQDkm2vCXb1JAiL0t5tiuTEC0YwXCSDscQA==\",\"dtype\":\"float64\",\"order\":\"little\",\"shape\":[5]},\"Pos\":[\"QB\",\"WR\",\"RB\",\"TE\",\"0\"]},\"selected\":{\"id\":\"2838\"},\"selection_policy\":{\"id\":\"2859\"}},\"id\":\"2837\",\"type\":\"ColumnDataSource\"},{\"attributes\":{\"margin\":[5,5,5,5],\"name\":\"HSpacer17308\",\"sizing_mode\":\"stretch_width\"},\"id\":\"2804\",\"type\":\"Spacer\"},{\"attributes\":{\"below\":[{\"id\":\"2817\"}],\"center\":[{\"id\":\"2819\"},{\"id\":\"2823\"}],\"height\":300,\"left\":[{\"id\":\"2820\"}],\"margin\":[5,5,5,5],\"min_border_bottom\":10,\"min_border_left\":10,\"min_border_right\":10,\"min_border_top\":10,\"renderers\":[{\"id\":\"2843\"}],\"sizing_mode\":\"fixed\",\"title\":{\"id\":\"2809\"},\"toolbar\":{\"id\":\"2830\"},\"width\":800,\"x_range\":{\"id\":\"2805\"},\"x_scale\":{\"id\":\"2813\"},\"y_range\":{\"id\":\"2806\"},\"y_scale\":{\"id\":\"2815\"}},\"id\":\"2808\",\"subtype\":\"Figure\",\"type\":\"Plot\"},{\"attributes\":{},\"id\":\"2821\",\"type\":\"BasicTicker\"},{\"attributes\":{\"bottom_units\":\"screen\",\"fill_alpha\":0.5,\"fill_color\":\"lightgrey\",\"left_units\":\"screen\",\"level\":\"overlay\",\"line_alpha\":1.0,\"line_color\":\"black\",\"line_dash\":[4,4],\"line_width\":2,\"right_units\":\"screen\",\"syncable\":false,\"top_units\":\"screen\"},\"id\":\"2829\",\"type\":\"BoxAnnotation\"},{\"attributes\":{},\"id\":\"2818\",\"type\":\"CategoricalTicker\"},{\"attributes\":{\"fill_alpha\":{\"value\":0.2},\"fill_color\":{\"value\":\"#30a2da\"},\"line_alpha\":{\"value\":0.2},\"top\":{\"field\":\"FantasyPoints\"},\"width\":{\"value\":0.8},\"x\":{\"field\":\"Pos\"}},\"id\":\"2842\",\"type\":\"VBar\"},{\"attributes\":{\"overlay\":{\"id\":\"2829\"}},\"id\":\"2827\",\"type\":\"BoxZoomTool\"},{\"attributes\":{},\"id\":\"2828\",\"type\":\"ResetTool\"},{\"attributes\":{},\"id\":\"2825\",\"type\":\"PanTool\"},{\"attributes\":{\"text_color\":\"black\",\"text_font_size\":\"12pt\"},\"id\":\"2809\",\"type\":\"Title\"},{\"attributes\":{\"callback\":null,\"renderers\":[{\"id\":\"2843\"}],\"tags\":[\"hv_created\"],\"tooltips\":[[\"Pos\",\"@{Pos}\"],[\"FantasyPoints\",\"@{FantasyPoints}\"]]},\"id\":\"2807\",\"type\":\"HoverTool\"},{\"attributes\":{\"end\":123.44471398413049,\"reset_end\":123.44471398413049,\"reset_start\":0.0,\"tags\":[[[\"FantasyPoints\",\"FantasyPoints\",null]]]},\"id\":\"2806\",\"type\":\"Range1d\"},{\"attributes\":{},\"id\":\"2859\",\"type\":\"UnionRenderers\"},{\"attributes\":{\"fill_color\":{\"value\":\"#30a2da\"},\"top\":{\"field\":\"FantasyPoints\"},\"width\":{\"value\":0.8},\"x\":{\"field\":\"Pos\"}},\"id\":\"2840\",\"type\":\"VBar\"},{\"attributes\":{},\"id\":\"2849\",\"type\":\"BasicTickFormatter\"},{\"attributes\":{\"factors\":[\"QB\",\"WR\",\"RB\",\"TE\",\"0\"],\"tags\":[[[\"Pos\",\"Pos\",null]]]},\"id\":\"2805\",\"type\":\"FactorRange\"},{\"attributes\":{},\"id\":\"2826\",\"type\":\"WheelZoomTool\"},{\"attributes\":{},\"id\":\"2813\",\"type\":\"CategoricalScale\"},{\"attributes\":{\"data_source\":{\"id\":\"2837\"},\"glyph\":{\"id\":\"2840\"},\"hover_glyph\":null,\"muted_glyph\":{\"id\":\"2842\"},\"nonselection_glyph\":{\"id\":\"2841\"},\"selection_glyph\":{\"id\":\"2845\"},\"view\":{\"id\":\"2844\"}},\"id\":\"2843\",\"type\":\"GlyphRenderer\"},{\"attributes\":{},\"id\":\"2850\",\"type\":\"AllLabels\"},{\"attributes\":{},\"id\":\"2838\",\"type\":\"Selection\"},{\"attributes\":{\"margin\":[5,5,5,5],\"name\":\"HSpacer17309\",\"sizing_mode\":\"stretch_width\"},\"id\":\"2872\",\"type\":\"Spacer\"},{\"attributes\":{},\"id\":\"2847\",\"type\":\"AllLabels\"}],\"root_ids\":[\"2803\"]},\"title\":\"Bokeh Application\",\"version\":\"2.3.2\"}};\n",
       "    var render_items = [{\"docid\":\"3dee7115-65b6-4dcd-820a-665870089259\",\"root_ids\":[\"2803\"],\"roots\":{\"2803\":\"bf233b31-6689-449c-a0f5-54e2833b390f\"}}];\n",
       "    root.Bokeh.embed.embed_items_notebook(docs_json, render_items);\n",
       "  }\n",
       "  if (root.Bokeh !== undefined && root.Bokeh.Panel !== undefined && ( root['Plotly'] !== undefined)) {\n",
       "    embed_document(root);\n",
       "  } else {\n",
       "    var attempts = 0;\n",
       "    var timer = setInterval(function(root) {\n",
       "      if (root.Bokeh !== undefined && root.Bokeh.Panel !== undefined && (root['Plotly'] !== undefined)) {\n",
       "        clearInterval(timer);\n",
       "        embed_document(root);\n",
       "      } else if (document.readyState == \"complete\") {\n",
       "        attempts++;\n",
       "        if (attempts > 200) {\n",
       "          clearInterval(timer);\n",
       "          console.log(\"Bokeh: ERROR: Unable to run BokehJS code because BokehJS library is missing\");\n",
       "        }\n",
       "      }\n",
       "    }, 25, root)\n",
       "  }\n",
       "})(window);</script>"
      ],
      "text/plain": [
       ":Bars   [Pos]   (FantasyPoints)"
      ]
     },
     "execution_count": 19,
     "metadata": {
      "application/vnd.holoviews_exec.v0+json": {
       "id": "2803"
      }
     },
     "output_type": "execute_result"
    }
   ],
   "source": [
    "position_mean = full_data.groupby(['Pos']).mean().sort_values(by='FantasyPoints', ascending=False, na_position='first')\n",
    "position_mean.hvplot.bar(width=800, rot=90)"
   ]
  },
  {
   "cell_type": "code",
   "execution_count": null,
   "id": "f394baf6",
   "metadata": {},
   "outputs": [],
   "source": []
  }
 ],
 "metadata": {
  "kernelspec": {
   "display_name": "Python [conda env:pyvizenv2] *",
   "language": "python",
   "name": "conda-env-pyvizenv2-py"
  },
  "language_info": {
   "codemirror_mode": {
    "name": "ipython",
    "version": 3
   },
   "file_extension": ".py",
   "mimetype": "text/x-python",
   "name": "python",
   "nbconvert_exporter": "python",
   "pygments_lexer": "ipython3",
   "version": "3.7.10"
  }
 },
 "nbformat": 4,
 "nbformat_minor": 5
}
