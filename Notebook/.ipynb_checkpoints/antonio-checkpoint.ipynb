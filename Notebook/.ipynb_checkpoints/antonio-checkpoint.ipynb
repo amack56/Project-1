{
 "cells": [
  {
   "cell_type": "code",
   "execution_count": 39,
   "id": "058d30ae",
   "metadata": {},
   "outputs": [
    {
     "data": {},
     "metadata": {},
     "output_type": "display_data"
    },
    {
     "data": {
      "application/vnd.holoviews_exec.v0+json": "",
      "text/html": [
       "<div id='4544'>\n",
       "\n",
       "\n",
       "\n",
       "\n",
       "\n",
       "  <div class=\"bk-root\" id=\"06814189-8a1c-487c-9b2c-273c04c41ee4\" data-root-id=\"4544\"></div>\n",
       "</div>\n",
       "<script type=\"application/javascript\">(function(root) {\n",
       "  function embed_document(root) {\n",
       "    var docs_json = {\"8dd3457e-af32-4f55-ac4a-c08e8ef42d7a\":{\"defs\":[{\"extends\":null,\"module\":null,\"name\":\"ReactiveHTML1\",\"overrides\":[],\"properties\":[]},{\"extends\":null,\"module\":null,\"name\":\"FlexBox1\",\"overrides\":[],\"properties\":[{\"default\":\"flex-start\",\"kind\":null,\"name\":\"align_content\"},{\"default\":\"flex-start\",\"kind\":null,\"name\":\"align_items\"},{\"default\":\"row\",\"kind\":null,\"name\":\"flex_direction\"},{\"default\":\"wrap\",\"kind\":null,\"name\":\"flex_wrap\"},{\"default\":\"flex-start\",\"kind\":null,\"name\":\"justify_content\"}]},{\"extends\":null,\"module\":null,\"name\":\"TemplateActions1\",\"overrides\":[],\"properties\":[{\"default\":0,\"kind\":null,\"name\":\"open_modal\"},{\"default\":0,\"kind\":null,\"name\":\"close_modal\"}]},{\"extends\":null,\"module\":null,\"name\":\"MaterialTemplateActions1\",\"overrides\":[],\"properties\":[{\"default\":0,\"kind\":null,\"name\":\"open_modal\"},{\"default\":0,\"kind\":null,\"name\":\"close_modal\"}]}],\"roots\":{\"references\":[{\"attributes\":{\"margin\":[5,5,5,5],\"name\":\"HSpacer22400\",\"sizing_mode\":\"stretch_width\"},\"id\":\"4545\",\"type\":\"Spacer\"},{\"attributes\":{\"children\":[{\"id\":\"4622\"},{\"id\":\"4623\"},{\"id\":\"4625\"}],\"margin\":[0,0,0,0],\"name\":\"Column22399\"},\"id\":\"4621\",\"type\":\"Column\"},{\"attributes\":{\"callback\":null,\"renderers\":[{\"id\":\"4585\"}],\"tags\":[\"hv_created\"],\"tooltips\":[[\"Player\",\"@{Player}\"],[\"Tm\",\"@{Tm}\"],[\"FantasyPoints\",\"@{FantasyPoints}\"]]},\"id\":\"4548\",\"type\":\"HoverTool\"},{\"attributes\":{},\"id\":\"4567\",\"type\":\"WheelZoomTool\"},{\"attributes\":{\"active_multi\":null,\"tools\":[{\"id\":\"4548\"},{\"id\":\"4565\"},{\"id\":\"4566\"},{\"id\":\"4567\"},{\"id\":\"4568\"},{\"id\":\"4569\"}]},\"id\":\"4571\",\"type\":\"Toolbar\"},{\"attributes\":{},\"id\":\"4607\",\"type\":\"UnionRenderers\"},{\"attributes\":{\"bottom_units\":\"screen\",\"fill_alpha\":0.5,\"fill_color\":\"lightgrey\",\"left_units\":\"screen\",\"level\":\"overlay\",\"line_alpha\":1.0,\"line_color\":\"black\",\"line_dash\":[4,4],\"line_width\":2,\"right_units\":\"screen\",\"syncable\":false,\"top_units\":\"screen\"},\"id\":\"4570\",\"type\":\"BoxAnnotation\"},{\"attributes\":{\"factors\":[[\"Christian McCaffrey\",\"CAR\"],[\"Cam Newton\",\"CAR\"],[\"Kelvin Benjamin\",\"CAR\"],[\"D.J. Moore\",\"CAR\"],[\"Steve Smith\",\"CAR\"],[\"Ted Ginn\",\"CAR\"],[\"Greg Olsen\",\"CAR\"],[\"Devin Funchess\",\"CAR\"],[\"Brandon LaFell\",\"CAR\"],[\"Jonathan Stewart\",\"CAR\"],[\"Curtis Samuel\",\"CAR\"],[\"DeAngelo Williams\",\"CAR\"],[\"Jerricho Cotchery\",\"CAR\"],[\"David Gettis\",\"CAR\"],[\"Jeremy Shockey\",\"CAR\"],[\"Kyle Allen\",\"CAR\"],[\"Legedu Naanee\",\"CAR\"],[\"Corey Brown\",\"CAR\"],[\"Mike Tolbert\",\"CAR\"],[\"Jarius Wright\",\"CAR\"],[\"Louis Murphy\",\"CAR\"],[\"Mike Goodson\",\"CAR\"],[\"Ian Thomas\",\"CAR\"],[\"Dante Rosario\",\"CAR\"],[\"Jimmy Clausen\",\"CAR\"],[\"Torrey Smith\",\"CAR\"],[\"Russell Shepard\",\"CAR\"],[\"Ed Dickson\",\"CAR\"],[\"Jeff King\",\"CAR\"],[\"Fozzy Whittaker\",\"CAR\"],[\"Matt Moore\",\"CAR\"],[\"Reggie Bonnafon\",\"CAR\"],[\"Tyrell Sutton\",\"CAR\"],[\"Cameron Artis-Payne\",\"CAR\"],[\"Gary Barnidge\",\"CAR\"],[\"Brenton Bersin\",\"CAR\"],[\"Brandon Zylstra\",\"CAR\"],[\"Domenik Hixon\",\"CAR\"],[\"Darrin Reaves\",\"CAR\"],[\"Chris Hogan\",\"CAR\"],[\"Taylor Heinicke\",\"CAR\"],[\"Kealoha Pilares\",\"CAR\"],[\"Damiere Byrd\",\"CAR\"],[\"Alex Armah\",\"CAR\"],[\"Derek Anderson\",\"CAR\"],[\"Tony Fiammetta\",\"CAR\"],[\"DeAndrew White\",\"CAR\"],[\"Brandon Williams\",\"CAR\"],[\"Brian St. Pierre\",\"CAR\"],[\"Chris Manhertz\",\"CAR\"],[\"Armanti Edwards\",\"CAR\"],[\"Dwayne Jarrett\",\"CAR\"],[\"Richie Brockel\",\"CAR\"],[\"Ben Hartsock\",\"CAR\"],[\"Josh Vaughan\",\"CAR\"],[\"Kenjon Barner\",\"CAR\"],[\"Travaris Cadet\",\"CAR\"],[\"Scott Simonson\",\"CAR\"],[\"Tony Pike\",\"CAR\"],[\"Garrett Gilbert\",\"CAR\"],[\"Seyi Ajirotutu\",\"CAR\"],[\"Will Grier\",\"CAR\"],[\"Joe Webb\",\"CAR\"],[\"Jordan Scarlett\",\"CAR\"],[\"Armond Smith\",\"CAR\"],[\"De'Andre Presley\",\"CAR\"],[\"Greg Dortch\",\"CAR\"],[\"Ray-Ray McCloud\",\"CAR\"],[\"Joe Adams\",\"CAR\"]],\"tags\":[[[\"Player\",\"Player\",null],[\"Tm\",\"Tm\",null]]]},\"id\":\"4546\",\"type\":\"FactorRange\"},{\"attributes\":{\"data\":{\"FantasyPoints\":{\"__ndarray__\":\"mZmZmZmRdkApXI/C9SBxQGZmZmZmbmpAAAAAAAA4aEAzMzMzM29nQJmZmZmZeWNALdiCLdhyY0DMzMzMzMRfQP//////515AZ2ZmZmaeXkAzMzMzM3NcQK5H4XoUbltAMzMzMzNjW0AAAAAAAIBaQAAAAAAAIFpAcD0K16OAWUBSuB6F63FYQGdmZmZmZlNA16NwPQo3U0AAAAAAABBTQJmZmZmZOVBAMzMzMzMzUECamZmZmTlNQJqZmZmZGU1Aw/UoXI8CTUAAAAAAAABIQM3MzMzMjEZAZmZmZmY2RkDNzMzMzIxFQJqZmZmZSURApHA9CtdjQEDNzMzMzEw9QJqZmZmZGTpAzMzMzMxsOEDNzMzMzMwzQAAAAAAAYDNAmpmZmZmZMkAAAAAAAIAyQM3MzMzMzC9AZmZmZmZmLUDNzMzMzMwrQM3MzMzMzCtAZ2ZmZmZmKUAzMzMzM7MoQO/u7u7u7iZAMzMzMzMzJUAzMzMzMzMiQM3MzMzMzCBArkfhehSuG0BVVVVVVVUZQP1iyS+W/BhAAAAAAAAAGECamZmZmZkXQAAAAAAAABRAMzMzMzMzEkA0MzMzMzMLQJqZmZmZmQlAAAAAAAAAAEAUrkfhehT+P5qZmZmZmfk/ZmZmZmZm9j8chetRuB71P0RERERERPQ/zczMzMzM7D8AAAAAAADgP5qZmZmZmcm/AAAAAAAAAMAAAAAAAAAAwAAAAAAAAAjA\",\"dtype\":\"float64\",\"order\":\"little\",\"shape\":[69]},\"Player\":[\"Christian McCaffrey\",\"Cam Newton\",\"Kelvin Benjamin\",\"D.J. Moore\",\"Steve Smith\",\"Ted Ginn\",\"Greg Olsen\",\"Devin Funchess\",\"Brandon LaFell\",\"Jonathan Stewart\",\"Curtis Samuel\",\"DeAngelo Williams\",\"Jerricho Cotchery\",\"David Gettis\",\"Jeremy Shockey\",\"Kyle Allen\",\"Legedu Naanee\",\"Corey Brown\",\"Mike Tolbert\",\"Jarius Wright\",\"Louis Murphy\",\"Mike Goodson\",\"Ian Thomas\",\"Dante Rosario\",\"Jimmy Clausen\",\"Torrey Smith\",\"Russell Shepard\",\"Ed Dickson\",\"Jeff King\",\"Fozzy Whittaker\",\"Matt Moore\",\"Reggie Bonnafon\",\"Tyrell Sutton\",\"Cameron Artis-Payne\",\"Gary Barnidge\",\"Brenton Bersin\",\"Brandon Zylstra\",\"Domenik Hixon\",\"Darrin Reaves\",\"Chris Hogan\",\"Taylor Heinicke\",\"Kealoha Pilares\",\"Damiere Byrd\",\"Alex Armah\",\"Derek Anderson\",\"Tony Fiammetta\",\"DeAndrew White\",\"Brandon Williams\",\"Brian St. Pierre\",\"Chris Manhertz\",\"Armanti Edwards\",\"Dwayne Jarrett\",\"Richie Brockel\",\"Ben Hartsock\",\"Josh Vaughan\",\"Kenjon Barner\",\"Travaris Cadet\",\"Scott Simonson\",\"Tony Pike\",\"Garrett Gilbert\",\"Seyi Ajirotutu\",\"Will Grier\",\"Joe Webb\",\"Jordan Scarlett\",\"Armond Smith\",\"De'Andre Presley\",\"Greg Dortch\",\"Ray-Ray McCloud\",\"Joe Adams\"],\"Tm\":[\"CAR\",\"CAR\",\"CAR\",\"CAR\",\"CAR\",\"CAR\",\"CAR\",\"CAR\",\"CAR\",\"CAR\",\"CAR\",\"CAR\",\"CAR\",\"CAR\",\"CAR\",\"CAR\",\"CAR\",\"CAR\",\"CAR\",\"CAR\",\"CAR\",\"CAR\",\"CAR\",\"CAR\",\"CAR\",\"CAR\",\"CAR\",\"CAR\",\"CAR\",\"CAR\",\"CAR\",\"CAR\",\"CAR\",\"CAR\",\"CAR\",\"CAR\",\"CAR\",\"CAR\",\"CAR\",\"CAR\",\"CAR\",\"CAR\",\"CAR\",\"CAR\",\"CAR\",\"CAR\",\"CAR\",\"CAR\",\"CAR\",\"CAR\",\"CAR\",\"CAR\",\"CAR\",\"CAR\",\"CAR\",\"CAR\",\"CAR\",\"CAR\",\"CAR\",\"CAR\",\"CAR\",\"CAR\",\"CAR\",\"CAR\",\"CAR\",\"CAR\",\"CAR\",\"CAR\",\"CAR\"],\"xoffsets\":[[\"Christian McCaffrey\",\"CAR\"],[\"Cam Newton\",\"CAR\"],[\"Kelvin Benjamin\",\"CAR\"],[\"D.J. Moore\",\"CAR\"],[\"Steve Smith\",\"CAR\"],[\"Ted Ginn\",\"CAR\"],[\"Greg Olsen\",\"CAR\"],[\"Devin Funchess\",\"CAR\"],[\"Brandon LaFell\",\"CAR\"],[\"Jonathan Stewart\",\"CAR\"],[\"Curtis Samuel\",\"CAR\"],[\"DeAngelo Williams\",\"CAR\"],[\"Jerricho Cotchery\",\"CAR\"],[\"David Gettis\",\"CAR\"],[\"Jeremy Shockey\",\"CAR\"],[\"Kyle Allen\",\"CAR\"],[\"Legedu Naanee\",\"CAR\"],[\"Corey Brown\",\"CAR\"],[\"Mike Tolbert\",\"CAR\"],[\"Jarius Wright\",\"CAR\"],[\"Louis Murphy\",\"CAR\"],[\"Mike Goodson\",\"CAR\"],[\"Ian Thomas\",\"CAR\"],[\"Dante Rosario\",\"CAR\"],[\"Jimmy Clausen\",\"CAR\"],[\"Torrey Smith\",\"CAR\"],[\"Russell Shepard\",\"CAR\"],[\"Ed Dickson\",\"CAR\"],[\"Jeff King\",\"CAR\"],[\"Fozzy Whittaker\",\"CAR\"],[\"Matt Moore\",\"CAR\"],[\"Reggie Bonnafon\",\"CAR\"],[\"Tyrell Sutton\",\"CAR\"],[\"Cameron Artis-Payne\",\"CAR\"],[\"Gary Barnidge\",\"CAR\"],[\"Brenton Bersin\",\"CAR\"],[\"Brandon Zylstra\",\"CAR\"],[\"Domenik Hixon\",\"CAR\"],[\"Darrin Reaves\",\"CAR\"],[\"Chris Hogan\",\"CAR\"],[\"Taylor Heinicke\",\"CAR\"],[\"Kealoha Pilares\",\"CAR\"],[\"Damiere Byrd\",\"CAR\"],[\"Alex Armah\",\"CAR\"],[\"Derek Anderson\",\"CAR\"],[\"Tony Fiammetta\",\"CAR\"],[\"DeAndrew White\",\"CAR\"],[\"Brandon Williams\",\"CAR\"],[\"Brian St. Pierre\",\"CAR\"],[\"Chris Manhertz\",\"CAR\"],[\"Armanti Edwards\",\"CAR\"],[\"Dwayne Jarrett\",\"CAR\"],[\"Richie Brockel\",\"CAR\"],[\"Ben Hartsock\",\"CAR\"],[\"Josh Vaughan\",\"CAR\"],[\"Kenjon Barner\",\"CAR\"],[\"Travaris Cadet\",\"CAR\"],[\"Scott Simonson\",\"CAR\"],[\"Tony Pike\",\"CAR\"],[\"Garrett Gilbert\",\"CAR\"],[\"Seyi Ajirotutu\",\"CAR\"],[\"Will Grier\",\"CAR\"],[\"Joe Webb\",\"CAR\"],[\"Jordan Scarlett\",\"CAR\"],[\"Armond Smith\",\"CAR\"],[\"De'Andre Presley\",\"CAR\"],[\"Greg Dortch\",\"CAR\"],[\"Ray-Ray McCloud\",\"CAR\"],[\"Joe Adams\",\"CAR\"]]},\"selected\":{\"id\":\"4580\"},\"selection_policy\":{\"id\":\"4607\"}},\"id\":\"4579\",\"type\":\"ColumnDataSource\"},{\"attributes\":{\"margin\":[5,5,5,5],\"name\":\"HSpacer22401\",\"sizing_mode\":\"stretch_width\"},\"id\":\"4620\",\"type\":\"Spacer\"},{\"attributes\":{\"fill_alpha\":{\"value\":0.2},\"fill_color\":{\"field\":\"Tm\",\"transform\":{\"id\":\"4578\"}},\"line_alpha\":{\"value\":0.2},\"top\":{\"field\":\"FantasyPoints\"},\"width\":{\"value\":0.8},\"x\":{\"field\":\"xoffsets\"}},\"id\":\"4584\",\"type\":\"VBar\"},{\"attributes\":{},\"id\":\"4566\",\"type\":\"PanTool\"},{\"attributes\":{},\"id\":\"4562\",\"type\":\"BasicTicker\"},{\"attributes\":{\"fill_color\":{\"field\":\"Tm\",\"transform\":{\"id\":\"4578\"}},\"top\":{\"field\":\"FantasyPoints\"},\"width\":{\"value\":0.8},\"x\":{\"field\":\"xoffsets\"}},\"id\":\"4582\",\"type\":\"VBar\"},{\"attributes\":{},\"id\":\"4556\",\"type\":\"LinearScale\"},{\"attributes\":{\"client_comm_id\":\"6f87a2aaab1b4f2fb0a354b6a1ddbf0c\",\"comm_id\":\"23756aefa63744e79ce92821dc3336db\",\"plot_id\":\"4544\"},\"id\":\"4656\",\"type\":\"panel.models.comm_manager.CommManager\"},{\"attributes\":{\"margin\":[5,5,5,5],\"name\":\"VSpacer22398\",\"sizing_mode\":\"stretch_height\"},\"id\":\"4625\",\"type\":\"Spacer\"},{\"attributes\":{\"children\":[{\"id\":\"4624\"}],\"css_classes\":[\"panel-widget-box\"],\"margin\":[5,5,5,5],\"name\":\"WidgetBox22392\"},\"id\":\"4623\",\"type\":\"Column\"},{\"attributes\":{},\"id\":\"4589\",\"type\":\"AllLabels\"},{\"attributes\":{},\"id\":\"4559\",\"type\":\"CategoricalTicker\"},{\"attributes\":{},\"id\":\"4565\",\"type\":\"SaveTool\"},{\"attributes\":{},\"id\":\"4591\",\"type\":\"BasicTickFormatter\"},{\"attributes\":{},\"id\":\"4592\",\"type\":\"AllLabels\"},{\"attributes\":{\"overlay\":{\"id\":\"4570\"}},\"id\":\"4568\",\"type\":\"BoxZoomTool\"},{\"attributes\":{\"factors\":[\"CAR\"],\"palette\":[\"#30a2da\"]},\"id\":\"4578\",\"type\":\"CategoricalColorMapper\"},{\"attributes\":{},\"id\":\"4580\",\"type\":\"Selection\"},{\"attributes\":{},\"id\":\"4569\",\"type\":\"ResetTool\"},{\"attributes\":{\"data_source\":{\"id\":\"4579\"},\"glyph\":{\"id\":\"4582\"},\"hover_glyph\":null,\"muted_glyph\":{\"id\":\"4584\"},\"nonselection_glyph\":{\"id\":\"4583\"},\"selection_glyph\":{\"id\":\"4587\"},\"view\":{\"id\":\"4586\"}},\"id\":\"4585\",\"type\":\"GlyphRenderer\"},{\"attributes\":{\"axis\":{\"id\":\"4561\"},\"dimension\":1,\"grid_line_color\":null,\"ticker\":null},\"id\":\"4564\",\"type\":\"Grid\"},{\"attributes\":{\"axis_label\":\"FantasyPoints\",\"formatter\":{\"id\":\"4591\"},\"major_label_policy\":{\"id\":\"4592\"},\"ticker\":{\"id\":\"4562\"}},\"id\":\"4561\",\"type\":\"LinearAxis\"},{\"attributes\":{\"axis\":{\"id\":\"4558\"},\"grid_line_color\":null,\"ticker\":null},\"id\":\"4560\",\"type\":\"Grid\"},{\"attributes\":{\"margin\":[5,5,5,5],\"name\":\"VSpacer22397\",\"sizing_mode\":\"stretch_height\"},\"id\":\"4622\",\"type\":\"Spacer\"},{\"attributes\":{},\"id\":\"4588\",\"type\":\"CategoricalTickFormatter\"},{\"attributes\":{\"margin\":[20,20,20,20],\"min_width\":250,\"options\":[\"CAR\",\"NYG\",\"NOR\",\"SEA\",\"NWE\",\"GNB\",\"DET\",\"DAL\",\"LAR\",\"BAL\",\"DEN\",\"IND\",\"ARI\",\"ATL\",\"HOU\",\"CHI\",\"PIT\",\"PHI\",\"LAC\",\"KAN\",\"SDG\",\"MIN\",\"CLE\",\"BUF\",\"NYJ\",\"TAM\",\"MIA\",\"TEN\",\"CIN\",\"JAX\",\"OAK\",\"STL\",\"SFO\",\"WAS\"],\"title\":\"Tm\",\"value\":\"CAR\",\"width\":250},\"id\":\"4624\",\"type\":\"Select\"},{\"attributes\":{\"end\":397.51,\"reset_end\":397.51,\"reset_start\":-39.41,\"start\":-39.41,\"tags\":[[[\"FantasyPoints\",\"FantasyPoints\",null]]]},\"id\":\"4547\",\"type\":\"Range1d\"},{\"attributes\":{\"below\":[{\"id\":\"4558\"}],\"center\":[{\"id\":\"4560\"},{\"id\":\"4564\"}],\"height\":300,\"left\":[{\"id\":\"4561\"}],\"margin\":[5,5,5,5],\"min_border_bottom\":10,\"min_border_left\":10,\"min_border_right\":10,\"min_border_top\":10,\"renderers\":[{\"id\":\"4585\"}],\"sizing_mode\":\"fixed\",\"title\":{\"id\":\"4550\"},\"toolbar\":{\"id\":\"4571\"},\"width\":800,\"x_range\":{\"id\":\"4546\"},\"x_scale\":{\"id\":\"4554\"},\"y_range\":{\"id\":\"4547\"},\"y_scale\":{\"id\":\"4556\"}},\"id\":\"4549\",\"subtype\":\"Figure\",\"type\":\"Plot\"},{\"attributes\":{\"axis_label\":\"Player, Tm\",\"formatter\":{\"id\":\"4588\"},\"major_label_orientation\":1.5707963267948966,\"major_label_policy\":{\"id\":\"4589\"},\"ticker\":{\"id\":\"4559\"}},\"id\":\"4558\",\"type\":\"CategoricalAxis\"},{\"attributes\":{},\"id\":\"4554\",\"type\":\"CategoricalScale\"},{\"attributes\":{\"children\":[{\"id\":\"4545\"},{\"id\":\"4549\"},{\"id\":\"4620\"},{\"id\":\"4621\"}],\"margin\":[0,0,0,0],\"name\":\"Row22391\"},\"id\":\"4544\",\"type\":\"Row\"},{\"attributes\":{\"fill_alpha\":{\"value\":0.1},\"fill_color\":{\"field\":\"Tm\",\"transform\":{\"id\":\"4578\"}},\"line_alpha\":{\"value\":0.1},\"top\":{\"field\":\"FantasyPoints\"},\"width\":{\"value\":0.8},\"x\":{\"field\":\"xoffsets\"}},\"id\":\"4583\",\"type\":\"VBar\"},{\"attributes\":{\"source\":{\"id\":\"4579\"}},\"id\":\"4586\",\"type\":\"CDSView\"},{\"attributes\":{\"bottom\":{\"value\":0},\"fill_alpha\":{\"value\":1.0},\"fill_color\":{\"field\":\"Tm\",\"transform\":{\"id\":\"4578\"}},\"hatch_alpha\":{\"value\":1.0},\"hatch_color\":{\"value\":\"black\"},\"hatch_scale\":{\"value\":12.0},\"hatch_weight\":{\"value\":1.0},\"line_alpha\":{\"value\":1.0},\"line_cap\":{\"value\":\"butt\"},\"line_color\":{\"value\":\"black\"},\"line_dash\":{\"value\":[]},\"line_dash_offset\":{\"value\":0},\"line_join\":{\"value\":\"bevel\"},\"line_width\":{\"value\":1},\"top\":{\"field\":\"FantasyPoints\"},\"width\":{\"value\":0.8},\"x\":{\"field\":\"xoffsets\"}},\"id\":\"4587\",\"type\":\"VBar\"},{\"attributes\":{\"text\":\"Tm: CAR\",\"text_color\":\"black\",\"text_font_size\":\"12pt\"},\"id\":\"4550\",\"type\":\"Title\"}],\"root_ids\":[\"4544\",\"4656\"]},\"title\":\"Bokeh Application\",\"version\":\"2.3.2\"}};\n",
       "    var render_items = [{\"docid\":\"8dd3457e-af32-4f55-ac4a-c08e8ef42d7a\",\"root_ids\":[\"4544\"],\"roots\":{\"4544\":\"06814189-8a1c-487c-9b2c-273c04c41ee4\"}}];\n",
       "    root.Bokeh.embed.embed_items_notebook(docs_json, render_items);\n",
       "  }\n",
       "  if (root.Bokeh !== undefined && root.Bokeh.Panel !== undefined && ( root['Plotly'] !== undefined)) {\n",
       "    embed_document(root);\n",
       "  } else {\n",
       "    var attempts = 0;\n",
       "    var timer = setInterval(function(root) {\n",
       "      if (root.Bokeh !== undefined && root.Bokeh.Panel !== undefined && (root['Plotly'] !== undefined)) {\n",
       "        clearInterval(timer);\n",
       "        embed_document(root);\n",
       "      } else if (document.readyState == \"complete\") {\n",
       "        attempts++;\n",
       "        if (attempts > 200) {\n",
       "          clearInterval(timer);\n",
       "          console.log(\"Bokeh: ERROR: Unable to run BokehJS code because BokehJS library is missing\");\n",
       "        }\n",
       "      }\n",
       "    }, 25, root)\n",
       "  }\n",
       "})(window);</script>"
      ],
      "text/plain": [
       ":DynamicMap   [Tm]\n",
       "   :Bars   [Player,Tm]   (FantasyPoints)"
      ]
     },
     "execution_count": 39,
     "metadata": {
      "application/vnd.holoviews_exec.v0+json": {
       "id": "4544"
      }
     },
     "output_type": "execute_result"
    }
   ],
   "source": [
    "# imports\n",
    "\n",
    "import panel as pn\n",
    "pn.extension('plotly')\n",
    "import plotly.express as px\n",
    "import pandas as pd\n",
    "import hvplot.pandas\n",
    "import matplotlib.pyplot as plt\n",
    "import numpy as np\n",
    "import os\n",
    "from pathlib import Path\n",
    "from dotenv import load_dotenv\n",
    "import warnings\n",
    "warnings.filterwarnings('ignore')\n",
    "\n",
    "# Import all the CSVs from the Data of the last 10 years\n",
    "\n",
    "file_path_2010 = Path(\"../Data/RawData/2010.csv\")\n",
    "file_path_2011 = Path(\"../Data/RawData/2011.csv\")\n",
    "file_path_2012 = Path(\"../Data/RawData/2012.csv\")\n",
    "file_path_2013 = Path(\"../Data/RawData/2013.csv\")\n",
    "file_path_2014 = Path(\"../Data/RawData/2014.csv\")\n",
    "file_path_2015 = Path(\"../Data/RawData/2015.csv\")\n",
    "file_path_2016 = Path(\"../Data/RawData/2016.csv\")\n",
    "file_path_2017 = Path(\"../Data/RawData/2017.csv\")\n",
    "file_path_2018 = Path(\"../Data/RawData/2018.csv\")\n",
    "file_path_2019 = Path(\"../Data/RawData/2019.csv\")\n",
    "\n",
    "# Convert the data to DataFrames and add a Year column\n",
    "\n",
    "data_2010 = pd.read_csv(file_path_2010)\n",
    "data_2010['Year'] = '2010'\n",
    "data_2011 = pd.read_csv(file_path_2011)\n",
    "data_2011['Year'] = '2011'\n",
    "data_2012 = pd.read_csv(file_path_2012)\n",
    "data_2012['Year'] = '2012'\n",
    "data_2013 = pd.read_csv(file_path_2013)\n",
    "data_2013['Year'] = '2013'\n",
    "data_2014 = pd.read_csv(file_path_2014)\n",
    "data_2014['Year'] = '2014'\n",
    "data_2015 = pd.read_csv(file_path_2015)\n",
    "data_2015['Year'] = '2015'\n",
    "data_2016 = pd.read_csv(file_path_2016)\n",
    "data_2016['Year'] = '2016'\n",
    "data_2017 = pd.read_csv(file_path_2017)\n",
    "data_2017['Year'] = '2017'\n",
    "data_2018 = pd.read_csv(file_path_2018)\n",
    "data_2018['Year'] = '2018'\n",
    "data_2019 = pd.read_csv(file_path_2019)\n",
    "data_2019['Year'] = '2019'\n",
    "\n",
    "# Select specific columns desired to play with the data\n",
    "\n",
    "data_2010 = data_2010[[\"Year\",\"Player\",\"Tm\",\"Pos\",\"FantasyPoints\"]]\n",
    "data_2011 = data_2011[[\"Year\",\"Player\",\"Tm\",\"Pos\",\"FantasyPoints\"]]\n",
    "data_2012 = data_2012[[\"Year\",\"Player\",\"Tm\",\"Pos\",\"FantasyPoints\"]]\n",
    "data_2013 = data_2013[[\"Year\",\"Player\",\"Tm\",\"Pos\",\"FantasyPoints\"]]\n",
    "data_2014 = data_2014[[\"Year\",\"Player\",\"Tm\",\"Pos\",\"FantasyPoints\"]]\n",
    "data_2015 = data_2015[[\"Year\",\"Player\",\"Tm\",\"Pos\",\"FantasyPoints\"]]\n",
    "data_2016 = data_2016[[\"Year\",\"Player\",\"Tm\",\"Pos\",\"FantasyPoints\"]]\n",
    "data_2017 = data_2017[[\"Year\",\"Player\",\"Tm\",\"Pos\",\"FantasyPoints\"]]\n",
    "data_2018 = data_2018[[\"Year\",\"Player\",\"Tm\",\"Pos\",\"FantasyPoints\"]]\n",
    "data_2019 = data_2019[[\"Year\",\"Player\",\"Tm\",\"Pos\",\"FantasyPoints\"]]\n",
    "\n",
    "# Set the index as the year\n",
    "\n",
    "data_2010 = data_2010.set_index(\"Year\")\n",
    "data_2011 = data_2011.set_index(\"Year\")\n",
    "data_2012 = data_2012.set_index(\"Year\")\n",
    "data_2013 = data_2013.set_index(\"Year\")\n",
    "data_2014 = data_2014.set_index(\"Year\")\n",
    "data_2015 = data_2015.set_index(\"Year\")\n",
    "data_2016 = data_2016.set_index(\"Year\")\n",
    "data_2017 = data_2017.set_index(\"Year\")\n",
    "data_2018 = data_2018.set_index(\"Year\")\n",
    "data_2019 = data_2019.set_index(\"Year\")\n",
    "\n",
    "# Merge all the data and clean it by eliminating players that don't have any points, or a single team\n",
    "\n",
    "full_data = pd.concat([data_2010, data_2011, data_2012, data_2013, data_2014, data_2015, data_2016, data_2017, data_2018, data_2019])\n",
    "full_data = full_data[full_data['FantasyPoints'] != 0]\n",
    "full_data = full_data[full_data['Tm'] != '2TM']\n",
    "full_data = full_data[full_data['Tm'] != '3TM']\n",
    "full_data = full_data[full_data['Tm'] != '4TM']\n",
    "full_data.to_csv('../Data/CleanData/full_data.csv', encoding='utf-8')\n",
    "\n",
    "player_mean = full_data.groupby(['Player', 'Tm']).mean().sort_values(by='FantasyPoints', ascending=False, na_position='first')\n",
    "player_mean.hvplot.bar(width=800, rot=90, groupby=\"Tm\")"
   ]
  },
  {
   "cell_type": "code",
   "execution_count": 40,
   "id": "78f490a5",
   "metadata": {},
   "outputs": [
    {
     "data": {},
     "metadata": {},
     "output_type": "display_data"
    },
    {
     "data": {
      "application/vnd.holoviews_exec.v0+json": "",
      "text/html": [
       "<div id='4707'>\n",
       "\n",
       "\n",
       "\n",
       "\n",
       "\n",
       "  <div class=\"bk-root\" id=\"a5dfd0ef-8be3-49f5-b41c-15b954f50cff\" data-root-id=\"4707\"></div>\n",
       "</div>\n",
       "<script type=\"application/javascript\">(function(root) {\n",
       "  function embed_document(root) {\n",
       "    var docs_json = {\"3f92ccdc-d591-40e6-9e4d-b7d741b58f76\":{\"defs\":[{\"extends\":null,\"module\":null,\"name\":\"ReactiveHTML1\",\"overrides\":[],\"properties\":[]},{\"extends\":null,\"module\":null,\"name\":\"FlexBox1\",\"overrides\":[],\"properties\":[{\"default\":\"flex-start\",\"kind\":null,\"name\":\"align_content\"},{\"default\":\"flex-start\",\"kind\":null,\"name\":\"align_items\"},{\"default\":\"row\",\"kind\":null,\"name\":\"flex_direction\"},{\"default\":\"wrap\",\"kind\":null,\"name\":\"flex_wrap\"},{\"default\":\"flex-start\",\"kind\":null,\"name\":\"justify_content\"}]},{\"extends\":null,\"module\":null,\"name\":\"TemplateActions1\",\"overrides\":[],\"properties\":[{\"default\":0,\"kind\":null,\"name\":\"open_modal\"},{\"default\":0,\"kind\":null,\"name\":\"close_modal\"}]},{\"extends\":null,\"module\":null,\"name\":\"MaterialTemplateActions1\",\"overrides\":[],\"properties\":[{\"default\":0,\"kind\":null,\"name\":\"open_modal\"},{\"default\":0,\"kind\":null,\"name\":\"close_modal\"}]}],\"roots\":{\"references\":[{\"attributes\":{\"fill_alpha\":{\"value\":0.2},\"fill_color\":{\"value\":\"#30a2da\"},\"line_alpha\":{\"value\":0.2},\"top\":{\"field\":\"FantasyPoints\"},\"width\":{\"value\":0.8},\"x\":{\"field\":\"Tm\"}},\"id\":\"4746\",\"type\":\"VBar\"},{\"attributes\":{\"margin\":[5,5,5,5],\"name\":\"HSpacer23393\",\"sizing_mode\":\"stretch_width\"},\"id\":\"4708\",\"type\":\"Spacer\"},{\"attributes\":{},\"id\":\"4751\",\"type\":\"AllLabels\"},{\"attributes\":{\"below\":[{\"id\":\"4721\"}],\"center\":[{\"id\":\"4723\"},{\"id\":\"4727\"}],\"height\":300,\"left\":[{\"id\":\"4724\"}],\"margin\":[5,5,5,5],\"min_border_bottom\":10,\"min_border_left\":10,\"min_border_right\":10,\"min_border_top\":10,\"renderers\":[{\"id\":\"4747\"}],\"sizing_mode\":\"fixed\",\"title\":{\"id\":\"4713\"},\"toolbar\":{\"id\":\"4734\"},\"width\":800,\"x_range\":{\"id\":\"4709\"},\"x_scale\":{\"id\":\"4717\"},\"y_range\":{\"id\":\"4710\"},\"y_scale\":{\"id\":\"4719\"}},\"id\":\"4712\",\"subtype\":\"Figure\",\"type\":\"Plot\"},{\"attributes\":{},\"id\":\"4730\",\"type\":\"WheelZoomTool\"},{\"attributes\":{\"factors\":[\"NOR\",\"NWE\",\"LAC\",\"ATL\",\"PHI\",\"DAL\",\"LAR\",\"SDG\",\"DET\",\"GNB\",\"DEN\",\"BAL\",\"CIN\",\"PIT\",\"CAR\",\"MIA\",\"HOU\",\"IND\",\"NYG\",\"MIN\",\"KAN\",\"CHI\",\"TAM\",\"SEA\",\"OAK\",\"WAS\",\"SFO\",\"TEN\",\"STL\",\"ARI\",\"BUF\",\"CLE\",\"NYJ\",\"JAX\"],\"tags\":[[[\"Tm\",\"Tm\",null]]]},\"id\":\"4709\",\"type\":\"FactorRange\"},{\"attributes\":{\"source\":{\"id\":\"4741\"}},\"id\":\"4748\",\"type\":\"CDSView\"},{\"attributes\":{},\"id\":\"4722\",\"type\":\"CategoricalTicker\"},{\"attributes\":{\"fill_color\":{\"value\":\"#30a2da\"},\"top\":{\"field\":\"FantasyPoints\"},\"width\":{\"value\":0.8},\"x\":{\"field\":\"Tm\"}},\"id\":\"4744\",\"type\":\"VBar\"},{\"attributes\":{},\"id\":\"4753\",\"type\":\"BasicTickFormatter\"},{\"attributes\":{},\"id\":\"4763\",\"type\":\"UnionRenderers\"},{\"attributes\":{\"text_color\":\"black\",\"text_font_size\":\"12pt\"},\"id\":\"4713\",\"type\":\"Title\"},{\"attributes\":{\"overlay\":{\"id\":\"4733\"}},\"id\":\"4731\",\"type\":\"BoxZoomTool\"},{\"attributes\":{},\"id\":\"4725\",\"type\":\"BasicTicker\"},{\"attributes\":{},\"id\":\"4717\",\"type\":\"CategoricalScale\"},{\"attributes\":{\"children\":[{\"id\":\"4708\"},{\"id\":\"4712\"},{\"id\":\"4776\"}],\"margin\":[0,0,0,0],\"name\":\"Row23389\",\"tags\":[\"embedded\"]},\"id\":\"4707\",\"type\":\"Row\"},{\"attributes\":{\"active_multi\":null,\"tools\":[{\"id\":\"4711\"},{\"id\":\"4728\"},{\"id\":\"4729\"},{\"id\":\"4730\"},{\"id\":\"4731\"},{\"id\":\"4732\"}]},\"id\":\"4734\",\"type\":\"Toolbar\"},{\"attributes\":{},\"id\":\"4732\",\"type\":\"ResetTool\"},{\"attributes\":{},\"id\":\"4742\",\"type\":\"Selection\"},{\"attributes\":{\"data\":{\"FantasyPoints\":{\"__ndarray__\":\"pRFjZ851WUCGYjgbQj5YQH8Y9+uS+ldAaW3sIA71V0Dx/OqFHUpXQEYS36t4BVdAklCgEdvLVkBryLnPLqpWQFrOeIQOkFZAeDyUENZNVkDcTCZgiRtWQEcqcd/DQlVAGvWWUW85VUDkWiSoqTBVQIvyGsprMFVA4mMSaJ4aVUAl+DX2p9BUQC3puo+Jn1RAhazF+fdhVEAuNpIocUFUQJ9hV4DcK1RAzXMJZA3zU0Cqp7GM7p9TQKfDSgY3llNAVd+OhxJiU0A08axoJEBTQLCMPIiy8VJANlW/uVviUkDwjADPCPBRQCUVZfgEf1FAmqN0+8pqUUDF/wnhhEVRQHRycnJyAlFAUq+OhOJRUEA=\",\"dtype\":\"float64\",\"order\":\"little\",\"shape\":[34]},\"Tm\":[\"NOR\",\"NWE\",\"LAC\",\"ATL\",\"PHI\",\"DAL\",\"LAR\",\"SDG\",\"DET\",\"GNB\",\"DEN\",\"BAL\",\"CIN\",\"PIT\",\"CAR\",\"MIA\",\"HOU\",\"IND\",\"NYG\",\"MIN\",\"KAN\",\"CHI\",\"TAM\",\"SEA\",\"OAK\",\"WAS\",\"SFO\",\"TEN\",\"STL\",\"ARI\",\"BUF\",\"CLE\",\"NYJ\",\"JAX\"]},\"selected\":{\"id\":\"4742\"},\"selection_policy\":{\"id\":\"4763\"}},\"id\":\"4741\",\"type\":\"ColumnDataSource\"},{\"attributes\":{\"axis\":{\"id\":\"4724\"},\"dimension\":1,\"grid_line_color\":null,\"ticker\":null},\"id\":\"4727\",\"type\":\"Grid\"},{\"attributes\":{\"bottom\":{\"value\":0},\"fill_alpha\":{\"value\":1.0},\"fill_color\":{\"value\":\"#30a2da\"},\"hatch_alpha\":{\"value\":1.0},\"hatch_color\":{\"value\":\"black\"},\"hatch_scale\":{\"value\":12.0},\"hatch_weight\":{\"value\":1.0},\"line_alpha\":{\"value\":1.0},\"line_cap\":{\"value\":\"butt\"},\"line_color\":{\"value\":\"black\"},\"line_dash\":{\"value\":[]},\"line_dash_offset\":{\"value\":0},\"line_join\":{\"value\":\"bevel\"},\"line_width\":{\"value\":1},\"top\":{\"field\":\"FantasyPoints\"},\"width\":{\"value\":0.8},\"x\":{\"field\":\"Tm\"}},\"id\":\"4749\",\"type\":\"VBar\"},{\"attributes\":{\"bottom_units\":\"screen\",\"fill_alpha\":0.5,\"fill_color\":\"lightgrey\",\"left_units\":\"screen\",\"level\":\"overlay\",\"line_alpha\":1.0,\"line_color\":\"black\",\"line_dash\":[4,4],\"line_width\":2,\"right_units\":\"screen\",\"syncable\":false,\"top_units\":\"screen\"},\"id\":\"4733\",\"type\":\"BoxAnnotation\"},{\"attributes\":{\"fill_alpha\":{\"value\":0.1},\"fill_color\":{\"value\":\"#30a2da\"},\"line_alpha\":{\"value\":0.1},\"top\":{\"field\":\"FantasyPoints\"},\"width\":{\"value\":0.8},\"x\":{\"field\":\"Tm\"}},\"id\":\"4745\",\"type\":\"VBar\"},{\"attributes\":{},\"id\":\"4729\",\"type\":\"PanTool\"},{\"attributes\":{},\"id\":\"4754\",\"type\":\"AllLabels\"},{\"attributes\":{\"margin\":[5,5,5,5],\"name\":\"HSpacer23394\",\"sizing_mode\":\"stretch_width\"},\"id\":\"4776\",\"type\":\"Spacer\"},{\"attributes\":{\"callback\":null,\"renderers\":[{\"id\":\"4747\"}],\"tags\":[\"hv_created\"],\"tooltips\":[[\"Tm\",\"@{Tm}\"],[\"FantasyPoints\",\"@{FantasyPoints}\"]]},\"id\":\"4711\",\"type\":\"HoverTool\"},{\"attributes\":{},\"id\":\"4728\",\"type\":\"SaveTool\"},{\"attributes\":{\"end\":105.49685012577784,\"reset_end\":105.49685012577784,\"reset_start\":0.0,\"tags\":[[[\"FantasyPoints\",\"FantasyPoints\",null]]]},\"id\":\"4710\",\"type\":\"Range1d\"},{\"attributes\":{},\"id\":\"4750\",\"type\":\"CategoricalTickFormatter\"},{\"attributes\":{\"axis\":{\"id\":\"4721\"},\"grid_line_color\":null,\"ticker\":null},\"id\":\"4723\",\"type\":\"Grid\"},{\"attributes\":{\"axis_label\":\"Tm\",\"formatter\":{\"id\":\"4750\"},\"major_label_orientation\":1.5707963267948966,\"major_label_policy\":{\"id\":\"4751\"},\"ticker\":{\"id\":\"4722\"}},\"id\":\"4721\",\"type\":\"CategoricalAxis\"},{\"attributes\":{\"axis_label\":\"FantasyPoints\",\"formatter\":{\"id\":\"4753\"},\"major_label_policy\":{\"id\":\"4754\"},\"ticker\":{\"id\":\"4725\"}},\"id\":\"4724\",\"type\":\"LinearAxis\"},{\"attributes\":{},\"id\":\"4719\",\"type\":\"LinearScale\"},{\"attributes\":{\"data_source\":{\"id\":\"4741\"},\"glyph\":{\"id\":\"4744\"},\"hover_glyph\":null,\"muted_glyph\":{\"id\":\"4746\"},\"nonselection_glyph\":{\"id\":\"4745\"},\"selection_glyph\":{\"id\":\"4749\"},\"view\":{\"id\":\"4748\"}},\"id\":\"4747\",\"type\":\"GlyphRenderer\"}],\"root_ids\":[\"4707\"]},\"title\":\"Bokeh Application\",\"version\":\"2.3.2\"}};\n",
       "    var render_items = [{\"docid\":\"3f92ccdc-d591-40e6-9e4d-b7d741b58f76\",\"root_ids\":[\"4707\"],\"roots\":{\"4707\":\"a5dfd0ef-8be3-49f5-b41c-15b954f50cff\"}}];\n",
       "    root.Bokeh.embed.embed_items_notebook(docs_json, render_items);\n",
       "  }\n",
       "  if (root.Bokeh !== undefined && root.Bokeh.Panel !== undefined && ( root['Plotly'] !== undefined)) {\n",
       "    embed_document(root);\n",
       "  } else {\n",
       "    var attempts = 0;\n",
       "    var timer = setInterval(function(root) {\n",
       "      if (root.Bokeh !== undefined && root.Bokeh.Panel !== undefined && (root['Plotly'] !== undefined)) {\n",
       "        clearInterval(timer);\n",
       "        embed_document(root);\n",
       "      } else if (document.readyState == \"complete\") {\n",
       "        attempts++;\n",
       "        if (attempts > 200) {\n",
       "          clearInterval(timer);\n",
       "          console.log(\"Bokeh: ERROR: Unable to run BokehJS code because BokehJS library is missing\");\n",
       "        }\n",
       "      }\n",
       "    }, 25, root)\n",
       "  }\n",
       "})(window);</script>"
      ],
      "text/plain": [
       ":Bars   [Tm]   (FantasyPoints)"
      ]
     },
     "execution_count": 40,
     "metadata": {
      "application/vnd.holoviews_exec.v0+json": {
       "id": "4707"
      }
     },
     "output_type": "execute_result"
    }
   ],
   "source": [
    "team_mean = full_data.groupby(['Tm']).mean().sort_values(by='FantasyPoints', ascending=False, na_position='first')\n",
    "team_mean.hvplot.bar(width=800, rot=90)"
   ]
  },
  {
   "cell_type": "code",
   "execution_count": 41,
   "id": "72a94f1c",
   "metadata": {},
   "outputs": [
    {
     "data": {},
     "metadata": {},
     "output_type": "display_data"
    },
    {
     "data": {
      "application/vnd.holoviews_exec.v0+json": "",
      "text/html": [
       "<div id='4828'>\n",
       "\n",
       "\n",
       "\n",
       "\n",
       "\n",
       "  <div class=\"bk-root\" id=\"88286734-9ec3-4c52-818c-7226a8b36bd9\" data-root-id=\"4828\"></div>\n",
       "</div>\n",
       "<script type=\"application/javascript\">(function(root) {\n",
       "  function embed_document(root) {\n",
       "    var docs_json = {\"bdd63f51-9a6d-444c-8746-344e63c3ac3d\":{\"defs\":[{\"extends\":null,\"module\":null,\"name\":\"ReactiveHTML1\",\"overrides\":[],\"properties\":[]},{\"extends\":null,\"module\":null,\"name\":\"FlexBox1\",\"overrides\":[],\"properties\":[{\"default\":\"flex-start\",\"kind\":null,\"name\":\"align_content\"},{\"default\":\"flex-start\",\"kind\":null,\"name\":\"align_items\"},{\"default\":\"row\",\"kind\":null,\"name\":\"flex_direction\"},{\"default\":\"wrap\",\"kind\":null,\"name\":\"flex_wrap\"},{\"default\":\"flex-start\",\"kind\":null,\"name\":\"justify_content\"}]},{\"extends\":null,\"module\":null,\"name\":\"TemplateActions1\",\"overrides\":[],\"properties\":[{\"default\":0,\"kind\":null,\"name\":\"open_modal\"},{\"default\":0,\"kind\":null,\"name\":\"close_modal\"}]},{\"extends\":null,\"module\":null,\"name\":\"MaterialTemplateActions1\",\"overrides\":[],\"properties\":[{\"default\":0,\"kind\":null,\"name\":\"open_modal\"},{\"default\":0,\"kind\":null,\"name\":\"close_modal\"}]}],\"roots\":{\"references\":[{\"attributes\":{},\"id\":\"4853\",\"type\":\"ResetTool\"},{\"attributes\":{},\"id\":\"4875\",\"type\":\"AllLabels\"},{\"attributes\":{\"children\":[{\"id\":\"4829\"},{\"id\":\"4833\"},{\"id\":\"4897\"}],\"margin\":[0,0,0,0],\"name\":\"Row23538\",\"tags\":[\"embedded\"]},\"id\":\"4828\",\"type\":\"Row\"},{\"attributes\":{\"factors\":[\"QB\",\"WR\",\"RB\",\"TE\",\"0\"],\"tags\":[[[\"Pos\",\"Pos\",null]]]},\"id\":\"4830\",\"type\":\"FactorRange\"},{\"attributes\":{\"overlay\":{\"id\":\"4854\"}},\"id\":\"4852\",\"type\":\"BoxZoomTool\"},{\"attributes\":{\"end\":124.79333395931144,\"reset_end\":124.79333395931144,\"reset_start\":0.0,\"tags\":[[[\"FantasyPoints\",\"FantasyPoints\",null]]]},\"id\":\"4831\",\"type\":\"Range1d\"},{\"attributes\":{\"fill_alpha\":{\"value\":0.1},\"fill_color\":{\"value\":\"#30a2da\"},\"line_alpha\":{\"value\":0.1},\"top\":{\"field\":\"FantasyPoints\"},\"width\":{\"value\":0.8},\"x\":{\"field\":\"Pos\"}},\"id\":\"4866\",\"type\":\"VBar\"},{\"attributes\":{\"fill_color\":{\"value\":\"#30a2da\"},\"top\":{\"field\":\"FantasyPoints\"},\"width\":{\"value\":0.8},\"x\":{\"field\":\"Pos\"}},\"id\":\"4865\",\"type\":\"VBar\"},{\"attributes\":{\"source\":{\"id\":\"4862\"}},\"id\":\"4869\",\"type\":\"CDSView\"},{\"attributes\":{\"bottom\":{\"value\":0},\"fill_alpha\":{\"value\":1.0},\"fill_color\":{\"value\":\"#30a2da\"},\"hatch_alpha\":{\"value\":1.0},\"hatch_color\":{\"value\":\"black\"},\"hatch_scale\":{\"value\":12.0},\"hatch_weight\":{\"value\":1.0},\"line_alpha\":{\"value\":1.0},\"line_cap\":{\"value\":\"butt\"},\"line_color\":{\"value\":\"black\"},\"line_dash\":{\"value\":[]},\"line_dash_offset\":{\"value\":0},\"line_join\":{\"value\":\"bevel\"},\"line_width\":{\"value\":1},\"top\":{\"field\":\"FantasyPoints\"},\"width\":{\"value\":0.8},\"x\":{\"field\":\"Pos\"}},\"id\":\"4870\",\"type\":\"VBar\"},{\"attributes\":{},\"id\":\"4850\",\"type\":\"PanTool\"},{\"attributes\":{},\"id\":\"4838\",\"type\":\"CategoricalScale\"},{\"attributes\":{\"margin\":[5,5,5,5],\"name\":\"HSpacer23543\",\"sizing_mode\":\"stretch_width\"},\"id\":\"4897\",\"type\":\"Spacer\"},{\"attributes\":{\"data_source\":{\"id\":\"4862\"},\"glyph\":{\"id\":\"4865\"},\"hover_glyph\":null,\"muted_glyph\":{\"id\":\"4867\"},\"nonselection_glyph\":{\"id\":\"4866\"},\"selection_glyph\":{\"id\":\"4870\"},\"view\":{\"id\":\"4869\"}},\"id\":\"4868\",\"type\":\"GlyphRenderer\"},{\"attributes\":{\"axis\":{\"id\":\"4842\"},\"grid_line_color\":null,\"ticker\":null},\"id\":\"4844\",\"type\":\"Grid\"},{\"attributes\":{\"callback\":null,\"renderers\":[{\"id\":\"4868\"}],\"tags\":[\"hv_created\"],\"tooltips\":[[\"Pos\",\"@{Pos}\"],[\"FantasyPoints\",\"@{FantasyPoints}\"]]},\"id\":\"4832\",\"type\":\"HoverTool\"},{\"attributes\":{\"axis\":{\"id\":\"4845\"},\"dimension\":1,\"grid_line_color\":null,\"ticker\":null},\"id\":\"4848\",\"type\":\"Grid\"},{\"attributes\":{\"bottom_units\":\"screen\",\"fill_alpha\":0.5,\"fill_color\":\"lightgrey\",\"left_units\":\"screen\",\"level\":\"overlay\",\"line_alpha\":1.0,\"line_color\":\"black\",\"line_dash\":[4,4],\"line_width\":2,\"right_units\":\"screen\",\"syncable\":false,\"top_units\":\"screen\"},\"id\":\"4854\",\"type\":\"BoxAnnotation\"},{\"attributes\":{},\"id\":\"4871\",\"type\":\"CategoricalTickFormatter\"},{\"attributes\":{},\"id\":\"4849\",\"type\":\"SaveTool\"},{\"attributes\":{},\"id\":\"4840\",\"type\":\"LinearScale\"},{\"attributes\":{\"fill_alpha\":{\"value\":0.2},\"fill_color\":{\"value\":\"#30a2da\"},\"line_alpha\":{\"value\":0.2},\"top\":{\"field\":\"FantasyPoints\"},\"width\":{\"value\":0.8},\"x\":{\"field\":\"Pos\"}},\"id\":\"4867\",\"type\":\"VBar\"},{\"attributes\":{\"margin\":[5,5,5,5],\"name\":\"HSpacer23542\",\"sizing_mode\":\"stretch_width\"},\"id\":\"4829\",\"type\":\"Spacer\"},{\"attributes\":{},\"id\":\"4843\",\"type\":\"CategoricalTicker\"},{\"attributes\":{\"active_multi\":null,\"tools\":[{\"id\":\"4832\"},{\"id\":\"4849\"},{\"id\":\"4850\"},{\"id\":\"4851\"},{\"id\":\"4852\"},{\"id\":\"4853\"}]},\"id\":\"4855\",\"type\":\"Toolbar\"},{\"attributes\":{},\"id\":\"4846\",\"type\":\"BasicTicker\"},{\"attributes\":{\"axis_label\":\"FantasyPoints\",\"formatter\":{\"id\":\"4874\"},\"major_label_policy\":{\"id\":\"4875\"},\"ticker\":{\"id\":\"4846\"}},\"id\":\"4845\",\"type\":\"LinearAxis\"},{\"attributes\":{},\"id\":\"4874\",\"type\":\"BasicTickFormatter\"},{\"attributes\":{},\"id\":\"4872\",\"type\":\"AllLabels\"},{\"attributes\":{},\"id\":\"4851\",\"type\":\"WheelZoomTool\"},{\"attributes\":{},\"id\":\"4863\",\"type\":\"Selection\"},{\"attributes\":{\"below\":[{\"id\":\"4842\"}],\"center\":[{\"id\":\"4844\"},{\"id\":\"4848\"}],\"height\":300,\"left\":[{\"id\":\"4845\"}],\"margin\":[5,5,5,5],\"min_border_bottom\":10,\"min_border_left\":10,\"min_border_right\":10,\"min_border_top\":10,\"renderers\":[{\"id\":\"4868\"}],\"sizing_mode\":\"fixed\",\"title\":{\"id\":\"4834\"},\"toolbar\":{\"id\":\"4855\"},\"width\":800,\"x_range\":{\"id\":\"4830\"},\"x_scale\":{\"id\":\"4838\"},\"y_range\":{\"id\":\"4831\"},\"y_scale\":{\"id\":\"4840\"}},\"id\":\"4833\",\"subtype\":\"Figure\",\"type\":\"Plot\"},{\"attributes\":{},\"id\":\"4884\",\"type\":\"UnionRenderers\"},{\"attributes\":{\"axis_label\":\"Pos\",\"formatter\":{\"id\":\"4871\"},\"major_label_orientation\":1.5707963267948966,\"major_label_policy\":{\"id\":\"4872\"},\"ticker\":{\"id\":\"4843\"}},\"id\":\"4842\",\"type\":\"CategoricalAxis\"},{\"attributes\":{\"text_color\":\"black\",\"text_font_size\":\"12pt\"},\"id\":\"4834\",\"type\":\"Title\"},{\"attributes\":{\"data\":{\"FantasyPoints\":{\"__ndarray__\":\"OtKY6rGIXEAS9nmQFS9WQKw+cxU06lJAqFC6n9I/TUDpkz7pkz4eQA==\",\"dtype\":\"float64\",\"order\":\"little\",\"shape\":[5]},\"Pos\":[\"QB\",\"WR\",\"RB\",\"TE\",\"0\"]},\"selected\":{\"id\":\"4863\"},\"selection_policy\":{\"id\":\"4884\"}},\"id\":\"4862\",\"type\":\"ColumnDataSource\"}],\"root_ids\":[\"4828\"]},\"title\":\"Bokeh Application\",\"version\":\"2.3.2\"}};\n",
       "    var render_items = [{\"docid\":\"bdd63f51-9a6d-444c-8746-344e63c3ac3d\",\"root_ids\":[\"4828\"],\"roots\":{\"4828\":\"88286734-9ec3-4c52-818c-7226a8b36bd9\"}}];\n",
       "    root.Bokeh.embed.embed_items_notebook(docs_json, render_items);\n",
       "  }\n",
       "  if (root.Bokeh !== undefined && root.Bokeh.Panel !== undefined && ( root['Plotly'] !== undefined)) {\n",
       "    embed_document(root);\n",
       "  } else {\n",
       "    var attempts = 0;\n",
       "    var timer = setInterval(function(root) {\n",
       "      if (root.Bokeh !== undefined && root.Bokeh.Panel !== undefined && (root['Plotly'] !== undefined)) {\n",
       "        clearInterval(timer);\n",
       "        embed_document(root);\n",
       "      } else if (document.readyState == \"complete\") {\n",
       "        attempts++;\n",
       "        if (attempts > 200) {\n",
       "          clearInterval(timer);\n",
       "          console.log(\"Bokeh: ERROR: Unable to run BokehJS code because BokehJS library is missing\");\n",
       "        }\n",
       "      }\n",
       "    }, 25, root)\n",
       "  }\n",
       "})(window);</script>"
      ],
      "text/plain": [
       ":Bars   [Pos]   (FantasyPoints)"
      ]
     },
     "execution_count": 41,
     "metadata": {
      "application/vnd.holoviews_exec.v0+json": {
       "id": "4828"
      }
     },
     "output_type": "execute_result"
    }
   ],
   "source": [
    "position_mean = full_data.groupby(['Pos']).mean().sort_values(by='FantasyPoints', ascending=False, na_position='first')\n",
    "position_mean.hvplot.bar(width=800, rot=90)"
   ]
  },
  {
   "cell_type": "code",
   "execution_count": 42,
   "id": "c374d71c",
   "metadata": {},
   "outputs": [
    {
     "ename": "NameError",
     "evalue": "name 'MCSimulation' is not defined",
     "output_type": "error",
     "traceback": [
      "\u001b[0;31m---------------------------------------------------------------------------\u001b[0m",
      "\u001b[0;31mNameError\u001b[0m                                 Traceback (most recent call last)",
      "\u001b[0;32m<ipython-input-42-fccf24dd31ad>\u001b[0m in \u001b[0;36m<module>\u001b[0;34m\u001b[0m\n\u001b[0;32m----> 1\u001b[0;31m MC_PORTFOLIO = MCSimulation(\n\u001b[0m\u001b[1;32m      2\u001b[0m     \u001b[0mportfolio_data\u001b[0m \u001b[0;34m=\u001b[0m \u001b[0mfull_data\u001b[0m\u001b[0;34m,\u001b[0m\u001b[0;34m\u001b[0m\u001b[0;34m\u001b[0m\u001b[0m\n\u001b[1;32m      3\u001b[0m     \u001b[0mweights\u001b[0m \u001b[0;34m=\u001b[0m \u001b[0;34m[\u001b[0m\u001b[0;36m0.8\u001b[0m\u001b[0;34m,\u001b[0m \u001b[0;36m0.2\u001b[0m\u001b[0;34m]\u001b[0m\u001b[0;34m,\u001b[0m\u001b[0;34m\u001b[0m\u001b[0;34m\u001b[0m\u001b[0m\n\u001b[1;32m      4\u001b[0m     \u001b[0mnum_simulation\u001b[0m \u001b[0;34m=\u001b[0m \u001b[0mnum_sims\u001b[0m\u001b[0;34m,\u001b[0m\u001b[0;34m\u001b[0m\u001b[0;34m\u001b[0m\u001b[0m\n\u001b[1;32m      5\u001b[0m     \u001b[0mnum_trading_days\u001b[0m \u001b[0;34m=\u001b[0m \u001b[0;36m252\u001b[0m\u001b[0;34m*\u001b[0m\u001b[0;36m30\u001b[0m\u001b[0;34m\u001b[0m\u001b[0;34m\u001b[0m\u001b[0m\n",
      "\u001b[0;31mNameError\u001b[0m: name 'MCSimulation' is not defined"
     ]
    }
   ],
   "source": []
  },
  {
   "cell_type": "code",
   "execution_count": null,
   "id": "f22a3d46",
   "metadata": {},
   "outputs": [],
   "source": []
  }
 ],
 "metadata": {
  "kernelspec": {
   "display_name": "Python [conda env:pyvizenv2] *",
   "language": "python",
   "name": "conda-env-pyvizenv2-py"
  },
  "language_info": {
   "codemirror_mode": {
    "name": "ipython",
    "version": 3
   },
   "file_extension": ".py",
   "mimetype": "text/x-python",
   "name": "python",
   "nbconvert_exporter": "python",
   "pygments_lexer": "ipython3",
   "version": "3.7.10"
  }
 },
 "nbformat": 4,
 "nbformat_minor": 5
}
