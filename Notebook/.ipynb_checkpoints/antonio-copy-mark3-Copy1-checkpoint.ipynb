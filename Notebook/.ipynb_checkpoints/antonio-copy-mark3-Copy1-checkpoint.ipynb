{
 "cells": [
  {
   "cell_type": "code",
   "execution_count": 1,
   "id": "4a70f2a6",
   "metadata": {},
   "outputs": [],
   "source": [
    "# imports\n",
    "import plotly.express as px\n",
    "import pandas as pd\n",
    "import matplotlib.pyplot as plt\n",
    "import numpy as np\n",
    "import os\n",
    "from pathlib import Path\n",
    "import plotly.graph_objs as go\n",
    "import warnings\n",
    "warnings.filterwarnings('ignore')"
   ]
  },
  {
   "cell_type": "code",
   "execution_count": 2,
   "id": "1cd89bc8",
   "metadata": {},
   "outputs": [],
   "source": [
    "import fantasy_football as ff"
   ]
  },
  {
   "cell_type": "code",
   "execution_count": 3,
   "id": "720794bf",
   "metadata": {},
   "outputs": [],
   "source": [
    "# years = range(2010,2020)\n",
    "# dfs=[]\n",
    "# for year in years:\n",
    "#     df = pd.read_csv(Path(f\"../Data/RawData/{year}.csv\"))\n",
    "#     df[\"Year\"]= year\n",
    "#     df = df[[\"Year\",\"Player\",\"Tm\",\"Pos\",\"FantasyPoints\"]]\n",
    "#     df = df.set_index(\"Year\")\n",
    "#     dfs.append(df)\n",
    "# full_data = pd.concat(dfs)\n"
   ]
  },
  {
   "cell_type": "code",
   "execution_count": 4,
   "id": "8b8dca61",
   "metadata": {},
   "outputs": [],
   "source": [
    "# file_path_2010 = Path(\"../Data/RawData/2010.csv\")\n",
    "# file_path_2011 = Path(\"../Data/RawData/2011.csv\")\n",
    "# file_path_2012 = Path(\"../Data/RawData/2012.csv\")\n",
    "# file_path_2013 = Path(\"../Data/RawData/2013.csv\")\n",
    "# file_path_2014 = Path(\"../Data/RawData/2014.csv\")\n",
    "# file_path_2015 = Path(\"../Data/RawData/2015.csv\")\n",
    "# file_path_2016 = Path(\"../Data/RawData/2016.csv\")\n",
    "# file_path_2017 = Path(\"../Data/RawData/2017.csv\")\n",
    "# file_path_2018 = Path(\"../Data/RawData/2018.csv\")\n",
    "# file_path_2019 = Path(\"../Data/RawData/2019.csv\")\n",
    "\n",
    "# data_2010 = pd.read_csv(file_path_2010)\n",
    "# data_2010['Year'] = '2010'\n",
    "# data_2011 = pd.read_csv(file_path_2011)\n",
    "# data_2011['Year'] = '2011'\n",
    "# data_2012 = pd.read_csv(file_path_2012)\n",
    "# data_2012['Year'] = '2012'\n",
    "# data_2013 = pd.read_csv(file_path_2013)\n",
    "# data_2013['Year'] = '2013'\n",
    "# data_2014 = pd.read_csv(file_path_2014)\n",
    "# data_2014['Year'] = '2014'\n",
    "# data_2015 = pd.read_csv(file_path_2015)\n",
    "# data_2015['Year'] = '2015'\n",
    "# data_2016 = pd.read_csv(file_path_2016)\n",
    "# data_2016['Year'] = '2016'\n",
    "# data_2017 = pd.read_csv(file_path_2017)\n",
    "# data_2017['Year'] = '2017'\n",
    "# data_2018 = pd.read_csv(file_path_2018)\n",
    "# data_2018['Year'] = '2018'\n",
    "# data_2019 = pd.read_csv(file_path_2019)\n",
    "# data_2019['Year'] = '2019'\n",
    "\n",
    "# data_2010 = data_2010[[\"Year\",\"Player\",\"Tm\",\"Pos\",\"FantasyPoints\"]]\n",
    "# data_2011 = data_2011[[\"Year\",\"Player\",\"Tm\",\"Pos\",\"FantasyPoints\"]]\n",
    "# data_2012 = data_2012[[\"Year\",\"Player\",\"Tm\",\"Pos\",\"FantasyPoints\"]]\n",
    "# data_2013 = data_2013[[\"Year\",\"Player\",\"Tm\",\"Pos\",\"FantasyPoints\"]]\n",
    "# data_2014 = data_2014[[\"Year\",\"Player\",\"Tm\",\"Pos\",\"FantasyPoints\"]]\n",
    "# data_2015 = data_2015[[\"Year\",\"Player\",\"Tm\",\"Pos\",\"FantasyPoints\"]]\n",
    "# data_2016 = data_2016[[\"Year\",\"Player\",\"Tm\",\"Pos\",\"FantasyPoints\"]]\n",
    "# data_2017 = data_2017[[\"Year\",\"Player\",\"Tm\",\"Pos\",\"FantasyPoints\"]]\n",
    "# data_2018 = data_2018[[\"Year\",\"Player\",\"Tm\",\"Pos\",\"FantasyPoints\"]]\n",
    "# data_2019 = data_2019[[\"Year\",\"Player\",\"Tm\",\"Pos\",\"FantasyPoints\"]]\n",
    "\n",
    "# data_2010 = data_2010.set_index(\"Year\")\n",
    "# data_2011 = data_2011.set_index(\"Year\")\n",
    "# data_2012 = data_2012.set_index(\"Year\")\n",
    "# data_2013 = data_2013.set_index(\"Year\")\n",
    "# data_2014 = data_2014.set_index(\"Year\")\n",
    "# data_2015 = data_2015.set_index(\"Year\")\n",
    "# data_2016 = data_2016.set_index(\"Year\")\n",
    "# data_2017 = data_2017.set_index(\"Year\")\n",
    "# data_2018 = data_2018.set_index(\"Year\")\n",
    "# data_2019 = data_2019.set_index(\"Year\")\n",
    "\n",
    "\n",
    "# full_data = pd.concat([data_2010, data_2011, data_2012, data_2013, data_2014, data_2015, data_2016, data_2017, data_2018, data_2019])"
   ]
  },
  {
   "cell_type": "code",
   "execution_count": 5,
   "id": "a78c501f",
   "metadata": {},
   "outputs": [],
   "source": [
    "#max_year = int(input(\"What is the latest year in your data? \"))"
   ]
  },
  {
   "cell_type": "code",
   "execution_count": 6,
   "id": "799553fd",
   "metadata": {},
   "outputs": [],
   "source": [
    "max_year = 2020"
   ]
  },
  {
   "cell_type": "code",
   "execution_count": 7,
   "id": "ab7a8175",
   "metadata": {},
   "outputs": [
    {
     "ename": "KeyError",
     "evalue": "\"['Player', 'Pos', 'FantasyPoints', 'Tm'] not in index\"",
     "output_type": "error",
     "traceback": [
      "\u001b[0;31m---------------------------------------------------------------------------\u001b[0m",
      "\u001b[0;31mKeyError\u001b[0m                                  Traceback (most recent call last)",
      "\u001b[0;32m<ipython-input-7-79cbce09119a>\u001b[0m in \u001b[0;36m<module>\u001b[0;34m\u001b[0m\n\u001b[0;32m----> 1\u001b[0;31m \u001b[0mfull_data\u001b[0m \u001b[0;34m=\u001b[0m \u001b[0mff\u001b[0m\u001b[0;34m.\u001b[0m\u001b[0mread_fantasy_data\u001b[0m\u001b[0;34m(\u001b[0m\u001b[0;36m2010\u001b[0m\u001b[0;34m,\u001b[0m \u001b[0mmax_year\u001b[0m\u001b[0;34m)\u001b[0m\u001b[0;34m\u001b[0m\u001b[0;34m\u001b[0m\u001b[0m\n\u001b[0m\u001b[1;32m      2\u001b[0m \u001b[0mfull_data\u001b[0m \u001b[0;34m=\u001b[0m \u001b[0mfull_data\u001b[0m\u001b[0;34m[\u001b[0m\u001b[0mfull_data\u001b[0m\u001b[0;34m[\u001b[0m\u001b[0;34m'FantasyPoints'\u001b[0m\u001b[0;34m]\u001b[0m \u001b[0;34m!=\u001b[0m \u001b[0;36m0\u001b[0m\u001b[0;34m]\u001b[0m\u001b[0;34m\u001b[0m\u001b[0;34m\u001b[0m\u001b[0m\n\u001b[1;32m      3\u001b[0m \u001b[0;34m\u001b[0m\u001b[0m\n\u001b[1;32m      4\u001b[0m \u001b[0mfull_data\u001b[0m\u001b[0;34m.\u001b[0m\u001b[0mto_csv\u001b[0m\u001b[0;34m(\u001b[0m\u001b[0;34m'../Data/CleanData/full_data.csv'\u001b[0m\u001b[0;34m,\u001b[0m \u001b[0mencoding\u001b[0m\u001b[0;34m=\u001b[0m\u001b[0;34m'utf-8'\u001b[0m\u001b[0;34m)\u001b[0m\u001b[0;34m\u001b[0m\u001b[0;34m\u001b[0m\u001b[0m\n",
      "\u001b[0;32m~/FinTech/Project-1/Notebook/fantasy_football.py\u001b[0m in \u001b[0;36mread_fantasy_data\u001b[0;34m(start_year, end_year)\u001b[0m\n\u001b[1;32m      8\u001b[0m         \u001b[0mdf\u001b[0m \u001b[0;34m=\u001b[0m \u001b[0mpd\u001b[0m\u001b[0;34m.\u001b[0m\u001b[0mread_csv\u001b[0m\u001b[0;34m(\u001b[0m\u001b[0mPath\u001b[0m\u001b[0;34m(\u001b[0m\u001b[0;34mf\"../Data/RawData/{year}.csv\"\u001b[0m\u001b[0;34m)\u001b[0m\u001b[0;34m)\u001b[0m\u001b[0;34m\u001b[0m\u001b[0;34m\u001b[0m\u001b[0m\n\u001b[1;32m      9\u001b[0m         \u001b[0mdf\u001b[0m\u001b[0;34m[\u001b[0m\u001b[0;34m\"Year\"\u001b[0m\u001b[0;34m]\u001b[0m\u001b[0;34m=\u001b[0m \u001b[0myear\u001b[0m\u001b[0;34m\u001b[0m\u001b[0;34m\u001b[0m\u001b[0m\n\u001b[0;32m---> 10\u001b[0;31m         \u001b[0mdf\u001b[0m \u001b[0;34m=\u001b[0m \u001b[0mdf\u001b[0m\u001b[0;34m[\u001b[0m\u001b[0;34m[\u001b[0m\u001b[0;34m\"Year\"\u001b[0m\u001b[0;34m,\u001b[0m\u001b[0;34m\"Player\"\u001b[0m\u001b[0;34m,\u001b[0m\u001b[0;34m\"Tm\"\u001b[0m\u001b[0;34m,\u001b[0m\u001b[0;34m\"Pos\"\u001b[0m\u001b[0;34m,\u001b[0m\u001b[0;34m\"FantasyPoints\"\u001b[0m\u001b[0;34m]\u001b[0m\u001b[0;34m]\u001b[0m\u001b[0;34m\u001b[0m\u001b[0;34m\u001b[0m\u001b[0m\n\u001b[0m\u001b[1;32m     11\u001b[0m         \u001b[0mdf\u001b[0m \u001b[0;34m=\u001b[0m \u001b[0mdf\u001b[0m\u001b[0;34m.\u001b[0m\u001b[0mset_index\u001b[0m\u001b[0;34m(\u001b[0m\u001b[0;34m\"Year\"\u001b[0m\u001b[0;34m)\u001b[0m\u001b[0;34m\u001b[0m\u001b[0;34m\u001b[0m\u001b[0m\n\u001b[1;32m     12\u001b[0m         \u001b[0mdfs\u001b[0m\u001b[0;34m.\u001b[0m\u001b[0mappend\u001b[0m\u001b[0;34m(\u001b[0m\u001b[0mdf\u001b[0m\u001b[0;34m)\u001b[0m\u001b[0;34m\u001b[0m\u001b[0;34m\u001b[0m\u001b[0m\n",
      "\u001b[0;32m~/opt/anaconda3/lib/python3.8/site-packages/pandas/core/frame.py\u001b[0m in \u001b[0;36m__getitem__\u001b[0;34m(self, key)\u001b[0m\n\u001b[1;32m   2804\u001b[0m             \u001b[0;32mif\u001b[0m \u001b[0mis_iterator\u001b[0m\u001b[0;34m(\u001b[0m\u001b[0mkey\u001b[0m\u001b[0;34m)\u001b[0m\u001b[0;34m:\u001b[0m\u001b[0;34m\u001b[0m\u001b[0;34m\u001b[0m\u001b[0m\n\u001b[1;32m   2805\u001b[0m                 \u001b[0mkey\u001b[0m \u001b[0;34m=\u001b[0m \u001b[0mlist\u001b[0m\u001b[0;34m(\u001b[0m\u001b[0mkey\u001b[0m\u001b[0;34m)\u001b[0m\u001b[0;34m\u001b[0m\u001b[0;34m\u001b[0m\u001b[0m\n\u001b[0;32m-> 2806\u001b[0;31m             \u001b[0mindexer\u001b[0m \u001b[0;34m=\u001b[0m \u001b[0mself\u001b[0m\u001b[0;34m.\u001b[0m\u001b[0mloc\u001b[0m\u001b[0;34m.\u001b[0m\u001b[0m_get_listlike_indexer\u001b[0m\u001b[0;34m(\u001b[0m\u001b[0mkey\u001b[0m\u001b[0;34m,\u001b[0m \u001b[0maxis\u001b[0m\u001b[0;34m=\u001b[0m\u001b[0;36m1\u001b[0m\u001b[0;34m,\u001b[0m \u001b[0mraise_missing\u001b[0m\u001b[0;34m=\u001b[0m\u001b[0;32mTrue\u001b[0m\u001b[0;34m)\u001b[0m\u001b[0;34m[\u001b[0m\u001b[0;36m1\u001b[0m\u001b[0;34m]\u001b[0m\u001b[0;34m\u001b[0m\u001b[0;34m\u001b[0m\u001b[0m\n\u001b[0m\u001b[1;32m   2807\u001b[0m \u001b[0;34m\u001b[0m\u001b[0m\n\u001b[1;32m   2808\u001b[0m         \u001b[0;31m# take() does not accept boolean indexers\u001b[0m\u001b[0;34m\u001b[0m\u001b[0;34m\u001b[0m\u001b[0;34m\u001b[0m\u001b[0m\n",
      "\u001b[0;32m~/opt/anaconda3/lib/python3.8/site-packages/pandas/core/indexing.py\u001b[0m in \u001b[0;36m_get_listlike_indexer\u001b[0;34m(self, key, axis, raise_missing)\u001b[0m\n\u001b[1;32m   1550\u001b[0m             \u001b[0mkeyarr\u001b[0m\u001b[0;34m,\u001b[0m \u001b[0mindexer\u001b[0m\u001b[0;34m,\u001b[0m \u001b[0mnew_indexer\u001b[0m \u001b[0;34m=\u001b[0m \u001b[0max\u001b[0m\u001b[0;34m.\u001b[0m\u001b[0m_reindex_non_unique\u001b[0m\u001b[0;34m(\u001b[0m\u001b[0mkeyarr\u001b[0m\u001b[0;34m)\u001b[0m\u001b[0;34m\u001b[0m\u001b[0;34m\u001b[0m\u001b[0m\n\u001b[1;32m   1551\u001b[0m \u001b[0;34m\u001b[0m\u001b[0m\n\u001b[0;32m-> 1552\u001b[0;31m         self._validate_read_indexer(\n\u001b[0m\u001b[1;32m   1553\u001b[0m             \u001b[0mkeyarr\u001b[0m\u001b[0;34m,\u001b[0m \u001b[0mindexer\u001b[0m\u001b[0;34m,\u001b[0m \u001b[0mo\u001b[0m\u001b[0;34m.\u001b[0m\u001b[0m_get_axis_number\u001b[0m\u001b[0;34m(\u001b[0m\u001b[0maxis\u001b[0m\u001b[0;34m)\u001b[0m\u001b[0;34m,\u001b[0m \u001b[0mraise_missing\u001b[0m\u001b[0;34m=\u001b[0m\u001b[0mraise_missing\u001b[0m\u001b[0;34m\u001b[0m\u001b[0;34m\u001b[0m\u001b[0m\n\u001b[1;32m   1554\u001b[0m         )\n",
      "\u001b[0;32m~/opt/anaconda3/lib/python3.8/site-packages/pandas/core/indexing.py\u001b[0m in \u001b[0;36m_validate_read_indexer\u001b[0;34m(self, key, indexer, axis, raise_missing)\u001b[0m\n\u001b[1;32m   1644\u001b[0m             \u001b[0;32mif\u001b[0m \u001b[0;32mnot\u001b[0m \u001b[0;34m(\u001b[0m\u001b[0mself\u001b[0m\u001b[0;34m.\u001b[0m\u001b[0mname\u001b[0m \u001b[0;34m==\u001b[0m \u001b[0;34m\"loc\"\u001b[0m \u001b[0;32mand\u001b[0m \u001b[0;32mnot\u001b[0m \u001b[0mraise_missing\u001b[0m\u001b[0;34m)\u001b[0m\u001b[0;34m:\u001b[0m\u001b[0;34m\u001b[0m\u001b[0;34m\u001b[0m\u001b[0m\n\u001b[1;32m   1645\u001b[0m                 \u001b[0mnot_found\u001b[0m \u001b[0;34m=\u001b[0m \u001b[0mlist\u001b[0m\u001b[0;34m(\u001b[0m\u001b[0mset\u001b[0m\u001b[0;34m(\u001b[0m\u001b[0mkey\u001b[0m\u001b[0;34m)\u001b[0m \u001b[0;34m-\u001b[0m \u001b[0mset\u001b[0m\u001b[0;34m(\u001b[0m\u001b[0max\u001b[0m\u001b[0;34m)\u001b[0m\u001b[0;34m)\u001b[0m\u001b[0;34m\u001b[0m\u001b[0;34m\u001b[0m\u001b[0m\n\u001b[0;32m-> 1646\u001b[0;31m                 \u001b[0;32mraise\u001b[0m \u001b[0mKeyError\u001b[0m\u001b[0;34m(\u001b[0m\u001b[0;34mf\"{not_found} not in index\"\u001b[0m\u001b[0;34m)\u001b[0m\u001b[0;34m\u001b[0m\u001b[0;34m\u001b[0m\u001b[0m\n\u001b[0m\u001b[1;32m   1647\u001b[0m \u001b[0;34m\u001b[0m\u001b[0m\n\u001b[1;32m   1648\u001b[0m             \u001b[0;31m# we skip the warning on Categorical/Interval\u001b[0m\u001b[0;34m\u001b[0m\u001b[0;34m\u001b[0m\u001b[0;34m\u001b[0m\u001b[0m\n",
      "\u001b[0;31mKeyError\u001b[0m: \"['Player', 'Pos', 'FantasyPoints', 'Tm'] not in index\""
     ]
    }
   ],
   "source": [
    "full_data = ff.read_fantasy_data(2010, max_year)\n",
    "full_data = full_data[full_data['FantasyPoints'] != 0]\n",
    "\n",
    "full_data.to_csv('../Data/CleanData/full_data.csv', encoding='utf-8')"
   ]
  },
  {
   "cell_type": "code",
   "execution_count": null,
   "id": "dd31078a",
   "metadata": {},
   "outputs": [],
   "source": [
    "full_data"
   ]
  },
  {
   "cell_type": "code",
   "execution_count": null,
   "id": "4d865da9",
   "metadata": {},
   "outputs": [],
   "source": [
    "full_data.reset_index(inplace=True)"
   ]
  },
  {
   "cell_type": "code",
   "execution_count": null,
   "id": "f1d9d758",
   "metadata": {},
   "outputs": [],
   "source": [
    "max_year = full_data[\"Year\"].max()\n",
    "max_year"
   ]
  },
  {
   "cell_type": "code",
   "execution_count": null,
   "id": "8aa5dd18",
   "metadata": {},
   "outputs": [],
   "source": [
    "data_2020=full_data[full_data[\"Year\"]==max_year]"
   ]
  },
  {
   "cell_type": "code",
   "execution_count": null,
   "id": "f30a23a3",
   "metadata": {},
   "outputs": [],
   "source": [
    "data_201"
   ]
  },
  {
   "cell_type": "code",
   "execution_count": null,
   "id": "b0acf90b",
   "metadata": {},
   "outputs": [],
   "source": [
    "data_2019.reset_index(inplace=True,drop=True)\n",
    "player_grouped_data=data_2019.groupby(\"Player\").mean()\n",
    "average_score=player_grouped_data[player_grouped_data[\"FantasyPoints\"]>(15*16)].sort_values(\"FantasyPoints\")\n",
    "average_score.reset_index(inplace=True)"
   ]
  },
  {
   "cell_type": "code",
   "execution_count": null,
   "id": "58de9767",
   "metadata": {},
   "outputs": [],
   "source": [
    "fig = px.bar(average_score, x='Player', y='FantasyPoints')\n",
    "fig.update_layout(title_text='Player averaging over 15 points per game for the year 2019')\n",
    "fig.update_layout(yaxis_title=\"Total Score over the year 2019\")\n",
    "fig.show()"
   ]
  },
  {
   "cell_type": "code",
   "execution_count": null,
   "id": "db99c2ed",
   "metadata": {},
   "outputs": [],
   "source": [
    "team_divisions=[]\n",
    "for each_team in data_2019[\"Tm\"]:\n",
    "    if each_team==\"NYG\" or each_team==\"WAS\" or each_team==\"PHI\" or each_team==\"DAL\":\n",
    "        team_divisions.append(\"NFC East\")\n",
    "    elif each_team==\"LAR\" or each_team==\"SFO\" or each_team==\"SEA\" or each_team==\"ARI\":\n",
    "        team_divisions.append(\"NFC West\")\n",
    "    elif each_team==\"CHI\" or  each_team==\"GNB\" or each_team==\"MIN\" or each_team==\"DET\":\n",
    "        team_divisions.append(\"NFC North\")\n",
    "    elif each_team==\"NOR\" or each_team==\"ATL\" or each_team==\"TAM\" or each_team==\"CAR\":\n",
    "        team_divisions.append(\"NFC South\")\n",
    "    elif each_team==\"NWE\" or each_team==\"BUF\" or each_team==\"NYJ\" or each_team==\"MIA\":\n",
    "        team_divisions.append(\"AFC East\")\n",
    "    elif each_team==\"DEN\" or each_team==\"KAN\" or each_team==\"LAC\" or each_team==\"OAK\":\n",
    "        team_divisions.append(\"AFC West\")\n",
    "    elif each_team==\"PIT\" or each_team==\"CIN\" or each_team==\"CLE\" or each_team==\"BAL\":\n",
    "        team_divisions.append(\"AFC North\")\n",
    "    elif each_team==\"HOU\" or each_team==\"IND\" or each_team==\"TEN\" or each_team==\"JAX\":\n",
    "        team_divisions.append(\"AFC South\")\n",
    "    else:\n",
    "        team_divisions.append(np.nan)\n",
    "    \n",
    "    \n",
    "        "
   ]
  },
  {
   "cell_type": "code",
   "execution_count": null,
   "id": "e63f73c5",
   "metadata": {},
   "outputs": [],
   "source": [
    "data_2019_divisions=data_2019.copy()\n",
    "data_2019_divisions[\"Divisions\"]=team_divisions"
   ]
  },
  {
   "cell_type": "code",
   "execution_count": null,
   "id": "69c383de",
   "metadata": {},
   "outputs": [],
   "source": [
    "data_2019_divisions=data_2019_divisions.groupby(\"Divisions\").sum()\n",
    "data_2019_divisions.reset_index(inplace=True)\n",
    "data_2019_divisions=data_2019_divisions.sort_values(by=\"FantasyPoints\")"
   ]
  },
  {
   "cell_type": "code",
   "execution_count": null,
   "id": "af877303",
   "metadata": {},
   "outputs": [],
   "source": [
    "fig = px.bar(data_2019_divisions, x='Divisions', y='FantasyPoints',color='Divisions')\n",
    "fig.update_layout(title_text='Fantasy Points for each division')\n",
    "fig.update_layout(yaxis_title=\"Fantasy Points\")\n",
    "fig.show()"
   ]
  },
  {
   "cell_type": "code",
   "execution_count": null,
   "id": "e463848b",
   "metadata": {},
   "outputs": [],
   "source": []
  }
 ],
 "metadata": {
  "kernelspec": {
   "display_name": "Python 3",
   "language": "python",
   "name": "python3"
  },
  "language_info": {
   "codemirror_mode": {
    "name": "ipython",
    "version": 3
   },
   "file_extension": ".py",
   "mimetype": "text/x-python",
   "name": "python",
   "nbconvert_exporter": "python",
   "pygments_lexer": "ipython3",
   "version": "3.8.8"
  }
 },
 "nbformat": 4,
 "nbformat_minor": 5
}
