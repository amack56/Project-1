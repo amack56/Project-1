{
 "cells": [
  {
   "cell_type": "code",
   "execution_count": 69,
   "id": "37e4bb1b",
   "metadata": {},
   "outputs": [],
   "source": [
    "# imports\n",
    "\n",
    "import panel as pn\n",
    "pn.extension('plotly')\n",
    "import plotly.express as px\n",
    "import plotly.figure_factory as ff\n",
    "import pandas as pd\n",
    "import hvplot.pandas\n",
    "import matplotlib.pyplot as plt\n",
    "import numpy as np\n",
    "import os\n",
    "from pathlib import Path\n",
    "from dotenv import load_dotenv\n",
    "import warnings\n",
    "import plotly.graph_objs as go\n",
    "warnings.filterwarnings('ignore')\n",
    "import fantasy_football as ff2\n",
    "\n",
    "# Read the Mapbox API key\n",
    "load_dotenv()\n",
    "map_box_api = os.getenv(\"mapbox\")\n",
    "\n",
    "# Set the Mapbox API\n",
    "px.set_mapbox_access_token(\"pk.eyJ1IjoiYW1hY2s1NiIsImEiOiJja3RldzZmcnAwMmd5Mm5wZngyejR2cm5iIn0.JohlA6vRxmH-iugH7u_xXA\")\n",
    "\n",
    "# Import all the CSVs from the Data of the last 10 years using custom fantasy_football.py library\n",
    "\n",
    "full_data = ff2.read_fantasy_data(2010, 2020)\n",
    "\n",
    "# Read in coordinate data\n",
    "\n",
    "coor_path = Path('../Data/RawData/coordinates.csv')\n",
    "coordinates = pd.read_csv(coor_path)\n",
    "\n",
    "# Manipulate coordinate data\n",
    "\n",
    "coordinates.drop(labels=['zip', 'pic', 'Unnamed: 6', 'Conference'], axis=1, inplace=True)\n",
    "coordinates = coordinates.set_index('Team')\n",
    "\n",
    "# Merge all the data and clean it by eliminating players that don't have any points, or a single team\n",
    "full_data = full_data[full_data['FantasyPoints'] != 0]\n",
    "full_data = full_data[full_data['Tm'] != '2TM']\n",
    "full_data = full_data[full_data['Tm'] != '3TM']\n",
    "full_data = full_data[full_data['Tm'] != '4TM']\n",
    "full_data.to_csv('../Data/CleanData/full_data.csv', encoding='utf-8')\n"
   ]
  },
  {
   "cell_type": "code",
   "execution_count": 70,
   "id": "7e99062b",
   "metadata": {},
   "outputs": [],
   "source": [
    "def lowest_players():\n",
    "    player_mean = full_data.groupby(['Player']).mean().sort_values(by='FantasyPoints', ascending=True, na_position='first').nsmallest(15,\"FantasyPoints\")\n",
    "    fig_lowest=go.Figure()\n",
    "    fig_lowest.add_traces(go.Bar(x=player_mean.index, y = player_mean.FantasyPoints,marker_color=\"#d10a1b\"))\n",
    "    fig_lowest.update_layout(title_text='15 Players with Lowest FantasyPoints')\n",
    "    return fig_lowest"
   ]
  },
  {
   "cell_type": "code",
   "execution_count": 71,
   "id": "718bf317",
   "metadata": {},
   "outputs": [],
   "source": [
    "def points_team():\n",
    "    fig_team = plt.figure()\n",
    "    team_mean = full_data.groupby(['Tm']).mean().sort_values(by='FantasyPoints', ascending=False, na_position='first')\n",
    "    #fig = team_mean.hvplot.bar(width=800, rot=90).opts(color=\"Tm\")\n",
    "    fig_team = px.bar(x=team_mean.index,y=team_mean.FantasyPoints,color=team_mean.index,\n",
    "                 color_discrete_sequence=[\"#07518a\"])\n",
    "    fig_team.update_layout(title_text='Fantasy Points by Team')\n",
    "    fig_team.update_layout(yaxis_title=\"Fantasy Points\")\n",
    "    fig_team.update_layout(xaxis_title=\"Team\")\n",
    "    fig_team.update_traces(hovertemplate='Team: %{x} <br>:FantasyPoints %{y}')\n",
    "    fig_team.update_layout(showlegend=False) \n",
    "    return fig_team"
   ]
  },
  {
   "cell_type": "code",
   "execution_count": 72,
   "id": "e2735f21",
   "metadata": {},
   "outputs": [],
   "source": [
    "team_divisions=[]\n",
    "for each_team in full_data[\"Tm\"]:\n",
    "    if each_team==\"NYG\" or each_team==\"WAS\" or each_team==\"PHI\" or each_team==\"DAL\":\n",
    "        team_divisions.append(\"NFC East\")\n",
    "    elif each_team==\"LAR\" or each_team==\"SFO\" or each_team==\"SEA\" or each_team==\"ARI\":\n",
    "        team_divisions.append(\"NFC West\")\n",
    "    elif each_team==\"CHI\" or  each_team==\"GNB\" or each_team==\"MIN\" or each_team==\"DET\":\n",
    "        team_divisions.append(\"NFC North\")\n",
    "    elif each_team==\"NOR\" or each_team==\"ATL\" or each_team==\"TAM\" or each_team==\"CAR\":\n",
    "        team_divisions.append(\"NFC South\")\n",
    "    elif each_team==\"NWE\" or each_team==\"BUF\" or each_team==\"NYJ\" or each_team==\"MIA\":\n",
    "        team_divisions.append(\"AFC East\")\n",
    "    elif each_team==\"DEN\" or each_team==\"KAN\" or each_team==\"LAC\" or each_team==\"OAK\":\n",
    "        team_divisions.append(\"AFC West\")\n",
    "    elif each_team==\"PIT\" or each_team==\"CIN\" or each_team==\"CLE\" or each_team==\"BAL\":\n",
    "        team_divisions.append(\"AFC North\")\n",
    "    elif each_team==\"HOU\" or each_team==\"IND\" or each_team==\"TEN\" or each_team==\"JAX\":\n",
    "        team_divisions.append(\"AFC South\")\n",
    "    else:\n",
    "        team_divisions.append(np.nan)\n",
    "    "
   ]
  },
  {
   "cell_type": "code",
   "execution_count": 73,
   "id": "9f97732a",
   "metadata": {},
   "outputs": [],
   "source": [
    "full_data_divisions=full_data.copy()\n",
    "full_data_divisions[\"Divisions\"]=team_divisions"
   ]
  },
  {
   "cell_type": "code",
   "execution_count": 74,
   "id": "8efa4fe3",
   "metadata": {},
   "outputs": [],
   "source": [
    "full_data_divisions=full_data_divisions.groupby(\"Divisions\").sum()\n",
    "full_data_divisions.reset_index(inplace=True)\n",
    "full_data_divisions=full_data_divisions.sort_values(by=\"FantasyPoints\")"
   ]
  },
  {
   "cell_type": "code",
   "execution_count": 75,
   "id": "a60a7617",
   "metadata": {},
   "outputs": [],
   "source": [
    "def points_division():\n",
    "    fig_division = plt.figure()\n",
    "    fig_division = px.bar(full_data_divisions, x='Divisions', y='FantasyPoints',color='Divisions')\n",
    "    fig_division.update_layout(title_text='Fantasy Points by division')\n",
    "    fig_division.update_layout(yaxis_title=\"Fantasy Points\")\n",
    "    return fig_division"
   ]
  },
  {
   "cell_type": "code",
   "execution_count": 76,
   "id": "bc45ea24",
   "metadata": {
    "scrolled": true
   },
   "outputs": [],
   "source": [
    "def points_position():\n",
    "    fig_position = plt.figure()\n",
    "    position_mean = full_data.groupby(['Pos']).mean().sort_values(by='FantasyPoints', ascending=False, na_position='first')\n",
    "    position_mean=position_mean.iloc[:-1,]\n",
    "    fig_position = px.bar(x=position_mean.index,y=position_mean.FantasyPoints,color=position_mean.index,\n",
    "                 color_discrete_sequence=px.colors.qualitative.G10)\n",
    "    fig_position.update_layout(title_text='Fantasy Points by position')\n",
    "    fig_position.update_layout(yaxis_title=\"Fantasy Points\")\n",
    "    fig_position.update_layout(xaxis_title=\"Position\")\n",
    "    fig_position.update_traces(hovertemplate='Position: %{x} <br>:FantasyPoints %{y}')\n",
    "     \n",
    "    return fig_position"
   ]
  },
  {
   "cell_type": "code",
   "execution_count": 77,
   "id": "a99f2076",
   "metadata": {},
   "outputs": [],
   "source": [
    "def points_top_players():\n",
    "    best_team = full_data.groupby(['Player']).mean().sort_values(by='FantasyPoints', ascending=False, na_position='first').nlargest(15, 'FantasyPoints')\n",
    "    #fig = best_team.hvplot.bar(width=800, rot=90)\n",
    "    fig=go.Figure()\n",
    "    fig.add_traces(go.Bar(x=best_team.index, y = best_team.FantasyPoints,marker_color=\"#77913a\"))\n",
    "    fig.update_layout(title_text='Top 15 Players')\n",
    "    return fig\n",
    "    return fig"
   ]
  },
  {
   "cell_type": "code",
   "execution_count": 78,
   "id": "7805eb81",
   "metadata": {},
   "outputs": [],
   "source": [
    "def team_mean_map():\n",
    "    fig = plt.figure()\n",
    "    team_mean = full_data.groupby(['Tm']).mean().sort_values(by='FantasyPoints', ascending=False, na_position='first')\n",
    "    coords_and_mean = pd.concat([team_mean, coordinates], axis=1)\n",
    "    coords_and_mean = coords_and_mean.reset_index()\n",
    "    coords_and_mean = coords_and_mean.rename({'index': 'Team'}, axis=1)\n",
    "\n",
    "    fig = px.scatter_mapbox(coords_and_mean, lat='latitude', lon='longitude', color=\"Team\", size=\"FantasyPoints\", zoom=2)\n",
    "    return fig"
   ]
  },
  {
   "cell_type": "code",
   "execution_count": 79,
   "id": "62285b93",
   "metadata": {},
   "outputs": [],
   "source": [
    "def rushing_yards():\n",
    "    full_data_yds = ff2.read_rushing_yds(2010, 2020)\n",
    "    full_data_yds = full_data_yds.reset_index()\n",
    "    fig = plt.figure()\n",
    "    full_data_yds = full_data_yds[full_data_yds['FantasyPoints'] != 0]\n",
    "    full_data_yds = full_data_yds[full_data_yds['Tm'] != '2TM']\n",
    "    full_data_yds = full_data_yds[full_data_yds['Tm'] != '3TM']\n",
    "    full_data_yds = full_data_yds[full_data_yds['Tm'] != '4TM']\n",
    "    fig = plt.figure()\n",
    "    corr = np.corrcoef(full_data_yds[\"RushingYds\"], full_data_yds[\"FantasyPoints\"])\n",
    "    fig = px.scatter(full_data_yds, x=\"RushingYds\", y=\"FantasyPoints\", trendline=\"ols\", color='Year')\n",
    "    return fig"
   ]
  },
  {
   "cell_type": "code",
   "execution_count": 80,
   "id": "9a431249",
   "metadata": {},
   "outputs": [],
   "source": [
    "#scatter_box = full_data_yds.hvplot.scatter(x='RushingYds', y='FantasyPoints', c='Year', groupby=\"Year\")"
   ]
  },
  {
   "cell_type": "code",
   "execution_count": 81,
   "id": "d0ed8d98",
   "metadata": {},
   "outputs": [],
   "source": [
    "# Create a Title for the Dashboard\n",
    "\n",
    "title = pn.pane.Markdown(\"\"\"\n",
    "## Fantasy Footbal Project\n",
    "\"\"\")"
   ]
  },
  {
   "cell_type": "code",
   "execution_count": 82,
   "id": "4173cbcb",
   "metadata": {},
   "outputs": [],
   "source": [
    "# Top Players by Position Graphs\n",
    "def top_quarterbacks():\n",
    "    fig_team = plt.figure()\n",
    "    top_20_qbs = full_data[full_data[\"Pos\"]==\"QB\"]\n",
    "    top_20_qbs=top_20_qbs.groupby(['Player']).mean().sort_values(by='FantasyPoints', ascending=False, na_position='first').nlargest(20,'FantasyPoints')\n",
    "    fig_team = px.bar(x=top_20_qbs.index,y=top_20_qbs.FantasyPoints,color=top_20_qbs.index,\n",
    "                 color_discrete_sequence=[\"#de4a1d\"])\n",
    "    fig_team.update_layout(title_text='Top 20 Quarterbacks ')\n",
    "    fig_team.update_layout(yaxis_title=\"Fantasy Points\")\n",
    "    fig_team.update_layout(xaxis_title=\"Player\")\n",
    "    fig_team.update_traces(hovertemplate='Player: %{x} <br>FantasyPoints: %{y}')\n",
    "    fig_team.update_layout(showlegend=False) \n",
    "    return fig_team\n",
    "    "
   ]
  },
  {
   "cell_type": "code",
   "execution_count": 83,
   "id": "a3eabd83",
   "metadata": {},
   "outputs": [],
   "source": [
    "def top_runningbacks():\n",
    "    fig_team = plt.figure()\n",
    "    top_20_rbs = full_data[full_data[\"Pos\"]==\"RB\"]\n",
    "    top_20_rbs=top_20_rbs.groupby(['Player']).mean().sort_values(by='FantasyPoints', ascending=False, na_position='first').nlargest(20,'FantasyPoints')\n",
    "    fig_team = px.bar(x=top_20_rbs.index,y=top_20_rbs.FantasyPoints,color=top_20_rbs.index,\n",
    "                 color_discrete_sequence=[\"#c53ac9\"])\n",
    "    fig_team.update_layout(title_text='Top 20 Running Backs ')\n",
    "    fig_team.update_layout(yaxis_title=\"Fantasy Points\")\n",
    "    fig_team.update_layout(xaxis_title=\"Player\")\n",
    "    fig_team.update_traces(hovertemplate='Player: %{x} <br>FantasyPoints: %{y}')\n",
    "    fig_team.update_layout(showlegend=False) \n",
    "    return fig_team\n",
    "    "
   ]
  },
  {
   "cell_type": "code",
   "execution_count": 84,
   "id": "b02a7580",
   "metadata": {},
   "outputs": [],
   "source": [
    "def top_wide_receivers():\n",
    "    fig_team = plt.figure()\n",
    "    top_20_wrs = full_data[full_data[\"Pos\"]==\"WR\"]\n",
    "    top_20_wrs=top_20_wrs.groupby(['Player']).mean().sort_values(by='FantasyPoints', ascending=False, na_position='first').nlargest(20,'FantasyPoints')\n",
    "    fig_team = px.bar(x=top_20_wrs.index,y=top_20_wrs.FantasyPoints,color=top_20_wrs.index,\n",
    "                 color_discrete_sequence=[\"#66d0d4\"])\n",
    "    fig_team.update_layout(title_text='Top 20 Wide Receivers ')\n",
    "    fig_team.update_layout(yaxis_title=\"Fantasy Points\")\n",
    "    fig_team.update_layout(xaxis_title=\"Player\")\n",
    "    fig_team.update_traces(hovertemplate='Player: %{x} <br>FantasyPoints: %{y}')\n",
    "    fig_team.update_layout(showlegend=False) \n",
    "    return fig_team\n",
    "    "
   ]
  },
  {
   "cell_type": "code",
   "execution_count": 85,
   "id": "9523f57e",
   "metadata": {},
   "outputs": [],
   "source": [
    "def top_tight_ends():\n",
    "    fig_team = plt.figure()\n",
    "    top_20_tes = full_data[full_data[\"Pos\"]==\"TE\"]\n",
    "    top_20_tes=top_20_tes.groupby(['Player']).mean().sort_values(by='FantasyPoints', ascending=False, na_position='first').nlargest(20,'FantasyPoints')\n",
    "    fig_team = px.bar(x=top_20_tes.index,y=top_20_tes.FantasyPoints,color=top_20_tes.index,\n",
    "                 color_discrete_sequence=[\"#169139\"])\n",
    "    fig_team.update_layout(title_text='Top 20 Tight Ends')\n",
    "    fig_team.update_layout(yaxis_title=\"Fantasy Points\")\n",
    "    fig_team.update_layout(xaxis_title=\"Player\")\n",
    "    fig_team.update_traces(hovertemplate='Player: %{x} <br>FantasyPoints: %{y}')\n",
    "    fig_team.update_layout(showlegend=False) \n",
    "    return fig_team\n",
    "    "
   ]
  },
  {
   "cell_type": "code",
   "execution_count": 86,
   "id": "2fd3afa9",
   "metadata": {},
   "outputs": [],
   "source": [
    "# Distribution Charts\n",
    "def distribution_quarterbacks():\n",
    "    fig = plt.figure\n",
    "    qbs = full_data[full_data['Pos'] == 'QB'].groupby('Player').mean().nlargest(30, 'FantasyPoints')\n",
    "    qbs_mean = int(np.mean(qbs))\n",
    "    qbs_stdev = int(np.std(qbs))\n",
    "    group_labels=[\"Quaterbacks Distribution\"]\n",
    "    #print(f\"The mean for the top 30 QBs is: {qbs_mean} and the standard deviation is: {qbs_stdev}\")\n",
    "    fig = ff.create_distplot([qbs[\"FantasyPoints\"]],group_labels,bin_size=.2, show_rug=False,show_hist=False)\n",
    "    fig.update_layout(title_text='Top 30 Quaterbacks')\n",
    "    fig.update_layout(showlegend=False) \n",
    "    \n",
    "    return fig"
   ]
  },
  {
   "cell_type": "code",
   "execution_count": 87,
   "id": "1c9351c6",
   "metadata": {},
   "outputs": [],
   "source": [
    "def distribution_running_backs():\n",
    "    fig = plt.figure\n",
    "    rbs = full_data[full_data['Pos'] == 'RB'].groupby('Player').mean().nlargest(30, 'FantasyPoints')\n",
    "    rbs_mean = int(np.mean(rbs))\n",
    "    rbs_stdev = int(np.std(rbs))\n",
    "    group_labels=[\"Running Backs Distribution\"]\n",
    "    #print(f\"The mean for the top 30 RBs is: {rbs_mean} and the standard deviation is: {rbs_stdev}\")\n",
    "    fig = ff.create_distplot([rbs[\"FantasyPoints\"]],group_labels,bin_size=.2, show_rug=False,show_hist=False)\n",
    "    fig.update_layout(title_text='Top 30 Running Backs')\n",
    "    fig.update_layout(showlegend=False) \n",
    "    \n",
    "    return fig"
   ]
  },
  {
   "cell_type": "code",
   "execution_count": 88,
   "id": "50089a0e",
   "metadata": {},
   "outputs": [],
   "source": [
    "def distribution_wide_receivers():\n",
    "    fig = plt.figure\n",
    "    wrs = full_data[full_data['Pos'] == 'WR'].groupby('Player').mean().nlargest(30, 'FantasyPoints')\n",
    "    wrs_mean = int(np.mean(wrs))\n",
    "    wrs_stdev = int(np.std(wrs))\n",
    "    #print(f\"The mean for the top 30 WRs is: {wrs_mean} and the standard deviation is: {wrs_stdev}\")\n",
    "    group_labels=[\"Wide Receivers Distribution\"]\n",
    "    fig = ff.create_distplot([wrs[\"FantasyPoints\"]],group_labels,bin_size=.2, show_rug=False,show_hist=False)\n",
    "    fig.update_layout(title_text='Top 30 Wide Receivers')\n",
    "    fig.update_layout(showlegend=False) \n",
    "    \n",
    "    return fig"
   ]
  },
  {
   "cell_type": "code",
   "execution_count": 89,
   "id": "7978f49e",
   "metadata": {},
   "outputs": [],
   "source": [
    "def distribution_tight_ends():\n",
    "    fig = plt.figure\n",
    "    tes = full_data[full_data['Pos'] == 'TE'].groupby('Player').mean().nlargest(30, 'FantasyPoints')\n",
    "    tes_mean = int(np.mean(tes))\n",
    "    tes_stdev = int(np.std(tes))\n",
    "    #print(f\"The mean for the top 30 TEs is: {tes_mean} and the standard deviation is: {tes_stdev}\")\n",
    "    group_labels=[\"Tight Ends Distribution\"]\n",
    "    fig = ff.create_distplot([tes[\"FantasyPoints\"]],group_labels,bin_size=.2, show_rug=False,show_hist=False)\n",
    "    fig.update_layout(title_text='Top 30 Tight Ends')\n",
    "    fig.update_layout(showlegend=False) \n",
    "    return fig"
   ]
  },
  {
   "cell_type": "code",
   "execution_count": 90,
   "id": "e13f153b",
   "metadata": {},
   "outputs": [
    {
     "data": {
      "text/plain": [
       "<Figure size 432x288 with 0 Axes>"
      ]
     },
     "metadata": {},
     "output_type": "display_data"
    },
    {
     "data": {
      "text/plain": [
       "<Figure size 432x288 with 0 Axes>"
      ]
     },
     "metadata": {},
     "output_type": "display_data"
    },
    {
     "data": {
      "text/plain": [
       "<Figure size 432x288 with 0 Axes>"
      ]
     },
     "metadata": {},
     "output_type": "display_data"
    },
    {
     "data": {
      "text/plain": [
       "<Figure size 432x288 with 0 Axes>"
      ]
     },
     "metadata": {},
     "output_type": "display_data"
    },
    {
     "data": {
      "text/plain": [
       "<Figure size 432x288 with 0 Axes>"
      ]
     },
     "metadata": {},
     "output_type": "display_data"
    },
    {
     "data": {
      "text/plain": [
       "<Figure size 432x288 with 0 Axes>"
      ]
     },
     "metadata": {},
     "output_type": "display_data"
    },
    {
     "data": {
      "text/plain": [
       "<Figure size 432x288 with 0 Axes>"
      ]
     },
     "metadata": {},
     "output_type": "display_data"
    },
    {
     "data": {
      "text/plain": [
       "<Figure size 432x288 with 0 Axes>"
      ]
     },
     "metadata": {},
     "output_type": "display_data"
    },
    {
     "data": {
      "text/plain": [
       "<Figure size 432x288 with 0 Axes>"
      ]
     },
     "metadata": {},
     "output_type": "display_data"
    },
    {
     "data": {
      "text/plain": [
       "<Figure size 432x288 with 0 Axes>"
      ]
     },
     "metadata": {},
     "output_type": "display_data"
    }
   ],
   "source": [
    "# Create a tab layout for the dashboard\n",
    "\n",
    "tabs = pn.Tabs(\n",
    "    (\"Players\", pn.Column(points_top_players)), \n",
    "    (\"Positions\", pn.Column(points_position)),\n",
    "    (\"Teams\", pn.Column(points_team)),\n",
    "    (\"Division\",pn.Column(points_division)),\n",
    "    (\"Top Players Stats\", pn.Column(top_quarterbacks, top_runningbacks, top_wide_receivers, top_tight_ends)),\n",
    "    (\"Top Player Distribution\", pn.Column(distribution_quarterbacks, distribution_running_backs, distribution_wide_receivers, distribution_tight_ends)),\n",
    "    (\"Rushing Yards Scatter\", pn.Column(rushing_yards)),\n",
    "    (\"Team Mean Map\", pn.Column(\"Mean Points by Team\", team_mean_map))\n",
    ")"
   ]
  },
  {
   "cell_type": "code",
   "execution_count": 91,
   "id": "b486c443",
   "metadata": {},
   "outputs": [],
   "source": [
    "# Create the dashboard\n",
    "\n",
    "dashboard = pn.Column(title, tabs)"
   ]
  },
  {
   "cell_type": "code",
   "execution_count": 92,
   "id": "d111a298",
   "metadata": {},
   "outputs": [
    {
     "name": "stdout",
     "output_type": "stream",
     "text": [
      "Launching server at http://localhost:62044\n"
     ]
    },
    {
     "data": {
      "text/plain": [
       "<bokeh.server.server.Server at 0x7f84516eba50>"
      ]
     },
     "execution_count": 92,
     "metadata": {},
     "output_type": "execute_result"
    }
   ],
   "source": [
    "# Serve the# dashboard\n",
    "\n",
    "dashboard.show()"
   ]
  },
  {
   "cell_type": "code",
   "execution_count": null,
   "id": "2491d229",
   "metadata": {},
   "outputs": [],
   "source": []
  }
 ],
 "metadata": {
  "kernelspec": {
   "display_name": "Python [conda env:pyvizenv2] *",
   "language": "python",
   "name": "conda-env-pyvizenv2-py"
  },
  "language_info": {
   "codemirror_mode": {
    "name": "ipython",
    "version": 3
   },
   "file_extension": ".py",
   "mimetype": "text/x-python",
   "name": "python",
   "nbconvert_exporter": "python",
   "pygments_lexer": "ipython3",
   "version": "3.7.10"
  }
 },
 "nbformat": 4,
 "nbformat_minor": 5
}
