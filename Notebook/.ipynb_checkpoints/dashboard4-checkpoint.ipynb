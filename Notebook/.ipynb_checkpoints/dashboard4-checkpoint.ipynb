{
 "cells": [
  {
   "cell_type": "code",
   "execution_count": 28,
   "id": "0777037c",
   "metadata": {},
   "outputs": [
    {
     "data": {},
     "metadata": {},
     "output_type": "display_data"
    },
    {
     "data": {
      "application/vnd.holoviews_exec.v0+json": "",
      "text/html": [
       "<div id='5516'>\n",
       "\n",
       "\n",
       "\n",
       "\n",
       "\n",
       "  <div class=\"bk-root\" id=\"beaaddf9-a455-451d-a473-ac743236be19\" data-root-id=\"5516\"></div>\n",
       "</div>\n",
       "<script type=\"application/javascript\">(function(root) {\n",
       "  function embed_document(root) {\n",
       "  var docs_json = {\"9f67a338-521d-4a10-803c-7b8fd0f325dc\":{\"roots\":{\"references\":[{\"attributes\":{\"margin\":[20,20,20,20],\"min_width\":250,\"options\":[\"TAM\",\"LAC\",\"ARI\",\"BUF\",\"NOR\",\"SEA\",\"GNB\",\"BAL\",\"NWE\",\"HOU\",\"CAR\",\"DET\",\"LAR\",\"DEN\",\"IND\",\"TEN\",\"DAL\",\"LVR\",\"ATL\",\"MIN\",\"CHI\",\"KAN\",\"PIT\",\"PHI\",\"SDG\",\"CLE\",\"JAX\",\"NYJ\",\"NYG\",\"MIA\",\"OAK\",\"CIN\",\"STL\",\"SFO\",\"WAS\"],\"title\":\"Tm\",\"value\":\"TAM\",\"width\":250},\"id\":\"5579\",\"type\":\"Select\"},{\"attributes\":{},\"id\":\"5538\",\"type\":\"PanTool\"},{\"attributes\":{},\"id\":\"5539\",\"type\":\"WheelZoomTool\"},{\"attributes\":{\"active_drag\":\"auto\",\"active_inspect\":\"auto\",\"active_multi\":null,\"active_scroll\":\"auto\",\"active_tap\":\"auto\",\"tools\":[{\"id\":\"5520\"},{\"id\":\"5537\"},{\"id\":\"5538\"},{\"id\":\"5539\"},{\"id\":\"5540\"},{\"id\":\"5541\"}]},\"id\":\"5543\",\"type\":\"Toolbar\"},{\"attributes\":{\"margin\":[5,5,5,5],\"name\":\"VSpacer02727\",\"sizing_mode\":\"stretch_height\"},\"id\":\"5577\",\"type\":\"Spacer\"},{\"attributes\":{\"children\":[{\"id\":\"5577\"},{\"id\":\"5578\"},{\"id\":\"5580\"}],\"margin\":[0,0,0,0],\"name\":\"Column02729\"},\"id\":\"5576\",\"type\":\"Column\"},{\"attributes\":{\"overlay\":{\"id\":\"5542\"}},\"id\":\"5540\",\"type\":\"BoxZoomTool\"},{\"attributes\":{\"margin\":[5,5,5,5],\"name\":\"HSpacer02730\",\"sizing_mode\":\"stretch_width\"},\"id\":\"5517\",\"type\":\"Spacer\"},{\"attributes\":{\"margin\":[5,5,5,5],\"name\":\"VSpacer02728\",\"sizing_mode\":\"stretch_height\"},\"id\":\"5580\",\"type\":\"Spacer\"},{\"attributes\":{},\"id\":\"5541\",\"type\":\"ResetTool\"},{\"attributes\":{\"fill_alpha\":{\"value\":0.1},\"fill_color\":{\"field\":\"Tm\",\"transform\":{\"id\":\"5550\"}},\"line_alpha\":{\"value\":0.1},\"top\":{\"field\":\"FantasyPoints\"},\"width\":{\"value\":0.8},\"x\":{\"field\":\"xoffsets\"}},\"id\":\"5555\",\"type\":\"VBar\"},{\"attributes\":{\"fill_color\":{\"field\":\"Tm\",\"transform\":{\"id\":\"5550\"}},\"top\":{\"field\":\"FantasyPoints\"},\"width\":{\"value\":0.8},\"x\":{\"field\":\"xoffsets\"}},\"id\":\"5554\",\"type\":\"VBar\"},{\"attributes\":{\"children\":[{\"id\":\"5517\"},{\"id\":\"5521\"},{\"id\":\"5575\"},{\"id\":\"5576\"}],\"margin\":[0,0,0,0],\"name\":\"Row02721\"},\"id\":\"5516\",\"type\":\"Row\"},{\"attributes\":{\"fill_alpha\":{\"value\":0.2},\"fill_color\":{\"field\":\"Tm\",\"transform\":{\"id\":\"5550\"}},\"line_alpha\":{\"value\":0.2},\"top\":{\"field\":\"FantasyPoints\"},\"width\":{\"value\":0.8},\"x\":{\"field\":\"xoffsets\"}},\"id\":\"5556\",\"type\":\"VBar\"},{\"attributes\":{\"below\":[{\"id\":\"5530\"}],\"center\":[{\"id\":\"5532\"},{\"id\":\"5536\"}],\"left\":[{\"id\":\"5533\"}],\"margin\":null,\"min_border_bottom\":10,\"min_border_left\":10,\"min_border_right\":10,\"min_border_top\":10,\"plot_height\":300,\"plot_width\":800,\"renderers\":[{\"id\":\"5557\"}],\"sizing_mode\":\"fixed\",\"title\":{\"id\":\"5522\"},\"toolbar\":{\"id\":\"5543\"},\"x_range\":{\"id\":\"5518\"},\"x_scale\":{\"id\":\"5526\"},\"y_range\":{\"id\":\"5519\"},\"y_scale\":{\"id\":\"5528\"}},\"id\":\"5521\",\"subtype\":\"Figure\",\"type\":\"Plot\"},{\"attributes\":{},\"id\":\"5552\",\"type\":\"Selection\"},{\"attributes\":{\"axis_label\":\"Player, Tm\",\"bounds\":\"auto\",\"formatter\":{\"id\":\"5560\"},\"major_label_orientation\":1.5707963267948966,\"ticker\":{\"id\":\"5531\"}},\"id\":\"5530\",\"type\":\"CategoricalAxis\"},{\"attributes\":{\"margin\":[5,5,5,5],\"name\":\"HSpacer02731\",\"sizing_mode\":\"stretch_width\"},\"id\":\"5575\",\"type\":\"Spacer\"},{\"attributes\":{\"data_source\":{\"id\":\"5551\"},\"glyph\":{\"id\":\"5554\"},\"hover_glyph\":null,\"muted_glyph\":{\"id\":\"5556\"},\"nonselection_glyph\":{\"id\":\"5555\"},\"selection_glyph\":null,\"view\":{\"id\":\"5558\"}},\"id\":\"5557\",\"type\":\"GlyphRenderer\"},{\"attributes\":{},\"id\":\"5560\",\"type\":\"CategoricalTickFormatter\"},{\"attributes\":{\"callback\":null,\"renderers\":[{\"id\":\"5557\"}],\"tags\":[\"hv_created\"],\"tooltips\":[[\"Player\",\"@{Player}\"],[\"Tm\",\"@{Tm}\"],[\"FantasyPoints\",\"@{FantasyPoints}\"]]},\"id\":\"5520\",\"type\":\"HoverTool\"},{\"attributes\":{\"end\":371.89,\"reset_end\":371.89,\"reset_start\":-35.99,\"start\":-35.99,\"tags\":[[[\"FantasyPoints\",\"FantasyPoints\",null]]]},\"id\":\"5519\",\"type\":\"Range1d\"},{\"attributes\":{\"source\":{\"id\":\"5551\"}},\"id\":\"5558\",\"type\":\"CDSView\"},{\"attributes\":{},\"id\":\"5531\",\"type\":\"CategoricalTicker\"},{\"attributes\":{\"bottom_units\":\"screen\",\"fill_alpha\":0.5,\"fill_color\":\"lightgrey\",\"left_units\":\"screen\",\"level\":\"overlay\",\"line_alpha\":1.0,\"line_color\":\"black\",\"line_dash\":[4,4],\"line_width\":2,\"render_mode\":\"css\",\"right_units\":\"screen\",\"top_units\":\"screen\"},\"id\":\"5542\",\"type\":\"BoxAnnotation\"},{\"attributes\":{\"client_comm_id\":\"36e084ceab124640968a5551e8ae9160\",\"comm_id\":\"3056671fa1d6464eb343c18cde09f91c\",\"plot_id\":\"5516\"},\"id\":\"5605\",\"type\":\"panel.models.comm_manager.CommManager\"},{\"attributes\":{},\"id\":\"5526\",\"type\":\"CategoricalScale\"},{\"attributes\":{\"text\":\"Best Players By Team\",\"text_color\":{\"value\":\"black\"},\"text_font_size\":{\"value\":\"12pt\"}},\"id\":\"5522\",\"type\":\"Title\"},{\"attributes\":{\"factors\":[\"TAM\"],\"palette\":[\"#1f77b3\"]},\"id\":\"5550\",\"type\":\"CategoricalColorMapper\"},{\"attributes\":{\"factors\":[[\"Tom Brady\",\"TAM\"],[\"Mike Evans\",\"TAM\"],[\"Jameis Winston\",\"TAM\"],[\"Josh Freeman\",\"TAM\"],[\"Ronald Jones II\",\"TAM\"],[\"Chris Godwin\",\"TAM\"],[\"Kellen Winslow\",\"TAM\"],[\"Vincent Jackson\",\"TAM\"],[\"Mike Williams\",\"TAM\"],[\"Rob Gronkowski\",\"TAM\"],[\"DeSean Jackson\",\"TAM\"],[\"Doug Martin\",\"TAM\"],[\"Tim Wright\",\"TAM\"],[\"Cadillac Williams\",\"TAM\"],[\"Breshad Perriman\",\"TAM\"],[\"Leonard Fournette\",\"TAM\"],[\"Josh McCown\",\"TAM\"],[\"Adam Humphries\",\"TAM\"],[\"Ryan Fitzpatrick\",\"TAM\"],[\"Antonio Brown\",\"TAM\"],[\"Dallas Clark\",\"TAM\"],[\"LeGarrette Blount\",\"TAM\"],[\"Peyton Barber\",\"TAM\"],[\"Charles Sims\",\"TAM\"],[\"Ronald Jones\",\"TAM\"],[\"Cameron Brate\",\"TAM\"],[\"Tiquan Underwood\",\"TAM\"],[\"O.J. Howard\",\"TAM\"],[\"Mike Glennon\",\"TAM\"],[\"Dare Ogunbowale\",\"TAM\"],[\"Jacquizz Rodgers\",\"TAM\"],[\"Scott Miller\",\"TAM\"],[\"Austin Seferian-Jenkins\",\"TAM\"],[\"Dezmon Briscoe\",\"TAM\"],[\"Brian Leonard\",\"TAM\"],[\"Arrelious Benn\",\"TAM\"],[\"Earnest Graham\",\"TAM\"],[\"Bobby Rainey\",\"TAM\"],[\"Louis Murphy\",\"TAM\"],[\"Kregg Lumpkin\",\"TAM\"],[\"Tyler Johnson\",\"TAM\"],[\"Preston Parker\",\"TAM\"],[\"John Gilmore\",\"TAM\"],[\"Russell Shepard\",\"TAM\"],[\"Donteea Dye\",\"TAM\"],[\"Danny Ware\",\"TAM\"],[\"LeSean McCoy\",\"TAM\"],[\"Brandon Myers\",\"TAM\"],[\"Micheal Spurlock\",\"TAM\"],[\"Cecil Shorts\",\"TAM\"],[\"Ke'Shawn Vaughn\",\"TAM\"],[\"Mossis Madu\",\"TAM\"],[\"Freddie Martino\",\"TAM\"],[\"Maurice Stovall\",\"TAM\"],[\"Justin Watson\",\"TAM\"],[\"Mike James\",\"TAM\"],[\"Luke Stocker\",\"TAM\"],[\"Sammie Stroughter\",\"TAM\"],[\"Robert Herron\",\"TAM\"],[\"Antone Smith\",\"TAM\"],[\"Blaine Gabbert\",\"TAM\"],[\"Chris Owusu\",\"TAM\"],[\"Erik Lorig\",\"TAM\"],[\"Jaydon Mickens\",\"TAM\"],[\"Tom Crabtree\",\"TAM\"],[\"Josh Johnson\",\"TAM\"],[\"Alan Cross\",\"TAM\"],[\"Ryan Purvis\",\"TAM\"],[\"Nate Byham\",\"TAM\"],[\"Eric Page\",\"TAM\"],[\"Zack Pianalto\",\"TAM\"],[\"Bobo Wilson\",\"TAM\"],[\"Jerramy Stevens\",\"TAM\"],[\"Jeff Demps\",\"TAM\"],[\"Shaun Wilson\",\"TAM\"],[\"Antony Auclair\",\"TAM\"],[\"Tanner Hudson\",\"TAM\"],[\"Ishmael Hyman\",\"TAM\"],[\"Jorvorskie Lane\",\"TAM\"],[\"Skye Dawson\",\"TAM\"],[\"T.J. Logan\",\"TAM\"],[\"Codey McElroy\",\"TAM\"],[\"Kareem Huggins\",\"TAM\"],[\"Dan Orlovsky\",\"TAM\"],[\"Cyril Grayson\",\"TAM\"],[\"Allen Bradford\",\"TAM\"],[\"John Franklin\",\"TAM\"],[\"Ryan Griffin\",\"TAM\"],[\"Elbert Mack\",\"TAM\"]],\"tags\":[[[\"Player\",\"Player\",null],[\"Tm\",\"Tm\",null]]]},\"id\":\"5518\",\"type\":\"FactorRange\"},{\"attributes\":{},\"id\":\"5562\",\"type\":\"BasicTickFormatter\"},{\"attributes\":{\"axis_label\":\"FantasyPoints\",\"bounds\":\"auto\",\"formatter\":{\"id\":\"5562\"},\"major_label_orientation\":\"horizontal\",\"ticker\":{\"id\":\"5534\"}},\"id\":\"5533\",\"type\":\"LinearAxis\"},{\"attributes\":{\"axis\":{\"id\":\"5530\"},\"grid_line_color\":null,\"ticker\":null},\"id\":\"5532\",\"type\":\"Grid\"},{\"attributes\":{},\"id\":\"5528\",\"type\":\"LinearScale\"},{\"attributes\":{},\"id\":\"5572\",\"type\":\"UnionRenderers\"},{\"attributes\":{\"children\":[{\"id\":\"5579\"}],\"css_classes\":[\"widget-box\"],\"margin\":[5,5,5,5],\"name\":\"WidgetBox02722\"},\"id\":\"5578\",\"type\":\"Column\"},{\"attributes\":{},\"id\":\"5534\",\"type\":\"BasicTicker\"},{\"attributes\":{\"data\":{\"FantasyPoints\":{\"__ndarray__\":\"ZmZmZmYedUCZmZmZmbluQBODwMqhZW5AJb9Y8otVbUCamZmZmUlnQGZmZmZmJmdAzczMzMykZEDWo3A9CndkQClcj8L1aGRAmpmZmZmpYkBnZmZmZh5iQCMiIiIiwmFAmJmZmZmpYUBmZmZmZqZhQDMzMzMzQ2FAAAAAAACAYEBcj8L1KLxfQGZmZmZmtl9AUbgeheuxXUBmZmZmZkZdQAAAAAAAoFxAZ2ZmZmbGWECamZmZmSlYQMzMzMzM3FdAAQAAAABgV0AIdVAHddBWQDMzMzMz01VANDMzMzNzVUB3d3d3dzdVQDMzMzMz01JAIiIiIiJiUkAzMzMzM+NRQM3MzMzMfFBAAAAAAABgUEBmZmZmZkZQQO/u7u7u7k1AuB6F61H4TEAAAAAAAOBMQDMzMzMzs0tAMzMzMzOzREAzMzMzM3NEQN3d3d3dHURAAAAAAACAQUAzMzMzM7M+QDMzMzMzMz5AmpmZmZkZPUAzMzMzMzM8QDMzMzMzMzxAZmZmZmamO0AzMzMzMzM6QM3MzMzMTDdAMzMzMzOzNkBmZmZmZmY1QJqZmZmZGTVARERERERENECQwvUoXA80QNejcD0K1zNAERERERGRMkDNzMzMzMwxQGZmZmZmZjBAmpmZmZmZLkDMzMzMzMwrQGZmZmZmpitAmpmZmZmZKUAzMzMzMzMoQOF6FK5H4SZAq6qqqqqqI0CamZmZmZkhQJqZmZmZmSFAZ2ZmZmZmIEAAAAAAAAAgQBARERERER9AMzMzMzMzHUAAAAAAAAAaQJqZmZmZmRlAiYiIiIiIGEBmZmZmZmYXQJqZmZmZmRVAzMzMzMzMFEDNzMzMzMwSQDMzMzMzMxFAAAAAAAAAEEBmZmZmZmYGQFK4HoXrUQBAzczMzMzM9D/NzMzMzMz0P5qZmZmZmfE/16NwPQrX4z8AAAAAAAAAwA==\",\"dtype\":\"float64\",\"shape\":[89]},\"Player\":[\"Tom Brady\",\"Mike Evans\",\"Jameis Winston\",\"Josh Freeman\",\"Ronald Jones II\",\"Chris Godwin\",\"Kellen Winslow\",\"Vincent Jackson\",\"Mike Williams\",\"Rob Gronkowski\",\"DeSean Jackson\",\"Doug Martin\",\"Tim Wright\",\"Cadillac Williams\",\"Breshad Perriman\",\"Leonard Fournette\",\"Josh McCown\",\"Adam Humphries\",\"Ryan Fitzpatrick\",\"Antonio Brown\",\"Dallas Clark\",\"LeGarrette Blount\",\"Peyton Barber\",\"Charles Sims\",\"Ronald Jones\",\"Cameron Brate\",\"Tiquan Underwood\",\"O.J. Howard\",\"Mike Glennon\",\"Dare Ogunbowale\",\"Jacquizz Rodgers\",\"Scott Miller\",\"Austin Seferian-Jenkins\",\"Dezmon Briscoe\",\"Brian Leonard\",\"Arrelious Benn\",\"Earnest Graham\",\"Bobby Rainey\",\"Louis Murphy\",\"Kregg Lumpkin\",\"Tyler Johnson\",\"Preston Parker\",\"John Gilmore\",\"Russell Shepard\",\"Donteea Dye\",\"Danny Ware\",\"LeSean McCoy\",\"Brandon Myers\",\"Micheal Spurlock\",\"Cecil Shorts\",\"Ke'Shawn Vaughn\",\"Mossis Madu\",\"Freddie Martino\",\"Maurice Stovall\",\"Justin Watson\",\"Mike James\",\"Luke Stocker\",\"Sammie Stroughter\",\"Robert Herron\",\"Antone Smith\",\"Blaine Gabbert\",\"Chris Owusu\",\"Erik Lorig\",\"Jaydon Mickens\",\"Tom Crabtree\",\"Josh Johnson\",\"Alan Cross\",\"Ryan Purvis\",\"Nate Byham\",\"Eric Page\",\"Zack Pianalto\",\"Bobo Wilson\",\"Jerramy Stevens\",\"Jeff Demps\",\"Shaun Wilson\",\"Antony Auclair\",\"Tanner Hudson\",\"Ishmael Hyman\",\"Jorvorskie Lane\",\"Skye Dawson\",\"T.J. Logan\",\"Codey McElroy\",\"Kareem Huggins\",\"Dan Orlovsky\",\"Cyril Grayson\",\"Allen Bradford\",\"John Franklin\",\"Ryan Griffin\",\"Elbert Mack\"],\"Tm\":[\"TAM\",\"TAM\",\"TAM\",\"TAM\",\"TAM\",\"TAM\",\"TAM\",\"TAM\",\"TAM\",\"TAM\",\"TAM\",\"TAM\",\"TAM\",\"TAM\",\"TAM\",\"TAM\",\"TAM\",\"TAM\",\"TAM\",\"TAM\",\"TAM\",\"TAM\",\"TAM\",\"TAM\",\"TAM\",\"TAM\",\"TAM\",\"TAM\",\"TAM\",\"TAM\",\"TAM\",\"TAM\",\"TAM\",\"TAM\",\"TAM\",\"TAM\",\"TAM\",\"TAM\",\"TAM\",\"TAM\",\"TAM\",\"TAM\",\"TAM\",\"TAM\",\"TAM\",\"TAM\",\"TAM\",\"TAM\",\"TAM\",\"TAM\",\"TAM\",\"TAM\",\"TAM\",\"TAM\",\"TAM\",\"TAM\",\"TAM\",\"TAM\",\"TAM\",\"TAM\",\"TAM\",\"TAM\",\"TAM\",\"TAM\",\"TAM\",\"TAM\",\"TAM\",\"TAM\",\"TAM\",\"TAM\",\"TAM\",\"TAM\",\"TAM\",\"TAM\",\"TAM\",\"TAM\",\"TAM\",\"TAM\",\"TAM\",\"TAM\",\"TAM\",\"TAM\",\"TAM\",\"TAM\",\"TAM\",\"TAM\",\"TAM\",\"TAM\",\"TAM\"],\"xoffsets\":[[\"Tom Brady\",\"TAM\"],[\"Mike Evans\",\"TAM\"],[\"Jameis Winston\",\"TAM\"],[\"Josh Freeman\",\"TAM\"],[\"Ronald Jones II\",\"TAM\"],[\"Chris Godwin\",\"TAM\"],[\"Kellen Winslow\",\"TAM\"],[\"Vincent Jackson\",\"TAM\"],[\"Mike Williams\",\"TAM\"],[\"Rob Gronkowski\",\"TAM\"],[\"DeSean Jackson\",\"TAM\"],[\"Doug Martin\",\"TAM\"],[\"Tim Wright\",\"TAM\"],[\"Cadillac Williams\",\"TAM\"],[\"Breshad Perriman\",\"TAM\"],[\"Leonard Fournette\",\"TAM\"],[\"Josh McCown\",\"TAM\"],[\"Adam Humphries\",\"TAM\"],[\"Ryan Fitzpatrick\",\"TAM\"],[\"Antonio Brown\",\"TAM\"],[\"Dallas Clark\",\"TAM\"],[\"LeGarrette Blount\",\"TAM\"],[\"Peyton Barber\",\"TAM\"],[\"Charles Sims\",\"TAM\"],[\"Ronald Jones\",\"TAM\"],[\"Cameron Brate\",\"TAM\"],[\"Tiquan Underwood\",\"TAM\"],[\"O.J. Howard\",\"TAM\"],[\"Mike Glennon\",\"TAM\"],[\"Dare Ogunbowale\",\"TAM\"],[\"Jacquizz Rodgers\",\"TAM\"],[\"Scott Miller\",\"TAM\"],[\"Austin Seferian-Jenkins\",\"TAM\"],[\"Dezmon Briscoe\",\"TAM\"],[\"Brian Leonard\",\"TAM\"],[\"Arrelious Benn\",\"TAM\"],[\"Earnest Graham\",\"TAM\"],[\"Bobby Rainey\",\"TAM\"],[\"Louis Murphy\",\"TAM\"],[\"Kregg Lumpkin\",\"TAM\"],[\"Tyler Johnson\",\"TAM\"],[\"Preston Parker\",\"TAM\"],[\"John Gilmore\",\"TAM\"],[\"Russell Shepard\",\"TAM\"],[\"Donteea Dye\",\"TAM\"],[\"Danny Ware\",\"TAM\"],[\"LeSean McCoy\",\"TAM\"],[\"Brandon Myers\",\"TAM\"],[\"Micheal Spurlock\",\"TAM\"],[\"Cecil Shorts\",\"TAM\"],[\"Ke'Shawn Vaughn\",\"TAM\"],[\"Mossis Madu\",\"TAM\"],[\"Freddie Martino\",\"TAM\"],[\"Maurice Stovall\",\"TAM\"],[\"Justin Watson\",\"TAM\"],[\"Mike James\",\"TAM\"],[\"Luke Stocker\",\"TAM\"],[\"Sammie Stroughter\",\"TAM\"],[\"Robert Herron\",\"TAM\"],[\"Antone Smith\",\"TAM\"],[\"Blaine Gabbert\",\"TAM\"],[\"Chris Owusu\",\"TAM\"],[\"Erik Lorig\",\"TAM\"],[\"Jaydon Mickens\",\"TAM\"],[\"Tom Crabtree\",\"TAM\"],[\"Josh Johnson\",\"TAM\"],[\"Alan Cross\",\"TAM\"],[\"Ryan Purvis\",\"TAM\"],[\"Nate Byham\",\"TAM\"],[\"Eric Page\",\"TAM\"],[\"Zack Pianalto\",\"TAM\"],[\"Bobo Wilson\",\"TAM\"],[\"Jerramy Stevens\",\"TAM\"],[\"Jeff Demps\",\"TAM\"],[\"Shaun Wilson\",\"TAM\"],[\"Antony Auclair\",\"TAM\"],[\"Tanner Hudson\",\"TAM\"],[\"Ishmael Hyman\",\"TAM\"],[\"Jorvorskie Lane\",\"TAM\"],[\"Skye Dawson\",\"TAM\"],[\"T.J. Logan\",\"TAM\"],[\"Codey McElroy\",\"TAM\"],[\"Kareem Huggins\",\"TAM\"],[\"Dan Orlovsky\",\"TAM\"],[\"Cyril Grayson\",\"TAM\"],[\"Allen Bradford\",\"TAM\"],[\"John Franklin\",\"TAM\"],[\"Ryan Griffin\",\"TAM\"],[\"Elbert Mack\",\"TAM\"]]},\"selected\":{\"id\":\"5552\"},\"selection_policy\":{\"id\":\"5572\"}},\"id\":\"5551\",\"type\":\"ColumnDataSource\"},{\"attributes\":{\"axis\":{\"id\":\"5533\"},\"dimension\":1,\"grid_line_color\":null,\"ticker\":null},\"id\":\"5536\",\"type\":\"Grid\"},{\"attributes\":{},\"id\":\"5537\",\"type\":\"SaveTool\"}],\"root_ids\":[\"5516\",\"5605\"]},\"title\":\"Bokeh Application\",\"version\":\"2.0.2\"}};\n",
       "  var render_items = [{\"docid\":\"9f67a338-521d-4a10-803c-7b8fd0f325dc\",\"root_ids\":[\"5516\"],\"roots\":{\"5516\":\"beaaddf9-a455-451d-a473-ac743236be19\"}}];\n",
       "  root.Bokeh.embed.embed_items_notebook(docs_json, render_items);\n",
       "  }\n",
       "if (root.Bokeh !== undefined) {\n",
       "    embed_document(root);\n",
       "  } else {\n",
       "    var attempts = 0;\n",
       "    var timer = setInterval(function(root) {\n",
       "      if (root.Bokeh !== undefined) {\n",
       "        clearInterval(timer);\n",
       "        embed_document(root);\n",
       "      } else if (document.readyState == \"complete\") {\n",
       "        attempts++;\n",
       "        if (attempts > 100) {\n",
       "          clearInterval(timer);\n",
       "          console.log(\"Bokeh: ERROR: Unable to run BokehJS code because BokehJS library is missing\");\n",
       "        }\n",
       "      }\n",
       "    }, 10, root)\n",
       "  }\n",
       "})(window);</script>"
      ],
      "text/plain": [
       ":DynamicMap   [Tm]\n",
       "   :Bars   [Player,Tm]   (FantasyPoints)"
      ]
     },
     "execution_count": 28,
     "metadata": {
      "application/vnd.holoviews_exec.v0+json": {
       "id": "5516"
      }
     },
     "output_type": "execute_result"
    }
   ],
   "source": [
    "# imports\n",
    "\n",
    "import panel as pn\n",
    "pn.extension('plotly')\n",
    "import plotly.express as px\n",
    "import plotly.graph_objs as go\n",
    "import plotly.figure_factory as ff\n",
    "import pandas as pd\n",
    "import hvplot.pandas\n",
    "import matplotlib.pyplot as plt\n",
    "import numpy as np\n",
    "import seaborn as sns\n",
    "import pprint as pp\n",
    "import os\n",
    "from pathlib import Path\n",
    "from dotenv import load_dotenv\n",
    "import warnings\n",
    "warnings.filterwarnings('ignore')\n",
    "import fantasy_football as f_f\n",
    "# Read the Mapbox API key\n",
    "load_dotenv()\n",
    "map_box_api = os.getenv(\"mapbox\")\n",
    "\n",
    "# Set the Mapbox API\n",
    "px.set_mapbox_access_token(\"pk.eyJ1IjoiYW1hY2s1NiIsImEiOiJja3RldzZmcnAwMmd5Mm5wZngyejR2cm5iIn0.JohlA6vRxmH-iugH7u_xXA\")\n",
    "\n",
    "# Import all the CSVs from the Data of the last 10 years using custom fantasy_football.py library\n",
    "\n",
    "full_data = f_f.read_fantasy_data(2010, 2020)\n",
    "\n",
    "# Read in coordinate data\n",
    "\n",
    "coor_path = Path('../Data/RawData/coordinates.csv')\n",
    "coordinates = pd.read_csv(coor_path)\n",
    "\n",
    "# Manipulate coordinate data\n",
    "\n",
    "coordinates.drop(labels=['zip', 'pic', 'Unnamed: 6', 'Conference'], axis=1, inplace=True)\n",
    "coordinates = coordinates.set_index('Team')\n",
    "\n",
    "# Clean up the combined data\n",
    "\n",
    "full_data = full_data[full_data['FantasyPoints'] != 0]\n",
    "full_data = full_data[full_data['Tm'] != '2TM']\n",
    "full_data = full_data[full_data['Tm'] != '3TM']\n",
    "full_data = full_data[full_data['Tm'] != '4TM']\n",
    "full_data = full_data.dropna()\n",
    "full_data.to_csv('../Data/CleanData/full_data.csv', encoding='utf-8')\n",
    "\n",
    "player_mean = full_data.groupby(['Player', 'Tm']).mean().sort_values(by='FantasyPoints', ascending=False, na_position='first')\n",
    "player_mean.hvplot.bar(width=800, rot=90, groupby=\"Tm\", title=\"Best Players By Team\")"
   ]
  },
  {
   "cell_type": "code",
   "execution_count": 29,
   "id": "d651534d",
   "metadata": {},
   "outputs": [],
   "source": [
    "# def lowest_players():\n",
    "#     player_mean = full_data.groupby(['Player']).mean().sort_values(by='FantasyPoints', ascending=True, na_position='first').nsmallest(15,\"FantasyPoints\")\n",
    "#     fig_lowest=go.Figure()\n",
    "#     fig_lowest.add_traces(go.Bar(x=player_mean.index, y = player_mean.FantasyPoints,marker_color=\"#d10a1b\"))\n",
    "#     fig_lowest.update_layout(title_text='15 Players with Lowest FantasyPoints')\n",
    "#     return fig_lowest"
   ]
  },
  {
   "cell_type": "code",
   "execution_count": 30,
   "id": "c3b886d3",
   "metadata": {},
   "outputs": [],
   "source": [
    "def points_team():\n",
    "    fig_team = plt.figure()\n",
    "    team_mean = full_data.groupby(['Tm']).mean().sort_values(by='FantasyPoints', ascending=False, na_position='first')\n",
    "    #fig = team_mean.hvplot.bar(width=800, rot=90).opts(color=\"Tm\")\n",
    "    fig_team = px.bar(x=team_mean.index,y=team_mean.FantasyPoints,color=team_mean.index,\n",
    "                 color_discrete_sequence=[\"#07518a\"])\n",
    "    fig_team.update_layout(title_text='Fantasy Points by Team')\n",
    "    fig_team.update_layout(yaxis_title=\"Fantasy Points\")\n",
    "    fig_team.update_layout(xaxis_title=\"Team\")\n",
    "    fig_team.update_traces(hovertemplate='Team: %{x} <br>:FantasyPoints %{y}')\n",
    "    fig_team.update_layout(showlegend=False) \n",
    "    return fig_team"
   ]
  },
  {
   "cell_type": "code",
   "execution_count": 31,
   "id": "87973c71",
   "metadata": {},
   "outputs": [],
   "source": [
    "team_divisions=[]\n",
    "for each_team in full_data[\"Tm\"]:\n",
    "    if each_team==\"NYG\" or each_team==\"WAS\" or each_team==\"PHI\" or each_team==\"DAL\":\n",
    "        team_divisions.append(\"NFC East\")\n",
    "    elif each_team==\"LAR\" or each_team==\"SFO\" or each_team==\"SEA\" or each_team==\"ARI\":\n",
    "        team_divisions.append(\"NFC West\")\n",
    "    elif each_team==\"CHI\" or  each_team==\"GNB\" or each_team==\"MIN\" or each_team==\"DET\":\n",
    "        team_divisions.append(\"NFC North\")\n",
    "    elif each_team==\"NOR\" or each_team==\"ATL\" or each_team==\"TAM\" or each_team==\"CAR\":\n",
    "        team_divisions.append(\"NFC South\")\n",
    "    elif each_team==\"NWE\" or each_team==\"BUF\" or each_team==\"NYJ\" or each_team==\"MIA\":\n",
    "        team_divisions.append(\"AFC East\")\n",
    "    elif each_team==\"DEN\" or each_team==\"KAN\" or each_team==\"LAC\" or each_team==\"OAK\":\n",
    "        team_divisions.append(\"AFC West\")\n",
    "    elif each_team==\"PIT\" or each_team==\"CIN\" or each_team==\"CLE\" or each_team==\"BAL\":\n",
    "        team_divisions.append(\"AFC North\")\n",
    "    elif each_team==\"HOU\" or each_team==\"IND\" or each_team==\"TEN\" or each_team==\"JAX\":\n",
    "        team_divisions.append(\"AFC South\")\n",
    "    else:\n",
    "        team_divisions.append(np.nan)\n",
    "    "
   ]
  },
  {
   "cell_type": "code",
   "execution_count": 32,
   "id": "a7c29c49",
   "metadata": {},
   "outputs": [],
   "source": [
    "full_data_divisions=full_data.copy()\n",
    "full_data_divisions[\"Divisions\"]=team_divisions"
   ]
  },
  {
   "cell_type": "code",
   "execution_count": 33,
   "id": "06be128e",
   "metadata": {},
   "outputs": [],
   "source": [
    "full_data_divisions=full_data_divisions.groupby(\"Divisions\").sum()\n",
    "full_data_divisions.reset_index(inplace=True)\n",
    "full_data_divisions=full_data_divisions.sort_values(by=\"FantasyPoints\")"
   ]
  },
  {
   "cell_type": "code",
   "execution_count": 34,
   "id": "59338ce1",
   "metadata": {},
   "outputs": [],
   "source": [
    "def points_division():\n",
    "    fig_division = plt.figure()\n",
    "    fig_division = px.bar(full_data_divisions, x='Divisions', y='FantasyPoints',color='Divisions')\n",
    "    fig_division.update_layout(title_text='Fantasy Points by division')\n",
    "    fig_division.update_layout(yaxis_title=\"Fantasy Points\")\n",
    "    return fig_division"
   ]
  },
  {
   "cell_type": "code",
   "execution_count": 35,
   "id": "bb66da14",
   "metadata": {
    "scrolled": true
   },
   "outputs": [],
   "source": [
    "def points_position():\n",
    "    fig_position = plt.figure()\n",
    "    position_mean = full_data.groupby(['Pos']).mean().sort_values(by='FantasyPoints', ascending=False, na_position='first')\n",
    "    position_mean=position_mean.iloc[:-1,]\n",
    "    fig_position = px.bar(x=position_mean.index,y=position_mean.FantasyPoints,color=position_mean.index,\n",
    "                 color_discrete_sequence=px.colors.qualitative.G10)\n",
    "    fig_position.update_layout(title_text='Fantasy Points by position')\n",
    "    fig_position.update_layout(yaxis_title=\"Fantasy Points\")\n",
    "    fig_position.update_layout(xaxis_title=\"Position\")\n",
    "    fig_position.update_traces(hovertemplate='Position: %{x} <br>:FantasyPoints %{y}')\n",
    "     \n",
    "    return fig_position"
   ]
  },
  {
   "cell_type": "code",
   "execution_count": 36,
   "id": "15e047c1",
   "metadata": {},
   "outputs": [],
   "source": [
    "def points_top_players():\n",
    "    best_team = full_data.groupby(['Player']).mean().sort_values(by='FantasyPoints', ascending=False, na_position='first').nlargest(15, 'FantasyPoints')\n",
    "    #fig = best_team.hvplot.bar(width=800, rot=90)\n",
    "    fig=go.Figure()\n",
    "    fig.add_traces(go.Bar(x=best_team.index, y = best_team.FantasyPoints,marker_color=\"#77913a\"))\n",
    "    fig.update_layout(title_text='Top 15 Players')\n",
    "    return fig\n",
    "    return fig"
   ]
  },
  {
   "cell_type": "code",
   "execution_count": 37,
   "id": "bb39a3e4",
   "metadata": {},
   "outputs": [],
   "source": [
    "def team_mean_map():\n",
    "    fig = plt.figure()\n",
    "    team_mean = full_data.groupby(['Tm']).mean().sort_values(by='FantasyPoints', ascending=False, na_position='first')\n",
    "    coords_and_mean = pd.concat([team_mean, coordinates], axis=1)\n",
    "    coords_and_mean = coords_and_mean.reset_index()\n",
    "    coords_and_mean = coords_and_mean.rename({'index': 'Team'}, axis=1)\n",
    "\n",
    "    fig = px.scatter_mapbox(coords_and_mean, lat='latitude', lon='longitude', color=\"Team\", size=\"FantasyPoints\", zoom=2)\n",
    "    return fig"
   ]
  },
  {
   "cell_type": "code",
   "execution_count": 38,
   "id": "bb69a696",
   "metadata": {},
   "outputs": [],
   "source": [
    "def rushing_yards():\n",
    "#     data_2010_yds = pd.read_csv(file_path_2010)\n",
    "#     data_2010_yds['Year'] = '2010'\n",
    "#     data_2011_yds = pd.read_csv(file_path_2011)\n",
    "#     data_2011_yds['Year'] = '2011'\n",
    "#     data_2012_yds = pd.read_csv(file_path_2012)\n",
    "#     data_2012_yds['Year'] = '2012'\n",
    "#     data_2013_yds = pd.read_csv(file_path_2013)\n",
    "#     data_2013_yds['Year'] = '2013'\n",
    "#     data_2014_yds = pd.read_csv(file_path_2014)\n",
    "#     data_2014_yds['Year'] = '2014'\n",
    "#     data_2015_yds = pd.read_csv(file_path_2015)\n",
    "#     data_2015_yds['Year'] = '2015'\n",
    "#     data_2016_yds = pd.read_csv(file_path_2016)\n",
    "#     data_2016_yds['Year'] = '2016'\n",
    "#     data_2017_yds = pd.read_csv(file_path_2017)\n",
    "#     data_2017_yds['Year'] = '2017'\n",
    "#     data_2018_yds = pd.read_csv(file_path_2018)\n",
    "#     data_2018_yds['Year'] = '2018'\n",
    "#     data_2019_yds = pd.read_csv(file_path_2019)\n",
    "#     data_2019_yds['Year'] = '2019'\n",
    "#     data_2010_yds = data_2010_yds[[\"Year\",\"Player\",\"Tm\",\"Pos\",\"RushingYds\",\"FantasyPoints\"]]\n",
    "#     data_2011_yds = data_2011_yds[[\"Year\",\"Player\",\"Tm\",\"Pos\",\"RushingYds\",\"FantasyPoints\"]]\n",
    "#     data_2012_yds = data_2012_yds[[\"Year\",\"Player\",\"Tm\",\"Pos\",\"RushingYds\",\"FantasyPoints\"]]\n",
    "#     data_2013_yds = data_2013_yds[[\"Year\",\"Player\",\"Tm\",\"Pos\",\"RushingYds\",\"FantasyPoints\"]]\n",
    "#     data_2014_yds = data_2014_yds[[\"Year\",\"Player\",\"Tm\",\"Pos\",\"RushingYds\",\"FantasyPoints\"]]\n",
    "#     data_2015_yds = data_2015_yds[[\"Year\",\"Player\",\"Tm\",\"Pos\",\"RushingYds\",\"FantasyPoints\"]]\n",
    "#     data_2016_yds = data_2016_yds[[\"Year\",\"Player\",\"Tm\",\"Pos\",\"RushingYds\",\"FantasyPoints\"]]\n",
    "#     data_2017_yds = data_2017_yds[[\"Year\",\"Player\",\"Tm\",\"Pos\",\"RushingYds\",\"FantasyPoints\"]]\n",
    "#     data_2018_yds = data_2018_yds[[\"Year\",\"Player\",\"Tm\",\"Pos\",\"RushingYds\",\"FantasyPoints\"]]\n",
    "#     data_2019_yds = data_2019_yds[[\"Year\",\"Player\",\"Tm\",\"Pos\",\"RushingYds\",\"FantasyPoints\"]]\n",
    "#     full_data_yds = pd.concat([data_2010_yds, data_2011_yds, data_2012_yds, data_2013_yds, data_2014_yds, \n",
    "#                            data_2015_yds, data_2016_yds, data_2017_yds, data_2018_yds, data_2019_yds])\n",
    "    full_data_yds = f_f.read_rushing_yds(2010,2020)\n",
    "    #print(full_data_yds.head())\n",
    "    fig = plt.figure()\n",
    "    full_data_yds = full_data_yds[full_data_yds['FantasyPoints'] != 0]\n",
    "    full_data_yds = full_data_yds[full_data_yds['Tm'] != '2TM']\n",
    "    full_data_yds = full_data_yds[full_data_yds['Tm'] != '3TM']\n",
    "    full_data_yds = full_data_yds[full_data_yds['Tm'] != '4TM']\n",
    "    fig = plt.figure()\n",
    "    corr = np.corrcoef(full_data_yds[\"RushingYds\"], full_data_yds[\"FantasyPoints\"])\n",
    "    fig = px.scatter(full_data_yds, x=\"RushingYds\", y=\"FantasyPoints\", trendline=\"ols\", color='Year')\n",
    "    return fig"
   ]
  },
  {
   "cell_type": "code",
   "execution_count": 39,
   "id": "981f1e39",
   "metadata": {},
   "outputs": [],
   "source": [
    "#scatter_box = full_data_yds.hvplot.scatter(x='RushingYds', y='FantasyPoints', c='Year', groupby=\"Year\")"
   ]
  },
  {
   "cell_type": "code",
   "execution_count": 40,
   "id": "ec7a6fc1",
   "metadata": {},
   "outputs": [],
   "source": [
    "# Create a Title for the Dashboard\n",
    "\n",
    "title = pn.pane.Markdown(\"\"\"\n",
    "## Fantasy Football Project\n",
    "\"\"\")"
   ]
  },
  {
   "cell_type": "code",
   "execution_count": 41,
   "id": "9b3acac8",
   "metadata": {},
   "outputs": [],
   "source": [
    "# Top Players by Position Graphs\n",
    "def top_quarterbacks():\n",
    "    fig_team = plt.figure()\n",
    "    top_20_qbs = full_data[full_data[\"Pos\"]==\"QB\"]\n",
    "    top_20_qbs=top_20_qbs.groupby(['Player']).mean().sort_values(by='FantasyPoints', ascending=False, na_position='first').nlargest(20,'FantasyPoints')\n",
    "    fig_team = px.bar(x=top_20_qbs.index,y=top_20_qbs.FantasyPoints,color=top_20_qbs.index,\n",
    "                 color_discrete_sequence=[\"#de4a1d\"])\n",
    "    fig_team.update_layout(title_text='Top 20 Quarterbacks ')\n",
    "    fig_team.update_layout(yaxis_title=\"Fantasy Points\")\n",
    "    fig_team.update_layout(xaxis_title=\"Player\")\n",
    "    fig_team.update_traces(hovertemplate='Player: %{x} <br>FantasyPoints: %{y}')\n",
    "    fig_team.update_layout(showlegend=False) \n",
    "    return fig_team\n",
    "    "
   ]
  },
  {
   "cell_type": "code",
   "execution_count": 42,
   "id": "8497ebd1",
   "metadata": {},
   "outputs": [],
   "source": [
    "def top_runningbacks():\n",
    "    fig_team = plt.figure()\n",
    "    top_20_rbs = full_data[full_data[\"Pos\"]==\"RB\"]\n",
    "    top_20_rbs=top_20_rbs.groupby(['Player']).mean().sort_values(by='FantasyPoints', ascending=False, na_position='first').nlargest(20,'FantasyPoints')\n",
    "    fig_team = px.bar(x=top_20_rbs.index,y=top_20_rbs.FantasyPoints,color=top_20_rbs.index,\n",
    "                 color_discrete_sequence=[\"#c53ac9\"])\n",
    "    fig_team.update_layout(title_text='Top 20 Running Backs ')\n",
    "    fig_team.update_layout(yaxis_title=\"Fantasy Points\")\n",
    "    fig_team.update_layout(xaxis_title=\"Player\")\n",
    "    fig_team.update_traces(hovertemplate='Player: %{x} <br>FantasyPoints: %{y}')\n",
    "    fig_team.update_layout(showlegend=False) \n",
    "    return fig_team\n",
    "    "
   ]
  },
  {
   "cell_type": "code",
   "execution_count": 43,
   "id": "cb2fcab5",
   "metadata": {},
   "outputs": [],
   "source": [
    "def top_wide_receivers():\n",
    "    fig_team = plt.figure()\n",
    "    top_20_wrs = full_data[full_data[\"Pos\"]==\"WR\"]\n",
    "    top_20_wrs=top_20_wrs.groupby(['Player']).mean().sort_values(by='FantasyPoints', ascending=False, na_position='first').nlargest(20,'FantasyPoints')\n",
    "    fig_team = px.bar(x=top_20_wrs.index,y=top_20_wrs.FantasyPoints,color=top_20_wrs.index,\n",
    "                 color_discrete_sequence=[\"#66d0d4\"])\n",
    "    fig_team.update_layout(title_text='Top 20 Wide Receivers ')\n",
    "    fig_team.update_layout(yaxis_title=\"Fantasy Points\")\n",
    "    fig_team.update_layout(xaxis_title=\"Player\")\n",
    "    fig_team.update_traces(hovertemplate='Player: %{x} <br>FantasyPoints: %{y}')\n",
    "    fig_team.update_layout(showlegend=False) \n",
    "    return fig_team\n",
    "    "
   ]
  },
  {
   "cell_type": "code",
   "execution_count": 44,
   "id": "00742cd7",
   "metadata": {},
   "outputs": [],
   "source": [
    "def top_tight_ends():\n",
    "    fig_team = plt.figure()\n",
    "    top_20_tes = full_data[full_data[\"Pos\"]==\"TE\"]\n",
    "    top_20_tes=top_20_tes.groupby(['Player']).mean().sort_values(by='FantasyPoints', ascending=False, na_position='first').nlargest(20,'FantasyPoints')\n",
    "    fig_team = px.bar(x=top_20_tes.index,y=top_20_tes.FantasyPoints,color=top_20_tes.index,\n",
    "                 color_discrete_sequence=[\"#169139\"])\n",
    "    fig_team.update_layout(title_text='Top 20 Tight Ends')\n",
    "    fig_team.update_layout(yaxis_title=\"Fantasy Points\")\n",
    "    fig_team.update_layout(xaxis_title=\"Player\")\n",
    "    fig_team.update_traces(hovertemplate='Player: %{x} <br>FantasyPoints: %{y}')\n",
    "    fig_team.update_layout(showlegend=False) \n",
    "    return fig_team\n",
    "    "
   ]
  },
  {
   "cell_type": "code",
   "execution_count": 45,
   "id": "80b1da5f",
   "metadata": {},
   "outputs": [],
   "source": [
    "# Distribution Charts\n",
    "def distribution_quarterbacks():\n",
    "    fig = plt.figure\n",
    "    qbs = full_data[full_data['Pos'] == 'QB'].groupby('Player').mean().nlargest(30, 'FantasyPoints')\n",
    "    qbs_mean = int(np.mean(qbs))\n",
    "    qbs_stdev = int(np.std(qbs))\n",
    "    group_labels=[\"Quaterbacks Distribution\"]\n",
    "    #print(f\"The mean for the top 30 QBs is: {qbs_mean} and the standard deviation is: {qbs_stdev}\")\n",
    "    fig = ff.create_distplot([qbs[\"FantasyPoints\"]],group_labels,bin_size=.2, show_rug=False,show_hist=False)\n",
    "    fig.update_layout(title_text='Top 30 Quaterbacks')\n",
    "    fig.update_layout(showlegend=False) \n",
    "    \n",
    "    return fig"
   ]
  },
  {
   "cell_type": "code",
   "execution_count": 46,
   "id": "2567abc9",
   "metadata": {},
   "outputs": [],
   "source": [
    "def distribution_running_backs():\n",
    "    fig = plt.figure\n",
    "    rbs = full_data[full_data['Pos'] == 'RB'].groupby('Player').mean().nlargest(30, 'FantasyPoints')\n",
    "    rbs_mean = int(np.mean(rbs))\n",
    "    rbs_stdev = int(np.std(rbs))\n",
    "    group_labels=[\"Running Backs Distribution\"]\n",
    "    #print(f\"The mean for the top 30 RBs is: {rbs_mean} and the standard deviation is: {rbs_stdev}\")\n",
    "    fig = ff.create_distplot([rbs[\"FantasyPoints\"]],group_labels,bin_size=.2, show_rug=False,show_hist=False)\n",
    "    fig.update_layout(title_text='Top 30 Running Backs')\n",
    "    fig.update_layout(showlegend=False) \n",
    "    \n",
    "    return fig"
   ]
  },
  {
   "cell_type": "code",
   "execution_count": 47,
   "id": "93a41905",
   "metadata": {},
   "outputs": [],
   "source": [
    "def distribution_wide_receivers():\n",
    "    fig = plt.figure\n",
    "    wrs = full_data[full_data['Pos'] == 'WR'].groupby('Player').mean().nlargest(30, 'FantasyPoints')\n",
    "    wrs_mean = int(np.mean(wrs))\n",
    "    wrs_stdev = int(np.std(wrs))\n",
    "    #print(f\"The mean for the top 30 WRs is: {wrs_mean} and the standard deviation is: {wrs_stdev}\")\n",
    "    group_labels=[\"Wide Receivers Distribution\"]\n",
    "    fig = ff.create_distplot([wrs[\"FantasyPoints\"]],group_labels,bin_size=.2, show_rug=False,show_hist=False)\n",
    "    fig.update_layout(title_text='Top 30 Wide Receivers')\n",
    "    fig.update_layout(showlegend=False) \n",
    "    \n",
    "    return fig"
   ]
  },
  {
   "cell_type": "code",
   "execution_count": 48,
   "id": "cbad09ae",
   "metadata": {},
   "outputs": [],
   "source": [
    "def distribution_tight_ends():\n",
    "    fig = plt.figure\n",
    "    tes = full_data[full_data['Pos'] == 'TE'].groupby('Player').mean().nlargest(30, 'FantasyPoints')\n",
    "    tes_mean = int(np.mean(tes))\n",
    "    tes_stdev = int(np.std(tes))\n",
    "    #print(f\"The mean for the top 30 TEs is: {tes_mean} and the standard deviation is: {tes_stdev}\")\n",
    "    group_labels=[\"Tight Ends Distribution\"]\n",
    "    fig = ff.create_distplot([tes[\"FantasyPoints\"]],group_labels,bin_size=.2, show_rug=False,show_hist=False)\n",
    "    fig.update_layout(title_text='Top 30 Tight Ends')\n",
    "    fig.update_layout(showlegend=False) \n",
    "    return fig"
   ]
  },
  {
   "cell_type": "code",
   "execution_count": 49,
   "id": "d6eee5c7",
   "metadata": {},
   "outputs": [],
   "source": [
    "#rushing_yards()"
   ]
  },
  {
   "cell_type": "code",
   "execution_count": 50,
   "id": "77165838",
   "metadata": {},
   "outputs": [],
   "source": [
    "# Create a tab layout for the dashboard\n",
    "\n",
    "tabs = pn.Tabs(\n",
    "    (\"Players\", pn.Column(points_top_players)), \n",
    "    (\"Positions\", pn.Column(points_position)),\n",
    "    (\"Teams\", pn.Column(points_team)),\n",
    "    (\"Division\",pn.Column(points_division)),\n",
    "    (\"Top Players Stats\", pn.Column(top_quarterbacks, top_runningbacks, top_wide_receivers, top_tight_ends)),\n",
    "    (\"Top Player Distribution\", pn.Column(distribution_quarterbacks, distribution_running_backs, distribution_wide_receivers, distribution_tight_ends)),\n",
    "    (\"Rushing Yards Scatter\", pn.Column(rushing_yards)),\n",
    "    (\"Team Mean Map\", pn.Column(\"Mean points of team fantasy points plotted on the map\", team_mean_map))\n",
    ")"
   ]
  },
  {
   "cell_type": "code",
   "execution_count": 51,
   "id": "827886b4",
   "metadata": {},
   "outputs": [],
   "source": [
    "# Create the dashboard\n",
    "\n",
    "dashboard = pn.Column(title, tabs)"
   ]
  },
  {
   "cell_type": "code",
   "execution_count": 52,
   "id": "7e7355fc",
   "metadata": {},
   "outputs": [
    {
     "data": {
      "application/javascript": [
       "IPython.OutputArea.auto_scroll_threshold = 1500;\n"
      ],
      "text/plain": [
       "<IPython.core.display.Javascript object>"
      ]
     },
     "metadata": {},
     "output_type": "display_data"
    }
   ],
   "source": [
    "%%javascript\n",
    "IPython.OutputArea.auto_scroll_threshold = 1500;"
   ]
  },
  {
   "cell_type": "code",
   "execution_count": 53,
   "id": "735d3ca0",
   "metadata": {},
   "outputs": [],
   "source": [
    "# Serve the# dashboard\n",
    "\n",
    "#dashboard.servable()"
   ]
  },
  {
   "cell_type": "code",
   "execution_count": 54,
   "id": "9ed92016",
   "metadata": {},
   "outputs": [
    {
     "name": "stdout",
     "output_type": "stream",
     "text": [
      "Launching server at http://localhost:54829\n"
     ]
    },
    {
     "data": {
      "text/plain": [
       "<bokeh.server.server.Server at 0x7fe0e1254610>"
      ]
     },
     "execution_count": 54,
     "metadata": {},
     "output_type": "execute_result"
    }
   ],
   "source": [
    "dashboard.show()"
   ]
  },
  {
   "cell_type": "code",
   "execution_count": null,
   "id": "a6a5c50b",
   "metadata": {},
   "outputs": [],
   "source": []
  }
 ],
 "metadata": {
  "kernelspec": {
   "display_name": "Python 3",
   "language": "python",
   "name": "python3"
  },
  "language_info": {
   "codemirror_mode": {
    "name": "ipython",
    "version": 3
   },
   "file_extension": ".py",
   "mimetype": "text/x-python",
   "name": "python",
   "nbconvert_exporter": "python",
   "pygments_lexer": "ipython3",
   "version": "3.8.8"
  }
 },
 "nbformat": 4,
 "nbformat_minor": 5
}
