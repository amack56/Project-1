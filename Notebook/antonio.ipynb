{
 "cells": [
  {
   "cell_type": "code",
   "execution_count": 43,
   "id": "71137096",
   "metadata": {},
   "outputs": [
    {
     "data": {},
     "metadata": {},
     "output_type": "display_data"
    },
    {
     "data": {
      "application/vnd.holoviews_exec.v0+json": "",
      "text/html": [
       "<div id='4949'>\n",
       "\n",
       "\n",
       "\n",
       "\n",
       "\n",
       "  <div class=\"bk-root\" id=\"a9afc6e1-db1a-4b4d-865f-2d76d49ea2e7\" data-root-id=\"4949\"></div>\n",
       "</div>\n",
       "<script type=\"application/javascript\">(function(root) {\n",
       "  function embed_document(root) {\n",
       "    var docs_json = {\"3a267f08-baec-48c7-97f9-e8a356ab982b\":{\"defs\":[{\"extends\":null,\"module\":null,\"name\":\"ReactiveHTML1\",\"overrides\":[],\"properties\":[]},{\"extends\":null,\"module\":null,\"name\":\"FlexBox1\",\"overrides\":[],\"properties\":[{\"default\":\"flex-start\",\"kind\":null,\"name\":\"align_content\"},{\"default\":\"flex-start\",\"kind\":null,\"name\":\"align_items\"},{\"default\":\"row\",\"kind\":null,\"name\":\"flex_direction\"},{\"default\":\"wrap\",\"kind\":null,\"name\":\"flex_wrap\"},{\"default\":\"flex-start\",\"kind\":null,\"name\":\"justify_content\"}]},{\"extends\":null,\"module\":null,\"name\":\"TemplateActions1\",\"overrides\":[],\"properties\":[{\"default\":0,\"kind\":null,\"name\":\"open_modal\"},{\"default\":0,\"kind\":null,\"name\":\"close_modal\"}]},{\"extends\":null,\"module\":null,\"name\":\"MaterialTemplateActions1\",\"overrides\":[],\"properties\":[{\"default\":0,\"kind\":null,\"name\":\"open_modal\"},{\"default\":0,\"kind\":null,\"name\":\"close_modal\"}]}],\"roots\":{\"references\":[{\"attributes\":{},\"id\":\"4971\",\"type\":\"PanTool\"},{\"attributes\":{\"margin\":[5,5,5,5],\"name\":\"HSpacer23646\",\"sizing_mode\":\"stretch_width\"},\"id\":\"4950\",\"type\":\"Spacer\"},{\"attributes\":{\"axis_label\":\"Player, Tm\",\"formatter\":{\"id\":\"4993\"},\"major_label_orientation\":1.5707963267948966,\"major_label_policy\":{\"id\":\"4994\"},\"ticker\":{\"id\":\"4964\"}},\"id\":\"4963\",\"type\":\"CategoricalAxis\"},{\"attributes\":{\"callback\":null,\"renderers\":[{\"id\":\"4990\"}],\"tags\":[\"hv_created\"],\"tooltips\":[[\"Player\",\"@{Player}\"],[\"Tm\",\"@{Tm}\"],[\"FantasyPoints\",\"@{FantasyPoints}\"]]},\"id\":\"4953\",\"type\":\"HoverTool\"},{\"attributes\":{},\"id\":\"4967\",\"type\":\"BasicTicker\"},{\"attributes\":{\"axis_label\":\"FantasyPoints\",\"formatter\":{\"id\":\"4996\"},\"major_label_policy\":{\"id\":\"4997\"},\"ticker\":{\"id\":\"4967\"}},\"id\":\"4966\",\"type\":\"LinearAxis\"},{\"attributes\":{\"source\":{\"id\":\"4984\"}},\"id\":\"4991\",\"type\":\"CDSView\"},{\"attributes\":{\"margin\":[5,5,5,5],\"name\":\"VSpacer23643\",\"sizing_mode\":\"stretch_height\"},\"id\":\"5027\",\"type\":\"Spacer\"},{\"attributes\":{},\"id\":\"4974\",\"type\":\"ResetTool\"},{\"attributes\":{\"factors\":[\"CAR\"],\"palette\":[\"#30a2da\"]},\"id\":\"4983\",\"type\":\"CategoricalColorMapper\"},{\"attributes\":{},\"id\":\"4985\",\"type\":\"Selection\"},{\"attributes\":{\"children\":[{\"id\":\"5027\"},{\"id\":\"5028\"},{\"id\":\"5030\"}],\"margin\":[0,0,0,0],\"name\":\"Column23645\"},\"id\":\"5026\",\"type\":\"Column\"},{\"attributes\":{},\"id\":\"4959\",\"type\":\"CategoricalScale\"},{\"attributes\":{\"active_multi\":null,\"tools\":[{\"id\":\"4953\"},{\"id\":\"4970\"},{\"id\":\"4971\"},{\"id\":\"4972\"},{\"id\":\"4973\"},{\"id\":\"4974\"}]},\"id\":\"4976\",\"type\":\"Toolbar\"},{\"attributes\":{\"fill_color\":{\"field\":\"Tm\",\"transform\":{\"id\":\"4983\"}},\"top\":{\"field\":\"FantasyPoints\"},\"width\":{\"value\":0.8},\"x\":{\"field\":\"xoffsets\"}},\"id\":\"4987\",\"type\":\"VBar\"},{\"attributes\":{\"bottom_units\":\"screen\",\"fill_alpha\":0.5,\"fill_color\":\"lightgrey\",\"left_units\":\"screen\",\"level\":\"overlay\",\"line_alpha\":1.0,\"line_color\":\"black\",\"line_dash\":[4,4],\"line_width\":2,\"right_units\":\"screen\",\"syncable\":false,\"top_units\":\"screen\"},\"id\":\"4975\",\"type\":\"BoxAnnotation\"},{\"attributes\":{},\"id\":\"4996\",\"type\":\"BasicTickFormatter\"},{\"attributes\":{\"overlay\":{\"id\":\"4975\"}},\"id\":\"4973\",\"type\":\"BoxZoomTool\"},{\"attributes\":{\"fill_alpha\":{\"value\":0.1},\"fill_color\":{\"field\":\"Tm\",\"transform\":{\"id\":\"4983\"}},\"line_alpha\":{\"value\":0.1},\"top\":{\"field\":\"FantasyPoints\"},\"width\":{\"value\":0.8},\"x\":{\"field\":\"xoffsets\"}},\"id\":\"4988\",\"type\":\"VBar\"},{\"attributes\":{},\"id\":\"4972\",\"type\":\"WheelZoomTool\"},{\"attributes\":{\"end\":397.51,\"reset_end\":397.51,\"reset_start\":-39.41,\"start\":-39.41,\"tags\":[[[\"FantasyPoints\",\"FantasyPoints\",null]]]},\"id\":\"4952\",\"type\":\"Range1d\"},{\"attributes\":{},\"id\":\"4961\",\"type\":\"LinearScale\"},{\"attributes\":{\"below\":[{\"id\":\"4963\"}],\"center\":[{\"id\":\"4965\"},{\"id\":\"4969\"}],\"height\":300,\"left\":[{\"id\":\"4966\"}],\"margin\":[5,5,5,5],\"min_border_bottom\":10,\"min_border_left\":10,\"min_border_right\":10,\"min_border_top\":10,\"renderers\":[{\"id\":\"4990\"}],\"sizing_mode\":\"fixed\",\"title\":{\"id\":\"4955\"},\"toolbar\":{\"id\":\"4976\"},\"width\":800,\"x_range\":{\"id\":\"4951\"},\"x_scale\":{\"id\":\"4959\"},\"y_range\":{\"id\":\"4952\"},\"y_scale\":{\"id\":\"4961\"}},\"id\":\"4954\",\"subtype\":\"Figure\",\"type\":\"Plot\"},{\"attributes\":{\"children\":[{\"id\":\"5029\"}],\"css_classes\":[\"panel-widget-box\"],\"margin\":[5,5,5,5],\"name\":\"WidgetBox23638\"},\"id\":\"5028\",\"type\":\"Column\"},{\"attributes\":{\"client_comm_id\":\"0b966209ccd7409e83a3c80534fbe8e0\",\"comm_id\":\"8234e91c47074e03ba4d97d6e74a9a15\",\"plot_id\":\"4949\"},\"id\":\"5061\",\"type\":\"panel.models.comm_manager.CommManager\"},{\"attributes\":{\"axis\":{\"id\":\"4966\"},\"dimension\":1,\"grid_line_color\":null,\"ticker\":null},\"id\":\"4969\",\"type\":\"Grid\"},{\"attributes\":{\"margin\":[5,5,5,5],\"name\":\"VSpacer23644\",\"sizing_mode\":\"stretch_height\"},\"id\":\"5030\",\"type\":\"Spacer\"},{\"attributes\":{\"axis\":{\"id\":\"4963\"},\"grid_line_color\":null,\"ticker\":null},\"id\":\"4965\",\"type\":\"Grid\"},{\"attributes\":{\"margin\":[5,5,5,5],\"name\":\"HSpacer23647\",\"sizing_mode\":\"stretch_width\"},\"id\":\"5025\",\"type\":\"Spacer\"},{\"attributes\":{},\"id\":\"4993\",\"type\":\"CategoricalTickFormatter\"},{\"attributes\":{},\"id\":\"4997\",\"type\":\"AllLabels\"},{\"attributes\":{},\"id\":\"4994\",\"type\":\"AllLabels\"},{\"attributes\":{\"data_source\":{\"id\":\"4984\"},\"glyph\":{\"id\":\"4987\"},\"hover_glyph\":null,\"muted_glyph\":{\"id\":\"4989\"},\"nonselection_glyph\":{\"id\":\"4988\"},\"selection_glyph\":{\"id\":\"4992\"},\"view\":{\"id\":\"4991\"}},\"id\":\"4990\",\"type\":\"GlyphRenderer\"},{\"attributes\":{\"margin\":[20,20,20,20],\"min_width\":250,\"options\":[\"CAR\",\"NYG\",\"NOR\",\"SEA\",\"NWE\",\"GNB\",\"DET\",\"DAL\",\"LAR\",\"BAL\",\"DEN\",\"IND\",\"ARI\",\"ATL\",\"HOU\",\"CHI\",\"PIT\",\"PHI\",\"LAC\",\"KAN\",\"SDG\",\"MIN\",\"CLE\",\"BUF\",\"NYJ\",\"TAM\",\"MIA\",\"TEN\",\"CIN\",\"JAX\",\"OAK\",\"STL\",\"SFO\",\"WAS\"],\"title\":\"Tm\",\"value\":\"CAR\",\"width\":250},\"id\":\"5029\",\"type\":\"Select\"},{\"attributes\":{},\"id\":\"5012\",\"type\":\"UnionRenderers\"},{\"attributes\":{\"fill_alpha\":{\"value\":0.2},\"fill_color\":{\"field\":\"Tm\",\"transform\":{\"id\":\"4983\"}},\"line_alpha\":{\"value\":0.2},\"top\":{\"field\":\"FantasyPoints\"},\"width\":{\"value\":0.8},\"x\":{\"field\":\"xoffsets\"}},\"id\":\"4989\",\"type\":\"VBar\"},{\"attributes\":{\"data\":{\"FantasyPoints\":{\"__ndarray__\":\"mZmZmZmRdkApXI/C9SBxQGZmZmZmbmpAAAAAAAA4aEAzMzMzM29nQJmZmZmZeWNALdiCLdhyY0DMzMzMzMRfQP//////515AZ2ZmZmaeXkAzMzMzM3NcQK5H4XoUbltAMzMzMzNjW0AAAAAAAIBaQAAAAAAAIFpAcD0K16OAWUBSuB6F63FYQGdmZmZmZlNA16NwPQo3U0AAAAAAABBTQJmZmZmZOVBAMzMzMzMzUECamZmZmTlNQJqZmZmZGU1Aw/UoXI8CTUAAAAAAAABIQM3MzMzMjEZAZmZmZmY2RkDNzMzMzIxFQJqZmZmZSURApHA9CtdjQEDNzMzMzEw9QJqZmZmZGTpAzMzMzMxsOEDNzMzMzMwzQAAAAAAAYDNAmpmZmZmZMkAAAAAAAIAyQM3MzMzMzC9AZmZmZmZmLUDNzMzMzMwrQM3MzMzMzCtAZ2ZmZmZmKUAzMzMzM7MoQO/u7u7u7iZAMzMzMzMzJUAzMzMzMzMiQM3MzMzMzCBArkfhehSuG0BVVVVVVVUZQP1iyS+W/BhAAAAAAAAAGECamZmZmZkXQAAAAAAAABRAMzMzMzMzEkA0MzMzMzMLQJqZmZmZmQlAAAAAAAAAAEAUrkfhehT+P5qZmZmZmfk/ZmZmZmZm9j8chetRuB71P0RERERERPQ/zczMzMzM7D8AAAAAAADgP5qZmZmZmcm/AAAAAAAAAMAAAAAAAAAAwAAAAAAAAAjA\",\"dtype\":\"float64\",\"order\":\"little\",\"shape\":[69]},\"Player\":[\"Christian McCaffrey\",\"Cam Newton\",\"Kelvin Benjamin\",\"D.J. Moore\",\"Steve Smith\",\"Ted Ginn\",\"Greg Olsen\",\"Devin Funchess\",\"Brandon LaFell\",\"Jonathan Stewart\",\"Curtis Samuel\",\"DeAngelo Williams\",\"Jerricho Cotchery\",\"David Gettis\",\"Jeremy Shockey\",\"Kyle Allen\",\"Legedu Naanee\",\"Corey Brown\",\"Mike Tolbert\",\"Jarius Wright\",\"Louis Murphy\",\"Mike Goodson\",\"Ian Thomas\",\"Dante Rosario\",\"Jimmy Clausen\",\"Torrey Smith\",\"Russell Shepard\",\"Ed Dickson\",\"Jeff King\",\"Fozzy Whittaker\",\"Matt Moore\",\"Reggie Bonnafon\",\"Tyrell Sutton\",\"Cameron Artis-Payne\",\"Gary Barnidge\",\"Brenton Bersin\",\"Brandon Zylstra\",\"Domenik Hixon\",\"Darrin Reaves\",\"Chris Hogan\",\"Taylor Heinicke\",\"Kealoha Pilares\",\"Damiere Byrd\",\"Alex Armah\",\"Derek Anderson\",\"Tony Fiammetta\",\"DeAndrew White\",\"Brandon Williams\",\"Brian St. Pierre\",\"Chris Manhertz\",\"Armanti Edwards\",\"Dwayne Jarrett\",\"Richie Brockel\",\"Ben Hartsock\",\"Josh Vaughan\",\"Kenjon Barner\",\"Travaris Cadet\",\"Scott Simonson\",\"Tony Pike\",\"Garrett Gilbert\",\"Seyi Ajirotutu\",\"Will Grier\",\"Joe Webb\",\"Jordan Scarlett\",\"Armond Smith\",\"De'Andre Presley\",\"Greg Dortch\",\"Ray-Ray McCloud\",\"Joe Adams\"],\"Tm\":[\"CAR\",\"CAR\",\"CAR\",\"CAR\",\"CAR\",\"CAR\",\"CAR\",\"CAR\",\"CAR\",\"CAR\",\"CAR\",\"CAR\",\"CAR\",\"CAR\",\"CAR\",\"CAR\",\"CAR\",\"CAR\",\"CAR\",\"CAR\",\"CAR\",\"CAR\",\"CAR\",\"CAR\",\"CAR\",\"CAR\",\"CAR\",\"CAR\",\"CAR\",\"CAR\",\"CAR\",\"CAR\",\"CAR\",\"CAR\",\"CAR\",\"CAR\",\"CAR\",\"CAR\",\"CAR\",\"CAR\",\"CAR\",\"CAR\",\"CAR\",\"CAR\",\"CAR\",\"CAR\",\"CAR\",\"CAR\",\"CAR\",\"CAR\",\"CAR\",\"CAR\",\"CAR\",\"CAR\",\"CAR\",\"CAR\",\"CAR\",\"CAR\",\"CAR\",\"CAR\",\"CAR\",\"CAR\",\"CAR\",\"CAR\",\"CAR\",\"CAR\",\"CAR\",\"CAR\",\"CAR\"],\"xoffsets\":[[\"Christian McCaffrey\",\"CAR\"],[\"Cam Newton\",\"CAR\"],[\"Kelvin Benjamin\",\"CAR\"],[\"D.J. Moore\",\"CAR\"],[\"Steve Smith\",\"CAR\"],[\"Ted Ginn\",\"CAR\"],[\"Greg Olsen\",\"CAR\"],[\"Devin Funchess\",\"CAR\"],[\"Brandon LaFell\",\"CAR\"],[\"Jonathan Stewart\",\"CAR\"],[\"Curtis Samuel\",\"CAR\"],[\"DeAngelo Williams\",\"CAR\"],[\"Jerricho Cotchery\",\"CAR\"],[\"David Gettis\",\"CAR\"],[\"Jeremy Shockey\",\"CAR\"],[\"Kyle Allen\",\"CAR\"],[\"Legedu Naanee\",\"CAR\"],[\"Corey Brown\",\"CAR\"],[\"Mike Tolbert\",\"CAR\"],[\"Jarius Wright\",\"CAR\"],[\"Louis Murphy\",\"CAR\"],[\"Mike Goodson\",\"CAR\"],[\"Ian Thomas\",\"CAR\"],[\"Dante Rosario\",\"CAR\"],[\"Jimmy Clausen\",\"CAR\"],[\"Torrey Smith\",\"CAR\"],[\"Russell Shepard\",\"CAR\"],[\"Ed Dickson\",\"CAR\"],[\"Jeff King\",\"CAR\"],[\"Fozzy Whittaker\",\"CAR\"],[\"Matt Moore\",\"CAR\"],[\"Reggie Bonnafon\",\"CAR\"],[\"Tyrell Sutton\",\"CAR\"],[\"Cameron Artis-Payne\",\"CAR\"],[\"Gary Barnidge\",\"CAR\"],[\"Brenton Bersin\",\"CAR\"],[\"Brandon Zylstra\",\"CAR\"],[\"Domenik Hixon\",\"CAR\"],[\"Darrin Reaves\",\"CAR\"],[\"Chris Hogan\",\"CAR\"],[\"Taylor Heinicke\",\"CAR\"],[\"Kealoha Pilares\",\"CAR\"],[\"Damiere Byrd\",\"CAR\"],[\"Alex Armah\",\"CAR\"],[\"Derek Anderson\",\"CAR\"],[\"Tony Fiammetta\",\"CAR\"],[\"DeAndrew White\",\"CAR\"],[\"Brandon Williams\",\"CAR\"],[\"Brian St. Pierre\",\"CAR\"],[\"Chris Manhertz\",\"CAR\"],[\"Armanti Edwards\",\"CAR\"],[\"Dwayne Jarrett\",\"CAR\"],[\"Richie Brockel\",\"CAR\"],[\"Ben Hartsock\",\"CAR\"],[\"Josh Vaughan\",\"CAR\"],[\"Kenjon Barner\",\"CAR\"],[\"Travaris Cadet\",\"CAR\"],[\"Scott Simonson\",\"CAR\"],[\"Tony Pike\",\"CAR\"],[\"Garrett Gilbert\",\"CAR\"],[\"Seyi Ajirotutu\",\"CAR\"],[\"Will Grier\",\"CAR\"],[\"Joe Webb\",\"CAR\"],[\"Jordan Scarlett\",\"CAR\"],[\"Armond Smith\",\"CAR\"],[\"De'Andre Presley\",\"CAR\"],[\"Greg Dortch\",\"CAR\"],[\"Ray-Ray McCloud\",\"CAR\"],[\"Joe Adams\",\"CAR\"]]},\"selected\":{\"id\":\"4985\"},\"selection_policy\":{\"id\":\"5012\"}},\"id\":\"4984\",\"type\":\"ColumnDataSource\"},{\"attributes\":{},\"id\":\"4970\",\"type\":\"SaveTool\"},{\"attributes\":{\"children\":[{\"id\":\"4950\"},{\"id\":\"4954\"},{\"id\":\"5025\"},{\"id\":\"5026\"}],\"margin\":[0,0,0,0],\"name\":\"Row23637\"},\"id\":\"4949\",\"type\":\"Row\"},{\"attributes\":{\"text\":\"Tm: CAR\",\"text_color\":\"black\",\"text_font_size\":\"12pt\"},\"id\":\"4955\",\"type\":\"Title\"},{\"attributes\":{\"bottom\":{\"value\":0},\"fill_alpha\":{\"value\":1.0},\"fill_color\":{\"field\":\"Tm\",\"transform\":{\"id\":\"4983\"}},\"hatch_alpha\":{\"value\":1.0},\"hatch_color\":{\"value\":\"black\"},\"hatch_scale\":{\"value\":12.0},\"hatch_weight\":{\"value\":1.0},\"line_alpha\":{\"value\":1.0},\"line_cap\":{\"value\":\"butt\"},\"line_color\":{\"value\":\"black\"},\"line_dash\":{\"value\":[]},\"line_dash_offset\":{\"value\":0},\"line_join\":{\"value\":\"bevel\"},\"line_width\":{\"value\":1},\"top\":{\"field\":\"FantasyPoints\"},\"width\":{\"value\":0.8},\"x\":{\"field\":\"xoffsets\"}},\"id\":\"4992\",\"type\":\"VBar\"},{\"attributes\":{\"factors\":[[\"Christian McCaffrey\",\"CAR\"],[\"Cam Newton\",\"CAR\"],[\"Kelvin Benjamin\",\"CAR\"],[\"D.J. Moore\",\"CAR\"],[\"Steve Smith\",\"CAR\"],[\"Ted Ginn\",\"CAR\"],[\"Greg Olsen\",\"CAR\"],[\"Devin Funchess\",\"CAR\"],[\"Brandon LaFell\",\"CAR\"],[\"Jonathan Stewart\",\"CAR\"],[\"Curtis Samuel\",\"CAR\"],[\"DeAngelo Williams\",\"CAR\"],[\"Jerricho Cotchery\",\"CAR\"],[\"David Gettis\",\"CAR\"],[\"Jeremy Shockey\",\"CAR\"],[\"Kyle Allen\",\"CAR\"],[\"Legedu Naanee\",\"CAR\"],[\"Corey Brown\",\"CAR\"],[\"Mike Tolbert\",\"CAR\"],[\"Jarius Wright\",\"CAR\"],[\"Louis Murphy\",\"CAR\"],[\"Mike Goodson\",\"CAR\"],[\"Ian Thomas\",\"CAR\"],[\"Dante Rosario\",\"CAR\"],[\"Jimmy Clausen\",\"CAR\"],[\"Torrey Smith\",\"CAR\"],[\"Russell Shepard\",\"CAR\"],[\"Ed Dickson\",\"CAR\"],[\"Jeff King\",\"CAR\"],[\"Fozzy Whittaker\",\"CAR\"],[\"Matt Moore\",\"CAR\"],[\"Reggie Bonnafon\",\"CAR\"],[\"Tyrell Sutton\",\"CAR\"],[\"Cameron Artis-Payne\",\"CAR\"],[\"Gary Barnidge\",\"CAR\"],[\"Brenton Bersin\",\"CAR\"],[\"Brandon Zylstra\",\"CAR\"],[\"Domenik Hixon\",\"CAR\"],[\"Darrin Reaves\",\"CAR\"],[\"Chris Hogan\",\"CAR\"],[\"Taylor Heinicke\",\"CAR\"],[\"Kealoha Pilares\",\"CAR\"],[\"Damiere Byrd\",\"CAR\"],[\"Alex Armah\",\"CAR\"],[\"Derek Anderson\",\"CAR\"],[\"Tony Fiammetta\",\"CAR\"],[\"DeAndrew White\",\"CAR\"],[\"Brandon Williams\",\"CAR\"],[\"Brian St. Pierre\",\"CAR\"],[\"Chris Manhertz\",\"CAR\"],[\"Armanti Edwards\",\"CAR\"],[\"Dwayne Jarrett\",\"CAR\"],[\"Richie Brockel\",\"CAR\"],[\"Ben Hartsock\",\"CAR\"],[\"Josh Vaughan\",\"CAR\"],[\"Kenjon Barner\",\"CAR\"],[\"Travaris Cadet\",\"CAR\"],[\"Scott Simonson\",\"CAR\"],[\"Tony Pike\",\"CAR\"],[\"Garrett Gilbert\",\"CAR\"],[\"Seyi Ajirotutu\",\"CAR\"],[\"Will Grier\",\"CAR\"],[\"Joe Webb\",\"CAR\"],[\"Jordan Scarlett\",\"CAR\"],[\"Armond Smith\",\"CAR\"],[\"De'Andre Presley\",\"CAR\"],[\"Greg Dortch\",\"CAR\"],[\"Ray-Ray McCloud\",\"CAR\"],[\"Joe Adams\",\"CAR\"]],\"tags\":[[[\"Player\",\"Player\",null],[\"Tm\",\"Tm\",null]]]},\"id\":\"4951\",\"type\":\"FactorRange\"},{\"attributes\":{},\"id\":\"4964\",\"type\":\"CategoricalTicker\"}],\"root_ids\":[\"4949\",\"5061\"]},\"title\":\"Bokeh Application\",\"version\":\"2.3.2\"}};\n",
       "    var render_items = [{\"docid\":\"3a267f08-baec-48c7-97f9-e8a356ab982b\",\"root_ids\":[\"4949\"],\"roots\":{\"4949\":\"a9afc6e1-db1a-4b4d-865f-2d76d49ea2e7\"}}];\n",
       "    root.Bokeh.embed.embed_items_notebook(docs_json, render_items);\n",
       "  }\n",
       "  if (root.Bokeh !== undefined && root.Bokeh.Panel !== undefined && ( root['Plotly'] !== undefined)) {\n",
       "    embed_document(root);\n",
       "  } else {\n",
       "    var attempts = 0;\n",
       "    var timer = setInterval(function(root) {\n",
       "      if (root.Bokeh !== undefined && root.Bokeh.Panel !== undefined && (root['Plotly'] !== undefined)) {\n",
       "        clearInterval(timer);\n",
       "        embed_document(root);\n",
       "      } else if (document.readyState == \"complete\") {\n",
       "        attempts++;\n",
       "        if (attempts > 200) {\n",
       "          clearInterval(timer);\n",
       "          console.log(\"Bokeh: ERROR: Unable to run BokehJS code because BokehJS library is missing\");\n",
       "        }\n",
       "      }\n",
       "    }, 25, root)\n",
       "  }\n",
       "})(window);</script>"
      ],
      "text/plain": [
       ":DynamicMap   [Tm]\n",
       "   :Bars   [Player,Tm]   (FantasyPoints)"
      ]
     },
     "execution_count": 43,
     "metadata": {
      "application/vnd.holoviews_exec.v0+json": {
       "id": "4949"
      }
     },
     "output_type": "execute_result"
    }
   ],
   "source": [
    "# imports\n",
    "\n",
    "import panel as pn\n",
    "pn.extension('plotly')\n",
    "import plotly.express as px\n",
    "import pandas as pd\n",
    "import hvplot.pandas\n",
    "import matplotlib.pyplot as plt\n",
    "import numpy as np\n",
    "import os\n",
    "from pathlib import Path\n",
    "from dotenv import load_dotenv\n",
    "import warnings\n",
    "warnings.filterwarnings('ignore')\n",
    "\n",
    "# Import all the CSVs from the Data of the last 10 years\n",
    "\n",
    "file_path_2010 = Path(\"../Data/RawData/2010.csv\")\n",
    "file_path_2011 = Path(\"../Data/RawData/2011.csv\")\n",
    "file_path_2012 = Path(\"../Data/RawData/2012.csv\")\n",
    "file_path_2013 = Path(\"../Data/RawData/2013.csv\")\n",
    "file_path_2014 = Path(\"../Data/RawData/2014.csv\")\n",
    "file_path_2015 = Path(\"../Data/RawData/2015.csv\")\n",
    "file_path_2016 = Path(\"../Data/RawData/2016.csv\")\n",
    "file_path_2017 = Path(\"../Data/RawData/2017.csv\")\n",
    "file_path_2018 = Path(\"../Data/RawData/2018.csv\")\n",
    "file_path_2019 = Path(\"../Data/RawData/2019.csv\")\n",
    "\n",
    "# Convert the data to DataFrames and add a Year column\n",
    "\n",
    "data_2010 = pd.read_csv(file_path_2010)\n",
    "data_2010['Year'] = '2010'\n",
    "data_2011 = pd.read_csv(file_path_2011)\n",
    "data_2011['Year'] = '2011'\n",
    "data_2012 = pd.read_csv(file_path_2012)\n",
    "data_2012['Year'] = '2012'\n",
    "data_2013 = pd.read_csv(file_path_2013)\n",
    "data_2013['Year'] = '2013'\n",
    "data_2014 = pd.read_csv(file_path_2014)\n",
    "data_2014['Year'] = '2014'\n",
    "data_2015 = pd.read_csv(file_path_2015)\n",
    "data_2015['Year'] = '2015'\n",
    "data_2016 = pd.read_csv(file_path_2016)\n",
    "data_2016['Year'] = '2016'\n",
    "data_2017 = pd.read_csv(file_path_2017)\n",
    "data_2017['Year'] = '2017'\n",
    "data_2018 = pd.read_csv(file_path_2018)\n",
    "data_2018['Year'] = '2018'\n",
    "data_2019 = pd.read_csv(file_path_2019)\n",
    "data_2019['Year'] = '2019'\n",
    "\n",
    "# Select specific columns desired to play with the data\n",
    "\n",
    "data_2010 = data_2010[[\"Year\",\"Player\",\"Tm\",\"Pos\",\"FantasyPoints\"]]\n",
    "data_2011 = data_2011[[\"Year\",\"Player\",\"Tm\",\"Pos\",\"FantasyPoints\"]]\n",
    "data_2012 = data_2012[[\"Year\",\"Player\",\"Tm\",\"Pos\",\"FantasyPoints\"]]\n",
    "data_2013 = data_2013[[\"Year\",\"Player\",\"Tm\",\"Pos\",\"FantasyPoints\"]]\n",
    "data_2014 = data_2014[[\"Year\",\"Player\",\"Tm\",\"Pos\",\"FantasyPoints\"]]\n",
    "data_2015 = data_2015[[\"Year\",\"Player\",\"Tm\",\"Pos\",\"FantasyPoints\"]]\n",
    "data_2016 = data_2016[[\"Year\",\"Player\",\"Tm\",\"Pos\",\"FantasyPoints\"]]\n",
    "data_2017 = data_2017[[\"Year\",\"Player\",\"Tm\",\"Pos\",\"FantasyPoints\"]]\n",
    "data_2018 = data_2018[[\"Year\",\"Player\",\"Tm\",\"Pos\",\"FantasyPoints\"]]\n",
    "data_2019 = data_2019[[\"Year\",\"Player\",\"Tm\",\"Pos\",\"FantasyPoints\"]]\n",
    "\n",
    "# Set the index as the year\n",
    "\n",
    "data_2010 = data_2010.set_index(\"Year\")\n",
    "data_2011 = data_2011.set_index(\"Year\")\n",
    "data_2012 = data_2012.set_index(\"Year\")\n",
    "data_2013 = data_2013.set_index(\"Year\")\n",
    "data_2014 = data_2014.set_index(\"Year\")\n",
    "data_2015 = data_2015.set_index(\"Year\")\n",
    "data_2016 = data_2016.set_index(\"Year\")\n",
    "data_2017 = data_2017.set_index(\"Year\")\n",
    "data_2018 = data_2018.set_index(\"Year\")\n",
    "data_2019 = data_2019.set_index(\"Year\")\n",
    "\n",
    "# Merge all the data and clean it by eliminating players that don't have any points, or a single team\n",
    "\n",
    "full_data = pd.concat([data_2010, data_2011, data_2012, data_2013, data_2014, data_2015, data_2016, data_2017, data_2018, data_2019])\n",
    "full_data = full_data[full_data['FantasyPoints'] != 0]\n",
    "full_data = full_data[full_data['Tm'] != '2TM']\n",
    "full_data = full_data[full_data['Tm'] != '3TM']\n",
    "full_data = full_data[full_data['Tm'] != '4TM']\n",
    "full_data.to_csv('../Data/CleanData/full_data.csv', encoding='utf-8')\n",
    "\n",
    "player_mean = full_data.groupby(['Player', 'Tm']).mean().sort_values(by='FantasyPoints', ascending=False, na_position='first')\n",
    "player_mean.hvplot.bar(width=800, rot=90, groupby=\"Tm\")"
   ]
  },
  {
   "cell_type": "code",
   "execution_count": 44,
   "id": "bb000469",
   "metadata": {},
   "outputs": [
    {
     "data": {},
     "metadata": {},
     "output_type": "display_data"
    },
    {
     "data": {
      "application/vnd.holoviews_exec.v0+json": "",
      "text/html": [
       "<div id='5112'>\n",
       "\n",
       "\n",
       "\n",
       "\n",
       "\n",
       "  <div class=\"bk-root\" id=\"508eaf1d-76ff-4ce7-9c8e-aaa4789964c2\" data-root-id=\"5112\"></div>\n",
       "</div>\n",
       "<script type=\"application/javascript\">(function(root) {\n",
       "  function embed_document(root) {\n",
       "    var docs_json = {\"f5c6bb37-d92d-46a1-a4ca-fb9ce1fae812\":{\"defs\":[{\"extends\":null,\"module\":null,\"name\":\"ReactiveHTML1\",\"overrides\":[],\"properties\":[]},{\"extends\":null,\"module\":null,\"name\":\"FlexBox1\",\"overrides\":[],\"properties\":[{\"default\":\"flex-start\",\"kind\":null,\"name\":\"align_content\"},{\"default\":\"flex-start\",\"kind\":null,\"name\":\"align_items\"},{\"default\":\"row\",\"kind\":null,\"name\":\"flex_direction\"},{\"default\":\"wrap\",\"kind\":null,\"name\":\"flex_wrap\"},{\"default\":\"flex-start\",\"kind\":null,\"name\":\"justify_content\"}]},{\"extends\":null,\"module\":null,\"name\":\"TemplateActions1\",\"overrides\":[],\"properties\":[{\"default\":0,\"kind\":null,\"name\":\"open_modal\"},{\"default\":0,\"kind\":null,\"name\":\"close_modal\"}]},{\"extends\":null,\"module\":null,\"name\":\"MaterialTemplateActions1\",\"overrides\":[],\"properties\":[{\"default\":0,\"kind\":null,\"name\":\"open_modal\"},{\"default\":0,\"kind\":null,\"name\":\"close_modal\"}]}],\"roots\":{\"references\":[{\"attributes\":{\"overlay\":{\"id\":\"5138\"}},\"id\":\"5136\",\"type\":\"BoxZoomTool\"},{\"attributes\":{\"text_color\":\"black\",\"text_font_size\":\"12pt\"},\"id\":\"5118\",\"type\":\"Title\"},{\"attributes\":{},\"id\":\"5137\",\"type\":\"ResetTool\"},{\"attributes\":{\"bottom\":{\"value\":0},\"fill_alpha\":{\"value\":1.0},\"fill_color\":{\"value\":\"#30a2da\"},\"hatch_alpha\":{\"value\":1.0},\"hatch_color\":{\"value\":\"black\"},\"hatch_scale\":{\"value\":12.0},\"hatch_weight\":{\"value\":1.0},\"line_alpha\":{\"value\":1.0},\"line_cap\":{\"value\":\"butt\"},\"line_color\":{\"value\":\"black\"},\"line_dash\":{\"value\":[]},\"line_dash_offset\":{\"value\":0},\"line_join\":{\"value\":\"bevel\"},\"line_width\":{\"value\":1},\"top\":{\"field\":\"FantasyPoints\"},\"width\":{\"value\":0.8},\"x\":{\"field\":\"Tm\"}},\"id\":\"5154\",\"type\":\"VBar\"},{\"attributes\":{\"below\":[{\"id\":\"5126\"}],\"center\":[{\"id\":\"5128\"},{\"id\":\"5132\"}],\"height\":300,\"left\":[{\"id\":\"5129\"}],\"margin\":[5,5,5,5],\"min_border_bottom\":10,\"min_border_left\":10,\"min_border_right\":10,\"min_border_top\":10,\"renderers\":[{\"id\":\"5152\"}],\"sizing_mode\":\"fixed\",\"title\":{\"id\":\"5118\"},\"toolbar\":{\"id\":\"5139\"},\"width\":800,\"x_range\":{\"id\":\"5114\"},\"x_scale\":{\"id\":\"5122\"},\"y_range\":{\"id\":\"5115\"},\"y_scale\":{\"id\":\"5124\"}},\"id\":\"5117\",\"subtype\":\"Figure\",\"type\":\"Plot\"},{\"attributes\":{\"axis_label\":\"FantasyPoints\",\"formatter\":{\"id\":\"5158\"},\"major_label_policy\":{\"id\":\"5159\"},\"ticker\":{\"id\":\"5130\"}},\"id\":\"5129\",\"type\":\"LinearAxis\"},{\"attributes\":{\"bottom_units\":\"screen\",\"fill_alpha\":0.5,\"fill_color\":\"lightgrey\",\"left_units\":\"screen\",\"level\":\"overlay\",\"line_alpha\":1.0,\"line_color\":\"black\",\"line_dash\":[4,4],\"line_width\":2,\"right_units\":\"screen\",\"syncable\":false,\"top_units\":\"screen\"},\"id\":\"5138\",\"type\":\"BoxAnnotation\"},{\"attributes\":{},\"id\":\"5127\",\"type\":\"CategoricalTicker\"},{\"attributes\":{\"source\":{\"id\":\"5146\"}},\"id\":\"5153\",\"type\":\"CDSView\"},{\"attributes\":{\"children\":[{\"id\":\"5113\"},{\"id\":\"5117\"},{\"id\":\"5181\"}],\"margin\":[0,0,0,0],\"name\":\"Row24635\",\"tags\":[\"embedded\"]},\"id\":\"5112\",\"type\":\"Row\"},{\"attributes\":{\"axis\":{\"id\":\"5129\"},\"dimension\":1,\"grid_line_color\":null,\"ticker\":null},\"id\":\"5132\",\"type\":\"Grid\"},{\"attributes\":{\"fill_alpha\":{\"value\":0.1},\"fill_color\":{\"value\":\"#30a2da\"},\"line_alpha\":{\"value\":0.1},\"top\":{\"field\":\"FantasyPoints\"},\"width\":{\"value\":0.8},\"x\":{\"field\":\"Tm\"}},\"id\":\"5150\",\"type\":\"VBar\"},{\"attributes\":{},\"id\":\"5168\",\"type\":\"UnionRenderers\"},{\"attributes\":{\"data_source\":{\"id\":\"5146\"},\"glyph\":{\"id\":\"5149\"},\"hover_glyph\":null,\"muted_glyph\":{\"id\":\"5151\"},\"nonselection_glyph\":{\"id\":\"5150\"},\"selection_glyph\":{\"id\":\"5154\"},\"view\":{\"id\":\"5153\"}},\"id\":\"5152\",\"type\":\"GlyphRenderer\"},{\"attributes\":{},\"id\":\"5124\",\"type\":\"LinearScale\"},{\"attributes\":{\"data\":{\"FantasyPoints\":{\"__ndarray__\":\"pRFjZ851WUCGYjgbQj5YQH8Y9+uS+ldAaW3sIA71V0Dx/OqFHUpXQEYS36t4BVdAklCgEdvLVkBryLnPLqpWQFrOeIQOkFZAeDyUENZNVkDcTCZgiRtWQEcqcd/DQlVAGvWWUW85VUDkWiSoqTBVQIvyGsprMFVA4mMSaJ4aVUAl+DX2p9BUQC3puo+Jn1RAhazF+fdhVEAuNpIocUFUQJ9hV4DcK1RAzXMJZA3zU0Cqp7GM7p9TQKfDSgY3llNAVd+OhxJiU0A08axoJEBTQLCMPIiy8VJANlW/uVviUkDwjADPCPBRQCUVZfgEf1FAmqN0+8pqUUDF/wnhhEVRQHRycnJyAlFAUq+OhOJRUEA=\",\"dtype\":\"float64\",\"order\":\"little\",\"shape\":[34]},\"Tm\":[\"NOR\",\"NWE\",\"LAC\",\"ATL\",\"PHI\",\"DAL\",\"LAR\",\"SDG\",\"DET\",\"GNB\",\"DEN\",\"BAL\",\"CIN\",\"PIT\",\"CAR\",\"MIA\",\"HOU\",\"IND\",\"NYG\",\"MIN\",\"KAN\",\"CHI\",\"TAM\",\"SEA\",\"OAK\",\"WAS\",\"SFO\",\"TEN\",\"STL\",\"ARI\",\"BUF\",\"CLE\",\"NYJ\",\"JAX\"]},\"selected\":{\"id\":\"5147\"},\"selection_policy\":{\"id\":\"5168\"}},\"id\":\"5146\",\"type\":\"ColumnDataSource\"},{\"attributes\":{},\"id\":\"5130\",\"type\":\"BasicTicker\"},{\"attributes\":{},\"id\":\"5159\",\"type\":\"AllLabels\"},{\"attributes\":{},\"id\":\"5135\",\"type\":\"WheelZoomTool\"},{\"attributes\":{\"factors\":[\"NOR\",\"NWE\",\"LAC\",\"ATL\",\"PHI\",\"DAL\",\"LAR\",\"SDG\",\"DET\",\"GNB\",\"DEN\",\"BAL\",\"CIN\",\"PIT\",\"CAR\",\"MIA\",\"HOU\",\"IND\",\"NYG\",\"MIN\",\"KAN\",\"CHI\",\"TAM\",\"SEA\",\"OAK\",\"WAS\",\"SFO\",\"TEN\",\"STL\",\"ARI\",\"BUF\",\"CLE\",\"NYJ\",\"JAX\"],\"tags\":[[[\"Tm\",\"Tm\",null]]]},\"id\":\"5114\",\"type\":\"FactorRange\"},{\"attributes\":{},\"id\":\"5155\",\"type\":\"CategoricalTickFormatter\"},{\"attributes\":{},\"id\":\"5156\",\"type\":\"AllLabels\"},{\"attributes\":{\"axis\":{\"id\":\"5126\"},\"grid_line_color\":null,\"ticker\":null},\"id\":\"5128\",\"type\":\"Grid\"},{\"attributes\":{\"active_multi\":null,\"tools\":[{\"id\":\"5116\"},{\"id\":\"5133\"},{\"id\":\"5134\"},{\"id\":\"5135\"},{\"id\":\"5136\"},{\"id\":\"5137\"}]},\"id\":\"5139\",\"type\":\"Toolbar\"},{\"attributes\":{\"margin\":[5,5,5,5],\"name\":\"HSpacer24639\",\"sizing_mode\":\"stretch_width\"},\"id\":\"5113\",\"type\":\"Spacer\"},{\"attributes\":{},\"id\":\"5134\",\"type\":\"PanTool\"},{\"attributes\":{},\"id\":\"5122\",\"type\":\"CategoricalScale\"},{\"attributes\":{},\"id\":\"5158\",\"type\":\"BasicTickFormatter\"},{\"attributes\":{},\"id\":\"5147\",\"type\":\"Selection\"},{\"attributes\":{\"end\":105.49685012577784,\"reset_end\":105.49685012577784,\"reset_start\":0.0,\"tags\":[[[\"FantasyPoints\",\"FantasyPoints\",null]]]},\"id\":\"5115\",\"type\":\"Range1d\"},{\"attributes\":{\"margin\":[5,5,5,5],\"name\":\"HSpacer24640\",\"sizing_mode\":\"stretch_width\"},\"id\":\"5181\",\"type\":\"Spacer\"},{\"attributes\":{\"axis_label\":\"Tm\",\"formatter\":{\"id\":\"5155\"},\"major_label_orientation\":1.5707963267948966,\"major_label_policy\":{\"id\":\"5156\"},\"ticker\":{\"id\":\"5127\"}},\"id\":\"5126\",\"type\":\"CategoricalAxis\"},{\"attributes\":{\"callback\":null,\"renderers\":[{\"id\":\"5152\"}],\"tags\":[\"hv_created\"],\"tooltips\":[[\"Tm\",\"@{Tm}\"],[\"FantasyPoints\",\"@{FantasyPoints}\"]]},\"id\":\"5116\",\"type\":\"HoverTool\"},{\"attributes\":{},\"id\":\"5133\",\"type\":\"SaveTool\"},{\"attributes\":{\"fill_color\":{\"value\":\"#30a2da\"},\"top\":{\"field\":\"FantasyPoints\"},\"width\":{\"value\":0.8},\"x\":{\"field\":\"Tm\"}},\"id\":\"5149\",\"type\":\"VBar\"},{\"attributes\":{\"fill_alpha\":{\"value\":0.2},\"fill_color\":{\"value\":\"#30a2da\"},\"line_alpha\":{\"value\":0.2},\"top\":{\"field\":\"FantasyPoints\"},\"width\":{\"value\":0.8},\"x\":{\"field\":\"Tm\"}},\"id\":\"5151\",\"type\":\"VBar\"}],\"root_ids\":[\"5112\"]},\"title\":\"Bokeh Application\",\"version\":\"2.3.2\"}};\n",
       "    var render_items = [{\"docid\":\"f5c6bb37-d92d-46a1-a4ca-fb9ce1fae812\",\"root_ids\":[\"5112\"],\"roots\":{\"5112\":\"508eaf1d-76ff-4ce7-9c8e-aaa4789964c2\"}}];\n",
       "    root.Bokeh.embed.embed_items_notebook(docs_json, render_items);\n",
       "  }\n",
       "  if (root.Bokeh !== undefined && root.Bokeh.Panel !== undefined && ( root['Plotly'] !== undefined)) {\n",
       "    embed_document(root);\n",
       "  } else {\n",
       "    var attempts = 0;\n",
       "    var timer = setInterval(function(root) {\n",
       "      if (root.Bokeh !== undefined && root.Bokeh.Panel !== undefined && (root['Plotly'] !== undefined)) {\n",
       "        clearInterval(timer);\n",
       "        embed_document(root);\n",
       "      } else if (document.readyState == \"complete\") {\n",
       "        attempts++;\n",
       "        if (attempts > 200) {\n",
       "          clearInterval(timer);\n",
       "          console.log(\"Bokeh: ERROR: Unable to run BokehJS code because BokehJS library is missing\");\n",
       "        }\n",
       "      }\n",
       "    }, 25, root)\n",
       "  }\n",
       "})(window);</script>"
      ],
      "text/plain": [
       ":Bars   [Tm]   (FantasyPoints)"
      ]
     },
     "execution_count": 44,
     "metadata": {
      "application/vnd.holoviews_exec.v0+json": {
       "id": "5112"
      }
     },
     "output_type": "execute_result"
    }
   ],
   "source": [
    "team_mean = full_data.groupby(['Tm']).mean().sort_values(by='FantasyPoints', ascending=False, na_position='first')\n",
    "team_mean.hvplot.bar(width=800, rot=90)"
   ]
  },
  {
   "cell_type": "code",
   "execution_count": 45,
   "id": "2c533bcd",
   "metadata": {},
   "outputs": [
    {
     "data": {},
     "metadata": {},
     "output_type": "display_data"
    },
    {
     "data": {
      "application/vnd.holoviews_exec.v0+json": "",
      "text/html": [
       "<div id='5233'>\n",
       "\n",
       "\n",
       "\n",
       "\n",
       "\n",
       "  <div class=\"bk-root\" id=\"a281b08e-0a67-406b-a47a-d980bc959b4d\" data-root-id=\"5233\"></div>\n",
       "</div>\n",
       "<script type=\"application/javascript\">(function(root) {\n",
       "  function embed_document(root) {\n",
       "    var docs_json = {\"a23db988-f0a1-4255-a9c3-c16950257bc8\":{\"defs\":[{\"extends\":null,\"module\":null,\"name\":\"ReactiveHTML1\",\"overrides\":[],\"properties\":[]},{\"extends\":null,\"module\":null,\"name\":\"FlexBox1\",\"overrides\":[],\"properties\":[{\"default\":\"flex-start\",\"kind\":null,\"name\":\"align_content\"},{\"default\":\"flex-start\",\"kind\":null,\"name\":\"align_items\"},{\"default\":\"row\",\"kind\":null,\"name\":\"flex_direction\"},{\"default\":\"wrap\",\"kind\":null,\"name\":\"flex_wrap\"},{\"default\":\"flex-start\",\"kind\":null,\"name\":\"justify_content\"}]},{\"extends\":null,\"module\":null,\"name\":\"TemplateActions1\",\"overrides\":[],\"properties\":[{\"default\":0,\"kind\":null,\"name\":\"open_modal\"},{\"default\":0,\"kind\":null,\"name\":\"close_modal\"}]},{\"extends\":null,\"module\":null,\"name\":\"MaterialTemplateActions1\",\"overrides\":[],\"properties\":[{\"default\":0,\"kind\":null,\"name\":\"open_modal\"},{\"default\":0,\"kind\":null,\"name\":\"close_modal\"}]}],\"roots\":{\"references\":[{\"attributes\":{\"below\":[{\"id\":\"5247\"}],\"center\":[{\"id\":\"5249\"},{\"id\":\"5253\"}],\"height\":300,\"left\":[{\"id\":\"5250\"}],\"margin\":[5,5,5,5],\"min_border_bottom\":10,\"min_border_left\":10,\"min_border_right\":10,\"min_border_top\":10,\"renderers\":[{\"id\":\"5273\"}],\"sizing_mode\":\"fixed\",\"title\":{\"id\":\"5239\"},\"toolbar\":{\"id\":\"5260\"},\"width\":800,\"x_range\":{\"id\":\"5235\"},\"x_scale\":{\"id\":\"5243\"},\"y_range\":{\"id\":\"5236\"},\"y_scale\":{\"id\":\"5245\"}},\"id\":\"5238\",\"subtype\":\"Figure\",\"type\":\"Plot\"},{\"attributes\":{},\"id\":\"5251\",\"type\":\"BasicTicker\"},{\"attributes\":{},\"id\":\"5254\",\"type\":\"SaveTool\"},{\"attributes\":{\"end\":124.79333395931144,\"reset_end\":124.79333395931144,\"reset_start\":0.0,\"tags\":[[[\"FantasyPoints\",\"FantasyPoints\",null]]]},\"id\":\"5236\",\"type\":\"Range1d\"},{\"attributes\":{\"axis\":{\"id\":\"5247\"},\"grid_line_color\":null,\"ticker\":null},\"id\":\"5249\",\"type\":\"Grid\"},{\"attributes\":{\"fill_alpha\":{\"value\":0.1},\"fill_color\":{\"value\":\"#30a2da\"},\"line_alpha\":{\"value\":0.1},\"top\":{\"field\":\"FantasyPoints\"},\"width\":{\"value\":0.8},\"x\":{\"field\":\"Pos\"}},\"id\":\"5271\",\"type\":\"VBar\"},{\"attributes\":{\"data\":{\"FantasyPoints\":{\"__ndarray__\":\"OtKY6rGIXEAS9nmQFS9WQKw+cxU06lJAqFC6n9I/TUDpkz7pkz4eQA==\",\"dtype\":\"float64\",\"order\":\"little\",\"shape\":[5]},\"Pos\":[\"QB\",\"WR\",\"RB\",\"TE\",\"0\"]},\"selected\":{\"id\":\"5268\"},\"selection_policy\":{\"id\":\"5289\"}},\"id\":\"5267\",\"type\":\"ColumnDataSource\"},{\"attributes\":{},\"id\":\"5248\",\"type\":\"CategoricalTicker\"},{\"attributes\":{\"axis_label\":\"Pos\",\"formatter\":{\"id\":\"5276\"},\"major_label_orientation\":1.5707963267948966,\"major_label_policy\":{\"id\":\"5277\"},\"ticker\":{\"id\":\"5248\"}},\"id\":\"5247\",\"type\":\"CategoricalAxis\"},{\"attributes\":{\"text_color\":\"black\",\"text_font_size\":\"12pt\"},\"id\":\"5239\",\"type\":\"Title\"},{\"attributes\":{},\"id\":\"5243\",\"type\":\"CategoricalScale\"},{\"attributes\":{\"bottom\":{\"value\":0},\"fill_alpha\":{\"value\":1.0},\"fill_color\":{\"value\":\"#30a2da\"},\"hatch_alpha\":{\"value\":1.0},\"hatch_color\":{\"value\":\"black\"},\"hatch_scale\":{\"value\":12.0},\"hatch_weight\":{\"value\":1.0},\"line_alpha\":{\"value\":1.0},\"line_cap\":{\"value\":\"butt\"},\"line_color\":{\"value\":\"black\"},\"line_dash\":{\"value\":[]},\"line_dash_offset\":{\"value\":0},\"line_join\":{\"value\":\"bevel\"},\"line_width\":{\"value\":1},\"top\":{\"field\":\"FantasyPoints\"},\"width\":{\"value\":0.8},\"x\":{\"field\":\"Pos\"}},\"id\":\"5275\",\"type\":\"VBar\"},{\"attributes\":{},\"id\":\"5255\",\"type\":\"PanTool\"},{\"attributes\":{},\"id\":\"5279\",\"type\":\"BasicTickFormatter\"},{\"attributes\":{},\"id\":\"5245\",\"type\":\"LinearScale\"},{\"attributes\":{},\"id\":\"5289\",\"type\":\"UnionRenderers\"},{\"attributes\":{\"axis\":{\"id\":\"5250\"},\"dimension\":1,\"grid_line_color\":null,\"ticker\":null},\"id\":\"5253\",\"type\":\"Grid\"},{\"attributes\":{\"factors\":[\"QB\",\"WR\",\"RB\",\"TE\",\"0\"],\"tags\":[[[\"Pos\",\"Pos\",null]]]},\"id\":\"5235\",\"type\":\"FactorRange\"},{\"attributes\":{\"source\":{\"id\":\"5267\"}},\"id\":\"5274\",\"type\":\"CDSView\"},{\"attributes\":{\"overlay\":{\"id\":\"5259\"}},\"id\":\"5257\",\"type\":\"BoxZoomTool\"},{\"attributes\":{},\"id\":\"5268\",\"type\":\"Selection\"},{\"attributes\":{},\"id\":\"5276\",\"type\":\"CategoricalTickFormatter\"},{\"attributes\":{},\"id\":\"5256\",\"type\":\"WheelZoomTool\"},{\"attributes\":{\"children\":[{\"id\":\"5234\"},{\"id\":\"5238\"},{\"id\":\"5302\"}],\"margin\":[0,0,0,0],\"name\":\"Row24784\",\"tags\":[\"embedded\"]},\"id\":\"5233\",\"type\":\"Row\"},{\"attributes\":{\"fill_color\":{\"value\":\"#30a2da\"},\"top\":{\"field\":\"FantasyPoints\"},\"width\":{\"value\":0.8},\"x\":{\"field\":\"Pos\"}},\"id\":\"5270\",\"type\":\"VBar\"},{\"attributes\":{},\"id\":\"5280\",\"type\":\"AllLabels\"},{\"attributes\":{\"axis_label\":\"FantasyPoints\",\"formatter\":{\"id\":\"5279\"},\"major_label_policy\":{\"id\":\"5280\"},\"ticker\":{\"id\":\"5251\"}},\"id\":\"5250\",\"type\":\"LinearAxis\"},{\"attributes\":{\"data_source\":{\"id\":\"5267\"},\"glyph\":{\"id\":\"5270\"},\"hover_glyph\":null,\"muted_glyph\":{\"id\":\"5272\"},\"nonselection_glyph\":{\"id\":\"5271\"},\"selection_glyph\":{\"id\":\"5275\"},\"view\":{\"id\":\"5274\"}},\"id\":\"5273\",\"type\":\"GlyphRenderer\"},{\"attributes\":{\"active_multi\":null,\"tools\":[{\"id\":\"5237\"},{\"id\":\"5254\"},{\"id\":\"5255\"},{\"id\":\"5256\"},{\"id\":\"5257\"},{\"id\":\"5258\"}]},\"id\":\"5260\",\"type\":\"Toolbar\"},{\"attributes\":{},\"id\":\"5277\",\"type\":\"AllLabels\"},{\"attributes\":{},\"id\":\"5258\",\"type\":\"ResetTool\"},{\"attributes\":{\"margin\":[5,5,5,5],\"name\":\"HSpacer24789\",\"sizing_mode\":\"stretch_width\"},\"id\":\"5302\",\"type\":\"Spacer\"},{\"attributes\":{\"fill_alpha\":{\"value\":0.2},\"fill_color\":{\"value\":\"#30a2da\"},\"line_alpha\":{\"value\":0.2},\"top\":{\"field\":\"FantasyPoints\"},\"width\":{\"value\":0.8},\"x\":{\"field\":\"Pos\"}},\"id\":\"5272\",\"type\":\"VBar\"},{\"attributes\":{\"bottom_units\":\"screen\",\"fill_alpha\":0.5,\"fill_color\":\"lightgrey\",\"left_units\":\"screen\",\"level\":\"overlay\",\"line_alpha\":1.0,\"line_color\":\"black\",\"line_dash\":[4,4],\"line_width\":2,\"right_units\":\"screen\",\"syncable\":false,\"top_units\":\"screen\"},\"id\":\"5259\",\"type\":\"BoxAnnotation\"},{\"attributes\":{\"margin\":[5,5,5,5],\"name\":\"HSpacer24788\",\"sizing_mode\":\"stretch_width\"},\"id\":\"5234\",\"type\":\"Spacer\"},{\"attributes\":{\"callback\":null,\"renderers\":[{\"id\":\"5273\"}],\"tags\":[\"hv_created\"],\"tooltips\":[[\"Pos\",\"@{Pos}\"],[\"FantasyPoints\",\"@{FantasyPoints}\"]]},\"id\":\"5237\",\"type\":\"HoverTool\"}],\"root_ids\":[\"5233\"]},\"title\":\"Bokeh Application\",\"version\":\"2.3.2\"}};\n",
       "    var render_items = [{\"docid\":\"a23db988-f0a1-4255-a9c3-c16950257bc8\",\"root_ids\":[\"5233\"],\"roots\":{\"5233\":\"a281b08e-0a67-406b-a47a-d980bc959b4d\"}}];\n",
       "    root.Bokeh.embed.embed_items_notebook(docs_json, render_items);\n",
       "  }\n",
       "  if (root.Bokeh !== undefined && root.Bokeh.Panel !== undefined && ( root['Plotly'] !== undefined)) {\n",
       "    embed_document(root);\n",
       "  } else {\n",
       "    var attempts = 0;\n",
       "    var timer = setInterval(function(root) {\n",
       "      if (root.Bokeh !== undefined && root.Bokeh.Panel !== undefined && (root['Plotly'] !== undefined)) {\n",
       "        clearInterval(timer);\n",
       "        embed_document(root);\n",
       "      } else if (document.readyState == \"complete\") {\n",
       "        attempts++;\n",
       "        if (attempts > 200) {\n",
       "          clearInterval(timer);\n",
       "          console.log(\"Bokeh: ERROR: Unable to run BokehJS code because BokehJS library is missing\");\n",
       "        }\n",
       "      }\n",
       "    }, 25, root)\n",
       "  }\n",
       "})(window);</script>"
      ],
      "text/plain": [
       ":Bars   [Pos]   (FantasyPoints)"
      ]
     },
     "execution_count": 45,
     "metadata": {
      "application/vnd.holoviews_exec.v0+json": {
       "id": "5233"
      }
     },
     "output_type": "execute_result"
    }
   ],
   "source": [
    "position_mean = full_data.groupby(['Pos']).mean().sort_values(by='FantasyPoints', ascending=False, na_position='first')\n",
    "position_mean.hvplot.bar(width=800, rot=90)"
   ]
  },
  {
   "cell_type": "code",
   "execution_count": null,
   "id": "01ac8b8b",
   "metadata": {},
   "outputs": [],
   "source": []
  },
  {
   "cell_type": "code",
   "execution_count": null,
   "id": "c721e479",
   "metadata": {},
   "outputs": [],
   "source": []
  }
 ],
 "metadata": {
  "kernelspec": {
   "display_name": "Python [conda env:pyvizenv2] *",
   "language": "python",
   "name": "conda-env-pyvizenv2-py"
  },
  "language_info": {
   "codemirror_mode": {
    "name": "ipython",
    "version": 3
   },
   "file_extension": ".py",
   "mimetype": "text/x-python",
   "name": "python",
   "nbconvert_exporter": "python",
   "pygments_lexer": "ipython3",
   "version": "3.7.10"
  }
 },
 "nbformat": 4,
 "nbformat_minor": 5
}
