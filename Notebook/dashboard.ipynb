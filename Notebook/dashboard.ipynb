{
 "cells": [
  {
   "cell_type": "code",
   "execution_count": 4,
   "id": "ae473a6a",
   "metadata": {},
   "outputs": [
    {
     "data": {},
     "metadata": {},
     "output_type": "display_data"
    },
    {
     "data": {
      "application/vnd.holoviews_exec.v0+json": "",
      "text/html": [
       "<div id='1463'>\n",
       "\n",
       "\n",
       "\n",
       "\n",
       "\n",
       "  <div class=\"bk-root\" id=\"c281c65d-e7fa-4f8c-a8e4-2ce2d7c09590\" data-root-id=\"1463\"></div>\n",
       "</div>\n",
       "<script type=\"application/javascript\">(function(root) {\n",
       "  function embed_document(root) {\n",
       "    var docs_json = {\"e9864a8b-6ea2-48c8-bc21-2b41e9ee4312\":{\"defs\":[{\"extends\":null,\"module\":null,\"name\":\"ReactiveHTML1\",\"overrides\":[],\"properties\":[]},{\"extends\":null,\"module\":null,\"name\":\"FlexBox1\",\"overrides\":[],\"properties\":[{\"default\":\"flex-start\",\"kind\":null,\"name\":\"align_content\"},{\"default\":\"flex-start\",\"kind\":null,\"name\":\"align_items\"},{\"default\":\"row\",\"kind\":null,\"name\":\"flex_direction\"},{\"default\":\"wrap\",\"kind\":null,\"name\":\"flex_wrap\"},{\"default\":\"flex-start\",\"kind\":null,\"name\":\"justify_content\"}]},{\"extends\":null,\"module\":null,\"name\":\"TemplateActions1\",\"overrides\":[],\"properties\":[{\"default\":0,\"kind\":null,\"name\":\"open_modal\"},{\"default\":0,\"kind\":null,\"name\":\"close_modal\"}]},{\"extends\":null,\"module\":null,\"name\":\"MaterialTemplateActions1\",\"overrides\":[],\"properties\":[{\"default\":0,\"kind\":null,\"name\":\"open_modal\"},{\"default\":0,\"kind\":null,\"name\":\"close_modal\"}]}],\"roots\":{\"references\":[{\"attributes\":{},\"id\":\"1478\",\"type\":\"CategoricalTicker\"},{\"attributes\":{\"overlay\":{\"id\":\"1489\"}},\"id\":\"1487\",\"type\":\"BoxZoomTool\"},{\"attributes\":{\"fill_color\":{\"field\":\"Tm\",\"transform\":{\"id\":\"1497\"}},\"top\":{\"field\":\"FantasyPoints\"},\"width\":{\"value\":0.8},\"x\":{\"field\":\"xoffsets\"}},\"id\":\"1501\",\"type\":\"VBar\"},{\"attributes\":{\"children\":[{\"id\":\"1541\"},{\"id\":\"1542\"},{\"id\":\"1544\"}],\"margin\":[0,0,0,0],\"name\":\"Column03675\"},\"id\":\"1540\",\"type\":\"Column\"},{\"attributes\":{\"fill_alpha\":{\"value\":0.2},\"fill_color\":{\"field\":\"Tm\",\"transform\":{\"id\":\"1497\"}},\"line_alpha\":{\"value\":0.2},\"top\":{\"field\":\"FantasyPoints\"},\"width\":{\"value\":0.8},\"x\":{\"field\":\"xoffsets\"}},\"id\":\"1503\",\"type\":\"VBar\"},{\"attributes\":{\"axis\":{\"id\":\"1480\"},\"dimension\":1,\"grid_line_color\":null,\"ticker\":null},\"id\":\"1483\",\"type\":\"Grid\"},{\"attributes\":{\"bottom\":{\"value\":0},\"fill_alpha\":{\"value\":1.0},\"fill_color\":{\"field\":\"Tm\",\"transform\":{\"id\":\"1497\"}},\"hatch_alpha\":{\"value\":1.0},\"hatch_color\":{\"value\":\"black\"},\"hatch_scale\":{\"value\":12.0},\"hatch_weight\":{\"value\":1.0},\"line_alpha\":{\"value\":1.0},\"line_cap\":{\"value\":\"butt\"},\"line_color\":{\"value\":\"black\"},\"line_dash\":{\"value\":[]},\"line_dash_offset\":{\"value\":0},\"line_join\":{\"value\":\"bevel\"},\"line_width\":{\"value\":1},\"top\":{\"field\":\"FantasyPoints\"},\"width\":{\"value\":0.8},\"x\":{\"field\":\"xoffsets\"}},\"id\":\"1506\",\"type\":\"VBar\"},{\"attributes\":{\"data\":{\"FantasyPoints\":{\"__ndarray__\":\"mZmZmZmRdkApXI/C9SBxQGZmZmZmbmpAAAAAAAA4aEAzMzMzM29nQJmZmZmZeWNALdiCLdhyY0DMzMzMzMRfQP//////515AZ2ZmZmaeXkAzMzMzM3NcQK5H4XoUbltAMzMzMzNjW0AAAAAAAIBaQAAAAAAAIFpAcD0K16OAWUBSuB6F63FYQGdmZmZmZlNA16NwPQo3U0AAAAAAABBTQJmZmZmZOVBAMzMzMzMzUECamZmZmTlNQJqZmZmZGU1Aw/UoXI8CTUAAAAAAAABIQM3MzMzMjEZAZmZmZmY2RkDNzMzMzIxFQJqZmZmZSURApHA9CtdjQEDNzMzMzEw9QJqZmZmZGTpAzMzMzMxsOEDNzMzMzMwzQAAAAAAAYDNAmpmZmZmZMkAAAAAAAIAyQM3MzMzMzC9AZmZmZmZmLUDNzMzMzMwrQM3MzMzMzCtAZ2ZmZmZmKUAzMzMzM7MoQO/u7u7u7iZAMzMzMzMzJUAzMzMzMzMiQM3MzMzMzCBArkfhehSuG0BVVVVVVVUZQP1iyS+W/BhAAAAAAAAAGECamZmZmZkXQAAAAAAAABRAMzMzMzMzEkA0MzMzMzMLQJqZmZmZmQlAAAAAAAAAAEAUrkfhehT+P5qZmZmZmfk/ZmZmZmZm9j8chetRuB71P0RERERERPQ/zczMzMzM7D8AAAAAAADgP5qZmZmZmcm/AAAAAAAAAMAAAAAAAAAAwAAAAAAAAAjA\",\"dtype\":\"float64\",\"order\":\"little\",\"shape\":[69]},\"Player\":[\"Christian McCaffrey\",\"Cam Newton\",\"Kelvin Benjamin\",\"D.J. Moore\",\"Steve Smith\",\"Ted Ginn\",\"Greg Olsen\",\"Devin Funchess\",\"Brandon LaFell\",\"Jonathan Stewart\",\"Curtis Samuel\",\"DeAngelo Williams\",\"Jerricho Cotchery\",\"David Gettis\",\"Jeremy Shockey\",\"Kyle Allen\",\"Legedu Naanee\",\"Corey Brown\",\"Mike Tolbert\",\"Jarius Wright\",\"Louis Murphy\",\"Mike Goodson\",\"Ian Thomas\",\"Dante Rosario\",\"Jimmy Clausen\",\"Torrey Smith\",\"Russell Shepard\",\"Ed Dickson\",\"Jeff King\",\"Fozzy Whittaker\",\"Matt Moore\",\"Reggie Bonnafon\",\"Tyrell Sutton\",\"Cameron Artis-Payne\",\"Gary Barnidge\",\"Brenton Bersin\",\"Brandon Zylstra\",\"Domenik Hixon\",\"Darrin Reaves\",\"Chris Hogan\",\"Taylor Heinicke\",\"Kealoha Pilares\",\"Damiere Byrd\",\"Alex Armah\",\"Derek Anderson\",\"Tony Fiammetta\",\"DeAndrew White\",\"Brandon Williams\",\"Brian St. Pierre\",\"Chris Manhertz\",\"Armanti Edwards\",\"Dwayne Jarrett\",\"Richie Brockel\",\"Ben Hartsock\",\"Josh Vaughan\",\"Kenjon Barner\",\"Travaris Cadet\",\"Scott Simonson\",\"Tony Pike\",\"Garrett Gilbert\",\"Seyi Ajirotutu\",\"Will Grier\",\"Joe Webb\",\"Jordan Scarlett\",\"Armond Smith\",\"De'Andre Presley\",\"Greg Dortch\",\"Ray-Ray McCloud\",\"Joe Adams\"],\"Tm\":[\"CAR\",\"CAR\",\"CAR\",\"CAR\",\"CAR\",\"CAR\",\"CAR\",\"CAR\",\"CAR\",\"CAR\",\"CAR\",\"CAR\",\"CAR\",\"CAR\",\"CAR\",\"CAR\",\"CAR\",\"CAR\",\"CAR\",\"CAR\",\"CAR\",\"CAR\",\"CAR\",\"CAR\",\"CAR\",\"CAR\",\"CAR\",\"CAR\",\"CAR\",\"CAR\",\"CAR\",\"CAR\",\"CAR\",\"CAR\",\"CAR\",\"CAR\",\"CAR\",\"CAR\",\"CAR\",\"CAR\",\"CAR\",\"CAR\",\"CAR\",\"CAR\",\"CAR\",\"CAR\",\"CAR\",\"CAR\",\"CAR\",\"CAR\",\"CAR\",\"CAR\",\"CAR\",\"CAR\",\"CAR\",\"CAR\",\"CAR\",\"CAR\",\"CAR\",\"CAR\",\"CAR\",\"CAR\",\"CAR\",\"CAR\",\"CAR\",\"CAR\",\"CAR\",\"CAR\",\"CAR\"],\"xoffsets\":[[\"Christian McCaffrey\",\"CAR\"],[\"Cam Newton\",\"CAR\"],[\"Kelvin Benjamin\",\"CAR\"],[\"D.J. Moore\",\"CAR\"],[\"Steve Smith\",\"CAR\"],[\"Ted Ginn\",\"CAR\"],[\"Greg Olsen\",\"CAR\"],[\"Devin Funchess\",\"CAR\"],[\"Brandon LaFell\",\"CAR\"],[\"Jonathan Stewart\",\"CAR\"],[\"Curtis Samuel\",\"CAR\"],[\"DeAngelo Williams\",\"CAR\"],[\"Jerricho Cotchery\",\"CAR\"],[\"David Gettis\",\"CAR\"],[\"Jeremy Shockey\",\"CAR\"],[\"Kyle Allen\",\"CAR\"],[\"Legedu Naanee\",\"CAR\"],[\"Corey Brown\",\"CAR\"],[\"Mike Tolbert\",\"CAR\"],[\"Jarius Wright\",\"CAR\"],[\"Louis Murphy\",\"CAR\"],[\"Mike Goodson\",\"CAR\"],[\"Ian Thomas\",\"CAR\"],[\"Dante Rosario\",\"CAR\"],[\"Jimmy Clausen\",\"CAR\"],[\"Torrey Smith\",\"CAR\"],[\"Russell Shepard\",\"CAR\"],[\"Ed Dickson\",\"CAR\"],[\"Jeff King\",\"CAR\"],[\"Fozzy Whittaker\",\"CAR\"],[\"Matt Moore\",\"CAR\"],[\"Reggie Bonnafon\",\"CAR\"],[\"Tyrell Sutton\",\"CAR\"],[\"Cameron Artis-Payne\",\"CAR\"],[\"Gary Barnidge\",\"CAR\"],[\"Brenton Bersin\",\"CAR\"],[\"Brandon Zylstra\",\"CAR\"],[\"Domenik Hixon\",\"CAR\"],[\"Darrin Reaves\",\"CAR\"],[\"Chris Hogan\",\"CAR\"],[\"Taylor Heinicke\",\"CAR\"],[\"Kealoha Pilares\",\"CAR\"],[\"Damiere Byrd\",\"CAR\"],[\"Alex Armah\",\"CAR\"],[\"Derek Anderson\",\"CAR\"],[\"Tony Fiammetta\",\"CAR\"],[\"DeAndrew White\",\"CAR\"],[\"Brandon Williams\",\"CAR\"],[\"Brian St. Pierre\",\"CAR\"],[\"Chris Manhertz\",\"CAR\"],[\"Armanti Edwards\",\"CAR\"],[\"Dwayne Jarrett\",\"CAR\"],[\"Richie Brockel\",\"CAR\"],[\"Ben Hartsock\",\"CAR\"],[\"Josh Vaughan\",\"CAR\"],[\"Kenjon Barner\",\"CAR\"],[\"Travaris Cadet\",\"CAR\"],[\"Scott Simonson\",\"CAR\"],[\"Tony Pike\",\"CAR\"],[\"Garrett Gilbert\",\"CAR\"],[\"Seyi Ajirotutu\",\"CAR\"],[\"Will Grier\",\"CAR\"],[\"Joe Webb\",\"CAR\"],[\"Jordan Scarlett\",\"CAR\"],[\"Armond Smith\",\"CAR\"],[\"De'Andre Presley\",\"CAR\"],[\"Greg Dortch\",\"CAR\"],[\"Ray-Ray McCloud\",\"CAR\"],[\"Joe Adams\",\"CAR\"]]},\"selected\":{\"id\":\"1499\"},\"selection_policy\":{\"id\":\"1527\"}},\"id\":\"1498\",\"type\":\"ColumnDataSource\"},{\"attributes\":{},\"id\":\"1485\",\"type\":\"PanTool\"},{\"attributes\":{\"axis\":{\"id\":\"1477\"},\"grid_line_color\":null,\"ticker\":null},\"id\":\"1479\",\"type\":\"Grid\"},{\"attributes\":{\"client_comm_id\":\"3f90c2cd50134148b344d1a046a38f5a\",\"comm_id\":\"c7eaa78c2ca84650ba6f31fe902622eb\",\"plot_id\":\"1463\"},\"id\":\"1575\",\"type\":\"panel.models.comm_manager.CommManager\"},{\"attributes\":{\"axis_label\":\"FantasyPoints\",\"formatter\":{\"id\":\"1512\"},\"major_label_policy\":{\"id\":\"1510\"},\"ticker\":{\"id\":\"1481\"}},\"id\":\"1480\",\"type\":\"LinearAxis\"},{\"attributes\":{\"active_multi\":null,\"tools\":[{\"id\":\"1467\"},{\"id\":\"1484\"},{\"id\":\"1485\"},{\"id\":\"1486\"},{\"id\":\"1487\"},{\"id\":\"1488\"}]},\"id\":\"1490\",\"type\":\"Toolbar\"},{\"attributes\":{},\"id\":\"1481\",\"type\":\"BasicTicker\"},{\"attributes\":{\"factors\":[\"CAR\"],\"palette\":[\"#30a2da\"]},\"id\":\"1497\",\"type\":\"CategoricalColorMapper\"},{\"attributes\":{\"children\":[{\"id\":\"1543\"}],\"css_classes\":[\"panel-widget-box\"],\"margin\":[5,5,5,5],\"name\":\"WidgetBox03668\"},\"id\":\"1542\",\"type\":\"Column\"},{\"attributes\":{\"callback\":null,\"renderers\":[{\"id\":\"1504\"}],\"tags\":[\"hv_created\"],\"tooltips\":[[\"Player\",\"@{Player}\"],[\"Tm\",\"@{Tm}\"],[\"FantasyPoints\",\"@{FantasyPoints}\"]]},\"id\":\"1467\",\"type\":\"HoverTool\"},{\"attributes\":{},\"id\":\"1484\",\"type\":\"SaveTool\"},{\"attributes\":{\"margin\":[20,20,20,20],\"min_width\":250,\"options\":[\"CAR\",\"NYG\",\"NOR\",\"SEA\",\"NWE\",\"GNB\",\"DET\",\"DAL\",\"LAR\",\"BAL\",\"DEN\",\"IND\",\"ARI\",\"ATL\",\"HOU\",\"CHI\",\"PIT\",\"PHI\",\"LAC\",\"KAN\",\"SDG\",\"MIN\",\"CLE\",\"BUF\",\"NYJ\",\"TAM\",\"MIA\",\"TEN\",\"CIN\",\"JAX\",\"OAK\",\"STL\",\"SFO\",\"WAS\"],\"title\":\"Tm\",\"value\":\"CAR\",\"width\":250},\"id\":\"1543\",\"type\":\"Select\"},{\"attributes\":{\"bottom_units\":\"screen\",\"fill_alpha\":0.5,\"fill_color\":\"lightgrey\",\"left_units\":\"screen\",\"level\":\"overlay\",\"line_alpha\":1.0,\"line_color\":\"black\",\"line_dash\":[4,4],\"line_width\":2,\"right_units\":\"screen\",\"syncable\":false,\"top_units\":\"screen\"},\"id\":\"1489\",\"type\":\"BoxAnnotation\"},{\"attributes\":{},\"id\":\"1499\",\"type\":\"Selection\"},{\"attributes\":{\"data_source\":{\"id\":\"1498\"},\"glyph\":{\"id\":\"1501\"},\"hover_glyph\":null,\"muted_glyph\":{\"id\":\"1503\"},\"nonselection_glyph\":{\"id\":\"1502\"},\"selection_glyph\":{\"id\":\"1506\"},\"view\":{\"id\":\"1505\"}},\"id\":\"1504\",\"type\":\"GlyphRenderer\"},{\"attributes\":{\"margin\":[5,5,5,5],\"name\":\"VSpacer03674\",\"sizing_mode\":\"stretch_height\"},\"id\":\"1544\",\"type\":\"Spacer\"},{\"attributes\":{\"fill_alpha\":{\"value\":0.1},\"fill_color\":{\"field\":\"Tm\",\"transform\":{\"id\":\"1497\"}},\"line_alpha\":{\"value\":0.1},\"top\":{\"field\":\"FantasyPoints\"},\"width\":{\"value\":0.8},\"x\":{\"field\":\"xoffsets\"}},\"id\":\"1502\",\"type\":\"VBar\"},{\"attributes\":{\"source\":{\"id\":\"1498\"}},\"id\":\"1505\",\"type\":\"CDSView\"},{\"attributes\":{},\"id\":\"1475\",\"type\":\"LinearScale\"},{\"attributes\":{},\"id\":\"1486\",\"type\":\"WheelZoomTool\"},{\"attributes\":{\"margin\":[5,5,5,5],\"name\":\"HSpacer03676\",\"sizing_mode\":\"stretch_width\"},\"id\":\"1464\",\"type\":\"Spacer\"},{\"attributes\":{},\"id\":\"1512\",\"type\":\"BasicTickFormatter\"},{\"attributes\":{\"text\":\"Best Players By Team\",\"text_color\":\"black\",\"text_font_size\":\"12pt\"},\"id\":\"1469\",\"type\":\"Title\"},{\"attributes\":{\"children\":[{\"id\":\"1464\"},{\"id\":\"1468\"},{\"id\":\"1539\"},{\"id\":\"1540\"}],\"margin\":[0,0,0,0],\"name\":\"Row03667\"},\"id\":\"1463\",\"type\":\"Row\"},{\"attributes\":{},\"id\":\"1510\",\"type\":\"AllLabels\"},{\"attributes\":{\"margin\":[5,5,5,5],\"name\":\"HSpacer03677\",\"sizing_mode\":\"stretch_width\"},\"id\":\"1539\",\"type\":\"Spacer\"},{\"attributes\":{\"end\":397.51,\"reset_end\":397.51,\"reset_start\":-39.41,\"start\":-39.41,\"tags\":[[[\"FantasyPoints\",\"FantasyPoints\",null]]]},\"id\":\"1466\",\"type\":\"Range1d\"},{\"attributes\":{},\"id\":\"1473\",\"type\":\"CategoricalScale\"},{\"attributes\":{\"factors\":[[\"Christian McCaffrey\",\"CAR\"],[\"Cam Newton\",\"CAR\"],[\"Kelvin Benjamin\",\"CAR\"],[\"D.J. Moore\",\"CAR\"],[\"Steve Smith\",\"CAR\"],[\"Ted Ginn\",\"CAR\"],[\"Greg Olsen\",\"CAR\"],[\"Devin Funchess\",\"CAR\"],[\"Brandon LaFell\",\"CAR\"],[\"Jonathan Stewart\",\"CAR\"],[\"Curtis Samuel\",\"CAR\"],[\"DeAngelo Williams\",\"CAR\"],[\"Jerricho Cotchery\",\"CAR\"],[\"David Gettis\",\"CAR\"],[\"Jeremy Shockey\",\"CAR\"],[\"Kyle Allen\",\"CAR\"],[\"Legedu Naanee\",\"CAR\"],[\"Corey Brown\",\"CAR\"],[\"Mike Tolbert\",\"CAR\"],[\"Jarius Wright\",\"CAR\"],[\"Louis Murphy\",\"CAR\"],[\"Mike Goodson\",\"CAR\"],[\"Ian Thomas\",\"CAR\"],[\"Dante Rosario\",\"CAR\"],[\"Jimmy Clausen\",\"CAR\"],[\"Torrey Smith\",\"CAR\"],[\"Russell Shepard\",\"CAR\"],[\"Ed Dickson\",\"CAR\"],[\"Jeff King\",\"CAR\"],[\"Fozzy Whittaker\",\"CAR\"],[\"Matt Moore\",\"CAR\"],[\"Reggie Bonnafon\",\"CAR\"],[\"Tyrell Sutton\",\"CAR\"],[\"Cameron Artis-Payne\",\"CAR\"],[\"Gary Barnidge\",\"CAR\"],[\"Brenton Bersin\",\"CAR\"],[\"Brandon Zylstra\",\"CAR\"],[\"Domenik Hixon\",\"CAR\"],[\"Darrin Reaves\",\"CAR\"],[\"Chris Hogan\",\"CAR\"],[\"Taylor Heinicke\",\"CAR\"],[\"Kealoha Pilares\",\"CAR\"],[\"Damiere Byrd\",\"CAR\"],[\"Alex Armah\",\"CAR\"],[\"Derek Anderson\",\"CAR\"],[\"Tony Fiammetta\",\"CAR\"],[\"DeAndrew White\",\"CAR\"],[\"Brandon Williams\",\"CAR\"],[\"Brian St. Pierre\",\"CAR\"],[\"Chris Manhertz\",\"CAR\"],[\"Armanti Edwards\",\"CAR\"],[\"Dwayne Jarrett\",\"CAR\"],[\"Richie Brockel\",\"CAR\"],[\"Ben Hartsock\",\"CAR\"],[\"Josh Vaughan\",\"CAR\"],[\"Kenjon Barner\",\"CAR\"],[\"Travaris Cadet\",\"CAR\"],[\"Scott Simonson\",\"CAR\"],[\"Tony Pike\",\"CAR\"],[\"Garrett Gilbert\",\"CAR\"],[\"Seyi Ajirotutu\",\"CAR\"],[\"Will Grier\",\"CAR\"],[\"Joe Webb\",\"CAR\"],[\"Jordan Scarlett\",\"CAR\"],[\"Armond Smith\",\"CAR\"],[\"De'Andre Presley\",\"CAR\"],[\"Greg Dortch\",\"CAR\"],[\"Ray-Ray McCloud\",\"CAR\"],[\"Joe Adams\",\"CAR\"]],\"tags\":[[[\"Player\",\"Player\",null],[\"Tm\",\"Tm\",null]]]},\"id\":\"1465\",\"type\":\"FactorRange\"},{\"attributes\":{},\"id\":\"1508\",\"type\":\"CategoricalTickFormatter\"},{\"attributes\":{},\"id\":\"1488\",\"type\":\"ResetTool\"},{\"attributes\":{},\"id\":\"1509\",\"type\":\"AllLabels\"},{\"attributes\":{\"axis_label\":\"Player, Tm\",\"formatter\":{\"id\":\"1508\"},\"major_label_orientation\":1.5707963267948966,\"major_label_policy\":{\"id\":\"1509\"},\"ticker\":{\"id\":\"1478\"}},\"id\":\"1477\",\"type\":\"CategoricalAxis\"},{\"attributes\":{\"below\":[{\"id\":\"1477\"}],\"center\":[{\"id\":\"1479\"},{\"id\":\"1483\"}],\"height\":300,\"left\":[{\"id\":\"1480\"}],\"margin\":[5,5,5,5],\"min_border_bottom\":10,\"min_border_left\":10,\"min_border_right\":10,\"min_border_top\":10,\"renderers\":[{\"id\":\"1504\"}],\"sizing_mode\":\"fixed\",\"title\":{\"id\":\"1469\"},\"toolbar\":{\"id\":\"1490\"},\"width\":800,\"x_range\":{\"id\":\"1465\"},\"x_scale\":{\"id\":\"1473\"},\"y_range\":{\"id\":\"1466\"},\"y_scale\":{\"id\":\"1475\"}},\"id\":\"1468\",\"subtype\":\"Figure\",\"type\":\"Plot\"},{\"attributes\":{},\"id\":\"1527\",\"type\":\"UnionRenderers\"},{\"attributes\":{\"margin\":[5,5,5,5],\"name\":\"VSpacer03673\",\"sizing_mode\":\"stretch_height\"},\"id\":\"1541\",\"type\":\"Spacer\"}],\"root_ids\":[\"1463\",\"1575\"]},\"title\":\"Bokeh Application\",\"version\":\"2.3.2\"}};\n",
       "    var render_items = [{\"docid\":\"e9864a8b-6ea2-48c8-bc21-2b41e9ee4312\",\"root_ids\":[\"1463\"],\"roots\":{\"1463\":\"c281c65d-e7fa-4f8c-a8e4-2ce2d7c09590\"}}];\n",
       "    root.Bokeh.embed.embed_items_notebook(docs_json, render_items);\n",
       "  }\n",
       "  if (root.Bokeh !== undefined && root.Bokeh.Panel !== undefined && ( root['Plotly'] !== undefined)) {\n",
       "    embed_document(root);\n",
       "  } else {\n",
       "    var attempts = 0;\n",
       "    var timer = setInterval(function(root) {\n",
       "      if (root.Bokeh !== undefined && root.Bokeh.Panel !== undefined && (root['Plotly'] !== undefined)) {\n",
       "        clearInterval(timer);\n",
       "        embed_document(root);\n",
       "      } else if (document.readyState == \"complete\") {\n",
       "        attempts++;\n",
       "        if (attempts > 200) {\n",
       "          clearInterval(timer);\n",
       "          console.log(\"Bokeh: ERROR: Unable to run BokehJS code because BokehJS library is missing\");\n",
       "        }\n",
       "      }\n",
       "    }, 25, root)\n",
       "  }\n",
       "})(window);</script>"
      ],
      "text/plain": [
       ":DynamicMap   [Tm]\n",
       "   :Bars   [Player,Tm]   (FantasyPoints)"
      ]
     },
     "execution_count": 4,
     "metadata": {
      "application/vnd.holoviews_exec.v0+json": {
       "id": "1463"
      }
     },
     "output_type": "execute_result"
    }
   ],
   "source": [
    "import panel as pn\n",
    "pn.extension('plotly')\n",
    "import plotly.express as px\n",
    "import pandas as pd\n",
    "import hvplot.pandas\n",
    "import matplotlib.pyplot as plt\n",
    "import numpy as np\n",
    "import os\n",
    "from pathlib import Path\n",
    "from dotenv import load_dotenv\n",
    "import warnings\n",
    "warnings.filterwarnings('ignore')\n",
    "\n",
    "# Read the Mapbox API key\n",
    "load_dotenv()\n",
    "map_box_api = os.getenv(\"mapbox\")\n",
    "\n",
    "# Set the Mapbox API\n",
    "px.set_mapbox_access_token(\"pk.eyJ1IjoiYW1hY2s1NiIsImEiOiJja3RldzZmcnAwMmd5Mm5wZngyejR2cm5iIn0.JohlA6vRxmH-iugH7u_xXA\")\n",
    "\n",
    "# Import all the CSVs from the Data of the last 10 years\n",
    "\n",
    "file_path_2010 = Path(\"../Data/RawData/2010.csv\")\n",
    "file_path_2011 = Path(\"../Data/RawData/2011.csv\")\n",
    "file_path_2012 = Path(\"../Data/RawData/2012.csv\")\n",
    "file_path_2013 = Path(\"../Data/RawData/2013.csv\")\n",
    "file_path_2014 = Path(\"../Data/RawData/2014.csv\")\n",
    "file_path_2015 = Path(\"../Data/RawData/2015.csv\")\n",
    "file_path_2016 = Path(\"../Data/RawData/2016.csv\")\n",
    "file_path_2017 = Path(\"../Data/RawData/2017.csv\")\n",
    "file_path_2018 = Path(\"../Data/RawData/2018.csv\")\n",
    "file_path_2019 = Path(\"../Data/RawData/2019.csv\")\n",
    "file_path_2020 = Path(\"../Data/RawData/2020.csv\")\n",
    "coor_path = Path(\"../Data/RawData/coordinates.csv\")\n",
    "\n",
    "# Convert the data to DataFrames and add a Year column\n",
    "\n",
    "data_2010 = pd.read_csv(file_path_2010)\n",
    "data_2010['Year'] = '2010'\n",
    "data_2011 = pd.read_csv(file_path_2011)\n",
    "data_2011['Year'] = '2011'\n",
    "data_2012 = pd.read_csv(file_path_2012)\n",
    "data_2012['Year'] = '2012'\n",
    "data_2013 = pd.read_csv(file_path_2013)\n",
    "data_2013['Year'] = '2013'\n",
    "data_2014 = pd.read_csv(file_path_2014)\n",
    "data_2014['Year'] = '2014'\n",
    "data_2015 = pd.read_csv(file_path_2015)\n",
    "data_2015['Year'] = '2015'\n",
    "data_2016 = pd.read_csv(file_path_2016)\n",
    "data_2016['Year'] = '2016'\n",
    "data_2017 = pd.read_csv(file_path_2017)\n",
    "data_2017['Year'] = '2017'\n",
    "data_2018 = pd.read_csv(file_path_2018)\n",
    "data_2018['Year'] = '2018'\n",
    "data_2019 = pd.read_csv(file_path_2019)\n",
    "data_2019['Year'] = '2019'\n",
    "data_2020 = pd.read_csv(file_path_2020, header=1)\n",
    "data_2020['Year'] = '2020'\n",
    "coordinates = pd.read_csv(coor_path)\n",
    "\n",
    "# Select specific columns desired to play with the data\n",
    "\n",
    "data_2010 = data_2010[[\"Year\",\"Player\",\"Tm\",\"Pos\",\"FantasyPoints\"]]\n",
    "data_2011 = data_2011[[\"Year\",\"Player\",\"Tm\",\"Pos\",\"FantasyPoints\"]]\n",
    "data_2012 = data_2012[[\"Year\",\"Player\",\"Tm\",\"Pos\",\"FantasyPoints\"]]\n",
    "data_2013 = data_2013[[\"Year\",\"Player\",\"Tm\",\"Pos\",\"FantasyPoints\"]]\n",
    "data_2014 = data_2014[[\"Year\",\"Player\",\"Tm\",\"Pos\",\"FantasyPoints\"]]\n",
    "data_2015 = data_2015[[\"Year\",\"Player\",\"Tm\",\"Pos\",\"FantasyPoints\"]]\n",
    "data_2016 = data_2016[[\"Year\",\"Player\",\"Tm\",\"Pos\",\"FantasyPoints\"]]\n",
    "data_2017 = data_2017[[\"Year\",\"Player\",\"Tm\",\"Pos\",\"FantasyPoints\"]]\n",
    "data_2018 = data_2018[[\"Year\",\"Player\",\"Tm\",\"Pos\",\"FantasyPoints\"]]\n",
    "data_2019 = data_2019[[\"Year\",\"Player\",\"Tm\",\"Pos\",\"FantasyPoints\"]]\n",
    "coordinates.drop(labels=['zip', 'pic', 'Unnamed: 6', 'Conference'], axis=1, inplace=True)\n",
    "coordinates = coordinates.set_index('Team')\n",
    "\n",
    "#Manipulate 2020 to conform; note: 2020 data was not available from our primary source so we are using https://www.pro-football-reference.com/years/2020/fantasy.htm\n",
    "data_2020 = data_2020[[\"Year\",\"Player\",\"Tm\",\"FantPos\",\"PPR\"]]\n",
    "data_2020 = data_2020.rename(columns={\"FantPos\": \"Pos\", \"PPR\" : \"FantasyPoints\"})\n",
    "for ind in data_2020.index:\n",
    "    data_2020['Player'][ind] = data_2020['Player'][ind].split(sep=\"\\\\\")[0].replace(\"*\", \"\").replace(\"+\", \"\").strip()\n",
    "\n",
    "# Set the index as the year\n",
    "\n",
    "data_2010 = data_2010.set_index(\"Year\")\n",
    "data_2011 = data_2011.set_index(\"Year\")\n",
    "data_2012 = data_2012.set_index(\"Year\")\n",
    "data_2013 = data_2013.set_index(\"Year\")\n",
    "data_2014 = data_2014.set_index(\"Year\")\n",
    "data_2015 = data_2015.set_index(\"Year\")\n",
    "data_2016 = data_2016.set_index(\"Year\")\n",
    "data_2017 = data_2017.set_index(\"Year\")\n",
    "data_2018 = data_2018.set_index(\"Year\")\n",
    "data_2019 = data_2019.set_index(\"Year\")\n",
    "data_2020 = data_2020.set_index(\"Year\")\n",
    "\n",
    "# Merge all the data and clean it by eliminating players that don't have any points, or a single team\n",
    "\n",
    "full_data = pd.concat([data_2010, data_2011, data_2012, data_2013, data_2014, data_2015, data_2016, data_2017, data_2018, data_2019])\n",
    "full_data = full_data[full_data['FantasyPoints'] != 0]\n",
    "full_data = full_data[full_data['Tm'] != '2TM']\n",
    "full_data = full_data[full_data['Tm'] != '3TM']\n",
    "full_data = full_data[full_data['Tm'] != '4TM']\n",
    "full_data = full_data.dropna()\n",
    "full_data.to_csv('../Data/CleanData/full_data.csv', encoding='utf-8')\n",
    "\n",
    "player_mean = full_data.groupby(['Player', 'Tm']).mean().sort_values(by='FantasyPoints', ascending=False, na_position='first')\n",
    "player_mean.hvplot.bar(width=800, rot=90, groupby=\"Tm\", title=\"Best Players By Team\")"
   ]
  },
  {
   "cell_type": "code",
   "execution_count": 5,
   "id": "837ed17f",
   "metadata": {},
   "outputs": [
    {
     "data": {},
     "metadata": {},
     "output_type": "display_data"
    },
    {
     "data": {
      "application/vnd.holoviews_exec.v0+json": "",
      "text/html": [
       "<div id='1626'>\n",
       "\n",
       "\n",
       "\n",
       "\n",
       "\n",
       "  <div class=\"bk-root\" id=\"04b89e7f-e21e-4bdb-81c5-3534d343dfd2\" data-root-id=\"1626\"></div>\n",
       "</div>\n",
       "<script type=\"application/javascript\">(function(root) {\n",
       "  function embed_document(root) {\n",
       "    var docs_json = {\"7bab4982-f6f5-41f8-a9dc-4b5ea7d1555b\":{\"defs\":[{\"extends\":null,\"module\":null,\"name\":\"ReactiveHTML1\",\"overrides\":[],\"properties\":[]},{\"extends\":null,\"module\":null,\"name\":\"FlexBox1\",\"overrides\":[],\"properties\":[{\"default\":\"flex-start\",\"kind\":null,\"name\":\"align_content\"},{\"default\":\"flex-start\",\"kind\":null,\"name\":\"align_items\"},{\"default\":\"row\",\"kind\":null,\"name\":\"flex_direction\"},{\"default\":\"wrap\",\"kind\":null,\"name\":\"flex_wrap\"},{\"default\":\"flex-start\",\"kind\":null,\"name\":\"justify_content\"}]},{\"extends\":null,\"module\":null,\"name\":\"TemplateActions1\",\"overrides\":[],\"properties\":[{\"default\":0,\"kind\":null,\"name\":\"open_modal\"},{\"default\":0,\"kind\":null,\"name\":\"close_modal\"}]},{\"extends\":null,\"module\":null,\"name\":\"MaterialTemplateActions1\",\"overrides\":[],\"properties\":[{\"default\":0,\"kind\":null,\"name\":\"open_modal\"},{\"default\":0,\"kind\":null,\"name\":\"close_modal\"}]}],\"roots\":{\"references\":[{\"attributes\":{},\"id\":\"1672\",\"type\":\"AllLabels\"},{\"attributes\":{},\"id\":\"1675\",\"type\":\"AllLabels\"},{\"attributes\":{},\"id\":\"1644\",\"type\":\"BasicTicker\"},{\"attributes\":{\"overlay\":{\"id\":\"1652\"}},\"id\":\"1650\",\"type\":\"BoxZoomTool\"},{\"attributes\":{\"fill_alpha\":{\"value\":0.1},\"fill_color\":{\"field\":\"color\",\"transform\":{\"id\":\"1660\"}},\"line_alpha\":{\"value\":0.1},\"top\":{\"field\":\"FantasyPoints\"},\"width\":{\"value\":0.8},\"x\":{\"field\":\"Tm\"}},\"id\":\"1665\",\"type\":\"VBar\"},{\"attributes\":{\"factors\":[\"NOR\",\"NWE\",\"LAC\",\"ATL\",\"PHI\",\"DAL\",\"LAR\",\"SDG\",\"DET\",\"GNB\",\"DEN\",\"BAL\",\"CIN\",\"PIT\",\"CAR\",\"MIA\",\"HOU\",\"IND\",\"NYG\",\"MIN\",\"KAN\",\"CHI\",\"TAM\",\"SEA\",\"OAK\",\"WAS\",\"SFO\",\"TEN\",\"STL\",\"ARI\",\"BUF\",\"CLE\",\"NYJ\",\"JAX\"],\"palette\":[\"#440154\",\"#440255\",\"#440357\",\"#450558\",\"#45065a\",\"#45085b\",\"#46095c\",\"#460b5e\",\"#460c5f\",\"#460e61\",\"#470f62\",\"#471163\",\"#471265\",\"#471466\",\"#471567\",\"#471669\",\"#47186a\",\"#48196b\",\"#481a6c\",\"#481c6e\",\"#481d6f\",\"#481e70\",\"#482071\",\"#482172\",\"#482273\",\"#482374\",\"#472575\",\"#472676\",\"#472777\",\"#472878\",\"#472a79\",\"#472b7a\",\"#472c7b\",\"#462d7c\"]},\"id\":\"1660\",\"type\":\"CategoricalColorMapper\"},{\"attributes\":{\"end\":105.49685012577784,\"reset_end\":105.49685012577784,\"reset_start\":0.0,\"tags\":[[[\"FantasyPoints\",\"FantasyPoints\",null]]]},\"id\":\"1629\",\"type\":\"Range1d\"},{\"attributes\":{\"data_source\":{\"id\":\"1661\"},\"glyph\":{\"id\":\"1664\"},\"hover_glyph\":{\"id\":\"1667\"},\"muted_glyph\":{\"id\":\"1668\"},\"nonselection_glyph\":{\"id\":\"1665\"},\"selection_glyph\":{\"id\":\"1666\"},\"view\":{\"id\":\"1670\"}},\"id\":\"1669\",\"type\":\"GlyphRenderer\"},{\"attributes\":{\"fill_color\":{\"field\":\"color\",\"transform\":{\"id\":\"1660\"}},\"top\":{\"field\":\"FantasyPoints\"},\"width\":{\"value\":0.8},\"x\":{\"field\":\"Tm\"}},\"id\":\"1667\",\"type\":\"VBar\"},{\"attributes\":{},\"id\":\"1679\",\"type\":\"UnionRenderers\"},{\"attributes\":{},\"id\":\"1648\",\"type\":\"PanTool\"},{\"attributes\":{},\"id\":\"1676\",\"type\":\"CategoricalTickFormatter\"},{\"attributes\":{},\"id\":\"1662\",\"type\":\"Selection\"},{\"attributes\":{\"fill_alpha\":{\"value\":0.2},\"fill_color\":{\"field\":\"color\",\"transform\":{\"id\":\"1660\"}},\"line_alpha\":{\"value\":0.2},\"top\":{\"field\":\"FantasyPoints\"},\"width\":{\"value\":0.8},\"x\":{\"field\":\"Tm\"}},\"id\":\"1668\",\"type\":\"VBar\"},{\"attributes\":{\"bottom_units\":\"screen\",\"fill_alpha\":0.5,\"fill_color\":\"lightgrey\",\"left_units\":\"screen\",\"level\":\"overlay\",\"line_alpha\":1.0,\"line_color\":\"black\",\"line_dash\":[4,4],\"line_width\":2,\"right_units\":\"screen\",\"syncable\":false,\"top_units\":\"screen\"},\"id\":\"1652\",\"type\":\"BoxAnnotation\"},{\"attributes\":{\"children\":[{\"id\":\"1627\"},{\"id\":\"1631\"},{\"id\":\"1709\"}],\"margin\":[0,0,0,0],\"name\":\"Row04709\",\"tags\":[\"embedded\"]},\"id\":\"1626\",\"type\":\"Row\"},{\"attributes\":{\"text\":\"Best Points By Team\",\"text_color\":\"black\",\"text_font_size\":\"12pt\"},\"id\":\"1632\",\"type\":\"Title\"},{\"attributes\":{\"source\":{\"id\":\"1661\"}},\"id\":\"1670\",\"type\":\"CDSView\"},{\"attributes\":{\"factors\":[\"NOR\",\"NWE\",\"LAC\",\"ATL\",\"PHI\",\"DAL\",\"LAR\",\"SDG\",\"DET\",\"GNB\",\"DEN\",\"BAL\",\"CIN\",\"PIT\",\"CAR\",\"MIA\",\"HOU\",\"IND\",\"NYG\",\"MIN\",\"KAN\",\"CHI\",\"TAM\",\"SEA\",\"OAK\",\"WAS\",\"SFO\",\"TEN\",\"STL\",\"ARI\",\"BUF\",\"CLE\",\"NYJ\",\"JAX\"],\"tags\":[[[\"Tm\",\"Tm\",null]]]},\"id\":\"1628\",\"type\":\"FactorRange\"},{\"attributes\":{\"callback\":null,\"renderers\":[{\"id\":\"1669\"}],\"tags\":[\"hv_created\"],\"tooltips\":[[\"Tm\",\"@{Tm}\"],[\"FantasyPoints\",\"@{FantasyPoints}\"]]},\"id\":\"1630\",\"type\":\"HoverTool\"},{\"attributes\":{\"items\":[{\"id\":\"1682\"}],\"location\":[0,0]},\"id\":\"1681\",\"type\":\"Legend\"},{\"attributes\":{\"axis\":{\"id\":\"1643\"},\"dimension\":1,\"grid_line_color\":null,\"ticker\":null},\"id\":\"1646\",\"type\":\"Grid\"},{\"attributes\":{},\"id\":\"1651\",\"type\":\"ResetTool\"},{\"attributes\":{\"active_multi\":null,\"tools\":[{\"id\":\"1630\"},{\"id\":\"1647\"},{\"id\":\"1648\"},{\"id\":\"1649\"},{\"id\":\"1650\"},{\"id\":\"1651\"}]},\"id\":\"1653\",\"type\":\"Toolbar\"},{\"attributes\":{},\"id\":\"1641\",\"type\":\"CategoricalTicker\"},{\"attributes\":{\"axis_label\":\"Tm\",\"formatter\":{\"id\":\"1676\"},\"major_label_orientation\":1.5707963267948966,\"major_label_policy\":{\"id\":\"1675\"},\"ticker\":{\"id\":\"1641\"}},\"id\":\"1640\",\"type\":\"CategoricalAxis\"},{\"attributes\":{},\"id\":\"1647\",\"type\":\"SaveTool\"},{\"attributes\":{},\"id\":\"1649\",\"type\":\"WheelZoomTool\"},{\"attributes\":{\"data\":{\"FantasyPoints\":{\"__ndarray__\":\"pRFjZ851WUCGYjgbQj5YQH8Y9+uS+ldAaW3sIA71V0Dx/OqFHUpXQEYS36t4BVdAklCgEdvLVkBryLnPLqpWQFrOeIQOkFZAeDyUENZNVkDcTCZgiRtWQEcqcd/DQlVAGvWWUW85VUDkWiSoqTBVQIvyGsprMFVA4mMSaJ4aVUAl+DX2p9BUQC3puo+Jn1RAhazF+fdhVEAuNpIocUFUQJ9hV4DcK1RAzXMJZA3zU0Cqp7GM7p9TQKfDSgY3llNAVd+OhxJiU0A08axoJEBTQLCMPIiy8VJANlW/uVviUkDwjADPCPBRQCUVZfgEf1FAmqN0+8pqUUDF/wnhhEVRQHRycnJyAlFAUq+OhOJRUEA=\",\"dtype\":\"float64\",\"order\":\"little\",\"shape\":[34]},\"Tm\":[\"NOR\",\"NWE\",\"LAC\",\"ATL\",\"PHI\",\"DAL\",\"LAR\",\"SDG\",\"DET\",\"GNB\",\"DEN\",\"BAL\",\"CIN\",\"PIT\",\"CAR\",\"MIA\",\"HOU\",\"IND\",\"NYG\",\"MIN\",\"KAN\",\"CHI\",\"TAM\",\"SEA\",\"OAK\",\"WAS\",\"SFO\",\"TEN\",\"STL\",\"ARI\",\"BUF\",\"CLE\",\"NYJ\",\"JAX\"],\"color\":[\"NOR\",\"NWE\",\"LAC\",\"ATL\",\"PHI\",\"DAL\",\"LAR\",\"SDG\",\"DET\",\"GNB\",\"DEN\",\"BAL\",\"CIN\",\"PIT\",\"CAR\",\"MIA\",\"HOU\",\"IND\",\"NYG\",\"MIN\",\"KAN\",\"CHI\",\"TAM\",\"SEA\",\"OAK\",\"WAS\",\"SFO\",\"TEN\",\"STL\",\"ARI\",\"BUF\",\"CLE\",\"NYJ\",\"JAX\"]},\"selected\":{\"id\":\"1662\"},\"selection_policy\":{\"id\":\"1679\"}},\"id\":\"1661\",\"type\":\"ColumnDataSource\"},{\"attributes\":{},\"id\":\"1636\",\"type\":\"CategoricalScale\"},{\"attributes\":{\"margin\":[5,5,5,5],\"name\":\"HSpacer04714\",\"sizing_mode\":\"stretch_width\"},\"id\":\"1709\",\"type\":\"Spacer\"},{\"attributes\":{\"fill_color\":{\"field\":\"color\",\"transform\":{\"id\":\"1660\"}},\"top\":{\"field\":\"FantasyPoints\"},\"width\":{\"value\":0.8},\"x\":{\"field\":\"Tm\"}},\"id\":\"1666\",\"type\":\"VBar\"},{\"attributes\":{\"axis\":{\"id\":\"1640\"},\"grid_line_color\":null,\"ticker\":null},\"id\":\"1642\",\"type\":\"Grid\"},{\"attributes\":{\"axis_label\":\"FantasyPoints\",\"formatter\":{\"id\":\"1673\"},\"major_label_policy\":{\"id\":\"1672\"},\"ticker\":{\"id\":\"1644\"}},\"id\":\"1643\",\"type\":\"LinearAxis\"},{\"attributes\":{\"fill_color\":{\"field\":\"color\",\"transform\":{\"id\":\"1660\"}},\"top\":{\"field\":\"FantasyPoints\"},\"width\":{\"value\":0.8},\"x\":{\"field\":\"Tm\"}},\"id\":\"1664\",\"type\":\"VBar\"},{\"attributes\":{},\"id\":\"1638\",\"type\":\"LinearScale\"},{\"attributes\":{},\"id\":\"1673\",\"type\":\"BasicTickFormatter\"},{\"attributes\":{\"label\":{\"field\":\"color\"},\"renderers\":[{\"id\":\"1669\"}]},\"id\":\"1682\",\"type\":\"LegendItem\"},{\"attributes\":{\"below\":[{\"id\":\"1640\"}],\"center\":[{\"id\":\"1642\"},{\"id\":\"1646\"},{\"id\":\"1681\"}],\"height\":300,\"left\":[{\"id\":\"1643\"}],\"margin\":[5,5,5,5],\"min_border_bottom\":10,\"min_border_left\":10,\"min_border_right\":10,\"min_border_top\":10,\"renderers\":[{\"id\":\"1669\"}],\"right\":[{\"id\":\"1681\"}],\"sizing_mode\":\"fixed\",\"title\":{\"id\":\"1632\"},\"toolbar\":{\"id\":\"1653\"},\"width\":800,\"x_range\":{\"id\":\"1628\"},\"x_scale\":{\"id\":\"1636\"},\"y_range\":{\"id\":\"1629\"},\"y_scale\":{\"id\":\"1638\"}},\"id\":\"1631\",\"subtype\":\"Figure\",\"type\":\"Plot\"},{\"attributes\":{\"margin\":[5,5,5,5],\"name\":\"HSpacer04713\",\"sizing_mode\":\"stretch_width\"},\"id\":\"1627\",\"type\":\"Spacer\"}],\"root_ids\":[\"1626\"]},\"title\":\"Bokeh Application\",\"version\":\"2.3.2\"}};\n",
       "    var render_items = [{\"docid\":\"7bab4982-f6f5-41f8-a9dc-4b5ea7d1555b\",\"root_ids\":[\"1626\"],\"roots\":{\"1626\":\"04b89e7f-e21e-4bdb-81c5-3534d343dfd2\"}}];\n",
       "    root.Bokeh.embed.embed_items_notebook(docs_json, render_items);\n",
       "  }\n",
       "  if (root.Bokeh !== undefined && root.Bokeh.Panel !== undefined && ( root['Plotly'] !== undefined)) {\n",
       "    embed_document(root);\n",
       "  } else {\n",
       "    var attempts = 0;\n",
       "    var timer = setInterval(function(root) {\n",
       "      if (root.Bokeh !== undefined && root.Bokeh.Panel !== undefined && (root['Plotly'] !== undefined)) {\n",
       "        clearInterval(timer);\n",
       "        embed_document(root);\n",
       "      } else if (document.readyState == \"complete\") {\n",
       "        attempts++;\n",
       "        if (attempts > 200) {\n",
       "          clearInterval(timer);\n",
       "          console.log(\"Bokeh: ERROR: Unable to run BokehJS code because BokehJS library is missing\");\n",
       "        }\n",
       "      }\n",
       "    }, 25, root)\n",
       "  }\n",
       "})(window);</script>"
      ],
      "text/plain": [
       ":Bars   [Tm]   (FantasyPoints)"
      ]
     },
     "execution_count": 5,
     "metadata": {
      "application/vnd.holoviews_exec.v0+json": {
       "id": "1626"
      }
     },
     "output_type": "execute_result"
    }
   ],
   "source": [
    "team_mean = full_data.groupby(['Tm']).mean().sort_values(by='FantasyPoints', ascending=False, na_position='first')\n",
    "team_mean.hvplot.bar(width=800, rot=90, title=\"Best Points By Team\").opts(color=\"Tm\")"
   ]
  },
  {
   "cell_type": "code",
   "execution_count": 6,
   "id": "5169c52a",
   "metadata": {},
   "outputs": [
    {
     "data": {},
     "metadata": {},
     "output_type": "display_data"
    },
    {
     "data": {
      "application/vnd.holoviews_exec.v0+json": "",
      "text/html": [
       "<div id='1761'>\n",
       "\n",
       "\n",
       "\n",
       "\n",
       "\n",
       "  <div class=\"bk-root\" id=\"d526cdcf-be68-4a27-a233-a25da6bb871d\" data-root-id=\"1761\"></div>\n",
       "</div>\n",
       "<script type=\"application/javascript\">(function(root) {\n",
       "  function embed_document(root) {\n",
       "    var docs_json = {\"ce182123-0ebf-4e50-848c-2c90e0805beb\":{\"defs\":[{\"extends\":null,\"module\":null,\"name\":\"ReactiveHTML1\",\"overrides\":[],\"properties\":[]},{\"extends\":null,\"module\":null,\"name\":\"FlexBox1\",\"overrides\":[],\"properties\":[{\"default\":\"flex-start\",\"kind\":null,\"name\":\"align_content\"},{\"default\":\"flex-start\",\"kind\":null,\"name\":\"align_items\"},{\"default\":\"row\",\"kind\":null,\"name\":\"flex_direction\"},{\"default\":\"wrap\",\"kind\":null,\"name\":\"flex_wrap\"},{\"default\":\"flex-start\",\"kind\":null,\"name\":\"justify_content\"}]},{\"extends\":null,\"module\":null,\"name\":\"TemplateActions1\",\"overrides\":[],\"properties\":[{\"default\":0,\"kind\":null,\"name\":\"open_modal\"},{\"default\":0,\"kind\":null,\"name\":\"close_modal\"}]},{\"extends\":null,\"module\":null,\"name\":\"MaterialTemplateActions1\",\"overrides\":[],\"properties\":[{\"default\":0,\"kind\":null,\"name\":\"open_modal\"},{\"default\":0,\"kind\":null,\"name\":\"close_modal\"}]}],\"roots\":{\"references\":[{\"attributes\":{\"bottom\":{\"value\":0},\"fill_alpha\":{\"value\":1.0},\"fill_color\":{\"value\":\"#30a2da\"},\"hatch_alpha\":{\"value\":1.0},\"hatch_color\":{\"value\":\"black\"},\"hatch_scale\":{\"value\":12.0},\"hatch_weight\":{\"value\":1.0},\"line_alpha\":{\"value\":1.0},\"line_cap\":{\"value\":\"butt\"},\"line_color\":{\"value\":\"black\"},\"line_dash\":{\"value\":[]},\"line_dash_offset\":{\"value\":0},\"line_join\":{\"value\":\"bevel\"},\"line_width\":{\"value\":1},\"top\":{\"field\":\"FantasyPoints\"},\"width\":{\"value\":0.8},\"x\":{\"field\":\"Pos\"}},\"id\":\"1803\",\"type\":\"VBar\"},{\"attributes\":{},\"id\":\"1806\",\"type\":\"AllLabels\"},{\"attributes\":{\"text_color\":\"black\",\"text_font_size\":\"12pt\"},\"id\":\"1767\",\"type\":\"Title\"},{\"attributes\":{},\"id\":\"1805\",\"type\":\"CategoricalTickFormatter\"},{\"attributes\":{},\"id\":\"1783\",\"type\":\"PanTool\"},{\"attributes\":{\"margin\":[5,5,5,5],\"name\":\"HSpacer04863\",\"sizing_mode\":\"stretch_width\"},\"id\":\"1762\",\"type\":\"Spacer\"},{\"attributes\":{\"axis\":{\"id\":\"1778\"},\"dimension\":1,\"grid_line_color\":null,\"ticker\":null},\"id\":\"1781\",\"type\":\"Grid\"},{\"attributes\":{\"data\":{\"FantasyPoints\":{\"__ndarray__\":\"OtKY6rGIXEAS9nmQFS9WQKw+cxU06lJAqFC6n9I/TUDpkz7pkz4eQA==\",\"dtype\":\"float64\",\"order\":\"little\",\"shape\":[5]},\"Pos\":[\"QB\",\"WR\",\"RB\",\"TE\",\"0\"]},\"selected\":{\"id\":\"1796\"},\"selection_policy\":{\"id\":\"1818\"}},\"id\":\"1795\",\"type\":\"ColumnDataSource\"},{\"attributes\":{},\"id\":\"1809\",\"type\":\"BasicTickFormatter\"},{\"attributes\":{\"factors\":[\"QB\",\"WR\",\"RB\",\"TE\",\"0\"],\"tags\":[[[\"Pos\",\"Pos\",null]]]},\"id\":\"1763\",\"type\":\"FactorRange\"},{\"attributes\":{\"source\":{\"id\":\"1795\"}},\"id\":\"1802\",\"type\":\"CDSView\"},{\"attributes\":{\"active_multi\":null,\"tools\":[{\"id\":\"1765\"},{\"id\":\"1782\"},{\"id\":\"1783\"},{\"id\":\"1784\"},{\"id\":\"1785\"},{\"id\":\"1786\"}]},\"id\":\"1788\",\"type\":\"Toolbar\"},{\"attributes\":{},\"id\":\"1786\",\"type\":\"ResetTool\"},{\"attributes\":{\"bottom_units\":\"screen\",\"fill_alpha\":0.5,\"fill_color\":\"lightgrey\",\"left_units\":\"screen\",\"level\":\"overlay\",\"line_alpha\":1.0,\"line_color\":\"black\",\"line_dash\":[4,4],\"line_width\":2,\"right_units\":\"screen\",\"syncable\":false,\"top_units\":\"screen\"},\"id\":\"1787\",\"type\":\"BoxAnnotation\"},{\"attributes\":{\"axis\":{\"id\":\"1775\"},\"grid_line_color\":null,\"ticker\":null},\"id\":\"1777\",\"type\":\"Grid\"},{\"attributes\":{\"margin\":[5,5,5,5],\"name\":\"HSpacer04864\",\"sizing_mode\":\"stretch_width\"},\"id\":\"1830\",\"type\":\"Spacer\"},{\"attributes\":{\"fill_alpha\":{\"value\":0.2},\"fill_color\":{\"value\":\"#30a2da\"},\"line_alpha\":{\"value\":0.2},\"top\":{\"field\":\"FantasyPoints\"},\"width\":{\"value\":0.8},\"x\":{\"field\":\"Pos\"}},\"id\":\"1800\",\"type\":\"VBar\"},{\"attributes\":{},\"id\":\"1773\",\"type\":\"LinearScale\"},{\"attributes\":{\"data_source\":{\"id\":\"1795\"},\"glyph\":{\"id\":\"1798\"},\"hover_glyph\":null,\"muted_glyph\":{\"id\":\"1800\"},\"nonselection_glyph\":{\"id\":\"1799\"},\"selection_glyph\":{\"id\":\"1803\"},\"view\":{\"id\":\"1802\"}},\"id\":\"1801\",\"type\":\"GlyphRenderer\"},{\"attributes\":{},\"id\":\"1771\",\"type\":\"CategoricalScale\"},{\"attributes\":{},\"id\":\"1807\",\"type\":\"AllLabels\"},{\"attributes\":{},\"id\":\"1796\",\"type\":\"Selection\"},{\"attributes\":{\"axis_label\":\"Pos\",\"formatter\":{\"id\":\"1805\"},\"major_label_orientation\":1.5707963267948966,\"major_label_policy\":{\"id\":\"1806\"},\"ticker\":{\"id\":\"1776\"}},\"id\":\"1775\",\"type\":\"CategoricalAxis\"},{\"attributes\":{\"overlay\":{\"id\":\"1787\"}},\"id\":\"1785\",\"type\":\"BoxZoomTool\"},{\"attributes\":{},\"id\":\"1818\",\"type\":\"UnionRenderers\"},{\"attributes\":{},\"id\":\"1782\",\"type\":\"SaveTool\"},{\"attributes\":{\"fill_color\":{\"value\":\"#30a2da\"},\"top\":{\"field\":\"FantasyPoints\"},\"width\":{\"value\":0.8},\"x\":{\"field\":\"Pos\"}},\"id\":\"1798\",\"type\":\"VBar\"},{\"attributes\":{\"below\":[{\"id\":\"1775\"}],\"center\":[{\"id\":\"1777\"},{\"id\":\"1781\"}],\"height\":300,\"left\":[{\"id\":\"1778\"}],\"margin\":[5,5,5,5],\"min_border_bottom\":10,\"min_border_left\":10,\"min_border_right\":10,\"min_border_top\":10,\"renderers\":[{\"id\":\"1801\"}],\"sizing_mode\":\"fixed\",\"title\":{\"id\":\"1767\"},\"toolbar\":{\"id\":\"1788\"},\"width\":800,\"x_range\":{\"id\":\"1763\"},\"x_scale\":{\"id\":\"1771\"},\"y_range\":{\"id\":\"1764\"},\"y_scale\":{\"id\":\"1773\"}},\"id\":\"1766\",\"subtype\":\"Figure\",\"type\":\"Plot\"},{\"attributes\":{},\"id\":\"1784\",\"type\":\"WheelZoomTool\"},{\"attributes\":{},\"id\":\"1776\",\"type\":\"CategoricalTicker\"},{\"attributes\":{\"end\":124.79333395931144,\"reset_end\":124.79333395931144,\"reset_start\":0.0,\"tags\":[[[\"FantasyPoints\",\"FantasyPoints\",null]]]},\"id\":\"1764\",\"type\":\"Range1d\"},{\"attributes\":{\"callback\":null,\"renderers\":[{\"id\":\"1801\"}],\"tags\":[\"hv_created\"],\"tooltips\":[[\"Pos\",\"@{Pos}\"],[\"FantasyPoints\",\"@{FantasyPoints}\"]]},\"id\":\"1765\",\"type\":\"HoverTool\"},{\"attributes\":{},\"id\":\"1779\",\"type\":\"BasicTicker\"},{\"attributes\":{\"axis_label\":\"FantasyPoints\",\"formatter\":{\"id\":\"1809\"},\"major_label_policy\":{\"id\":\"1807\"},\"ticker\":{\"id\":\"1779\"}},\"id\":\"1778\",\"type\":\"LinearAxis\"},{\"attributes\":{\"fill_alpha\":{\"value\":0.1},\"fill_color\":{\"value\":\"#30a2da\"},\"line_alpha\":{\"value\":0.1},\"top\":{\"field\":\"FantasyPoints\"},\"width\":{\"value\":0.8},\"x\":{\"field\":\"Pos\"}},\"id\":\"1799\",\"type\":\"VBar\"},{\"attributes\":{\"children\":[{\"id\":\"1762\"},{\"id\":\"1766\"},{\"id\":\"1830\"}],\"margin\":[0,0,0,0],\"name\":\"Row04859\",\"tags\":[\"embedded\"]},\"id\":\"1761\",\"type\":\"Row\"}],\"root_ids\":[\"1761\"]},\"title\":\"Bokeh Application\",\"version\":\"2.3.2\"}};\n",
       "    var render_items = [{\"docid\":\"ce182123-0ebf-4e50-848c-2c90e0805beb\",\"root_ids\":[\"1761\"],\"roots\":{\"1761\":\"d526cdcf-be68-4a27-a233-a25da6bb871d\"}}];\n",
       "    root.Bokeh.embed.embed_items_notebook(docs_json, render_items);\n",
       "  }\n",
       "  if (root.Bokeh !== undefined && root.Bokeh.Panel !== undefined && ( root['Plotly'] !== undefined)) {\n",
       "    embed_document(root);\n",
       "  } else {\n",
       "    var attempts = 0;\n",
       "    var timer = setInterval(function(root) {\n",
       "      if (root.Bokeh !== undefined && root.Bokeh.Panel !== undefined && (root['Plotly'] !== undefined)) {\n",
       "        clearInterval(timer);\n",
       "        embed_document(root);\n",
       "      } else if (document.readyState == \"complete\") {\n",
       "        attempts++;\n",
       "        if (attempts > 200) {\n",
       "          clearInterval(timer);\n",
       "          console.log(\"Bokeh: ERROR: Unable to run BokehJS code because BokehJS library is missing\");\n",
       "        }\n",
       "      }\n",
       "    }, 25, root)\n",
       "  }\n",
       "})(window);</script>"
      ],
      "text/plain": [
       ":Bars   [Pos]   (FantasyPoints)"
      ]
     },
     "execution_count": 6,
     "metadata": {
      "application/vnd.holoviews_exec.v0+json": {
       "id": "1761"
      }
     },
     "output_type": "execute_result"
    }
   ],
   "source": [
    "position_mean = full_data.groupby(['Pos']).mean().sort_values(by='FantasyPoints', ascending=False, na_position='first')\n",
    "position_mean.hvplot.bar(width=800, rot=90)"
   ]
  },
  {
   "cell_type": "code",
   "execution_count": 7,
   "id": "602b42b8",
   "metadata": {},
   "outputs": [
    {
     "data": {},
     "metadata": {},
     "output_type": "display_data"
    },
    {
     "data": {
      "application/vnd.holoviews_exec.v0+json": "",
      "text/html": [
       "<div id='1882'>\n",
       "\n",
       "\n",
       "\n",
       "\n",
       "\n",
       "  <div class=\"bk-root\" id=\"0276a4c9-067d-4953-8caa-749577c400c6\" data-root-id=\"1882\"></div>\n",
       "</div>\n",
       "<script type=\"application/javascript\">(function(root) {\n",
       "  function embed_document(root) {\n",
       "    var docs_json = {\"9a7ad216-028d-4a4a-81f9-c0bff6b379f5\":{\"defs\":[{\"extends\":null,\"module\":null,\"name\":\"ReactiveHTML1\",\"overrides\":[],\"properties\":[]},{\"extends\":null,\"module\":null,\"name\":\"FlexBox1\",\"overrides\":[],\"properties\":[{\"default\":\"flex-start\",\"kind\":null,\"name\":\"align_content\"},{\"default\":\"flex-start\",\"kind\":null,\"name\":\"align_items\"},{\"default\":\"row\",\"kind\":null,\"name\":\"flex_direction\"},{\"default\":\"wrap\",\"kind\":null,\"name\":\"flex_wrap\"},{\"default\":\"flex-start\",\"kind\":null,\"name\":\"justify_content\"}]},{\"extends\":null,\"module\":null,\"name\":\"TemplateActions1\",\"overrides\":[],\"properties\":[{\"default\":0,\"kind\":null,\"name\":\"open_modal\"},{\"default\":0,\"kind\":null,\"name\":\"close_modal\"}]},{\"extends\":null,\"module\":null,\"name\":\"MaterialTemplateActions1\",\"overrides\":[],\"properties\":[{\"default\":0,\"kind\":null,\"name\":\"open_modal\"},{\"default\":0,\"kind\":null,\"name\":\"close_modal\"}]}],\"roots\":{\"references\":[{\"attributes\":{\"axis\":{\"id\":\"1899\"},\"dimension\":1,\"grid_line_color\":null,\"ticker\":null},\"id\":\"1902\",\"type\":\"Grid\"},{\"attributes\":{},\"id\":\"1927\",\"type\":\"AllLabels\"},{\"attributes\":{\"fill_alpha\":{\"value\":0.1},\"fill_color\":{\"value\":\"#30a2da\"},\"line_alpha\":{\"value\":0.1},\"top\":{\"field\":\"FantasyPoints\"},\"width\":{\"value\":0.8},\"x\":{\"field\":\"Player\"}},\"id\":\"1920\",\"type\":\"VBar\"},{\"attributes\":{},\"id\":\"1928\",\"type\":\"AllLabels\"},{\"attributes\":{\"fill_color\":{\"value\":\"#30a2da\"},\"top\":{\"field\":\"FantasyPoints\"},\"width\":{\"value\":0.8},\"x\":{\"field\":\"Player\"}},\"id\":\"1919\",\"type\":\"VBar\"},{\"attributes\":{},\"id\":\"1897\",\"type\":\"CategoricalTicker\"},{\"attributes\":{\"bottom_units\":\"screen\",\"fill_alpha\":0.5,\"fill_color\":\"lightgrey\",\"left_units\":\"screen\",\"level\":\"overlay\",\"line_alpha\":1.0,\"line_color\":\"black\",\"line_dash\":[4,4],\"line_width\":2,\"right_units\":\"screen\",\"syncable\":false,\"top_units\":\"screen\"},\"id\":\"1908\",\"type\":\"BoxAnnotation\"},{\"attributes\":{\"factors\":[\"Christian McCaffrey\",\"Saquon Barkley\",\"Drew Brees\",\"Russell Wilson\",\"Alvin Kamara\",\"Michael Thomas\",\"Tom Brady\",\"Aaron Rodgers\",\"Calvin Johnson\",\"Ezekiel Elliott\",\"Dak Prescott\",\"Lamar Jackson\",\"Peyton Manning\",\"Kyler Murray\",\"Andrew Luck\"],\"tags\":[[[\"Player\",\"Player\",null]]]},\"id\":\"1884\",\"type\":\"FactorRange\"},{\"attributes\":{\"axis_label\":\"FantasyPoints\",\"formatter\":{\"id\":\"1930\"},\"major_label_policy\":{\"id\":\"1928\"},\"ticker\":{\"id\":\"1900\"}},\"id\":\"1899\",\"type\":\"LinearAxis\"},{\"attributes\":{},\"id\":\"1930\",\"type\":\"BasicTickFormatter\"},{\"attributes\":{\"below\":[{\"id\":\"1896\"}],\"center\":[{\"id\":\"1898\"},{\"id\":\"1902\"}],\"height\":300,\"left\":[{\"id\":\"1899\"}],\"margin\":[5,5,5,5],\"min_border_bottom\":10,\"min_border_left\":10,\"min_border_right\":10,\"min_border_top\":10,\"renderers\":[{\"id\":\"1922\"}],\"sizing_mode\":\"fixed\",\"title\":{\"id\":\"1888\"},\"toolbar\":{\"id\":\"1909\"},\"width\":800,\"x_range\":{\"id\":\"1884\"},\"x_scale\":{\"id\":\"1892\"},\"y_range\":{\"id\":\"1885\"},\"y_scale\":{\"id\":\"1894\"}},\"id\":\"1887\",\"subtype\":\"Figure\",\"type\":\"Plot\"},{\"attributes\":{\"axis_label\":\"Player\",\"formatter\":{\"id\":\"1926\"},\"major_label_orientation\":1.5707963267948966,\"major_label_policy\":{\"id\":\"1927\"},\"ticker\":{\"id\":\"1897\"}},\"id\":\"1896\",\"type\":\"CategoricalAxis\"},{\"attributes\":{\"margin\":[5,5,5,5],\"name\":\"HSpacer05013\",\"sizing_mode\":\"stretch_width\"},\"id\":\"1951\",\"type\":\"Spacer\"},{\"attributes\":{},\"id\":\"1905\",\"type\":\"WheelZoomTool\"},{\"attributes\":{\"bottom\":{\"value\":0},\"fill_alpha\":{\"value\":1.0},\"fill_color\":{\"value\":\"#30a2da\"},\"hatch_alpha\":{\"value\":1.0},\"hatch_color\":{\"value\":\"black\"},\"hatch_scale\":{\"value\":12.0},\"hatch_weight\":{\"value\":1.0},\"line_alpha\":{\"value\":1.0},\"line_cap\":{\"value\":\"butt\"},\"line_color\":{\"value\":\"black\"},\"line_dash\":{\"value\":[]},\"line_dash_offset\":{\"value\":0},\"line_join\":{\"value\":\"bevel\"},\"line_width\":{\"value\":1},\"top\":{\"field\":\"FantasyPoints\"},\"width\":{\"value\":0.8},\"x\":{\"field\":\"Player\"}},\"id\":\"1924\",\"type\":\"VBar\"},{\"attributes\":{},\"id\":\"1939\",\"type\":\"UnionRenderers\"},{\"attributes\":{},\"id\":\"1900\",\"type\":\"BasicTicker\"},{\"attributes\":{\"axis\":{\"id\":\"1896\"},\"grid_line_color\":null,\"ticker\":null},\"id\":\"1898\",\"type\":\"Grid\"},{\"attributes\":{\"callback\":null,\"renderers\":[{\"id\":\"1922\"}],\"tags\":[\"hv_created\"],\"tooltips\":[[\"Player\",\"@{Player}\"],[\"FantasyPoints\",\"@{FantasyPoints}\"]]},\"id\":\"1886\",\"type\":\"HoverTool\"},{\"attributes\":{\"overlay\":{\"id\":\"1908\"}},\"id\":\"1906\",\"type\":\"BoxZoomTool\"},{\"attributes\":{\"data_source\":{\"id\":\"1916\"},\"glyph\":{\"id\":\"1919\"},\"hover_glyph\":null,\"muted_glyph\":{\"id\":\"1921\"},\"nonselection_glyph\":{\"id\":\"1920\"},\"selection_glyph\":{\"id\":\"1924\"},\"view\":{\"id\":\"1923\"}},\"id\":\"1922\",\"type\":\"GlyphRenderer\"},{\"attributes\":{},\"id\":\"1907\",\"type\":\"ResetTool\"},{\"attributes\":{},\"id\":\"1917\",\"type\":\"Selection\"},{\"attributes\":{\"text_color\":\"black\",\"text_font_size\":\"12pt\"},\"id\":\"1888\",\"type\":\"Title\"},{\"attributes\":{},\"id\":\"1904\",\"type\":\"PanTool\"},{\"attributes\":{\"data\":{\"FantasyPoints\":{\"__ndarray__\":\"mZmZmZmRdkAzMzMzM59zQNijcD0KU3NAuB6F61Edc0BwPQrXo/ByQDQzMzMz0XJAz/dT46WLckAK16NwPWZyQJmZmZmZTXJAmZmZmZlFckB7FK5H4TRyQPYoXI/C6XFAnu+nxkuPcUAUrkfhenRxQBvotIFOY3FA\",\"dtype\":\"float64\",\"order\":\"little\",\"shape\":[15]},\"Player\":[\"Christian McCaffrey\",\"Saquon Barkley\",\"Drew Brees\",\"Russell Wilson\",\"Alvin Kamara\",\"Michael Thomas\",\"Tom Brady\",\"Aaron Rodgers\",\"Calvin Johnson\",\"Ezekiel Elliott\",\"Dak Prescott\",\"Lamar Jackson\",\"Peyton Manning\",\"Kyler Murray\",\"Andrew Luck\"]},\"selected\":{\"id\":\"1917\"},\"selection_policy\":{\"id\":\"1939\"}},\"id\":\"1916\",\"type\":\"ColumnDataSource\"},{\"attributes\":{},\"id\":\"1892\",\"type\":\"CategoricalScale\"},{\"attributes\":{},\"id\":\"1926\",\"type\":\"CategoricalTickFormatter\"},{\"attributes\":{\"active_multi\":null,\"tools\":[{\"id\":\"1886\"},{\"id\":\"1903\"},{\"id\":\"1904\"},{\"id\":\"1905\"},{\"id\":\"1906\"},{\"id\":\"1907\"}]},\"id\":\"1909\",\"type\":\"Toolbar\"},{\"attributes\":{\"source\":{\"id\":\"1916\"}},\"id\":\"1923\",\"type\":\"CDSView\"},{\"attributes\":{\"fill_alpha\":{\"value\":0.2},\"fill_color\":{\"value\":\"#30a2da\"},\"line_alpha\":{\"value\":0.2},\"top\":{\"field\":\"FantasyPoints\"},\"width\":{\"value\":0.8},\"x\":{\"field\":\"Player\"}},\"id\":\"1921\",\"type\":\"VBar\"},{\"attributes\":{\"margin\":[5,5,5,5],\"name\":\"HSpacer05012\",\"sizing_mode\":\"stretch_width\"},\"id\":\"1883\",\"type\":\"Spacer\"},{\"attributes\":{},\"id\":\"1894\",\"type\":\"LinearScale\"},{\"attributes\":{},\"id\":\"1903\",\"type\":\"SaveTool\"},{\"attributes\":{\"children\":[{\"id\":\"1883\"},{\"id\":\"1887\"},{\"id\":\"1951\"}],\"margin\":[0,0,0,0],\"name\":\"Row05008\",\"tags\":[\"embedded\"]},\"id\":\"1882\",\"type\":\"Row\"},{\"attributes\":{\"end\":369.3893333333333,\"reset_end\":369.3893333333333,\"reset_start\":0.0,\"tags\":[[[\"FantasyPoints\",\"FantasyPoints\",null]]]},\"id\":\"1885\",\"type\":\"Range1d\"}],\"root_ids\":[\"1882\"]},\"title\":\"Bokeh Application\",\"version\":\"2.3.2\"}};\n",
       "    var render_items = [{\"docid\":\"9a7ad216-028d-4a4a-81f9-c0bff6b379f5\",\"root_ids\":[\"1882\"],\"roots\":{\"1882\":\"0276a4c9-067d-4953-8caa-749577c400c6\"}}];\n",
       "    root.Bokeh.embed.embed_items_notebook(docs_json, render_items);\n",
       "  }\n",
       "  if (root.Bokeh !== undefined && root.Bokeh.Panel !== undefined && ( root['Plotly'] !== undefined)) {\n",
       "    embed_document(root);\n",
       "  } else {\n",
       "    var attempts = 0;\n",
       "    var timer = setInterval(function(root) {\n",
       "      if (root.Bokeh !== undefined && root.Bokeh.Panel !== undefined && (root['Plotly'] !== undefined)) {\n",
       "        clearInterval(timer);\n",
       "        embed_document(root);\n",
       "      } else if (document.readyState == \"complete\") {\n",
       "        attempts++;\n",
       "        if (attempts > 200) {\n",
       "          clearInterval(timer);\n",
       "          console.log(\"Bokeh: ERROR: Unable to run BokehJS code because BokehJS library is missing\");\n",
       "        }\n",
       "      }\n",
       "    }, 25, root)\n",
       "  }\n",
       "})(window);</script>"
      ],
      "text/plain": [
       ":Bars   [Player]   (FantasyPoints)"
      ]
     },
     "execution_count": 7,
     "metadata": {
      "application/vnd.holoviews_exec.v0+json": {
       "id": "1882"
      }
     },
     "output_type": "execute_result"
    }
   ],
   "source": [
    "best_team = full_data.groupby(['Player']).mean().sort_values(by='FantasyPoints', ascending=False, na_position='first').nlargest(15, 'FantasyPoints')\n",
    "best_team.hvplot.bar(width=800, rot=90)"
   ]
  },
  {
   "cell_type": "code",
   "execution_count": null,
   "id": "bcd4e65f",
   "metadata": {},
   "outputs": [],
   "source": []
  }
 ],
 "metadata": {
  "kernelspec": {
   "display_name": "Python [conda env:pyvizenv]",
   "language": "python",
   "name": "conda-env-pyvizenv-py"
  },
  "language_info": {
   "codemirror_mode": {
    "name": "ipython",
    "version": 3
   },
   "file_extension": ".py",
   "mimetype": "text/x-python",
   "name": "python",
   "nbconvert_exporter": "python",
   "pygments_lexer": "ipython3",
   "version": "3.7.10"
  }
 },
 "nbformat": 4,
 "nbformat_minor": 5
}
